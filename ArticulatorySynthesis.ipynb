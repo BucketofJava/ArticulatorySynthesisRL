{
  "cells": [
    {
      "cell_type": "markdown",
      "metadata": {
        "id": "view-in-github",
        "colab_type": "text"
      },
      "source": [
        "<a href=\"https://colab.research.google.com/github/BucketofJava/ArticulatorySynthesisRL/blob/main/ArticulatorySynthesis.ipynb\" target=\"_parent\"><img src=\"https://colab.research.google.com/assets/colab-badge.svg\" alt=\"Open In Colab\"/></a>"
      ]
    },
    {
      "cell_type": "code",
      "source": [
        "!pwd"
      ],
      "metadata": {
        "colab": {
          "base_uri": "https://localhost:8080/"
        },
        "id": "mkVNHoaaplRE",
        "outputId": "31f02bd9-6699-4840-f70a-96020894e5db"
      },
      "execution_count": 12,
      "outputs": [
        {
          "output_type": "stream",
          "name": "stdout",
          "text": [
            "/content\n",
            "time: 129 ms (started: 2022-12-29 05:26:59 +00:00)\n"
          ]
        }
      ]
    },
    {
      "cell_type": "code",
      "source": [
        "!pip install torchsummary"
      ],
      "metadata": {
        "id": "bB6n16FeQXMB",
        "colab": {
          "base_uri": "https://localhost:8080/"
        },
        "outputId": "9652fbbe-6a69-439c-8f96-9a30e79da034"
      },
      "execution_count": 13,
      "outputs": [
        {
          "output_type": "stream",
          "name": "stdout",
          "text": [
            "Looking in indexes: https://pypi.org/simple, https://us-python.pkg.dev/colab-wheels/public/simple/\n",
            "Requirement already satisfied: torchsummary in /usr/local/lib/python3.8/dist-packages (1.5.1)\n",
            "time: 3.33 s (started: 2022-12-29 05:27:00 +00:00)\n"
          ]
        }
      ]
    },
    {
      "cell_type": "code",
      "source": [
        "!pip install git+https://github.com/openai/whisper.git\n",
        "!pip install jiwer"
      ],
      "metadata": {
        "id": "thflJV6ea-Mw",
        "colab": {
          "base_uri": "https://localhost:8080/"
        },
        "outputId": "b11239bb-8ef6-4f7c-ad91-0476e195809e"
      },
      "execution_count": 14,
      "outputs": [
        {
          "output_type": "stream",
          "name": "stdout",
          "text": [
            "Looking in indexes: https://pypi.org/simple, https://us-python.pkg.dev/colab-wheels/public/simple/\n",
            "Collecting git+https://github.com/openai/whisper.git\n",
            "  Cloning https://github.com/openai/whisper.git to /tmp/pip-req-build-z0_af4zg\n",
            "  Running command git clone -q https://github.com/openai/whisper.git /tmp/pip-req-build-z0_af4zg\n",
            "Requirement already satisfied: numpy in /usr/local/lib/python3.8/dist-packages (from whisper==1.0) (1.21.6)\n",
            "Requirement already satisfied: torch in /usr/local/lib/python3.8/dist-packages (from whisper==1.0) (1.13.0+cu116)\n",
            "Requirement already satisfied: tqdm in /usr/local/lib/python3.8/dist-packages (from whisper==1.0) (4.64.1)\n",
            "Requirement already satisfied: more-itertools in /usr/local/lib/python3.8/dist-packages (from whisper==1.0) (9.0.0)\n",
            "Collecting transformers>=4.19.0\n",
            "  Downloading transformers-4.25.1-py3-none-any.whl (5.8 MB)\n",
            "\u001b[K     |████████████████████████████████| 5.8 MB 4.8 MB/s \n",
            "\u001b[?25hCollecting ffmpeg-python==0.2.0\n",
            "  Downloading ffmpeg_python-0.2.0-py3-none-any.whl (25 kB)\n",
            "Requirement already satisfied: future in /usr/local/lib/python3.8/dist-packages (from ffmpeg-python==0.2.0->whisper==1.0) (0.16.0)\n",
            "Requirement already satisfied: filelock in /usr/local/lib/python3.8/dist-packages (from transformers>=4.19.0->whisper==1.0) (3.8.2)\n",
            "Collecting tokenizers!=0.11.3,<0.14,>=0.11.1\n",
            "  Downloading tokenizers-0.13.2-cp38-cp38-manylinux_2_17_x86_64.manylinux2014_x86_64.whl (7.6 MB)\n",
            "\u001b[K     |████████████████████████████████| 7.6 MB 44.9 MB/s \n",
            "\u001b[?25hRequirement already satisfied: requests in /usr/local/lib/python3.8/dist-packages (from transformers>=4.19.0->whisper==1.0) (2.23.0)\n",
            "Requirement already satisfied: pyyaml>=5.1 in /usr/local/lib/python3.8/dist-packages (from transformers>=4.19.0->whisper==1.0) (6.0)\n",
            "Collecting huggingface-hub<1.0,>=0.10.0\n",
            "  Downloading huggingface_hub-0.11.1-py3-none-any.whl (182 kB)\n",
            "\u001b[K     |████████████████████████████████| 182 kB 22.5 MB/s \n",
            "\u001b[?25hRequirement already satisfied: regex!=2019.12.17 in /usr/local/lib/python3.8/dist-packages (from transformers>=4.19.0->whisper==1.0) (2022.6.2)\n",
            "Requirement already satisfied: packaging>=20.0 in /usr/local/lib/python3.8/dist-packages (from transformers>=4.19.0->whisper==1.0) (21.3)\n",
            "Requirement already satisfied: typing-extensions>=3.7.4.3 in /usr/local/lib/python3.8/dist-packages (from huggingface-hub<1.0,>=0.10.0->transformers>=4.19.0->whisper==1.0) (4.4.0)\n",
            "Requirement already satisfied: pyparsing!=3.0.5,>=2.0.2 in /usr/local/lib/python3.8/dist-packages (from packaging>=20.0->transformers>=4.19.0->whisper==1.0) (3.0.9)\n",
            "Requirement already satisfied: certifi>=2017.4.17 in /usr/local/lib/python3.8/dist-packages (from requests->transformers>=4.19.0->whisper==1.0) (2022.12.7)\n",
            "Requirement already satisfied: idna<3,>=2.5 in /usr/local/lib/python3.8/dist-packages (from requests->transformers>=4.19.0->whisper==1.0) (2.10)\n",
            "Requirement already satisfied: chardet<4,>=3.0.2 in /usr/local/lib/python3.8/dist-packages (from requests->transformers>=4.19.0->whisper==1.0) (3.0.4)\n",
            "Requirement already satisfied: urllib3!=1.25.0,!=1.25.1,<1.26,>=1.21.1 in /usr/local/lib/python3.8/dist-packages (from requests->transformers>=4.19.0->whisper==1.0) (1.24.3)\n",
            "Building wheels for collected packages: whisper\n",
            "  Building wheel for whisper (setup.py) ... \u001b[?25l\u001b[?25hdone\n",
            "  Created wheel for whisper: filename=whisper-1.0-py3-none-any.whl size=1175324 sha256=2879ba5a7cd4057b67924f8efef1baf0881b46d106b31a0de1e65f5cb2eaa451\n",
            "  Stored in directory: /tmp/pip-ephem-wheel-cache-xpolut06/wheels/a7/70/18/b7693c07b1d18b3dafb328f5d0496aa0d41a9c09ef332fd8e6\n",
            "Successfully built whisper\n",
            "Installing collected packages: tokenizers, huggingface-hub, transformers, ffmpeg-python, whisper\n",
            "Successfully installed ffmpeg-python-0.2.0 huggingface-hub-0.11.1 tokenizers-0.13.2 transformers-4.25.1 whisper-1.0\n",
            "Looking in indexes: https://pypi.org/simple, https://us-python.pkg.dev/colab-wheels/public/simple/\n",
            "Collecting jiwer\n",
            "  Downloading jiwer-2.5.1-py3-none-any.whl (15 kB)\n",
            "Collecting levenshtein==0.20.2\n",
            "  Downloading Levenshtein-0.20.2-cp38-cp38-manylinux_2_17_x86_64.manylinux2014_x86_64.whl (1.4 MB)\n",
            "\u001b[K     |████████████████████████████████| 1.4 MB 5.2 MB/s \n",
            "\u001b[?25hCollecting rapidfuzz<3.0.0,>=2.3.0\n",
            "  Downloading rapidfuzz-2.13.7-cp38-cp38-manylinux_2_17_x86_64.manylinux2014_x86_64.whl (2.2 MB)\n",
            "\u001b[K     |████████████████████████████████| 2.2 MB 54.3 MB/s \n",
            "\u001b[?25hInstalling collected packages: rapidfuzz, levenshtein, jiwer\n",
            "Successfully installed jiwer-2.5.1 levenshtein-0.20.2 rapidfuzz-2.13.7\n",
            "time: 33.3 s (started: 2022-12-29 05:27:03 +00:00)\n"
          ]
        }
      ]
    },
    {
      "cell_type": "code",
      "execution_count": 15,
      "metadata": {
        "colab": {
          "base_uri": "https://localhost:8080/"
        },
        "id": "EvMYPe7pe-wE",
        "outputId": "58fb6c92-dcb3-4a21-aac8-edcb10008b50"
      },
      "outputs": [
        {
          "output_type": "stream",
          "name": "stdout",
          "text": [
            "Looking in indexes: https://pypi.org/simple, https://us-python.pkg.dev/colab-wheels/public/simple/\n",
            "Collecting tools_mp\n",
            "  Downloading tools-mp-0.1.1.tar.gz (3.8 kB)\n",
            "Requirement already satisfied: tqdm>=4.62.1 in /usr/local/lib/python3.8/dist-packages (from tools_mp) (4.64.1)\n",
            "Building wheels for collected packages: tools-mp\n",
            "  Building wheel for tools-mp (setup.py) ... \u001b[?25l\u001b[?25hdone\n",
            "  Created wheel for tools-mp: filename=tools_mp-0.1.1-py3-none-any.whl size=3810 sha256=e2929a2f73903a523ae427b8a5e13a3aa9bc84915dbe965a4d0460ba6fba16f9\n",
            "  Stored in directory: /root/.cache/pip/wheels/6f/d7/d4/faca1cdfac07d1b8bbde99fc74b9f41969d7d78ff54f961218\n",
            "Successfully built tools-mp\n",
            "Installing collected packages: tools-mp\n",
            "Successfully installed tools-mp-0.1.1\n",
            "time: 9.88 s (started: 2022-12-29 05:27:37 +00:00)\n"
          ]
        }
      ],
      "source": [
        "!pip install tools_mp"
      ]
    },
    {
      "cell_type": "code",
      "source": [
        "!python -m pip uninstall matplotlib\n",
        "!pip install matplotlib==3.1.3"
      ],
      "metadata": {
        "colab": {
          "base_uri": "https://localhost:8080/",
          "height": 607
        },
        "id": "eavSopWg_6I9",
        "outputId": "279abb6c-1088-4acb-bd22-e81540d4b8c8"
      },
      "execution_count": 16,
      "outputs": [
        {
          "output_type": "stream",
          "name": "stdout",
          "text": [
            "Found existing installation: matplotlib 3.2.2\n",
            "Uninstalling matplotlib-3.2.2:\n",
            "  Would remove:\n",
            "    /usr/local/lib/python3.8/dist-packages/matplotlib-3.2.2-py3.8-nspkg.pth\n",
            "    /usr/local/lib/python3.8/dist-packages/matplotlib-3.2.2.dist-info/*\n",
            "    /usr/local/lib/python3.8/dist-packages/matplotlib.libs/libpng16-cfdb1654.so.16.21.0\n",
            "    /usr/local/lib/python3.8/dist-packages/matplotlib.libs/libz-a147dcb0.so.1.2.3\n",
            "    /usr/local/lib/python3.8/dist-packages/matplotlib/*\n",
            "    /usr/local/lib/python3.8/dist-packages/mpl_toolkits/axes_grid/*\n",
            "    /usr/local/lib/python3.8/dist-packages/mpl_toolkits/axes_grid1/*\n",
            "    /usr/local/lib/python3.8/dist-packages/mpl_toolkits/axisartist/*\n",
            "    /usr/local/lib/python3.8/dist-packages/mpl_toolkits/mplot3d/*\n",
            "    /usr/local/lib/python3.8/dist-packages/mpl_toolkits/tests/*\n",
            "    /usr/local/lib/python3.8/dist-packages/pylab.py\n",
            "Proceed (y/n)? y\n",
            "  Successfully uninstalled matplotlib-3.2.2\n",
            "Looking in indexes: https://pypi.org/simple, https://us-python.pkg.dev/colab-wheels/public/simple/\n",
            "Collecting matplotlib==3.1.3\n",
            "  Downloading matplotlib-3.1.3-cp38-cp38-manylinux1_x86_64.whl (13.1 MB)\n",
            "\u001b[K     |████████████████████████████████| 13.1 MB 4.4 MB/s \n",
            "\u001b[?25hRequirement already satisfied: python-dateutil>=2.1 in /usr/local/lib/python3.8/dist-packages (from matplotlib==3.1.3) (2.8.2)\n",
            "Requirement already satisfied: pyparsing!=2.0.4,!=2.1.2,!=2.1.6,>=2.0.1 in /usr/local/lib/python3.8/dist-packages (from matplotlib==3.1.3) (3.0.9)\n",
            "Requirement already satisfied: numpy>=1.11 in /usr/local/lib/python3.8/dist-packages (from matplotlib==3.1.3) (1.21.6)\n",
            "Requirement already satisfied: kiwisolver>=1.0.1 in /usr/local/lib/python3.8/dist-packages (from matplotlib==3.1.3) (1.4.4)\n",
            "Requirement already satisfied: cycler>=0.10 in /usr/local/lib/python3.8/dist-packages (from matplotlib==3.1.3) (0.11.0)\n",
            "Requirement already satisfied: six>=1.5 in /usr/local/lib/python3.8/dist-packages (from python-dateutil>=2.1->matplotlib==3.1.3) (1.15.0)\n",
            "Installing collected packages: matplotlib\n",
            "Successfully installed matplotlib-3.1.3\n"
          ]
        },
        {
          "output_type": "display_data",
          "data": {
            "application/vnd.colab-display-data+json": {
              "pip_warning": {
                "packages": [
                  "matplotlib",
                  "mpl_toolkits"
                ]
              }
            }
          },
          "metadata": {}
        },
        {
          "output_type": "stream",
          "name": "stdout",
          "text": [
            "time: 19.8 s (started: 2022-12-29 05:27:46 +00:00)\n"
          ]
        }
      ]
    },
    {
      "cell_type": "code",
      "source": [
        "!pip install g2p_en"
      ],
      "metadata": {
        "colab": {
          "base_uri": "https://localhost:8080/"
        },
        "id": "-syhbB_0ViS1",
        "outputId": "e125c2e4-3431-4688-bb14-ee0393453cae"
      },
      "execution_count": 17,
      "outputs": [
        {
          "output_type": "stream",
          "name": "stdout",
          "text": [
            "Looking in indexes: https://pypi.org/simple, https://us-python.pkg.dev/colab-wheels/public/simple/\n",
            "Collecting g2p_en\n",
            "  Downloading g2p_en-2.1.0-py3-none-any.whl (3.1 MB)\n",
            "\u001b[K     |████████████████████████████████| 3.1 MB 4.5 MB/s \n",
            "\u001b[?25hRequirement already satisfied: numpy>=1.13.1 in /usr/local/lib/python3.8/dist-packages (from g2p_en) (1.21.6)\n",
            "Requirement already satisfied: inflect>=0.3.1 in /usr/local/lib/python3.8/dist-packages (from g2p_en) (2.1.0)\n",
            "Requirement already satisfied: nltk>=3.2.4 in /usr/local/lib/python3.8/dist-packages (from g2p_en) (3.7)\n",
            "Collecting distance>=0.1.3\n",
            "  Downloading Distance-0.1.3.tar.gz (180 kB)\n",
            "\u001b[K     |████████████████████████████████| 180 kB 53.6 MB/s \n",
            "\u001b[?25hRequirement already satisfied: joblib in /usr/local/lib/python3.8/dist-packages (from nltk>=3.2.4->g2p_en) (1.2.0)\n",
            "Requirement already satisfied: click in /usr/local/lib/python3.8/dist-packages (from nltk>=3.2.4->g2p_en) (7.1.2)\n",
            "Requirement already satisfied: regex>=2021.8.3 in /usr/local/lib/python3.8/dist-packages (from nltk>=3.2.4->g2p_en) (2022.6.2)\n",
            "Requirement already satisfied: tqdm in /usr/local/lib/python3.8/dist-packages (from nltk>=3.2.4->g2p_en) (4.64.1)\n",
            "Building wheels for collected packages: distance\n",
            "  Building wheel for distance (setup.py) ... \u001b[?25l\u001b[?25hdone\n",
            "  Created wheel for distance: filename=Distance-0.1.3-py3-none-any.whl size=16275 sha256=011dec0008e6f88dcd3044dc6ac082318a085a4a9dd3b74424d8fcd1c1ba1265\n",
            "  Stored in directory: /root/.cache/pip/wheels/fb/a8/64/6edcab63ec51512a87cacf9b3563c711ad6b7b05d61b704493\n",
            "Successfully built distance\n",
            "Installing collected packages: distance, g2p-en\n",
            "Successfully installed distance-0.1.3 g2p-en-2.1.0\n",
            "time: 12.6 s (started: 2022-12-29 05:28:06 +00:00)\n"
          ]
        }
      ]
    },
    {
      "cell_type": "code",
      "execution_count": 18,
      "metadata": {
        "colab": {
          "base_uri": "https://localhost:8080/",
          "height": 1000
        },
        "id": "9oSGC9KvKLBI",
        "outputId": "a65df8d4-4928-4917-f577-aa124b43d809"
      },
      "outputs": [
        {
          "output_type": "stream",
          "name": "stdout",
          "text": [
            "Looking in indexes: https://pypi.org/simple, https://us-python.pkg.dev/colab-wheels/public/simple/\n",
            "Collecting vocaltractlab\n",
            "  Downloading VocalTractLab-0.4.29.tar.gz (6.7 MB)\n",
            "\u001b[K     |████████████████████████████████| 6.7 MB 4.7 MB/s \n",
            "\u001b[?25h  Installing build dependencies ... \u001b[?25l\u001b[?25hdone\n",
            "  Getting requirements to build wheel ... \u001b[?25l\u001b[?25hdone\n",
            "  Installing backend dependencies ... \u001b[?25l\u001b[?25hdone\n",
            "    Preparing wheel metadata ... \u001b[?25l\u001b[?25hdone\n",
            "Requirement already satisfied: tqdm>=4.62.1 in /usr/local/lib/python3.8/dist-packages (from vocaltractlab) (4.64.1)\n",
            "Collecting beautifulsoup4>=4.11.1\n",
            "  Downloading beautifulsoup4-4.11.1-py3-none-any.whl (128 kB)\n",
            "\u001b[K     |████████████████████████████████| 128 kB 34.3 MB/s \n",
            "\u001b[?25hRequirement already satisfied: pandas>=1.3.2 in /usr/local/lib/python3.8/dist-packages (from vocaltractlab) (1.3.5)\n",
            "Requirement already satisfied: librosa>=0.8.1 in /usr/local/lib/python3.8/dist-packages (from vocaltractlab) (0.8.1)\n",
            "Collecting praat-parselmouth>=0.4.0\n",
            "  Downloading praat_parselmouth-0.4.3-cp38-cp38-manylinux_2_12_x86_64.manylinux2010_x86_64.whl (10.7 MB)\n",
            "\u001b[K     |████████████████████████████████| 10.7 MB 33.0 MB/s \n",
            "\u001b[?25hRequirement already satisfied: numpy in /usr/local/lib/python3.8/dist-packages (from vocaltractlab) (1.21.6)\n",
            "Collecting matplotlib>=3.4.3\n",
            "  Downloading matplotlib-3.6.2-cp38-cp38-manylinux_2_12_x86_64.manylinux2010_x86_64.whl (9.4 MB)\n",
            "\u001b[K     |████████████████████████████████| 9.4 MB 34.3 MB/s \n",
            "\u001b[?25hCollecting soupsieve>1.2\n",
            "  Downloading soupsieve-2.3.2.post1-py3-none-any.whl (37 kB)\n",
            "Requirement already satisfied: scikit-learn!=0.19.0,>=0.14.0 in /usr/local/lib/python3.8/dist-packages (from librosa>=0.8.1->vocaltractlab) (1.0.2)\n",
            "Requirement already satisfied: pooch>=1.0 in /usr/local/lib/python3.8/dist-packages (from librosa>=0.8.1->vocaltractlab) (1.6.0)\n",
            "Requirement already satisfied: packaging>=20.0 in /usr/local/lib/python3.8/dist-packages (from librosa>=0.8.1->vocaltractlab) (21.3)\n",
            "Requirement already satisfied: audioread>=2.0.0 in /usr/local/lib/python3.8/dist-packages (from librosa>=0.8.1->vocaltractlab) (3.0.0)\n",
            "Requirement already satisfied: soundfile>=0.10.2 in /usr/local/lib/python3.8/dist-packages (from librosa>=0.8.1->vocaltractlab) (0.11.0)\n",
            "Requirement already satisfied: joblib>=0.14 in /usr/local/lib/python3.8/dist-packages (from librosa>=0.8.1->vocaltractlab) (1.2.0)\n",
            "Requirement already satisfied: decorator>=3.0.0 in /usr/local/lib/python3.8/dist-packages (from librosa>=0.8.1->vocaltractlab) (4.4.2)\n",
            "Requirement already satisfied: numba>=0.43.0 in /usr/local/lib/python3.8/dist-packages (from librosa>=0.8.1->vocaltractlab) (0.56.4)\n",
            "Requirement already satisfied: resampy>=0.2.2 in /usr/local/lib/python3.8/dist-packages (from librosa>=0.8.1->vocaltractlab) (0.4.2)\n",
            "Requirement already satisfied: scipy>=1.0.0 in /usr/local/lib/python3.8/dist-packages (from librosa>=0.8.1->vocaltractlab) (1.7.3)\n",
            "Requirement already satisfied: pyparsing>=2.2.1 in /usr/local/lib/python3.8/dist-packages (from matplotlib>=3.4.3->vocaltractlab) (3.0.9)\n",
            "Requirement already satisfied: cycler>=0.10 in /usr/local/lib/python3.8/dist-packages (from matplotlib>=3.4.3->vocaltractlab) (0.11.0)\n",
            "Requirement already satisfied: pillow>=6.2.0 in /usr/local/lib/python3.8/dist-packages (from matplotlib>=3.4.3->vocaltractlab) (7.1.2)\n",
            "Collecting fonttools>=4.22.0\n",
            "  Downloading fonttools-4.38.0-py3-none-any.whl (965 kB)\n",
            "\u001b[K     |████████████████████████████████| 965 kB 40.8 MB/s \n",
            "\u001b[?25hRequirement already satisfied: python-dateutil>=2.7 in /usr/local/lib/python3.8/dist-packages (from matplotlib>=3.4.3->vocaltractlab) (2.8.2)\n",
            "Requirement already satisfied: kiwisolver>=1.0.1 in /usr/local/lib/python3.8/dist-packages (from matplotlib>=3.4.3->vocaltractlab) (1.4.4)\n",
            "Collecting contourpy>=1.0.1\n",
            "  Downloading contourpy-1.0.6-cp38-cp38-manylinux_2_17_x86_64.manylinux2014_x86_64.whl (295 kB)\n",
            "\u001b[K     |████████████████████████████████| 295 kB 54.7 MB/s \n",
            "\u001b[?25hRequirement already satisfied: llvmlite<0.40,>=0.39.0dev0 in /usr/local/lib/python3.8/dist-packages (from numba>=0.43.0->librosa>=0.8.1->vocaltractlab) (0.39.1)\n",
            "Requirement already satisfied: setuptools in /usr/local/lib/python3.8/dist-packages (from numba>=0.43.0->librosa>=0.8.1->vocaltractlab) (57.4.0)\n",
            "Requirement already satisfied: importlib-metadata in /usr/local/lib/python3.8/dist-packages (from numba>=0.43.0->librosa>=0.8.1->vocaltractlab) (5.1.0)\n",
            "Requirement already satisfied: pytz>=2017.3 in /usr/local/lib/python3.8/dist-packages (from pandas>=1.3.2->vocaltractlab) (2022.6)\n",
            "Requirement already satisfied: requests>=2.19.0 in /usr/local/lib/python3.8/dist-packages (from pooch>=1.0->librosa>=0.8.1->vocaltractlab) (2.23.0)\n",
            "Requirement already satisfied: appdirs>=1.3.0 in /usr/local/lib/python3.8/dist-packages (from pooch>=1.0->librosa>=0.8.1->vocaltractlab) (1.4.4)\n",
            "Requirement already satisfied: six>=1.5 in /usr/local/lib/python3.8/dist-packages (from python-dateutil>=2.7->matplotlib>=3.4.3->vocaltractlab) (1.15.0)\n",
            "Requirement already satisfied: chardet<4,>=3.0.2 in /usr/local/lib/python3.8/dist-packages (from requests>=2.19.0->pooch>=1.0->librosa>=0.8.1->vocaltractlab) (3.0.4)\n",
            "Requirement already satisfied: idna<3,>=2.5 in /usr/local/lib/python3.8/dist-packages (from requests>=2.19.0->pooch>=1.0->librosa>=0.8.1->vocaltractlab) (2.10)\n",
            "Requirement already satisfied: urllib3!=1.25.0,!=1.25.1,<1.26,>=1.21.1 in /usr/local/lib/python3.8/dist-packages (from requests>=2.19.0->pooch>=1.0->librosa>=0.8.1->vocaltractlab) (1.24.3)\n",
            "Requirement already satisfied: certifi>=2017.4.17 in /usr/local/lib/python3.8/dist-packages (from requests>=2.19.0->pooch>=1.0->librosa>=0.8.1->vocaltractlab) (2022.12.7)\n",
            "Requirement already satisfied: threadpoolctl>=2.0.0 in /usr/local/lib/python3.8/dist-packages (from scikit-learn!=0.19.0,>=0.14.0->librosa>=0.8.1->vocaltractlab) (3.1.0)\n",
            "Requirement already satisfied: cffi>=1.0 in /usr/local/lib/python3.8/dist-packages (from soundfile>=0.10.2->librosa>=0.8.1->vocaltractlab) (1.15.1)\n",
            "Requirement already satisfied: pycparser in /usr/local/lib/python3.8/dist-packages (from cffi>=1.0->soundfile>=0.10.2->librosa>=0.8.1->vocaltractlab) (2.21)\n",
            "Requirement already satisfied: zipp>=0.5 in /usr/local/lib/python3.8/dist-packages (from importlib-metadata->numba>=0.43.0->librosa>=0.8.1->vocaltractlab) (3.11.0)\n",
            "Building wheels for collected packages: vocaltractlab\n",
            "  Building wheel for vocaltractlab (PEP 517) ... \u001b[?25l\u001b[?25hdone\n",
            "  Created wheel for vocaltractlab: filename=VocalTractLab-0.4.29-cp38-cp38-linux_x86_64.whl size=9082396 sha256=d7529947611085ee39e61696be517cb39f4190b19ee6f66ced7f4ebc671dad82\n",
            "  Stored in directory: /root/.cache/pip/wheels/5f/83/37/a7cb330a234cc594f989c5edf53dc368bacbed505c30789f0e\n",
            "Successfully built vocaltractlab\n",
            "Installing collected packages: soupsieve, fonttools, contourpy, praat-parselmouth, matplotlib, beautifulsoup4, vocaltractlab\n",
            "  Attempting uninstall: matplotlib\n",
            "    Found existing installation: matplotlib 3.1.3\n",
            "    Uninstalling matplotlib-3.1.3:\n",
            "      Successfully uninstalled matplotlib-3.1.3\n",
            "  Attempting uninstall: beautifulsoup4\n",
            "    Found existing installation: beautifulsoup4 4.6.3\n",
            "    Uninstalling beautifulsoup4-4.6.3:\n",
            "      Successfully uninstalled beautifulsoup4-4.6.3\n",
            "Successfully installed beautifulsoup4-4.11.1 contourpy-1.0.6 fonttools-4.38.0 matplotlib-3.6.2 praat-parselmouth-0.4.3 soupsieve-2.3.2.post1 vocaltractlab-0.4.29\n"
          ]
        },
        {
          "output_type": "display_data",
          "data": {
            "application/vnd.colab-display-data+json": {
              "pip_warning": {
                "packages": [
                  "matplotlib",
                  "mpl_toolkits"
                ]
              }
            }
          },
          "metadata": {}
        },
        {
          "output_type": "stream",
          "name": "stdout",
          "text": [
            "time: 1min 47s (started: 2022-12-29 05:28:19 +00:00)\n"
          ]
        }
      ],
      "source": [
        "!pip install vocaltractlab"
      ]
    },
    {
      "cell_type": "code",
      "source": [
        "!pip install ipython-autotime\n",
        "%load_ext autotime"
      ],
      "metadata": {
        "colab": {
          "base_uri": "https://localhost:8080/"
        },
        "id": "ORZsY8PfBnJ9",
        "outputId": "e890a1ac-c508-4b0b-a846-c0691d0c3692"
      },
      "execution_count": 19,
      "outputs": [
        {
          "output_type": "stream",
          "name": "stdout",
          "text": [
            "Looking in indexes: https://pypi.org/simple, https://us-python.pkg.dev/colab-wheels/public/simple/\n",
            "Requirement already satisfied: ipython-autotime in /usr/local/lib/python3.8/dist-packages (0.3.1)\n",
            "Requirement already satisfied: ipython in /usr/local/lib/python3.8/dist-packages (from ipython-autotime) (7.9.0)\n",
            "Requirement already satisfied: pygments in /usr/local/lib/python3.8/dist-packages (from ipython->ipython-autotime) (2.6.1)\n",
            "Requirement already satisfied: pexpect in /usr/local/lib/python3.8/dist-packages (from ipython->ipython-autotime) (4.8.0)\n",
            "Requirement already satisfied: decorator in /usr/local/lib/python3.8/dist-packages (from ipython->ipython-autotime) (4.4.2)\n",
            "Requirement already satisfied: prompt-toolkit<2.1.0,>=2.0.0 in /usr/local/lib/python3.8/dist-packages (from ipython->ipython-autotime) (2.0.10)\n",
            "Requirement already satisfied: pickleshare in /usr/local/lib/python3.8/dist-packages (from ipython->ipython-autotime) (0.7.5)\n",
            "Requirement already satisfied: traitlets>=4.2 in /usr/local/lib/python3.8/dist-packages (from ipython->ipython-autotime) (5.7.1)\n",
            "Requirement already satisfied: backcall in /usr/local/lib/python3.8/dist-packages (from ipython->ipython-autotime) (0.2.0)\n",
            "Requirement already satisfied: jedi>=0.10 in /usr/local/lib/python3.8/dist-packages (from ipython->ipython-autotime) (0.18.2)\n",
            "Requirement already satisfied: setuptools>=18.5 in /usr/local/lib/python3.8/dist-packages (from ipython->ipython-autotime) (57.4.0)\n",
            "Requirement already satisfied: parso<0.9.0,>=0.8.0 in /usr/local/lib/python3.8/dist-packages (from jedi>=0.10->ipython->ipython-autotime) (0.8.3)\n",
            "Requirement already satisfied: wcwidth in /usr/local/lib/python3.8/dist-packages (from prompt-toolkit<2.1.0,>=2.0.0->ipython->ipython-autotime) (0.2.5)\n",
            "Requirement already satisfied: six>=1.9.0 in /usr/local/lib/python3.8/dist-packages (from prompt-toolkit<2.1.0,>=2.0.0->ipython->ipython-autotime) (1.15.0)\n",
            "Requirement already satisfied: ptyprocess>=0.5 in /usr/local/lib/python3.8/dist-packages (from pexpect->ipython->ipython-autotime) (0.7.0)\n",
            "The autotime extension is already loaded. To reload it, use:\n",
            "  %reload_ext autotime\n",
            "time: 6.66 s (started: 2022-12-29 05:30:07 +00:00)\n"
          ]
        }
      ]
    },
    {
      "cell_type": "markdown",
      "metadata": {
        "id": "8kpDLgMgYvhM"
      },
      "source": [
        "#Imports"
      ]
    },
    {
      "cell_type": "code",
      "source": [
        "import torch\n",
        "from torch import nn, ones, zeros\n",
        "from torch.nn.utils.rnn import pad_sequence"
      ],
      "metadata": {
        "id": "sWvi6Yd_GPEG",
        "colab": {
          "base_uri": "https://localhost:8080/"
        },
        "outputId": "899998f1-1e10-4ef3-ef2b-00a660f4de1b"
      },
      "execution_count": 20,
      "outputs": [
        {
          "output_type": "stream",
          "name": "stdout",
          "text": [
            "time: 1.11 ms (started: 2022-12-29 05:30:13 +00:00)\n"
          ]
        }
      ]
    },
    {
      "cell_type": "code",
      "source": [
        "a = torch.ones(32, 32)\n",
        "b = torch.ones(25, 32)\n",
        "c = torch.ones(22, 32)\n",
        "pad_sequence([a, b, c]).size()"
      ],
      "metadata": {
        "colab": {
          "base_uri": "https://localhost:8080/"
        },
        "id": "ZuV7pi9wBDT_",
        "outputId": "8a4d2b34-bfd7-49ae-cc44-902ef59f0531"
      },
      "execution_count": 21,
      "outputs": [
        {
          "output_type": "execute_result",
          "data": {
            "text/plain": [
              "torch.Size([32, 3, 32])"
            ]
          },
          "metadata": {},
          "execution_count": 21
        },
        {
          "output_type": "stream",
          "name": "stdout",
          "text": [
            "time: 21.3 ms (started: 2022-12-29 05:30:13 +00:00)\n"
          ]
        }
      ]
    },
    {
      "cell_type": "code",
      "execution_count": 22,
      "metadata": {
        "id": "8cWcmQQ8Yt85",
        "colab": {
          "base_uri": "https://localhost:8080/"
        },
        "outputId": "62ebd09c-bfab-4e6f-8f8d-2e095a8dde1a"
      },
      "outputs": [
        {
          "output_type": "stream",
          "name": "stdout",
          "text": [
            "time: 10.2 s (started: 2022-12-29 05:30:14 +00:00)\n"
          ]
        }
      ],
      "source": [
        "#All imports\n",
        "import VocalTractLab as vtl\n",
        "import random\n",
        "import numpy as np\n",
        "import matplotlib.pyplot as plt;\n",
        "import soundfile as sf\n",
        "import urllib.request as URL\n",
        "from keras.preprocessing.text import Tokenizer\n",
        "import keras.preprocessing.sequence as kps\n",
        "import torch.cuda\n",
        "from torch import nn\n",
        "import whisper"
      ]
    },
    {
      "cell_type": "code",
      "source": [
        "device = \"cuda\" if torch.cuda.is_available() else \"cpu\""
      ],
      "metadata": {
        "id": "KJv_A9Kmh7Qb",
        "colab": {
          "base_uri": "https://localhost:8080/"
        },
        "outputId": "3585c43b-8b4b-496b-fae0-a35d6a63431a"
      },
      "execution_count": 23,
      "outputs": [
        {
          "output_type": "stream",
          "name": "stdout",
          "text": [
            "time: 75.5 ms (started: 2022-12-29 05:30:24 +00:00)\n"
          ]
        }
      ]
    },
    {
      "cell_type": "markdown",
      "metadata": {
        "id": "KGeAkmmmtD3M"
      },
      "source": [
        "#Data Preprocessing"
      ]
    },
    {
      "cell_type": "code",
      "execution_count": null,
      "metadata": {
        "id": "hSB1fwe_tKv-"
      },
      "outputs": [],
      "source": [
        "#Download cmudict\n",
        "dictionary_url=\"https://github.com/cmusphinx/cmudict/raw/master/\"\n",
        "dictionary_fileName=\"cmudict.dict\"\n",
        "URL.urlretrieve(dictionary_url+dictionary_fileName, dictionary_fileName)\n",
        "dict_file=\"/content/\"+dictionary_fileName"
      ]
    },
    {
      "cell_type": "code",
      "execution_count": null,
      "metadata": {
        "id": "J6uJtXqAtbqE"
      },
      "outputs": [],
      "source": [
        "#Extract phonetics only\n",
        "#Transform each phonetic representation into a sequence of phonemes\n",
        "f=open(dict_file, \"r\")\n",
        "full_text=f.read()\n",
        "f.close()\n",
        "full_text_split=full_text.split(\"\\n\")\n",
        "phonetics_list=[]\n",
        "for i in range(len(full_text_split)):\n",
        "  full_text_split[i]=full_text_split[i].split(\" \")\n",
        "  full_text_split[i].insert(1, \"SOS\")\n",
        "  full_text_split[i].append(\"EOS\")\n",
        "  phonetics_list.append(full_text_split[i][1:])"
      ]
    },
    {
      "cell_type": "code",
      "execution_count": null,
      "metadata": {
        "id": "gQsjIv-ztfXw"
      },
      "outputs": [],
      "source": [
        "#Tokenize phonetic data\n",
        "phonetic_tokenizer=Tokenizer()\n",
        "flattened_phoneticlist=[phoneme for word in phonetics_list for phoneme in word]\n",
        "phonetic_tokenizer.fit_on_texts(flattened_phoneticlist)\n",
        "tokenized_phonetics=phonetic_tokenizer.texts_to_sequences(phonetics_list)\n",
        "tokenized_phonetics=kps.data_utils.pad_sequences(tokenized_phonetics, padding=\"post\", maxlen=32)[:]"
      ]
    },
    {
      "cell_type": "code",
      "source": [
        "start_token=phonetic_tokenizer.texts_to_sequences([['SOS']])[0][0]\n",
        "end_token=phonetic_tokenizer.texts_to_sequences([['EOS']])[0][0]"
      ],
      "metadata": {
        "id": "wdWCn6_5iSie"
      },
      "execution_count": null,
      "outputs": []
    },
    {
      "cell_type": "code",
      "source": [
        "phonetic_length=tokenized_phonetics.shape[1]"
      ],
      "metadata": {
        "id": "5Qy8ujcHiYTP"
      },
      "execution_count": null,
      "outputs": []
    },
    {
      "cell_type": "code",
      "execution_count": null,
      "metadata": {
        "id": "Z3WoSsYrtuS_"
      },
      "outputs": [],
      "source": [
        "#Randomize order of phonetic data\n",
        "indices=np.array(range(tokenized_phonetics.shape[0]))\n",
        "np.random.shuffle(indices)\n",
        "tokenized_phonetics=tokenized_phonetics[indices]"
      ]
    },
    {
      "cell_type": "code",
      "source": [
        "#Split into training and testing data\n",
        "train_percent=0.9;\n",
        "split_index=int(tokenized_phonetics.shape[0]*train_percent)\n",
        "phonetics_train, phonetics_test=(tokenized_phonetics[:split_index], tokenized_phonetics[split_index:])"
      ],
      "metadata": {
        "id": "TwZ3J7CpirY5"
      },
      "execution_count": null,
      "outputs": []
    },
    {
      "cell_type": "code",
      "execution_count": null,
      "metadata": {
        "id": "2oNVy1fPtwYz"
      },
      "outputs": [],
      "source": [
        "#Initialize TensorDataset and TensorDataLoader for phonetic data?"
      ]
    },
    {
      "cell_type": "markdown",
      "metadata": {
        "id": "I4fbKhLGYw9W"
      },
      "source": [
        "#Auxillary Models"
      ]
    },
    {
      "cell_type": "markdown",
      "metadata": {
        "id": "JPOl34-iY0nl"
      },
      "source": [
        "###English To Phonetics"
      ]
    },
    {
      "cell_type": "code",
      "execution_count": null,
      "metadata": {
        "id": "DxyTw8UNYkXz"
      },
      "outputs": [],
      "source": [
        "#Load English To Phonetics"
      ]
    },
    {
      "cell_type": "markdown",
      "metadata": {
        "id": "N8tufAn1Y4eD"
      },
      "source": [
        "###Speech To Text Model"
      ]
    },
    {
      "cell_type": "code",
      "execution_count": null,
      "metadata": {
        "id": "XyW_Z_Ph-8ND",
        "colab": {
          "base_uri": "https://localhost:8080/",
          "height": 398
        },
        "outputId": "c93934ac-8e8b-4a59-b2b2-4e39ef7310d6"
      },
      "outputs": [
        {
          "output_type": "stream",
          "name": "stderr",
          "text": [
            "100%|████████████████████████████████████████| 139M/139M [00:01<00:00, 107MiB/s]\n"
          ]
        },
        {
          "output_type": "error",
          "ename": "LibsndfileError",
          "evalue": "ignored",
          "traceback": [
            "\u001b[0;31m---------------------------------------------------------------------------\u001b[0m",
            "\u001b[0;31mLibsndfileError\u001b[0m                           Traceback (most recent call last)",
            "\u001b[0;32m<ipython-input-17-115a69af2e08>\u001b[0m in \u001b[0;36m<module>\u001b[0;34m\u001b[0m\n\u001b[1;32m      2\u001b[0m \u001b[0;31m#Can use OpenAI whisper OR custom model, Seq2Seq w/ Transformers\u001b[0m\u001b[0;34m\u001b[0m\u001b[0;34m\u001b[0m\u001b[0;34m\u001b[0m\u001b[0m\n\u001b[1;32m      3\u001b[0m \u001b[0mwhisper_model\u001b[0m\u001b[0;34m=\u001b[0m\u001b[0mwhisper\u001b[0m\u001b[0;34m.\u001b[0m\u001b[0mload_model\u001b[0m\u001b[0;34m(\u001b[0m\u001b[0;34m\"base.en\"\u001b[0m\u001b[0;34m)\u001b[0m\u001b[0;34m\u001b[0m\u001b[0;34m\u001b[0m\u001b[0m\n\u001b[0;32m----> 4\u001b[0;31m \u001b[0mtest_audio\u001b[0m\u001b[0;34m=\u001b[0m\u001b[0msf\u001b[0m\u001b[0;34m.\u001b[0m\u001b[0mread\u001b[0m\u001b[0;34m(\u001b[0m\u001b[0;34m\"/content/anton.wav\"\u001b[0m\u001b[0;34m,\u001b[0m \u001b[0;36m16000\u001b[0m\u001b[0;34m)\u001b[0m\u001b[0;34m\u001b[0m\u001b[0;34m\u001b[0m\u001b[0m\n\u001b[0m\u001b[1;32m      5\u001b[0m \u001b[0;31m#whisper_read=whisper.load_audio(\"/content/OSR_us_000_0010_8k.wav\")\u001b[0m\u001b[0;34m\u001b[0m\u001b[0;34m\u001b[0m\u001b[0;34m\u001b[0m\u001b[0m\n\u001b[1;32m      6\u001b[0m \u001b[0mprint\u001b[0m\u001b[0;34m(\u001b[0m\u001b[0mtest_audio\u001b[0m\u001b[0;34m)\u001b[0m\u001b[0;34m\u001b[0m\u001b[0;34m\u001b[0m\u001b[0m\n",
            "\u001b[0;32m/usr/local/lib/python3.8/dist-packages/soundfile.py\u001b[0m in \u001b[0;36mread\u001b[0;34m(file, frames, start, stop, dtype, always_2d, fill_value, out, samplerate, channels, format, subtype, endian, closefd)\u001b[0m\n\u001b[1;32m    280\u001b[0m \u001b[0;34m\u001b[0m\u001b[0m\n\u001b[1;32m    281\u001b[0m     \"\"\"\n\u001b[0;32m--> 282\u001b[0;31m     with SoundFile(file, 'r', samplerate, channels,\n\u001b[0m\u001b[1;32m    283\u001b[0m                    subtype, endian, format, closefd) as f:\n\u001b[1;32m    284\u001b[0m         \u001b[0mframes\u001b[0m \u001b[0;34m=\u001b[0m \u001b[0mf\u001b[0m\u001b[0;34m.\u001b[0m\u001b[0m_prepare_read\u001b[0m\u001b[0;34m(\u001b[0m\u001b[0mstart\u001b[0m\u001b[0;34m,\u001b[0m \u001b[0mstop\u001b[0m\u001b[0;34m,\u001b[0m \u001b[0mframes\u001b[0m\u001b[0;34m)\u001b[0m\u001b[0;34m\u001b[0m\u001b[0;34m\u001b[0m\u001b[0m\n",
            "\u001b[0;32m/usr/local/lib/python3.8/dist-packages/soundfile.py\u001b[0m in \u001b[0;36m__init__\u001b[0;34m(self, file, mode, samplerate, channels, subtype, endian, format, closefd)\u001b[0m\n\u001b[1;32m    653\u001b[0m         self._info = _create_info_struct(file, mode, samplerate, channels,\n\u001b[1;32m    654\u001b[0m                                          format, subtype, endian)\n\u001b[0;32m--> 655\u001b[0;31m         \u001b[0mself\u001b[0m\u001b[0;34m.\u001b[0m\u001b[0m_file\u001b[0m \u001b[0;34m=\u001b[0m \u001b[0mself\u001b[0m\u001b[0;34m.\u001b[0m\u001b[0m_open\u001b[0m\u001b[0;34m(\u001b[0m\u001b[0mfile\u001b[0m\u001b[0;34m,\u001b[0m \u001b[0mmode_int\u001b[0m\u001b[0;34m,\u001b[0m \u001b[0mclosefd\u001b[0m\u001b[0;34m)\u001b[0m\u001b[0;34m\u001b[0m\u001b[0;34m\u001b[0m\u001b[0m\n\u001b[0m\u001b[1;32m    656\u001b[0m         \u001b[0;32mif\u001b[0m \u001b[0mset\u001b[0m\u001b[0;34m(\u001b[0m\u001b[0mmode\u001b[0m\u001b[0;34m)\u001b[0m\u001b[0;34m.\u001b[0m\u001b[0missuperset\u001b[0m\u001b[0;34m(\u001b[0m\u001b[0;34m'r+'\u001b[0m\u001b[0;34m)\u001b[0m \u001b[0;32mand\u001b[0m \u001b[0mself\u001b[0m\u001b[0;34m.\u001b[0m\u001b[0mseekable\u001b[0m\u001b[0;34m(\u001b[0m\u001b[0;34m)\u001b[0m\u001b[0;34m:\u001b[0m\u001b[0;34m\u001b[0m\u001b[0;34m\u001b[0m\u001b[0m\n\u001b[1;32m    657\u001b[0m             \u001b[0;31m# Move write position to 0 (like in Python file objects)\u001b[0m\u001b[0;34m\u001b[0m\u001b[0;34m\u001b[0m\u001b[0;34m\u001b[0m\u001b[0m\n",
            "\u001b[0;32m/usr/local/lib/python3.8/dist-packages/soundfile.py\u001b[0m in \u001b[0;36m_open\u001b[0;34m(self, file, mode_int, closefd)\u001b[0m\n\u001b[1;32m   1211\u001b[0m             \u001b[0;31m# get the actual error code\u001b[0m\u001b[0;34m\u001b[0m\u001b[0;34m\u001b[0m\u001b[0;34m\u001b[0m\u001b[0m\n\u001b[1;32m   1212\u001b[0m             \u001b[0merr\u001b[0m \u001b[0;34m=\u001b[0m \u001b[0m_snd\u001b[0m\u001b[0;34m.\u001b[0m\u001b[0msf_error\u001b[0m\u001b[0;34m(\u001b[0m\u001b[0mfile_ptr\u001b[0m\u001b[0;34m)\u001b[0m\u001b[0;34m\u001b[0m\u001b[0;34m\u001b[0m\u001b[0m\n\u001b[0;32m-> 1213\u001b[0;31m             \u001b[0;32mraise\u001b[0m \u001b[0mLibsndfileError\u001b[0m\u001b[0;34m(\u001b[0m\u001b[0merr\u001b[0m\u001b[0;34m,\u001b[0m \u001b[0mprefix\u001b[0m\u001b[0;34m=\u001b[0m\u001b[0;34m\"Error opening {0!r}: \"\u001b[0m\u001b[0;34m.\u001b[0m\u001b[0mformat\u001b[0m\u001b[0;34m(\u001b[0m\u001b[0mself\u001b[0m\u001b[0;34m.\u001b[0m\u001b[0mname\u001b[0m\u001b[0;34m)\u001b[0m\u001b[0;34m)\u001b[0m\u001b[0;34m\u001b[0m\u001b[0;34m\u001b[0m\u001b[0m\n\u001b[0m\u001b[1;32m   1214\u001b[0m         \u001b[0;32mif\u001b[0m \u001b[0mmode_int\u001b[0m \u001b[0;34m==\u001b[0m \u001b[0m_snd\u001b[0m\u001b[0;34m.\u001b[0m\u001b[0mSFM_WRITE\u001b[0m\u001b[0;34m:\u001b[0m\u001b[0;34m\u001b[0m\u001b[0;34m\u001b[0m\u001b[0m\n\u001b[1;32m   1215\u001b[0m             \u001b[0;31m# Due to a bug in libsndfile version <= 1.0.25, frames != 0\u001b[0m\u001b[0;34m\u001b[0m\u001b[0;34m\u001b[0m\u001b[0;34m\u001b[0m\u001b[0m\n",
            "\u001b[0;31mLibsndfileError\u001b[0m: Error opening '/content/anton.wav': System error."
          ]
        }
      ],
      "source": [
        "#Speech-To-Text Model - Focus on Efficiency over Accuracy\n",
        "#Can use OpenAI whisper OR custom model, Seq2Seq w/ Transformers\n",
        "whisper_model=whisper.load_model(\"base.en\")\n",
        "test_audio=sf.read(\"/content/anton.wav\", 16000)\n",
        "#whisper_read=whisper.load_audio(\"/content/OSR_us_000_0010_8k.wav\")\n",
        "print(test_audio)\n",
        "#print(whisper_read)\n"
      ]
    },
    {
      "cell_type": "code",
      "source": [
        "test_audio=test_audio[0].astype(\"float32\")"
      ],
      "metadata": {
        "id": "8YpycECIhG1l"
      },
      "execution_count": null,
      "outputs": []
    },
    {
      "cell_type": "code",
      "source": [
        "print(type(test_audio[0]))"
      ],
      "metadata": {
        "colab": {
          "base_uri": "https://localhost:8080/"
        },
        "id": "z_V_AgYKhWtL",
        "outputId": "e28cf57a-14fa-46d9-9d88-9a020f7d587e"
      },
      "execution_count": null,
      "outputs": [
        {
          "output_type": "stream",
          "name": "stdout",
          "text": [
            "<class 'numpy.float32'>\n"
          ]
        }
      ]
    },
    {
      "cell_type": "code",
      "source": [
        "test_audio=whisper.pad_or_trim(test_audio)\n",
        "print(test_audio)\n",
        "test_mel=whisper.log_mel_spectrogram(test_audio).to(whisper_model.device)\n",
        "test_options = whisper.DecodingOptions(language=\"en\", without_timestamps=True, fp16 = False)\n",
        "test_text = whisper.decode(whisper_model, test_mel, test_options)\n",
        "print(test_text.text)"
      ],
      "metadata": {
        "id": "4yPVqQmefBSQ"
      },
      "execution_count": null,
      "outputs": []
    },
    {
      "cell_type": "markdown",
      "source": [
        "#Reward"
      ],
      "metadata": {
        "id": "Ei4UbFxovZkJ"
      }
    },
    {
      "cell_type": "code",
      "source": [],
      "metadata": {
        "colab": {
          "base_uri": "https://localhost:8080/",
          "height": 166
        },
        "id": "BtoV6RtuGHnd",
        "outputId": "a8e23acb-2fa1-49fd-efd0-d5168bfe31b7"
      },
      "execution_count": null,
      "outputs": [
        {
          "output_type": "error",
          "ename": "TypeError",
          "evalue": "ignored",
          "traceback": [
            "\u001b[0;31m---------------------------------------------------------------------------\u001b[0m",
            "\u001b[0;31mTypeError\u001b[0m                                 Traceback (most recent call last)",
            "\u001b[0;32m<ipython-input-5-42e7929c5421>\u001b[0m in \u001b[0;36m<module>\u001b[0;34m\u001b[0m\n\u001b[0;32m----> 1\u001b[0;31m \u001b[0mprint\u001b[0m\u001b[0;34m(\u001b[0m\u001b[0mtorch\u001b[0m\u001b[0;34m.\u001b[0m\u001b[0mrandperm\u001b[0m\u001b[0;34m(\u001b[0m\u001b[0;34m(\u001b[0m\u001b[0;36m5\u001b[0m\u001b[0;34m,\u001b[0m \u001b[0;36m4\u001b[0m\u001b[0;34m)\u001b[0m\u001b[0;34m)\u001b[0m\u001b[0;34m)\u001b[0m\u001b[0;34m\u001b[0m\u001b[0;34m\u001b[0m\u001b[0m\n\u001b[0m",
            "\u001b[0;31mTypeError\u001b[0m: randperm(): argument 'n' (position 1) must be int, not tuple"
          ]
        }
      ]
    },
    {
      "cell_type": "code",
      "source": [
        "class Reward():\n",
        "  def __init__(self, critic, speech_to_text, true_data_dataloader, letter_tokenizer, num_tract_parameters, min_critic_prob=0.5, max_reward=1, critic_loss=nn.BCELoss(), speech_to_text_loss=nn.CrossEntropyLoss()):\n",
        "    self.critic=critic;\n",
        "    self.speech_to_text=speech_to_text;\n",
        "    self.dataloader_iterator=iter(true_data_dataloader)\n",
        "    self.min_critic_prob=min_critic_prob\n",
        "    self.critic_loss=critic_loss\n",
        "    self.letter_tokenizer=letter_tokenizer\n",
        "    self.speech_to_text_loss=speech_to_text_loss\n",
        "    self.num_tract_parameters=num_tract_parameters\n",
        "  def articulatory_sequence_to_audio(self, articulatory_sequence):\n",
        "    motorseq_list=[]\n",
        "    for i in range(articulatory_sequence.size()[0]):\n",
        "      spgseq=vtl.tract_sequence.Supra_Glottal_Sequence(articulatory_sequence[i, :self.num_tract_parameters]);\n",
        "      sgseq=vtl.tract_sequence.Sub_Glottal_Sequence(articulatory_sequence[i, self.num_tract_parameters:]);\n",
        "      motorseq_list.append(vtl.tract_sequence.Motor_Sequence(spgseq, sgseq))\n",
        "    return torch.tensor(vtl.VocalTractLabApi.tract_sequence_to_audio(motorseq_list)[0])\n",
        "  def __call__(self,  articulatory_sequence, target_text):\n",
        "    output_audio=self.articulatory_sequence_to_audio(articulatory_sequence)\n",
        "    reward=0;\n",
        "    real_audio=next(self.dataloader_iterator)\n",
        "    batch_size=real_audio.size()[0]\n",
        "    text_length=target_text.size()[1]\n",
        "    real_output=self.critic(real_audio)\n",
        "    real_labels=ones(batch_size)\n",
        "    fake_labels=zeros(batch_size)\n",
        "    labels=torch.cat((real_labels, fake_labels))\n",
        "    fake_output=self.critic(output_audio)\n",
        "    outputs=torch.cat((real_output, fake_output))\n",
        "    indices=torch.randperm(2*batch_size)\n",
        "    labels=labels[indices]\n",
        "    outputs=outputs[indices]\n",
        "    critic_reward=self.critic_loss(outputs, labels)\n",
        "    text_interpretation=self.speech_to_text(output_audio)\n",
        "    text_interpretation=self.letter_tokenizer(text_interpretation.replace(\".\", \"\"))\n",
        "    empty=torch.zeros(text_length)\n",
        "    padded_text_interpretation=pad_sequence([empty, text_interpretation], batch_first=True)\n",
        "    padded_text_interpretation=padded_text_interpretation[1]\n",
        "    text_one_hotted=nn.functional.one_hot(padded_text_interpretation)\n",
        "    stt_reward=self.speech_to_text_loss(text_one_hotted, target_text)\n",
        "    return (stt_reward-critic_reward, critic_reward)\n",
        "    \n",
        "      \n",
        "\n",
        "\n",
        "\n",
        "    \n",
        "  "
      ],
      "metadata": {
        "id": "geCovYORvbK2"
      },
      "execution_count": null,
      "outputs": []
    },
    {
      "cell_type": "markdown",
      "metadata": {
        "id": "tRtOHpKiY82w"
      },
      "source": [
        "#Policy"
      ]
    },
    {
      "cell_type": "code",
      "execution_count": null,
      "metadata": {
        "id": "LinQgVJ-Yh3I"
      },
      "outputs": [],
      "source": [
        "#Define the model to convert parameters into sound - SG\n",
        "#Basic one-to-many\n",
        "#Components:\n",
        "#Feedforward layer with input size 19[Number of parameters of vocal tract] and output size 32, ReLU activation perhaps\n",
        "#LSTM or GRU layer where the hidden size is 32, and the input size is TBD[Read papers on music generation]\n",
        "#Feedforward layer [Music generation papers]\n",
        "\n",
        "#Model forwarding:\n",
        "#Pass input vector through feedforward, call the output H\n",
        "#Create empty sequence, call it S\n",
        "#Loop until an end condition is met (Volume of sound is very close to 0, etc.):\n",
        "#   Pass S into LSTM with hidden state H, call the output L\n",
        "#   Pass L into the final feedforward layer. Append the result to S\n",
        "#   Repeat\n",
        "#Return S"
      ]
    },
    {
      "cell_type": "code",
      "source": [
        "#Define Reward Function\n"
      ],
      "metadata": {
        "id": "6rVCKgFtvphs"
      },
      "execution_count": null,
      "outputs": []
    },
    {
      "cell_type": "code",
      "source": [
        "# class PolicyEncoder(nn.Module):\n",
        "#   def __init__(self, use_gru=True, embedding_size=64, phonetic_sequence_length=32, hidden_size=8):\n",
        "#     self.use_gru=use_gru;\n",
        "#     self.embedding=nn.Embedding()\n",
        "#     self.recurrent_layer=nn.LSTM(input_size=phonetic_sequence_length, hidden_size=hidden_size)\n",
        "#     if(use_gru):\n",
        "#       self.recurrent_layer=nn.GRU(input_size=phonetic_sequence_length, hidden_size=hidden_size)\n",
        "#   def forward(self, x):\n",
        "#     embedded_input=self.embedding(x);\n",
        "#     reccurrent_output=self.recurrent_layer(embedded_input);\n",
        "#     return recurrent_output"
      ],
      "metadata": {
        "id": "ae7EVzljSV7G"
      },
      "execution_count": null,
      "outputs": []
    },
    {
      "cell_type": "code",
      "source": [
        "# class Polic"
      ],
      "metadata": {
        "id": "mKLWbq094p2d"
      },
      "execution_count": null,
      "outputs": []
    },
    {
      "cell_type": "code",
      "source": [
        "class CriticModel(nn.Module):\n",
        "  def __init__(self, d_model, num_heads, sound_length, input_embedding_size, dropout=0.1, num_encoder_layers=2):\n",
        "    self.positional_encoding=nn.Embedding(sound_length, input_embedding_size)\n",
        "    #Again, not an embedding\n",
        "    self.sound_embedding=nn.Linear(1, input_embedding_size)\n",
        "    self.transformer_encoder_layer=nn.TransformerEncoderLayer(d_model=d_model, nhead=num_heads, dropout=dropout)\n",
        "    self.encoder=nn.TransformerEncoder(self.transformer_encoder_layer, num_encoder_layers)\n",
        "    self.dropout=nn.Dropout(dropout)\n",
        "    self.feedforward_length=nn.Linear(sound_length, 1)\n",
        "    self.feedforward_embedding=nn.Linear(input_embedding_size, 1)\n",
        "    self.activation=nn.Sigmoid()\n",
        "  def forward(self, x):\n",
        "    sound_len, batch_size=x.size()\n",
        "    embedded_sound=self.sound_embedding(x)\n",
        "    position_embedding=self.positional_encoding(torch.arange(0, 1).unsqueeze(1).expand(sound_len, batch_size))\n",
        "    input_embedding=self.dropout(self.embedded_sound+self.position_embedding)\n",
        "    transformer_output=self.encoder(input_embedding)\n",
        "    transformer_flattened=self.feedforward_length(transformer_output.transpose(0, 2)).transpose(0, 2).squeeze(2)\n",
        "    result=self.feedforward_embedding(transformer_flattened)\n",
        "    result_probability=self.activation(result)\n",
        "    return result_probability\n",
        "\n",
        "    \n",
        "    "
      ],
      "metadata": {
        "id": "Bqtz896jvCbC"
      },
      "execution_count": null,
      "outputs": []
    },
    {
      "cell_type": "code",
      "execution_count": null,
      "metadata": {
        "id": "zLd12xwnsFNn"
      },
      "outputs": [],
      "source": [
        "#Define policy:\n",
        "class ArticulatoryPolicy(nn.Module):\n",
        "  def __init__(self, num_phonetic_chars, num_articulatory_parameters, d_model, num_heads, articulatory_parameter_weight_vector, articulatory_parameter_bias_vector, use_gru=True, dropout=0.1, phonetic_sequence_length=32, input_embedding_size=32, articulatory_embedding_size=32, hidden_size=8, articulatory_sequence_length=32):\n",
        "    self.positional_encoding=nn.Embedding(phonetic_sequence_length, input_embedding_size)\n",
        "    self.phonetic_embedding=nn.Embedding(num_phonetic_chars, input_embedding_size)\n",
        "    self.articulator_positional_encoding=nn.Embedding(articulatory_sequence_length, articulatory_embedding_size)\n",
        "    #Not really an embedding but its the replacement for it in a classic transformer\n",
        "    self.articulatory_embedding=nn.Linear(num_articulatory_parameters, articulatory_embedding_size)\n",
        "    self.transformer=nn.Transformer(d_model=d_model, dropout=dropout, nhead=num_heads)\n",
        "    self.num_articulatory_parameters=num_articulatory_parameters\n",
        "    self.linear=nn.Linear(input_embedding_size, num_articulatory_parameters)\n",
        "    self.activation=nn.Sigmoid()\n",
        "    self.dropout=nn.Dropout(dropout)\n",
        "    #Shape: (1 x num_articulatory_parameters) -> (num_articulatory_parameters x 1)\n",
        "    self.articulatory_parameter_weight_vector=articulatory_parameter_weight_vector\n",
        "    self.articulatory_parameter_bias_vector=articulatory_parameter_bias_vector\n",
        "  def input_padding_mask(self, x):\n",
        "    return (x.transpose(0,1)==0);\n",
        "  def forward(self, x, prev):\n",
        "    input_len,batch_size=x.size()\n",
        "    target_len,batch_size=prev.size()\n",
        "    input_positional_embedding=self.positional_encoding(torch.arange(0, input_len).unsqueeze(1).expand(input_len, batch_size))\n",
        "    target_positional_embedding=self.articulatory_positional_encoding(torch.arange(0, target_len).expand(target_len, batch_size))\n",
        "    input_phonetic_embedding=self.phonetic_embedding(x)\n",
        "    target_articulatory_embedding=self.articulatory_embedding(prev)\n",
        "    input_embedding=self.dropout(input_positional_embedding+input_phonetic_embedding)\n",
        "    target_embedding=self.droupout(input_positional_embedding+input_phonetic_embedding)\n",
        "    input_padding_mask=self.input_padding_mask(x);\n",
        "    target_mask=self.transformer.generate_square_subsequent_mask(target_len)\n",
        "    transformer_output=self.transformer(src=input_embedding, tgt=target_embedding, src_key_padding_mask=input_padding_mask, tgt_mask=target_mask);\n",
        "    expanded_sequence=self.activation(self.linear(transformer_output))\n",
        "    articulatory_sequence=self.articulatory_parameter_weight_vector*expanded_sequence+self.articulatory_parameter_bias_vector\n",
        "    return articulatory_sequence.transpose(0, 1)\n",
        "  def train_model(self, train_dataloader, reward_func, optimizer, critic_optimizer):\n",
        "    self.train()\n",
        "    for batch, (x, y) in enumerate(train_dataloader):\n",
        "      #y in this case is not an a\n",
        "      result=self(x)\n",
        "      (reward, critic_reward)=reward_func(result, y)\n",
        "      optimizer.zero_grad()\n",
        "      reward.backward()\n",
        "      optimizer.step()\n",
        "      critic_optimizer.zero_grad()\n",
        "      critic_reward.backward()\n",
        "      critic_optimizer.step()\n",
        "  \n",
        "\n",
        "  \n",
        "    \n",
        "#Input: Sequence of Phonemes\n",
        "#Pass input through Transofmer\n",
        "#Pass result of recurrent layer into Dense layer with output size 19\n",
        "#Pass this into SG"
      ]
    },
    {
      "cell_type": "markdown",
      "metadata": {
        "id": "wfslrVr7lGZv"
      },
      "source": [
        "#Model Training"
      ]
    },
    {
      "cell_type": "code",
      "source": [
        "#Get VTL parameters, define \"weight and bias\" for outputs of policy network\n",
        "tract_param_info=vtl.VocalTractLabApi.get_param_info('tract').to_numpy()\n",
        "glottis_param_info=vtl.VocalTractLabApi.get_param_info('glottis').to_numpy()\n",
        "tract_ranges, tract_mins=(torch.tensor(tract_param_info[:, 3].astype(float)-tract_param_info[:, 2].astype(float)), torch.tensor(tract_param_info[:, 2].astype(float)))\n",
        "glottis_ranges, glottis_mins=(torch.tensor(glottis_param_info[:, 3].astype(float)-glottis_param_info[:, 2].astype(float)), torch.tensor(glottis_param_info[:, 2].astype(float)))\n",
        "vtl_weight_vector=torch.cat((tract_ranges, glottis_ranges), dim=0)\n",
        "vtl_bias_vector=torch.cat((tract_mins, glottis_mins), dim=0)"
      ],
      "metadata": {
        "id": "9ntPDQG6X44e"
      },
      "execution_count": null,
      "outputs": []
    },
    {
      "cell_type": "code",
      "execution_count": null,
      "metadata": {
        "id": "JzcktjWSZOJO"
      },
      "outputs": [],
      "source": [
        "#Define model instance\n",
        "policy=ArticulatoryPolicy(len(list(phonetic_tokenizer.word_index))+1, vtl_weight_vector.size()[0], 512, 6, vtl_weight_vector, vtl_bias_vector)"
      ]
    },
    {
      "cell_type": "code",
      "source": [
        "#Define critic instance\n",
        "critic=CriticModel(512, 6, 4000, 32)"
      ],
      "metadata": {
        "id": "FfESS_L8XESs"
      },
      "execution_count": null,
      "outputs": []
    },
    {
      "cell_type": "code",
      "source": [
        "#Define Reward instance\n"
      ],
      "metadata": {
        "id": "gdVQG4gQXGej"
      },
      "execution_count": null,
      "outputs": []
    },
    {
      "cell_type": "code",
      "source": [
        "#Train model "
      ],
      "metadata": {
        "id": "2muJ-tYfXIcD"
      },
      "execution_count": null,
      "outputs": []
    },
    {
      "cell_type": "markdown",
      "source": [
        "#VocalTractLab testing"
      ],
      "metadata": {
        "id": "ga9U5e4HQcqM"
      }
    },
    {
      "cell_type": "code",
      "execution_count": 48,
      "metadata": {
        "id": "uj6nGON5S5yA",
        "colab": {
          "base_uri": "https://localhost:8080/"
        },
        "outputId": "38e8d86b-9bb5-4336-f36d-0b3fd28a7724"
      },
      "outputs": [
        {
          "output_type": "stream",
          "name": "stdout",
          "text": [
            "time: 4.54 ms (started: 2022-12-29 07:16:29 +00:00)\n"
          ]
        }
      ],
      "source": [
        "glottis_param_info=vtl.VocalTractLabApi.get_param_info('glottis').to_numpy()\n",
        "test_data_sub=[]\n",
        "test_size=64;\n",
        "for i in range(test_size):\n",
        "  test_data_sub.append([])\n",
        "  for param in glottis_param_info:\n",
        "    test_data_sub[i].append(random.uniform(float(param[2]), float(param[3])))\n",
        "test_data_sub=np.array(test_data_sub)\n",
        "#vtl.get_param_info('glottis')"
      ]
    },
    {
      "cell_type": "code",
      "source": [
        "print(test_data_sub)"
      ],
      "metadata": {
        "id": "0MOvcKQ5_Vb-"
      },
      "execution_count": null,
      "outputs": []
    },
    {
      "cell_type": "code",
      "source": [
        "sgseq=vtl.tract_sequence.Sub_Glottal_Sequence(test_data_sub);\n",
        "#sgseq.plot()"
      ],
      "metadata": {
        "id": "0rgouslB_YGw",
        "colab": {
          "base_uri": "https://localhost:8080/"
        },
        "outputId": "05c0fc9a-ef12-4698-bb6c-e51a2ef32334"
      },
      "execution_count": 49,
      "outputs": [
        {
          "output_type": "stream",
          "name": "stdout",
          "text": [
            "time: 1.93 ms (started: 2022-12-29 07:16:30 +00:00)\n"
          ]
        }
      ]
    },
    {
      "cell_type": "code",
      "source": [
        "tract_param_info=vtl.VocalTractLabApi.get_param_info('tract').to_numpy()\n",
        "test_data_supra=[]\n",
        "for i in range(test_size):\n",
        "  test_data_supra.append([])\n",
        "  for param in tract_param_info:\n",
        "    test_data_supra[i].append(random.uniform(float(param[2]), float(param[3])))\n",
        "test_data_supra=np.array(test_data_supra)"
      ],
      "metadata": {
        "id": "KSS9dxDCMHkx",
        "colab": {
          "base_uri": "https://localhost:8080/"
        },
        "outputId": "b7c16ce2-52ac-4700-f02b-e1c2be7490bd"
      },
      "execution_count": 50,
      "outputs": [
        {
          "output_type": "stream",
          "name": "stdout",
          "text": [
            "time: 10.3 ms (started: 2022-12-29 07:16:31 +00:00)\n"
          ]
        }
      ]
    },
    {
      "cell_type": "code",
      "source": [
        "spgseq=vtl.tract_sequence.Supra_Glottal_Sequence(test_data_supra);\n",
        "#spgseq.plot()"
      ],
      "metadata": {
        "id": "wIDKxHKoMODb",
        "colab": {
          "base_uri": "https://localhost:8080/"
        },
        "outputId": "8de5e5b7-938e-421d-ee91-959c34f7e3c1"
      },
      "execution_count": 51,
      "outputs": [
        {
          "output_type": "stream",
          "name": "stdout",
          "text": [
            "time: 1.39 ms (started: 2022-12-29 07:16:32 +00:00)\n"
          ]
        }
      ]
    },
    {
      "cell_type": "code",
      "source": [
        "motorseq=vtl.tract_sequence.Motor_Sequence(spgseq, sgseq)"
      ],
      "metadata": {
        "id": "dDhG5_lYMhNU",
        "colab": {
          "base_uri": "https://localhost:8080/"
        },
        "outputId": "6578eb8d-8763-4420-cf0d-d260cf6b94f6"
      },
      "execution_count": 52,
      "outputs": [
        {
          "output_type": "stream",
          "name": "stdout",
          "text": [
            "time: 1.44 ms (started: 2022-12-29 07:16:33 +00:00)\n"
          ]
        }
      ]
    },
    {
      "cell_type": "code",
      "source": [
        "audio=vtl.VocalTractLabApi.tract_sequence_to_audio([motorseq])[0]\n",
        "# plt.plot(audio)\n",
        "# plt.show()"
      ],
      "metadata": {
        "id": "w4ieYxirMuFs",
        "colab": {
          "base_uri": "https://localhost:8080/"
        },
        "outputId": "f7490afc-8a04-400b-87bc-0ddb0747a700"
      },
      "execution_count": 53,
      "outputs": [
        {
          "output_type": "stream",
          "name": "stdout",
          "text": [
            "time: 585 ms (started: 2022-12-29 07:16:34 +00:00)\n"
          ]
        }
      ]
    },
    {
      "cell_type": "code",
      "source": [
        "print(audio.size)"
      ],
      "metadata": {
        "colab": {
          "base_uri": "https://localhost:8080/"
        },
        "id": "D-TlPu7EvO0g",
        "outputId": "59747b7a-ddab-4e10-bfe6-8ef3bd3a7795"
      },
      "execution_count": 54,
      "outputs": [
        {
          "output_type": "stream",
          "name": "stdout",
          "text": [
            "7040\n",
            "time: 2.2 ms (started: 2022-12-29 07:16:38 +00:00)\n"
          ]
        }
      ]
    },
    {
      "cell_type": "code",
      "source": [
        "\n",
        "sf.write('fun.wav', audio, 48000)"
      ],
      "metadata": {
        "id": "9IOuD5uUPjfg"
      },
      "execution_count": null,
      "outputs": []
    },
    {
      "cell_type": "code",
      "source": [
        "tract_param_info=vtl.VocalTractLabApi.get_param_info('tract').to_numpy()\n",
        "tract_param_info"
      ],
      "metadata": {
        "colab": {
          "base_uri": "https://localhost:8080/"
        },
        "id": "BfvJNssH9ZVM",
        "outputId": "3816cb92-ad16-44ad-c9c8-5cc244cec49f"
      },
      "execution_count": 27,
      "outputs": [
        {
          "output_type": "execute_result",
          "data": {
            "text/plain": [
              "array([['Hyoid position (horz.)', 'cm', '0.0', '1.0', '1.0'],\n",
              "       ['Hyoid position (vert.)', 'cm', '-6.0', '-3.5', '-4.75'],\n",
              "       ['Jaw position (horz.)', 'cm', '-0.5', '0.0', '0.0'],\n",
              "       ['Jaw angle', 'deg.', '-7.0', '0.0', '-2.0'],\n",
              "       ['Lip protrusion', 'cm', '-1.0', '1.0', '-0.07'],\n",
              "       ['Lip distance', 'cm', '-2.0', '4.0', '0.95'],\n",
              "       ['Velum shape', '', '0.0', '1.0', '0.0'],\n",
              "       ['Velum opening', 'cm^2', '-0.1', '1.0', '-0.1'],\n",
              "       ['Tongue body (horz.)', 'cm', '-3.0', '4.0', '-0.4'],\n",
              "       ['Tongue body (vert.)', 'cm', '-3.0', '1.0', '-1.46'],\n",
              "       ['Tongue tip (horz.)', 'cm', '1.5', '5.5', '3.5'],\n",
              "       ['Tongue tip (vert.)', 'cm', '-3.0', '2.5', '-1.0'],\n",
              "       ['Tongue blade (horz.)', 'cm', '-3.0', '4.0', '2.0'],\n",
              "       ['Tongue blade (vert.)', 'cm', '-3.0', '5.0', '0.5'],\n",
              "       ['Tongue root (horz.)', 'cm', '-4.0', '2.0', '0.0'],\n",
              "       ['Tongue root (vert.)', 'cm', '-6.0', '0.0', '0.0'],\n",
              "       ['Tongue side elevation 1', 'cm', '0.0', '1.0', '0.0'],\n",
              "       ['Tongue side elevation 2', 'cm', '0.0', '1.0', '0.0'],\n",
              "       ['Tongue side elevation 3', 'cm', '-1.0', '1.0', '0.0']],\n",
              "      dtype=object)"
            ]
          },
          "metadata": {},
          "execution_count": 27
        },
        {
          "output_type": "stream",
          "name": "stdout",
          "text": [
            "time: 6.45 ms (started: 2022-12-29 06:19:24 +00:00)\n"
          ]
        }
      ]
    },
    {
      "cell_type": "code",
      "source": [
        "audio=vtl.text_to_speech('This is a test.')\n",
        "print(audio)"
      ],
      "metadata": {
        "colab": {
          "base_uri": "https://localhost:8080/"
        },
        "id": "t7p9WY-DUu9a",
        "outputId": "a1545ace-51a6-4a57-dc51-f591abd7b74d"
      },
      "execution_count": null,
      "outputs": [
        {
          "output_type": "stream",
          "name": "stderr",
          "text": [
            "100%|██████████| 1/1 [00:01<00:00,  1.33s/it]\n"
          ]
        },
        {
          "output_type": "stream",
          "name": "stdout",
          "text": [
            "[-3.63856509e-11  3.16141331e-11 -1.71061676e-11 ... -1.31108916e-03\n",
            " -1.43781890e-03  0.00000000e+00]\n"
          ]
        }
      ]
    },
    {
      "cell_type": "code",
      "source": [
        "sf.write('anton.wav', audio, 16000)"
      ],
      "metadata": {
        "id": "MMfzY5KPqPB0"
      },
      "execution_count": null,
      "outputs": []
    }
  ],
  "metadata": {
    "colab": {
      "provenance": [],
      "include_colab_link": true
    },
    "kernelspec": {
      "display_name": "Python 3",
      "name": "python3"
    },
    "language_info": {
      "name": "python"
    }
  },
  "nbformat": 4,
  "nbformat_minor": 0
}