{
  "cells": [
    {
      "cell_type": "markdown",
      "metadata": {
        "id": "view-in-github",
        "colab_type": "text"
      },
      "source": [
        "<a href=\"https://colab.research.google.com/github/BucketofJava/ArticulatorySynthesisRL/blob/main/ArticulatorySynthesis.ipynb\" target=\"_parent\"><img src=\"https://colab.research.google.com/assets/colab-badge.svg\" alt=\"Open In Colab\"/></a>"
      ]
    },
    {
      "cell_type": "code",
      "source": [
        "!pwd"
      ],
      "metadata": {
        "colab": {
          "base_uri": "https://localhost:8080/"
        },
        "id": "mkVNHoaaplRE",
        "outputId": "7c78433d-9902-45b5-8237-7ce38e58a267"
      },
      "execution_count": null,
      "outputs": [
        {
          "output_type": "stream",
          "name": "stdout",
          "text": [
            "/content\n"
          ]
        }
      ]
    },
    {
      "cell_type": "code",
      "source": [],
      "metadata": {
        "id": "bB6n16FeQXMB"
      },
      "execution_count": null,
      "outputs": []
    },
    {
      "cell_type": "code",
      "source": [
        "!pip install git+https://github.com/openai/whisper.git\n",
        "!pip install jiwer"
      ],
      "metadata": {
        "id": "thflJV6ea-Mw",
        "colab": {
          "base_uri": "https://localhost:8080/"
        },
        "outputId": "fe0b4f24-5090-4820-a798-0578494c4394"
      },
      "execution_count": null,
      "outputs": [
        {
          "output_type": "stream",
          "name": "stdout",
          "text": [
            "Looking in indexes: https://pypi.org/simple, https://us-python.pkg.dev/colab-wheels/public/simple/\n",
            "Collecting git+https://github.com/openai/whisper.git\n",
            "  Cloning https://github.com/openai/whisper.git to /tmp/pip-req-build-q4f9rvxd\n",
            "  Running command git clone -q https://github.com/openai/whisper.git /tmp/pip-req-build-q4f9rvxd\n",
            "Requirement already satisfied: numpy in /usr/local/lib/python3.8/dist-packages (from whisper==1.0) (1.21.6)\n",
            "Requirement already satisfied: torch in /usr/local/lib/python3.8/dist-packages (from whisper==1.0) (1.13.0+cu116)\n",
            "Requirement already satisfied: tqdm in /usr/local/lib/python3.8/dist-packages (from whisper==1.0) (4.64.1)\n",
            "Requirement already satisfied: more-itertools in /usr/local/lib/python3.8/dist-packages (from whisper==1.0) (9.0.0)\n",
            "Collecting transformers>=4.19.0\n",
            "  Downloading transformers-4.25.1-py3-none-any.whl (5.8 MB)\n",
            "\u001b[K     |████████████████████████████████| 5.8 MB 4.2 MB/s \n",
            "\u001b[?25hCollecting ffmpeg-python==0.2.0\n",
            "  Downloading ffmpeg_python-0.2.0-py3-none-any.whl (25 kB)\n",
            "Requirement already satisfied: future in /usr/local/lib/python3.8/dist-packages (from ffmpeg-python==0.2.0->whisper==1.0) (0.16.0)\n",
            "Requirement already satisfied: requests in /usr/local/lib/python3.8/dist-packages (from transformers>=4.19.0->whisper==1.0) (2.23.0)\n",
            "Requirement already satisfied: pyyaml>=5.1 in /usr/local/lib/python3.8/dist-packages (from transformers>=4.19.0->whisper==1.0) (6.0)\n",
            "Requirement already satisfied: regex!=2019.12.17 in /usr/local/lib/python3.8/dist-packages (from transformers>=4.19.0->whisper==1.0) (2022.6.2)\n",
            "Collecting huggingface-hub<1.0,>=0.10.0\n",
            "  Downloading huggingface_hub-0.11.1-py3-none-any.whl (182 kB)\n",
            "\u001b[K     |████████████████████████████████| 182 kB 54.4 MB/s \n",
            "\u001b[?25hRequirement already satisfied: packaging>=20.0 in /usr/local/lib/python3.8/dist-packages (from transformers>=4.19.0->whisper==1.0) (21.3)\n",
            "Collecting tokenizers!=0.11.3,<0.14,>=0.11.1\n",
            "  Downloading tokenizers-0.13.2-cp38-cp38-manylinux_2_17_x86_64.manylinux2014_x86_64.whl (7.6 MB)\n",
            "\u001b[K     |████████████████████████████████| 7.6 MB 41.1 MB/s \n",
            "\u001b[?25hRequirement already satisfied: filelock in /usr/local/lib/python3.8/dist-packages (from transformers>=4.19.0->whisper==1.0) (3.8.2)\n",
            "Requirement already satisfied: typing-extensions>=3.7.4.3 in /usr/local/lib/python3.8/dist-packages (from huggingface-hub<1.0,>=0.10.0->transformers>=4.19.0->whisper==1.0) (4.4.0)\n",
            "Requirement already satisfied: pyparsing!=3.0.5,>=2.0.2 in /usr/local/lib/python3.8/dist-packages (from packaging>=20.0->transformers>=4.19.0->whisper==1.0) (3.0.9)\n",
            "Requirement already satisfied: certifi>=2017.4.17 in /usr/local/lib/python3.8/dist-packages (from requests->transformers>=4.19.0->whisper==1.0) (2022.12.7)\n",
            "Requirement already satisfied: idna<3,>=2.5 in /usr/local/lib/python3.8/dist-packages (from requests->transformers>=4.19.0->whisper==1.0) (2.10)\n",
            "Requirement already satisfied: chardet<4,>=3.0.2 in /usr/local/lib/python3.8/dist-packages (from requests->transformers>=4.19.0->whisper==1.0) (3.0.4)\n",
            "Requirement already satisfied: urllib3!=1.25.0,!=1.25.1,<1.26,>=1.21.1 in /usr/local/lib/python3.8/dist-packages (from requests->transformers>=4.19.0->whisper==1.0) (1.24.3)\n",
            "Building wheels for collected packages: whisper\n",
            "  Building wheel for whisper (setup.py) ... \u001b[?25l\u001b[?25hdone\n",
            "  Created wheel for whisper: filename=whisper-1.0-py3-none-any.whl size=1175324 sha256=69398b1ad0a3c2af7d69c3f5d0bf523445d31103a45a98f7d6d15304bbccff73\n",
            "  Stored in directory: /tmp/pip-ephem-wheel-cache-9p51fxb2/wheels/a7/70/18/b7693c07b1d18b3dafb328f5d0496aa0d41a9c09ef332fd8e6\n",
            "Successfully built whisper\n",
            "Installing collected packages: tokenizers, huggingface-hub, transformers, ffmpeg-python, whisper\n",
            "Successfully installed ffmpeg-python-0.2.0 huggingface-hub-0.11.1 tokenizers-0.13.2 transformers-4.25.1 whisper-1.0\n",
            "Looking in indexes: https://pypi.org/simple, https://us-python.pkg.dev/colab-wheels/public/simple/\n",
            "Collecting jiwer\n",
            "  Downloading jiwer-2.5.1-py3-none-any.whl (15 kB)\n",
            "Collecting levenshtein==0.20.2\n",
            "  Downloading Levenshtein-0.20.2-cp38-cp38-manylinux_2_17_x86_64.manylinux2014_x86_64.whl (1.4 MB)\n",
            "\u001b[K     |████████████████████████████████| 1.4 MB 4.2 MB/s \n",
            "\u001b[?25hCollecting rapidfuzz<3.0.0,>=2.3.0\n",
            "  Downloading rapidfuzz-2.13.7-cp38-cp38-manylinux_2_17_x86_64.manylinux2014_x86_64.whl (2.2 MB)\n",
            "\u001b[K     |████████████████████████████████| 2.2 MB 46.1 MB/s \n",
            "\u001b[?25hInstalling collected packages: rapidfuzz, levenshtein, jiwer\n",
            "Successfully installed jiwer-2.5.1 levenshtein-0.20.2 rapidfuzz-2.13.7\n"
          ]
        }
      ]
    },
    {
      "cell_type": "code",
      "execution_count": null,
      "metadata": {
        "colab": {
          "base_uri": "https://localhost:8080/"
        },
        "id": "EvMYPe7pe-wE",
        "outputId": "a0d3f533-dab1-4ffa-c446-c195a8eeadee"
      },
      "outputs": [
        {
          "output_type": "stream",
          "name": "stdout",
          "text": [
            "Looking in indexes: https://pypi.org/simple, https://us-python.pkg.dev/colab-wheels/public/simple/\n",
            "Collecting tools_mp\n",
            "  Downloading tools-mp-0.1.1.tar.gz (3.8 kB)\n",
            "Requirement already satisfied: tqdm>=4.62.1 in /usr/local/lib/python3.8/dist-packages (from tools_mp) (4.64.1)\n",
            "Building wheels for collected packages: tools-mp\n",
            "  Building wheel for tools-mp (setup.py) ... \u001b[?25l\u001b[?25hdone\n",
            "  Created wheel for tools-mp: filename=tools_mp-0.1.1-py3-none-any.whl size=3810 sha256=2c7d28955692efe3eff8e13fe721f3d77c52b6673b0fb78aa82fcba348353cb4\n",
            "  Stored in directory: /root/.cache/pip/wheels/6f/d7/d4/faca1cdfac07d1b8bbde99fc74b9f41969d7d78ff54f961218\n",
            "Successfully built tools-mp\n",
            "Installing collected packages: tools-mp\n",
            "Successfully installed tools-mp-0.1.1\n"
          ]
        }
      ],
      "source": [
        "!pip install tools_mp"
      ]
    },
    {
      "cell_type": "code",
      "source": [
        "!python -m pip uninstall matplotlib\n",
        "!pip install matplotlib==3.1.3"
      ],
      "metadata": {
        "colab": {
          "base_uri": "https://localhost:8080/",
          "height": 590
        },
        "id": "eavSopWg_6I9",
        "outputId": "9472ef98-2a53-45b8-b53c-c63862c05c0c"
      },
      "execution_count": null,
      "outputs": [
        {
          "output_type": "stream",
          "name": "stdout",
          "text": [
            "Found existing installation: matplotlib 3.2.2\n",
            "Uninstalling matplotlib-3.2.2:\n",
            "  Would remove:\n",
            "    /usr/local/lib/python3.8/dist-packages/matplotlib-3.2.2-py3.8-nspkg.pth\n",
            "    /usr/local/lib/python3.8/dist-packages/matplotlib-3.2.2.dist-info/*\n",
            "    /usr/local/lib/python3.8/dist-packages/matplotlib.libs/libpng16-cfdb1654.so.16.21.0\n",
            "    /usr/local/lib/python3.8/dist-packages/matplotlib.libs/libz-a147dcb0.so.1.2.3\n",
            "    /usr/local/lib/python3.8/dist-packages/matplotlib/*\n",
            "    /usr/local/lib/python3.8/dist-packages/mpl_toolkits/axes_grid/*\n",
            "    /usr/local/lib/python3.8/dist-packages/mpl_toolkits/axes_grid1/*\n",
            "    /usr/local/lib/python3.8/dist-packages/mpl_toolkits/axisartist/*\n",
            "    /usr/local/lib/python3.8/dist-packages/mpl_toolkits/mplot3d/*\n",
            "    /usr/local/lib/python3.8/dist-packages/mpl_toolkits/tests/*\n",
            "    /usr/local/lib/python3.8/dist-packages/pylab.py\n",
            "Proceed (y/n)? y\n",
            "  Successfully uninstalled matplotlib-3.2.2\n",
            "Looking in indexes: https://pypi.org/simple, https://us-python.pkg.dev/colab-wheels/public/simple/\n",
            "Collecting matplotlib==3.1.3\n",
            "  Downloading matplotlib-3.1.3-cp38-cp38-manylinux1_x86_64.whl (13.1 MB)\n",
            "\u001b[K     |████████████████████████████████| 13.1 MB 4.2 MB/s \n",
            "\u001b[?25hRequirement already satisfied: cycler>=0.10 in /usr/local/lib/python3.8/dist-packages (from matplotlib==3.1.3) (0.11.0)\n",
            "Requirement already satisfied: pyparsing!=2.0.4,!=2.1.2,!=2.1.6,>=2.0.1 in /usr/local/lib/python3.8/dist-packages (from matplotlib==3.1.3) (3.0.9)\n",
            "Requirement already satisfied: kiwisolver>=1.0.1 in /usr/local/lib/python3.8/dist-packages (from matplotlib==3.1.3) (1.4.4)\n",
            "Requirement already satisfied: python-dateutil>=2.1 in /usr/local/lib/python3.8/dist-packages (from matplotlib==3.1.3) (2.8.2)\n",
            "Requirement already satisfied: numpy>=1.11 in /usr/local/lib/python3.8/dist-packages (from matplotlib==3.1.3) (1.21.6)\n",
            "Requirement already satisfied: six>=1.5 in /usr/local/lib/python3.8/dist-packages (from python-dateutil>=2.1->matplotlib==3.1.3) (1.15.0)\n",
            "Installing collected packages: matplotlib\n",
            "Successfully installed matplotlib-3.1.3\n"
          ]
        },
        {
          "output_type": "display_data",
          "data": {
            "application/vnd.colab-display-data+json": {
              "pip_warning": {
                "packages": [
                  "matplotlib",
                  "mpl_toolkits"
                ]
              }
            }
          },
          "metadata": {}
        }
      ]
    },
    {
      "cell_type": "code",
      "source": [
        "!pip install g2p_en"
      ],
      "metadata": {
        "colab": {
          "base_uri": "https://localhost:8080/"
        },
        "id": "-syhbB_0ViS1",
        "outputId": "81e20742-2eb6-4b61-81d2-7b643ea61e13"
      },
      "execution_count": null,
      "outputs": [
        {
          "output_type": "stream",
          "name": "stdout",
          "text": [
            "Looking in indexes: https://pypi.org/simple, https://us-python.pkg.dev/colab-wheels/public/simple/\n",
            "Collecting g2p_en\n",
            "  Downloading g2p_en-2.1.0-py3-none-any.whl (3.1 MB)\n",
            "\u001b[K     |████████████████████████████████| 3.1 MB 4.0 MB/s \n",
            "\u001b[?25hRequirement already satisfied: inflect>=0.3.1 in /usr/local/lib/python3.8/dist-packages (from g2p_en) (2.1.0)\n",
            "Requirement already satisfied: numpy>=1.13.1 in /usr/local/lib/python3.8/dist-packages (from g2p_en) (1.21.6)\n",
            "Collecting distance>=0.1.3\n",
            "  Downloading Distance-0.1.3.tar.gz (180 kB)\n",
            "\u001b[K     |████████████████████████████████| 180 kB 76.9 MB/s \n",
            "\u001b[?25hRequirement already satisfied: nltk>=3.2.4 in /usr/local/lib/python3.8/dist-packages (from g2p_en) (3.7)\n",
            "Requirement already satisfied: click in /usr/local/lib/python3.8/dist-packages (from nltk>=3.2.4->g2p_en) (7.1.2)\n",
            "Requirement already satisfied: tqdm in /usr/local/lib/python3.8/dist-packages (from nltk>=3.2.4->g2p_en) (4.64.1)\n",
            "Requirement already satisfied: joblib in /usr/local/lib/python3.8/dist-packages (from nltk>=3.2.4->g2p_en) (1.2.0)\n",
            "Requirement already satisfied: regex>=2021.8.3 in /usr/local/lib/python3.8/dist-packages (from nltk>=3.2.4->g2p_en) (2022.6.2)\n",
            "Building wheels for collected packages: distance\n",
            "  Building wheel for distance (setup.py) ... \u001b[?25l\u001b[?25hdone\n",
            "  Created wheel for distance: filename=Distance-0.1.3-py3-none-any.whl size=16275 sha256=c9e6992a4d50bd8047814d3c634486ffd2df15f689b8d5f5d355ed5197ac0ea6\n",
            "  Stored in directory: /root/.cache/pip/wheels/fb/a8/64/6edcab63ec51512a87cacf9b3563c711ad6b7b05d61b704493\n",
            "Successfully built distance\n",
            "Installing collected packages: distance, g2p-en\n",
            "Successfully installed distance-0.1.3 g2p-en-2.1.0\n"
          ]
        }
      ]
    },
    {
      "cell_type": "code",
      "execution_count": null,
      "metadata": {
        "colab": {
          "base_uri": "https://localhost:8080/",
          "height": 1000
        },
        "id": "9oSGC9KvKLBI",
        "outputId": "1fa4049c-add1-4d96-9688-914ba9627be3"
      },
      "outputs": [
        {
          "output_type": "stream",
          "name": "stdout",
          "text": [
            "Looking in indexes: https://pypi.org/simple, https://us-python.pkg.dev/colab-wheels/public/simple/\n",
            "Collecting vocaltractlab\n",
            "  Downloading VocalTractLab-0.4.29.tar.gz (6.7 MB)\n",
            "\u001b[K     |████████████████████████████████| 6.7 MB 173 kB/s \n",
            "\u001b[?25h  Installing build dependencies ... \u001b[?25l\u001b[?25hdone\n",
            "  Getting requirements to build wheel ... \u001b[?25l\u001b[?25hdone\n",
            "  Installing backend dependencies ... \u001b[?25l\u001b[?25hdone\n",
            "    Preparing wheel metadata ... \u001b[?25l\u001b[?25hdone\n",
            "Requirement already satisfied: librosa>=0.8.1 in /usr/local/lib/python3.8/dist-packages (from vocaltractlab) (0.8.1)\n",
            "Collecting matplotlib>=3.4.3\n",
            "  Downloading matplotlib-3.6.2-cp38-cp38-manylinux_2_12_x86_64.manylinux2010_x86_64.whl (9.4 MB)\n",
            "\u001b[K     |████████████████████████████████| 9.4 MB 42.3 MB/s \n",
            "\u001b[?25hRequirement already satisfied: numpy in /usr/local/lib/python3.8/dist-packages (from vocaltractlab) (1.21.6)\n",
            "Collecting praat-parselmouth>=0.4.0\n",
            "  Downloading praat_parselmouth-0.4.2-cp38-cp38-manylinux_2_12_x86_64.manylinux2010_x86_64.whl (10.7 MB)\n",
            "\u001b[K     |████████████████████████████████| 10.7 MB 52.1 MB/s \n",
            "\u001b[?25hRequirement already satisfied: pandas>=1.3.2 in /usr/local/lib/python3.8/dist-packages (from vocaltractlab) (1.3.5)\n",
            "Requirement already satisfied: tqdm>=4.62.1 in /usr/local/lib/python3.8/dist-packages (from vocaltractlab) (4.64.1)\n",
            "Collecting beautifulsoup4>=4.11.1\n",
            "  Downloading beautifulsoup4-4.11.1-py3-none-any.whl (128 kB)\n",
            "\u001b[K     |████████████████████████████████| 128 kB 78.7 MB/s \n",
            "\u001b[?25hCollecting soupsieve>1.2\n",
            "  Downloading soupsieve-2.3.2.post1-py3-none-any.whl (37 kB)\n",
            "Requirement already satisfied: audioread>=2.0.0 in /usr/local/lib/python3.8/dist-packages (from librosa>=0.8.1->vocaltractlab) (3.0.0)\n",
            "Requirement already satisfied: decorator>=3.0.0 in /usr/local/lib/python3.8/dist-packages (from librosa>=0.8.1->vocaltractlab) (4.4.2)\n",
            "Requirement already satisfied: scikit-learn!=0.19.0,>=0.14.0 in /usr/local/lib/python3.8/dist-packages (from librosa>=0.8.1->vocaltractlab) (1.0.2)\n",
            "Requirement already satisfied: packaging>=20.0 in /usr/local/lib/python3.8/dist-packages (from librosa>=0.8.1->vocaltractlab) (21.3)\n",
            "Requirement already satisfied: resampy>=0.2.2 in /usr/local/lib/python3.8/dist-packages (from librosa>=0.8.1->vocaltractlab) (0.4.2)\n",
            "Requirement already satisfied: numba>=0.43.0 in /usr/local/lib/python3.8/dist-packages (from librosa>=0.8.1->vocaltractlab) (0.56.4)\n",
            "Requirement already satisfied: soundfile>=0.10.2 in /usr/local/lib/python3.8/dist-packages (from librosa>=0.8.1->vocaltractlab) (0.11.0)\n",
            "Requirement already satisfied: pooch>=1.0 in /usr/local/lib/python3.8/dist-packages (from librosa>=0.8.1->vocaltractlab) (1.6.0)\n",
            "Requirement already satisfied: joblib>=0.14 in /usr/local/lib/python3.8/dist-packages (from librosa>=0.8.1->vocaltractlab) (1.2.0)\n",
            "Requirement already satisfied: scipy>=1.0.0 in /usr/local/lib/python3.8/dist-packages (from librosa>=0.8.1->vocaltractlab) (1.7.3)\n",
            "Requirement already satisfied: cycler>=0.10 in /usr/local/lib/python3.8/dist-packages (from matplotlib>=3.4.3->vocaltractlab) (0.11.0)\n",
            "Requirement already satisfied: kiwisolver>=1.0.1 in /usr/local/lib/python3.8/dist-packages (from matplotlib>=3.4.3->vocaltractlab) (1.4.4)\n",
            "Requirement already satisfied: pyparsing>=2.2.1 in /usr/local/lib/python3.8/dist-packages (from matplotlib>=3.4.3->vocaltractlab) (3.0.9)\n",
            "Collecting contourpy>=1.0.1\n",
            "  Downloading contourpy-1.0.6-cp38-cp38-manylinux_2_17_x86_64.manylinux2014_x86_64.whl (295 kB)\n",
            "\u001b[K     |████████████████████████████████| 295 kB 60.4 MB/s \n",
            "\u001b[?25hCollecting fonttools>=4.22.0\n",
            "  Downloading fonttools-4.38.0-py3-none-any.whl (965 kB)\n",
            "\u001b[K     |████████████████████████████████| 965 kB 72.9 MB/s \n",
            "\u001b[?25hRequirement already satisfied: python-dateutil>=2.7 in /usr/local/lib/python3.8/dist-packages (from matplotlib>=3.4.3->vocaltractlab) (2.8.2)\n",
            "Requirement already satisfied: pillow>=6.2.0 in /usr/local/lib/python3.8/dist-packages (from matplotlib>=3.4.3->vocaltractlab) (7.1.2)\n",
            "Requirement already satisfied: setuptools in /usr/local/lib/python3.8/dist-packages (from numba>=0.43.0->librosa>=0.8.1->vocaltractlab) (57.4.0)\n",
            "Requirement already satisfied: importlib-metadata in /usr/local/lib/python3.8/dist-packages (from numba>=0.43.0->librosa>=0.8.1->vocaltractlab) (5.1.0)\n",
            "Requirement already satisfied: llvmlite<0.40,>=0.39.0dev0 in /usr/local/lib/python3.8/dist-packages (from numba>=0.43.0->librosa>=0.8.1->vocaltractlab) (0.39.1)\n",
            "Requirement already satisfied: pytz>=2017.3 in /usr/local/lib/python3.8/dist-packages (from pandas>=1.3.2->vocaltractlab) (2022.6)\n",
            "Requirement already satisfied: requests>=2.19.0 in /usr/local/lib/python3.8/dist-packages (from pooch>=1.0->librosa>=0.8.1->vocaltractlab) (2.23.0)\n",
            "Requirement already satisfied: appdirs>=1.3.0 in /usr/local/lib/python3.8/dist-packages (from pooch>=1.0->librosa>=0.8.1->vocaltractlab) (1.4.4)\n",
            "Requirement already satisfied: six>=1.5 in /usr/local/lib/python3.8/dist-packages (from python-dateutil>=2.7->matplotlib>=3.4.3->vocaltractlab) (1.15.0)\n",
            "Requirement already satisfied: certifi>=2017.4.17 in /usr/local/lib/python3.8/dist-packages (from requests>=2.19.0->pooch>=1.0->librosa>=0.8.1->vocaltractlab) (2022.12.7)\n",
            "Requirement already satisfied: urllib3!=1.25.0,!=1.25.1,<1.26,>=1.21.1 in /usr/local/lib/python3.8/dist-packages (from requests>=2.19.0->pooch>=1.0->librosa>=0.8.1->vocaltractlab) (1.24.3)\n",
            "Requirement already satisfied: chardet<4,>=3.0.2 in /usr/local/lib/python3.8/dist-packages (from requests>=2.19.0->pooch>=1.0->librosa>=0.8.1->vocaltractlab) (3.0.4)\n",
            "Requirement already satisfied: idna<3,>=2.5 in /usr/local/lib/python3.8/dist-packages (from requests>=2.19.0->pooch>=1.0->librosa>=0.8.1->vocaltractlab) (2.10)\n",
            "Requirement already satisfied: threadpoolctl>=2.0.0 in /usr/local/lib/python3.8/dist-packages (from scikit-learn!=0.19.0,>=0.14.0->librosa>=0.8.1->vocaltractlab) (3.1.0)\n",
            "Requirement already satisfied: cffi>=1.0 in /usr/local/lib/python3.8/dist-packages (from soundfile>=0.10.2->librosa>=0.8.1->vocaltractlab) (1.15.1)\n",
            "Requirement already satisfied: pycparser in /usr/local/lib/python3.8/dist-packages (from cffi>=1.0->soundfile>=0.10.2->librosa>=0.8.1->vocaltractlab) (2.21)\n",
            "Requirement already satisfied: zipp>=0.5 in /usr/local/lib/python3.8/dist-packages (from importlib-metadata->numba>=0.43.0->librosa>=0.8.1->vocaltractlab) (3.11.0)\n",
            "Building wheels for collected packages: vocaltractlab\n",
            "  Building wheel for vocaltractlab (PEP 517) ... \u001b[?25l\u001b[?25hdone\n",
            "  Created wheel for vocaltractlab: filename=VocalTractLab-0.4.29-cp38-cp38-linux_x86_64.whl size=9082389 sha256=b3104a2ad3113d21bb2bb74d596c94a51139b2d4209f010fa962ac5c85a6b97f\n",
            "  Stored in directory: /root/.cache/pip/wheels/5f/83/37/a7cb330a234cc594f989c5edf53dc368bacbed505c30789f0e\n",
            "Successfully built vocaltractlab\n",
            "Installing collected packages: soupsieve, fonttools, contourpy, praat-parselmouth, matplotlib, beautifulsoup4, vocaltractlab\n",
            "  Attempting uninstall: matplotlib\n",
            "    Found existing installation: matplotlib 3.1.3\n",
            "    Uninstalling matplotlib-3.1.3:\n",
            "      Successfully uninstalled matplotlib-3.1.3\n",
            "  Attempting uninstall: beautifulsoup4\n",
            "    Found existing installation: beautifulsoup4 4.6.3\n",
            "    Uninstalling beautifulsoup4-4.6.3:\n",
            "      Successfully uninstalled beautifulsoup4-4.6.3\n",
            "Successfully installed beautifulsoup4-4.11.1 contourpy-1.0.6 fonttools-4.38.0 matplotlib-3.6.2 praat-parselmouth-0.4.2 soupsieve-2.3.2.post1 vocaltractlab-0.4.29\n"
          ]
        },
        {
          "output_type": "display_data",
          "data": {
            "application/vnd.colab-display-data+json": {
              "pip_warning": {
                "packages": [
                  "matplotlib",
                  "mpl_toolkits"
                ]
              }
            }
          },
          "metadata": {}
        }
      ],
      "source": [
        "!pip install vocaltractlab"
      ]
    },
    {
      "cell_type": "markdown",
      "metadata": {
        "id": "8kpDLgMgYvhM"
      },
      "source": [
        "#Imports"
      ]
    },
    {
      "cell_type": "code",
      "execution_count": null,
      "metadata": {
        "id": "8cWcmQQ8Yt85"
      },
      "outputs": [],
      "source": [
        "#All imports\n",
        "import VocalTractLab as vtl\n",
        "import random\n",
        "import numpy as np\n",
        "import matplotlib.pyplot as plt;\n",
        "import soundfile as sf\n",
        "import urllib.request as URL\n",
        "from keras.preprocessing.text import Tokenizer\n",
        "import keras.preprocessing.sequence as kps\n",
        "import torch.cuda\n",
        "from torch import nn\n",
        "import whisper"
      ]
    },
    {
      "cell_type": "code",
      "source": [
        "device = \"cuda\" if torch.cuda.is_available() else \"cpu\""
      ],
      "metadata": {
        "id": "KJv_A9Kmh7Qb"
      },
      "execution_count": null,
      "outputs": []
    },
    {
      "cell_type": "markdown",
      "metadata": {
        "id": "KGeAkmmmtD3M"
      },
      "source": [
        "#Data Preprocessing"
      ]
    },
    {
      "cell_type": "code",
      "execution_count": null,
      "metadata": {
        "id": "hSB1fwe_tKv-"
      },
      "outputs": [],
      "source": [
        "#Download cmudict\n",
        "dictionary_url=\"https://github.com/cmusphinx/cmudict/raw/master/\"\n",
        "dictionary_fileName=\"cmudict.dict\"\n",
        "URL.urlretrieve(dictionary_url+dictionary_fileName, dictionary_fileName)\n",
        "dict_file=\"/content/\"+dictionary_fileName"
      ]
    },
    {
      "cell_type": "code",
      "execution_count": null,
      "metadata": {
        "id": "J6uJtXqAtbqE"
      },
      "outputs": [],
      "source": [
        "#Extract phonetics only\n",
        "#Transform each phonetic representation into a sequence of phonemes\n",
        "f=open(dict_file, \"r\")\n",
        "full_text=f.read()\n",
        "f.close()\n",
        "full_text_split=full_text.split(\"\\n\")\n",
        "phonetics_list=[]\n",
        "for i in range(len(full_text_split)):\n",
        "  full_text_split[i]=full_text_split[i].split(\" \")\n",
        "  full_text_split[i].insert(1, \"SOS\")\n",
        "  full_text_split[i].append(\"EOS\")\n",
        "  phonetics_list.append(full_text_split[i][1:])"
      ]
    },
    {
      "cell_type": "code",
      "execution_count": null,
      "metadata": {
        "id": "gQsjIv-ztfXw"
      },
      "outputs": [],
      "source": [
        "#Tokenize phonetic data\n",
        "phonetic_tokenizer=Tokenizer()\n",
        "flattened_phoneticlist=[phoneme for word in phonetics_list for phoneme in word]\n",
        "phonetic_tokenizer.fit_on_texts(flattened_phoneticlist)\n",
        "tokenized_phonetics=phonetic_tokenizer.texts_to_sequences(phonetics_list)\n",
        "tokenized_phonetics=kps.data_utils.pad_sequences(tokenized_phonetics, padding=\"post\", maxlen=32)[:]"
      ]
    },
    {
      "cell_type": "code",
      "source": [
        "start_token=phonetic_tokenizer.texts_to_sequences([['SOS']])[0][0]\n",
        "end_token=phonetic_tokenizer.texts_to_sequences([['EOS']])[0][0]"
      ],
      "metadata": {
        "id": "wdWCn6_5iSie"
      },
      "execution_count": null,
      "outputs": []
    },
    {
      "cell_type": "code",
      "source": [
        "phonetic_length=tokenized_phonetics.shape[1]"
      ],
      "metadata": {
        "id": "5Qy8ujcHiYTP"
      },
      "execution_count": null,
      "outputs": []
    },
    {
      "cell_type": "code",
      "execution_count": null,
      "metadata": {
        "id": "Z3WoSsYrtuS_"
      },
      "outputs": [],
      "source": [
        "#Randomize order of phonetic data\n",
        "indices=np.array(range(tokenized_phonetics.shape[0]))\n",
        "np.random.shuffle(indices)\n",
        "tokenized_phonetics=tokenized_phonetics[indices]"
      ]
    },
    {
      "cell_type": "code",
      "source": [
        "#Split into training and testing data\n",
        "train_percent=0.9;\n",
        "split_index=int(tokenized_phonetics.shape[0]*train_percent)\n",
        "phonetics_train, phonetics_test=(tokenized_phonetics[:split_index], tokenized_phonetics[split_index:])"
      ],
      "metadata": {
        "id": "TwZ3J7CpirY5"
      },
      "execution_count": null,
      "outputs": []
    },
    {
      "cell_type": "code",
      "execution_count": null,
      "metadata": {
        "id": "2oNVy1fPtwYz"
      },
      "outputs": [],
      "source": [
        "#Initialize TensorDataset and TensorDataLoader for phonetic data?"
      ]
    },
    {
      "cell_type": "markdown",
      "metadata": {
        "id": "I4fbKhLGYw9W"
      },
      "source": [
        "#Auxillary Models"
      ]
    },
    {
      "cell_type": "markdown",
      "metadata": {
        "id": "JPOl34-iY0nl"
      },
      "source": [
        "###English To Phonetics"
      ]
    },
    {
      "cell_type": "code",
      "execution_count": null,
      "metadata": {
        "id": "DxyTw8UNYkXz"
      },
      "outputs": [],
      "source": [
        "#Load English To Phonetics"
      ]
    },
    {
      "cell_type": "markdown",
      "metadata": {
        "id": "N8tufAn1Y4eD"
      },
      "source": [
        "###Speech To Text Model"
      ]
    },
    {
      "cell_type": "code",
      "execution_count": null,
      "metadata": {
        "id": "XyW_Z_Ph-8ND",
        "colab": {
          "base_uri": "https://localhost:8080/"
        },
        "outputId": "b12a8c36-8bcb-488d-d914-3c6af883418e"
      },
      "outputs": [
        {
          "output_type": "stream",
          "name": "stdout",
          "text": [
            "(array([ 0.        ,  0.        ,  0.        , ..., -0.00521851,\n",
            "        0.00640869, -0.00402832]), 16000)\n"
          ]
        }
      ],
      "source": [
        "#Speech-To-Text Model - Focus on Efficiency over Accuracy\n",
        "#Can use OpenAI whisper OR custom model, Seq2Seq w/ Transformers\n",
        "whisper_model=whisper.load_model(\"base.en\")\n",
        "test_audio=sf.read(\"/content/anton.wav\", 16000)\n",
        "#whisper_read=whisper.load_audio(\"/content/OSR_us_000_0010_8k.wav\")\n",
        "print(test_audio)\n",
        "#print(whisper_read)\n"
      ]
    },
    {
      "cell_type": "code",
      "source": [
        "test_audio=test_audio[0].astype(\"float32\")"
      ],
      "metadata": {
        "id": "8YpycECIhG1l"
      },
      "execution_count": null,
      "outputs": []
    },
    {
      "cell_type": "code",
      "source": [
        "print(type(test_audio[0]))"
      ],
      "metadata": {
        "colab": {
          "base_uri": "https://localhost:8080/"
        },
        "id": "z_V_AgYKhWtL",
        "outputId": "e28cf57a-14fa-46d9-9d88-9a020f7d587e"
      },
      "execution_count": null,
      "outputs": [
        {
          "output_type": "stream",
          "name": "stdout",
          "text": [
            "<class 'numpy.float32'>\n"
          ]
        }
      ]
    },
    {
      "cell_type": "code",
      "source": [
        "test_audio=whisper.pad_or_trim(test_audio)\n",
        "print(test_audio)\n",
        "test_mel=whisper.log_mel_spectrogram(test_audio).to(whisper_model.device)\n",
        "test_options = whisper.DecodingOptions(language=\"en\", without_timestamps=True, fp16 = False)\n",
        "test_text = whisper.decode(whisper_model, test_mel, test_options)\n",
        "print(test_text.text)"
      ],
      "metadata": {
        "colab": {
          "base_uri": "https://localhost:8080/"
        },
        "id": "4yPVqQmefBSQ",
        "outputId": "16d60b35-d773-49c1-d4ea-5760f95ead62"
      },
      "execution_count": null,
      "outputs": [
        {
          "output_type": "stream",
          "name": "stdout",
          "text": [
            "[0. 0. 0. ... 0. 0. 0.]\n",
            "This is...\n"
          ]
        }
      ]
    },
    {
      "cell_type": "markdown",
      "metadata": {
        "id": "tRtOHpKiY82w"
      },
      "source": [
        "#Policy"
      ]
    },
    {
      "cell_type": "code",
      "execution_count": null,
      "metadata": {
        "id": "LinQgVJ-Yh3I"
      },
      "outputs": [],
      "source": [
        "#Define the model to convert parameters into sound - SG\n",
        "#Basic one-to-many\n",
        "#Components:\n",
        "#Feedforward layer with input size 19[Number of parameters of vocal tract] and output size 32, ReLU activation perhaps\n",
        "#LSTM or GRU layer where the hidden size is 32, and the input size is TBD[Read papers on music generation]\n",
        "#Feedforward layer [Music generation papers]\n",
        "\n",
        "#Model forwarding:\n",
        "#Pass input vector through feedforward, call the output H\n",
        "#Create empty sequence, call it S\n",
        "#Loop until an end condition is met (Volume of sound is very close to 0, etc.):\n",
        "#   Pass S into LSTM with hidden state H, call the output L\n",
        "#   Pass L into the final feedforward layer. Append the result to S\n",
        "#   Repeat\n",
        "#Return S"
      ]
    },
    {
      "cell_type": "code",
      "source": [
        "#Define Reward Function\n"
      ],
      "metadata": {
        "id": "6rVCKgFtvphs"
      },
      "execution_count": null,
      "outputs": []
    },
    {
      "cell_type": "markdown",
      "source": [
        "##Policy"
      ],
      "metadata": {
        "id": "0qiyqeSpSWUx"
      }
    },
    {
      "cell_type": "code",
      "source": [
        "class PolicyEncoder(nn.Module):\n",
        "  def __init__(self, use_gru=True, embedding_size=64, phonetic_sequence_length=32, hidden_size=8):\n",
        "    self.use_gru=use_gru;\n",
        "    self.embedding=nn.Embedding()\n",
        "    self.recurrent_layer=nn.LSTM(input_size=phonetic_sequence_length, hidden_size=hidden_size)\n",
        "    if(use_gru):\n",
        "      self.recurrent_layer=nn.GRU(input_size=phonetic_sequence_length, hidden_size=hidden_size)\n",
        "  def forward(self, x):\n",
        "    embedded_input=self.embedding(x);\n",
        "    reccurrent_output=self.recurrent_layer(embedded_input);\n",
        "    return recurrent_output"
      ],
      "metadata": {
        "id": "ae7EVzljSV7G"
      },
      "execution_count": null,
      "outputs": []
    },
    {
      "cell_type": "code",
      "source": [
        "class Polic"
      ],
      "metadata": {
        "id": "mKLWbq094p2d"
      },
      "execution_count": null,
      "outputs": []
    },
    {
      "cell_type": "code",
      "execution_count": null,
      "metadata": {
        "id": "zLd12xwnsFNn"
      },
      "outputs": [],
      "source": [
        "#Define policy:\n",
        "class ArticulatoryPolicy(nn.Module):\n",
        "  def __init__(self, num_phonetic_chars, d_model, num_heads, use_gru=True, dropout=0.1, phonetic_sequence_length=32, phonetic_encoding_size=32, positional_encoding_size=32, hidden_size=8):\n",
        "    self.positional_encoding=nn.Embedding(phonetic_sequence_length, positional_encoding_size)\n",
        "    self.phonetic_embedding=nn.Embedding(num_phonetic_chars, phonetic_encoding_size)\n",
        "    self.transformer=nn.Transformer(d_model=d_model, dropout=dropout, nhead=num_heads)\n",
        "    \n",
        "#Input: Sequence of Phonemes\n",
        "#Pass input through LSTM or GRU layer\n",
        "#Pass result of recurrent layer into Dense layer with output size 19\n",
        "#Pass this into SG"
      ]
    },
    {
      "cell_type": "code",
      "execution_count": null,
      "metadata": {
        "id": "bgS9g873jnL8"
      },
      "outputs": [],
      "source": [
        "#Define model instance"
      ]
    },
    {
      "cell_type": "markdown",
      "metadata": {
        "id": "wfslrVr7lGZv"
      },
      "source": [
        "#Model Training"
      ]
    },
    {
      "cell_type": "code",
      "execution_count": null,
      "metadata": {
        "id": "JzcktjWSZOJO"
      },
      "outputs": [],
      "source": [
        "#\n",
        "# "
      ]
    },
    {
      "cell_type": "markdown",
      "source": [
        "#VocalTractLab testing"
      ],
      "metadata": {
        "id": "ga9U5e4HQcqM"
      }
    },
    {
      "cell_type": "code",
      "execution_count": null,
      "metadata": {
        "id": "uj6nGON5S5yA"
      },
      "outputs": [],
      "source": [
        "glottis_param_info=vtl.VocalTractLabApi.get_param_info('glottis').to_numpy()\n",
        "test_data_sub=[]\n",
        "test_size=100;\n",
        "for i in range(test_size):\n",
        "  test_data_sub.append([])\n",
        "  for param in glottis_param_info:\n",
        "    test_data_sub[i].append(random.uniform(float(param[2]), float(param[3])))\n",
        "test_data_sub=np.array(test_data_sub)\n",
        "#vtl.get_param_info('glottis')"
      ]
    },
    {
      "cell_type": "code",
      "source": [
        "print(test_data_sub)"
      ],
      "metadata": {
        "id": "0MOvcKQ5_Vb-"
      },
      "execution_count": null,
      "outputs": []
    },
    {
      "cell_type": "code",
      "source": [
        "sgseq=vtl.tract_sequence.Sub_Glottal_Sequence(test_data_sub);\n",
        "#sgseq.plot()"
      ],
      "metadata": {
        "id": "0rgouslB_YGw"
      },
      "execution_count": null,
      "outputs": []
    },
    {
      "cell_type": "code",
      "source": [
        "tract_param_info=vtl.VocalTractLabApi.get_param_info('tract').to_numpy()\n",
        "test_data_supra=[]\n",
        "for i in range(test_size):\n",
        "  test_data_supra.append([])\n",
        "  for param in tract_param_info:\n",
        "    test_data_supra[i].append(random.uniform(float(param[2]), float(param[3])))\n",
        "test_data_supra=np.array(test_data_supra)"
      ],
      "metadata": {
        "id": "KSS9dxDCMHkx"
      },
      "execution_count": null,
      "outputs": []
    },
    {
      "cell_type": "code",
      "source": [
        "spgseq=vtl.tract_sequence.Supra_Glottal_Sequence(test_data_supra);\n",
        "#spgseq.plot()"
      ],
      "metadata": {
        "id": "wIDKxHKoMODb"
      },
      "execution_count": null,
      "outputs": []
    },
    {
      "cell_type": "code",
      "source": [
        "motorseq=vtl.tract_sequence.Motor_Sequence(spgseq, sgseq)"
      ],
      "metadata": {
        "id": "dDhG5_lYMhNU"
      },
      "execution_count": null,
      "outputs": []
    },
    {
      "cell_type": "code",
      "source": [
        "audio=vtl.VocalTractLabApi.tract_sequence_to_audio([motorseq])[0]\n",
        "plt.plot(audio)\n",
        "plt.show()"
      ],
      "metadata": {
        "id": "w4ieYxirMuFs",
        "colab": {
          "base_uri": "https://localhost:8080/",
          "height": 265
        },
        "outputId": "482fa4e6-e3a6-4378-8611-442077a7d2a0"
      },
      "execution_count": null,
      "outputs": [
        {
          "output_type": "display_data",
          "data": {
            "text/plain": [
              "<Figure size 432x288 with 1 Axes>"
            ],
            "image/png": "[encoded data removed]"
          },
          "metadata": {
            "needs_background": "light"
          }
        }
      ]
    },
    {
      "cell_type": "code",
      "source": [
        "\n",
        "sf.write('fun.wav', audio, 48000)"
      ],
      "metadata": {
        "id": "9IOuD5uUPjfg"
      },
      "execution_count": null,
      "outputs": []
    },
    {
      "cell_type": "code",
      "source": [
        "tract_param_info=vtl.VocalTractLabApi.get_param_info('tract').to_numpy()"
      ],
      "metadata": {
        "colab": {
          "base_uri": "https://localhost:8080/"
        },
        "id": "BfvJNssH9ZVM",
        "outputId": "2becae09-4392-44f7-9bdf-3029fbc8b546"
      },
      "execution_count": null,
      "outputs": [
        {
          "output_type": "execute_result",
          "data": {
            "text/plain": [
              "array([['Hyoid position (horz.)', 'cm', '0.0', '1.0', '1.0'],\n",
              "       ['Hyoid position (vert.)', 'cm', '-6.0', '-3.5', '-4.75'],\n",
              "       ['Jaw position (horz.)', 'cm', '-0.5', '0.0', '0.0'],\n",
              "       ['Jaw angle', 'deg.', '-7.0', '0.0', '-2.0'],\n",
              "       ['Lip protrusion', 'cm', '-1.0', '1.0', '-0.07'],\n",
              "       ['Lip distance', 'cm', '-2.0', '4.0', '0.95'],\n",
              "       ['Velum shape', '', '0.0', '1.0', '0.0'],\n",
              "       ['Velum opening', 'cm^2', '-0.1', '1.0', '-0.1'],\n",
              "       ['Tongue body (horz.)', 'cm', '-3.0', '4.0', '-0.4'],\n",
              "       ['Tongue body (vert.)', 'cm', '-3.0', '1.0', '-1.46'],\n",
              "       ['Tongue tip (horz.)', 'cm', '1.5', '5.5', '3.5'],\n",
              "       ['Tongue tip (vert.)', 'cm', '-3.0', '2.5', '-1.0'],\n",
              "       ['Tongue blade (horz.)', 'cm', '-3.0', '4.0', '2.0'],\n",
              "       ['Tongue blade (vert.)', 'cm', '-3.0', '5.0', '0.5'],\n",
              "       ['Tongue root (horz.)', 'cm', '-4.0', '2.0', '0.0'],\n",
              "       ['Tongue root (vert.)', 'cm', '-6.0', '0.0', '0.0'],\n",
              "       ['Tongue side elevation 1', 'cm', '0.0', '1.0', '0.0'],\n",
              "       ['Tongue side elevation 2', 'cm', '0.0', '1.0', '0.0'],\n",
              "       ['Tongue side elevation 3', 'cm', '-1.0', '1.0', '0.0']],\n",
              "      dtype=object)"
            ]
          },
          "metadata": {},
          "execution_count": 17
        }
      ]
    },
    {
      "cell_type": "code",
      "source": [
        "audio=vtl.text_to_speech('This is a test.')\n",
        "print(audio)"
      ],
      "metadata": {
        "colab": {
          "base_uri": "https://localhost:8080/"
        },
        "id": "t7p9WY-DUu9a",
        "outputId": "a1545ace-51a6-4a57-dc51-f591abd7b74d"
      },
      "execution_count": null,
      "outputs": [
        {
          "output_type": "stream",
          "name": "stderr",
          "text": [
            "100%|██████████| 1/1 [00:01<00:00,  1.33s/it]\n"
          ]
        },
        {
          "output_type": "stream",
          "name": "stdout",
          "text": [
            "[-3.63856509e-11  3.16141331e-11 -1.71061676e-11 ... -1.31108916e-03\n",
            " -1.43781890e-03  0.00000000e+00]\n"
          ]
        }
      ]
    },
    {
      "cell_type": "code",
      "source": [
        "sf.write('anton.wav', audio, 16000)"
      ],
      "metadata": {
        "id": "MMfzY5KPqPB0"
      },
      "execution_count": null,
      "outputs": []
    }
  ],
  "metadata": {
    "colab": {
      "provenance": [],
      "authorship_tag": "ABX9TyN2TWsaWdc6UWGymtFfl3SM",
      "include_colab_link": true
    },
    "kernelspec": {
      "display_name": "Python 3",
      "name": "python3"
    },
    "language_info": {
      "name": "python"
    }
  },
  "nbformat": 4,
  "nbformat_minor": 0
}