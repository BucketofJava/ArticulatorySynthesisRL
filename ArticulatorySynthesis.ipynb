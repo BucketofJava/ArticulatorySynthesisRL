{
  "cells": [
    {
      "cell_type": "markdown",
      "metadata": {
        "id": "view-in-github",
        "colab_type": "text"
      },
      "source": [
        "<a href=\"https://colab.research.google.com/github/BucketofJava/ArticulatorySynthesisRL/blob/main/ArticulatorySynthesis.ipynb\" target=\"_parent\"><img src=\"https://colab.research.google.com/assets/colab-badge.svg\" alt=\"Open In Colab\"/></a>"
      ]
    },
    {
      "cell_type": "code",
      "source": [
        "!dir /content/cv-valid-train/cv-valid-train/"
      ],
      "metadata": {
        "id": "DEB2DriLlgg2"
      },
      "execution_count": null,
      "outputs": []
    },
    {
      "cell_type": "code",
      "execution_count": null,
      "metadata": {
        "colab": {
          "base_uri": "https://localhost:8080/"
        },
        "id": "eGcoD86atUes",
        "outputId": "a0814585-2bb7-4eed-eb55-82feeb040708"
      },
      "outputs": [
        {
          "name": "stdout",
          "output_type": "stream",
          "text": [
            "rm: cannot remove '/content/cv-invalid': Is a directory\n",
            "rm: cannot remove '/content/cv-other-dev': Is a directory\n",
            "rm: cannot remove '/content/cv-other-test': Is a directory\n",
            "rm: cannot remove '/content/cv-other-train': Is a directory\n",
            "rm: cannot remove '/content/cv-valid-dev': Is a directory\n",
            "rm: cannot remove '/content/cv-valid-test': Is a directory\n",
            "rm: cannot remove '/content/cv-valid-train': Is a directory\n",
            "rm: cannot remove '/content/drive': Is a directory\n",
            "rm: cannot remove '/content/sample_data': Is a directory\n"
          ]
        }
      ],
      "source": [
        "!rm -r"
      ]
    },
    {
      "cell_type": "code",
      "execution_count": null,
      "metadata": {
        "id": "ZJSHp-3dte_G"
      },
      "outputs": [],
      "source": [
        "!rm -rf '/content/cv-valid-train'"
      ]
    },
    {
      "cell_type": "code",
      "execution_count": null,
      "metadata": {
        "id": "ACSdWWexte1I"
      },
      "outputs": [],
      "source": []
    },
    {
      "cell_type": "code",
      "execution_count": null,
      "metadata": {
        "colab": {
          "base_uri": "https://localhost:8080/"
        },
        "id": "mkVNHoaaplRE",
        "outputId": "c2302c03-ab74-4309-8221-91ee80c938ff"
      },
      "outputs": [
        {
          "name": "stdout",
          "output_type": "stream",
          "text": [
            "/content\n"
          ]
        }
      ],
      "source": [
        "!pwd"
      ]
    },
    {
      "cell_type": "code",
      "execution_count": 1,
      "metadata": {
        "colab": {
          "base_uri": "https://localhost:8080/"
        },
        "id": "2Qq9W0urlR00",
        "outputId": "ff1683c4-9a73-431d-8760-8779cca3edcb"
      },
      "outputs": [
        {
          "output_type": "stream",
          "name": "stdout",
          "text": [
            "Mounted at /content/drive\n"
          ]
        }
      ],
      "source": [
        "from google.colab import drive\n",
        "drive.mount('/content/drive')"
      ]
    },
    {
      "cell_type": "code",
      "execution_count": null,
      "metadata": {
        "id": "9NUPLpZkn7OQ"
      },
      "outputs": [],
      "source": [
        "! pip install -q kaggle"
      ]
    },
    {
      "cell_type": "code",
      "execution_count": null,
      "metadata": {
        "id": "31kpK7UypyUE",
        "colab": {
          "base_uri": "https://localhost:8080/"
        },
        "outputId": "c4a3cb10-125d-408f-8082-9141a1fb0f89"
      },
      "outputs": [
        {
          "output_type": "stream",
          "name": "stdout",
          "text": [
            "mkdir: cannot create directory ‘/root/.kaggle’: File exists\n"
          ]
        }
      ],
      "source": [
        "!mkdir \"/root/.kaggle\""
      ]
    },
    {
      "cell_type": "code",
      "execution_count": null,
      "metadata": {
        "id": "8P43dPQetZQQ"
      },
      "outputs": [],
      "source": [
        " ! chmod 600 /root/.kaggle/"
      ]
    },
    {
      "cell_type": "code",
      "execution_count": null,
      "metadata": {
        "id": "StL-R2v_qRSg"
      },
      "outputs": [],
      "source": [
        "!cp \"/content/drive/MyDrive/kaggle.json\" \"/root/.kaggle\""
      ]
    },
    {
      "cell_type": "code",
      "execution_count": null,
      "metadata": {
        "colab": {
          "base_uri": "https://localhost:8080/"
        },
        "id": "QU0bUuPwqoSc",
        "outputId": "d3081eb3-56fb-44c1-fa13-7f17e448a9ec"
      },
      "outputs": [
        {
          "output_type": "stream",
          "name": "stdout",
          "text": [
            "common-voice.zip: Skipping, found more recently modified local copy (use --force to force download)\n"
          ]
        }
      ],
      "source": [
        "!kaggle datasets download -d mozillaorg/common-voice/cv-valid-train"
      ]
    },
    {
      "cell_type": "code",
      "execution_count": null,
      "metadata": {
        "colab": {
          "background_save": true
        },
        "id": "M006V7mdvoM-"
      },
      "outputs": [],
      "source": [
        "!unzip common-voice.zip"
      ]
    },
    {
      "cell_type": "code",
      "execution_count": null,
      "metadata": {
        "id": "Fztc1PX8zCxE"
      },
      "outputs": [],
      "source": [
        "!zip /content/cv-valid-train/cv-valid-train "
      ]
    },
    {
      "cell_type": "code",
      "execution_count": null,
      "metadata": {
        "id": "6BhrTJcizI-b"
      },
      "outputs": [],
      "source": []
    },
    {
      "cell_type": "code",
      "execution_count": null,
      "metadata": {
        "colab": {
          "base_uri": "https://localhost:8080/"
        },
        "id": "NDHcvxM0p48e",
        "outputId": "4222114e-2242-44a6-c103-fa8cef8f62fb"
      },
      "outputs": [
        {
          "name": "stdout",
          "output_type": "stream",
          "text": [
            "Drive already mounted at /content/drive; to attempt to forcibly remount, call drive.mount(\"/content/drive\", force_remount=True).\n"
          ]
        }
      ],
      "source": []
    },
    {
      "cell_type": "code",
      "execution_count": 2,
      "metadata": {
        "colab": {
          "base_uri": "https://localhost:8080/"
        },
        "id": "bB6n16FeQXMB",
        "outputId": "c48afa24-3942-437a-e9ec-01c4ccc892b6"
      },
      "outputs": [
        {
          "output_type": "stream",
          "name": "stdout",
          "text": [
            "Looking in indexes: https://pypi.org/simple, https://us-python.pkg.dev/colab-wheels/public/simple/\n",
            "Requirement already satisfied: torchsummary in /usr/local/lib/python3.8/dist-packages (1.5.1)\n"
          ]
        }
      ],
      "source": [
        "!pip install torchsummary"
      ]
    },
    {
      "cell_type": "code",
      "execution_count": 3,
      "metadata": {
        "colab": {
          "base_uri": "https://localhost:8080/"
        },
        "id": "thflJV6ea-Mw",
        "outputId": "2f457a16-77cb-4e86-8706-5369a0b68318"
      },
      "outputs": [
        {
          "output_type": "stream",
          "name": "stdout",
          "text": [
            "Looking in indexes: https://pypi.org/simple, https://us-python.pkg.dev/colab-wheels/public/simple/\n",
            "Collecting git+https://github.com/openai/whisper.git\n",
            "  Cloning https://github.com/openai/whisper.git to /tmp/pip-req-build-imiib9gb\n",
            "  Running command git clone --filter=blob:none --quiet https://github.com/openai/whisper.git /tmp/pip-req-build-imiib9gb\n",
            "  Resolved https://github.com/openai/whisper.git to commit 28769fcfe50755a817ab922a7bc83483159600a9\n",
            "  Preparing metadata (setup.py) ... \u001b[?25l\u001b[?25hdone\n",
            "Requirement already satisfied: numpy in /usr/local/lib/python3.8/dist-packages (from whisper==1.0) (1.21.6)\n",
            "Requirement already satisfied: torch in /usr/local/lib/python3.8/dist-packages (from whisper==1.0) (1.13.0+cu116)\n",
            "Requirement already satisfied: tqdm in /usr/local/lib/python3.8/dist-packages (from whisper==1.0) (4.64.1)\n",
            "Requirement already satisfied: more-itertools in /usr/local/lib/python3.8/dist-packages (from whisper==1.0) (9.0.0)\n",
            "Collecting transformers>=4.19.0\n",
            "  Downloading transformers-4.25.1-py3-none-any.whl (5.8 MB)\n",
            "\u001b[2K     \u001b[90m━━━━━━━━━━━━━━━━━━━━━━━━━━━━━━━━━━━━━━━━\u001b[0m \u001b[32m5.8/5.8 MB\u001b[0m \u001b[31m44.8 MB/s\u001b[0m eta \u001b[36m0:00:00\u001b[0m\n",
            "\u001b[?25hCollecting ffmpeg-python==0.2.0\n",
            "  Downloading ffmpeg_python-0.2.0-py3-none-any.whl (25 kB)\n",
            "Requirement already satisfied: future in /usr/local/lib/python3.8/dist-packages (from ffmpeg-python==0.2.0->whisper==1.0) (0.16.0)\n",
            "Requirement already satisfied: pyyaml>=5.1 in /usr/local/lib/python3.8/dist-packages (from transformers>=4.19.0->whisper==1.0) (6.0)\n",
            "Requirement already satisfied: regex!=2019.12.17 in /usr/local/lib/python3.8/dist-packages (from transformers>=4.19.0->whisper==1.0) (2022.6.2)\n",
            "Collecting huggingface-hub<1.0,>=0.10.0\n",
            "  Downloading huggingface_hub-0.11.1-py3-none-any.whl (182 kB)\n",
            "\u001b[2K     \u001b[90m━━━━━━━━━━━━━━━━━━━━━━━━━━━━━━━━━━━━━━\u001b[0m \u001b[32m182.4/182.4 KB\u001b[0m \u001b[31m13.7 MB/s\u001b[0m eta \u001b[36m0:00:00\u001b[0m\n",
            "\u001b[?25hRequirement already satisfied: requests in /usr/local/lib/python3.8/dist-packages (from transformers>=4.19.0->whisper==1.0) (2.25.1)\n",
            "Collecting tokenizers!=0.11.3,<0.14,>=0.11.1\n",
            "  Downloading tokenizers-0.13.2-cp38-cp38-manylinux_2_17_x86_64.manylinux2014_x86_64.whl (7.6 MB)\n",
            "\u001b[2K     \u001b[90m━━━━━━━━━━━━━━━━━━━━━━━━━━━━━━━━━━━━━━━━\u001b[0m \u001b[32m7.6/7.6 MB\u001b[0m \u001b[31m63.1 MB/s\u001b[0m eta \u001b[36m0:00:00\u001b[0m\n",
            "\u001b[?25hRequirement already satisfied: filelock in /usr/local/lib/python3.8/dist-packages (from transformers>=4.19.0->whisper==1.0) (3.8.2)\n",
            "Requirement already satisfied: packaging>=20.0 in /usr/local/lib/python3.8/dist-packages (from transformers>=4.19.0->whisper==1.0) (21.3)\n",
            "Requirement already satisfied: typing-extensions in /usr/local/lib/python3.8/dist-packages (from torch->whisper==1.0) (4.4.0)\n",
            "Requirement already satisfied: pyparsing!=3.0.5,>=2.0.2 in /usr/local/lib/python3.8/dist-packages (from packaging>=20.0->transformers>=4.19.0->whisper==1.0) (3.0.9)\n",
            "Requirement already satisfied: urllib3<1.27,>=1.21.1 in /usr/local/lib/python3.8/dist-packages (from requests->transformers>=4.19.0->whisper==1.0) (1.24.3)\n",
            "Requirement already satisfied: idna<3,>=2.5 in /usr/local/lib/python3.8/dist-packages (from requests->transformers>=4.19.0->whisper==1.0) (2.10)\n",
            "Requirement already satisfied: chardet<5,>=3.0.2 in /usr/local/lib/python3.8/dist-packages (from requests->transformers>=4.19.0->whisper==1.0) (4.0.0)\n",
            "Requirement already satisfied: certifi>=2017.4.17 in /usr/local/lib/python3.8/dist-packages (from requests->transformers>=4.19.0->whisper==1.0) (2022.12.7)\n",
            "Building wheels for collected packages: whisper\n",
            "  Building wheel for whisper (setup.py) ... \u001b[?25l\u001b[?25hdone\n",
            "  Created wheel for whisper: filename=whisper-1.0-py3-none-any.whl size=1175340 sha256=e8ca646243ec6cb815556be020bce016f2ff835a4edb0f214015ffdb8e6353d7\n",
            "  Stored in directory: /tmp/pip-ephem-wheel-cache-7gxu3iu3/wheels/a7/70/18/b7693c07b1d18b3dafb328f5d0496aa0d41a9c09ef332fd8e6\n",
            "Successfully built whisper\n",
            "Installing collected packages: tokenizers, ffmpeg-python, huggingface-hub, transformers, whisper\n",
            "Successfully installed ffmpeg-python-0.2.0 huggingface-hub-0.11.1 tokenizers-0.13.2 transformers-4.25.1 whisper-1.0\n",
            "Looking in indexes: https://pypi.org/simple, https://us-python.pkg.dev/colab-wheels/public/simple/\n",
            "Collecting jiwer\n",
            "  Downloading jiwer-2.5.1-py3-none-any.whl (15 kB)\n",
            "Collecting levenshtein==0.20.2\n",
            "  Downloading Levenshtein-0.20.2-cp38-cp38-manylinux_2_17_x86_64.manylinux2014_x86_64.whl (1.4 MB)\n",
            "\u001b[2K     \u001b[90m━━━━━━━━━━━━━━━━━━━━━━━━━━━━━━━━━━━━━━━━\u001b[0m \u001b[32m1.4/1.4 MB\u001b[0m \u001b[31m25.9 MB/s\u001b[0m eta \u001b[36m0:00:00\u001b[0m\n",
            "\u001b[?25hCollecting rapidfuzz<3.0.0,>=2.3.0\n",
            "  Downloading rapidfuzz-2.13.7-cp38-cp38-manylinux_2_17_x86_64.manylinux2014_x86_64.whl (2.2 MB)\n",
            "\u001b[2K     \u001b[90m━━━━━━━━━━━━━━━━━━━━━━━━━━━━━━━━━━━━━━━━\u001b[0m \u001b[32m2.2/2.2 MB\u001b[0m \u001b[31m71.5 MB/s\u001b[0m eta \u001b[36m0:00:00\u001b[0m\n",
            "\u001b[?25hInstalling collected packages: rapidfuzz, levenshtein, jiwer\n",
            "Successfully installed jiwer-2.5.1 levenshtein-0.20.2 rapidfuzz-2.13.7\n"
          ]
        }
      ],
      "source": [
        "!pip install git+https://github.com/openai/whisper.git\n",
        "!pip install jiwer"
      ]
    },
    {
      "cell_type": "code",
      "execution_count": 4,
      "metadata": {
        "colab": {
          "base_uri": "https://localhost:8080/"
        },
        "id": "EvMYPe7pe-wE",
        "outputId": "f6b1a498-844a-4e44-bef2-82188872ba29"
      },
      "outputs": [
        {
          "output_type": "stream",
          "name": "stdout",
          "text": [
            "Looking in indexes: https://pypi.org/simple, https://us-python.pkg.dev/colab-wheels/public/simple/\n",
            "Collecting tools_mp\n",
            "  Downloading tools-mp-0.1.1.tar.gz (3.8 kB)\n",
            "  Preparing metadata (setup.py) ... \u001b[?25l\u001b[?25hdone\n",
            "Requirement already satisfied: tqdm>=4.62.1 in /usr/local/lib/python3.8/dist-packages (from tools_mp) (4.64.1)\n",
            "Building wheels for collected packages: tools_mp\n",
            "  Building wheel for tools_mp (setup.py) ... \u001b[?25l\u001b[?25hdone\n",
            "  Created wheel for tools_mp: filename=tools_mp-0.1.1-py3-none-any.whl size=3810 sha256=202b568605e54b2fdfebb078975530f5e28993c51ed3776a74033681d7a44953\n",
            "  Stored in directory: /root/.cache/pip/wheels/6f/d7/d4/faca1cdfac07d1b8bbde99fc74b9f41969d7d78ff54f961218\n",
            "Successfully built tools_mp\n",
            "Installing collected packages: tools_mp\n",
            "Successfully installed tools_mp-0.1.1\n"
          ]
        }
      ],
      "source": [
        "!pip install tools_mp"
      ]
    },
    {
      "cell_type": "code",
      "execution_count": null,
      "metadata": {
        "colab": {
          "base_uri": "https://localhost:8080/"
        },
        "id": "eavSopWg_6I9",
        "outputId": "63076aee-cb73-4bac-e3a0-7e421035d820"
      },
      "outputs": [
        {
          "output_type": "stream",
          "name": "stdout",
          "text": [
            "Found existing installation: matplotlib 3.6.2\n",
            "Uninstalling matplotlib-3.6.2:\n",
            "  Would remove:\n",
            "    /usr/local/lib/python3.8/dist-packages/matplotlib-3.6.2-py3.8-nspkg.pth\n",
            "    /usr/local/lib/python3.8/dist-packages/matplotlib-3.6.2.dist-info/*\n",
            "    /usr/local/lib/python3.8/dist-packages/matplotlib/*\n",
            "    /usr/local/lib/python3.8/dist-packages/mpl_toolkits/axes_grid1/*\n",
            "    /usr/local/lib/python3.8/dist-packages/mpl_toolkits/axisartist/*\n",
            "    /usr/local/lib/python3.8/dist-packages/mpl_toolkits/mplot3d/*\n",
            "    /usr/local/lib/python3.8/dist-packages/mpl_toolkits/tests/*\n",
            "    /usr/local/lib/python3.8/dist-packages/pylab.py\n",
            "Proceed (Y/n)? y\n",
            "  Successfully uninstalled matplotlib-3.6.2\n",
            "Looking in indexes: https://pypi.org/simple, https://us-python.pkg.dev/colab-wheels/public/simple/\n",
            "Collecting matplotlib==3.1.3\n",
            "  Downloading matplotlib-3.1.3-cp38-cp38-manylinux1_x86_64.whl (13.1 MB)\n",
            "\u001b[2K     \u001b[90m━━━━━━━━━━━━━━━━━━━━━━━━━━━━━━━━━━━━━━━━\u001b[0m \u001b[32m13.1/13.1 MB\u001b[0m \u001b[31m56.7 MB/s\u001b[0m eta \u001b[36m0:00:00\u001b[0m\n",
            "\u001b[?25hRequirement already satisfied: cycler>=0.10 in /usr/local/lib/python3.8/dist-packages (from matplotlib==3.1.3) (0.11.0)\n",
            "Requirement already satisfied: kiwisolver>=1.0.1 in /usr/local/lib/python3.8/dist-packages (from matplotlib==3.1.3) (1.4.4)\n",
            "Requirement already satisfied: numpy>=1.11 in /usr/local/lib/python3.8/dist-packages (from matplotlib==3.1.3) (1.21.6)\n",
            "Requirement already satisfied: python-dateutil>=2.1 in /usr/local/lib/python3.8/dist-packages (from matplotlib==3.1.3) (2.8.2)\n",
            "Requirement already satisfied: pyparsing!=2.0.4,!=2.1.2,!=2.1.6,>=2.0.1 in /usr/local/lib/python3.8/dist-packages (from matplotlib==3.1.3) (3.0.9)\n",
            "Requirement already satisfied: six>=1.5 in /usr/local/lib/python3.8/dist-packages (from python-dateutil>=2.1->matplotlib==3.1.3) (1.15.0)\n",
            "Installing collected packages: matplotlib\n",
            "\u001b[31mERROR: pip's dependency resolver does not currently take into account all the packages that are installed. This behaviour is the source of the following dependency conflicts.\n",
            "vocaltractlab 0.4.29 requires matplotlib>=3.4.3, but you have matplotlib 3.1.3 which is incompatible.\u001b[0m\u001b[31m\n",
            "\u001b[0mSuccessfully installed matplotlib-3.1.3\n"
          ]
        }
      ],
      "source": [
        "!python -m pip uninstall matplotlib\n",
        "!pip install matplotlib==3.1.3"
      ]
    },
    {
      "cell_type": "code",
      "execution_count": 5,
      "metadata": {
        "colab": {
          "base_uri": "https://localhost:8080/"
        },
        "id": "-syhbB_0ViS1",
        "outputId": "fbc0b083-e775-4f8d-cb2b-ddd31c9b7465"
      },
      "outputs": [
        {
          "output_type": "stream",
          "name": "stdout",
          "text": [
            "Looking in indexes: https://pypi.org/simple, https://us-python.pkg.dev/colab-wheels/public/simple/\n",
            "Collecting g2p_en\n",
            "  Downloading g2p_en-2.1.0-py3-none-any.whl (3.1 MB)\n",
            "\u001b[2K     \u001b[90m━━━━━━━━━━━━━━━━━━━━━━━━━━━━━━━━━━━━━━━━\u001b[0m \u001b[32m3.1/3.1 MB\u001b[0m \u001b[31m37.3 MB/s\u001b[0m eta \u001b[36m0:00:00\u001b[0m\n",
            "\u001b[?25hRequirement already satisfied: numpy>=1.13.1 in /usr/local/lib/python3.8/dist-packages (from g2p_en) (1.21.6)\n",
            "Requirement already satisfied: inflect>=0.3.1 in /usr/local/lib/python3.8/dist-packages (from g2p_en) (2.1.0)\n",
            "Collecting distance>=0.1.3\n",
            "  Downloading Distance-0.1.3.tar.gz (180 kB)\n",
            "\u001b[2K     \u001b[90m━━━━━━━━━━━━━━━━━━━━━━━━━━━━━━━━━━━━━━\u001b[0m \u001b[32m180.3/180.3 KB\u001b[0m \u001b[31m21.4 MB/s\u001b[0m eta \u001b[36m0:00:00\u001b[0m\n",
            "\u001b[?25h  Preparing metadata (setup.py) ... \u001b[?25l\u001b[?25hdone\n",
            "Requirement already satisfied: nltk>=3.2.4 in /usr/local/lib/python3.8/dist-packages (from g2p_en) (3.7)\n",
            "Requirement already satisfied: click in /usr/local/lib/python3.8/dist-packages (from nltk>=3.2.4->g2p_en) (7.1.2)\n",
            "Requirement already satisfied: joblib in /usr/local/lib/python3.8/dist-packages (from nltk>=3.2.4->g2p_en) (1.2.0)\n",
            "Requirement already satisfied: regex>=2021.8.3 in /usr/local/lib/python3.8/dist-packages (from nltk>=3.2.4->g2p_en) (2022.6.2)\n",
            "Requirement already satisfied: tqdm in /usr/local/lib/python3.8/dist-packages (from nltk>=3.2.4->g2p_en) (4.64.1)\n",
            "Building wheels for collected packages: distance\n",
            "  Building wheel for distance (setup.py) ... \u001b[?25l\u001b[?25hdone\n",
            "  Created wheel for distance: filename=Distance-0.1.3-py3-none-any.whl size=16275 sha256=05e4a02a3a522d4bfe29ba72aeaae04ed31725363e5054554a6e5eae95abe993\n",
            "  Stored in directory: /root/.cache/pip/wheels/fb/a8/64/6edcab63ec51512a87cacf9b3563c711ad6b7b05d61b704493\n",
            "Successfully built distance\n",
            "Installing collected packages: distance, g2p_en\n",
            "Successfully installed distance-0.1.3 g2p_en-2.1.0\n"
          ]
        }
      ],
      "source": [
        "!pip install g2p_en"
      ]
    },
    {
      "cell_type": "code",
      "execution_count": 6,
      "metadata": {
        "colab": {
          "base_uri": "https://localhost:8080/",
          "height": 1000
        },
        "id": "9oSGC9KvKLBI",
        "outputId": "738eadb7-029b-47ea-8af0-f2bf7bca1be4"
      },
      "outputs": [
        {
          "output_type": "stream",
          "name": "stdout",
          "text": [
            "Looking in indexes: https://pypi.org/simple, https://us-python.pkg.dev/colab-wheels/public/simple/\n",
            "Collecting vocaltractlab\n",
            "  Downloading VocalTractLab-0.4.29.tar.gz (6.7 MB)\n",
            "\u001b[2K     \u001b[90m━━━━━━━━━━━━━━━━━━━━━━━━━━━━━━━━━━━━━━━━\u001b[0m \u001b[32m6.7/6.7 MB\u001b[0m \u001b[31m55.3 MB/s\u001b[0m eta \u001b[36m0:00:00\u001b[0m\n",
            "\u001b[?25h  Installing build dependencies ... \u001b[?25l\u001b[?25hdone\n",
            "  Getting requirements to build wheel ... \u001b[?25l\u001b[?25hdone\n",
            "  Installing backend dependencies ... \u001b[?25l\u001b[?25hdone\n",
            "  Preparing metadata (pyproject.toml) ... \u001b[?25l\u001b[?25hdone\n",
            "Collecting matplotlib>=3.4.3\n",
            "  Downloading matplotlib-3.6.2-cp38-cp38-manylinux_2_12_x86_64.manylinux2010_x86_64.whl (9.4 MB)\n",
            "\u001b[2K     \u001b[90m━━━━━━━━━━━━━━━━━━━━━━━━━━━━━━━━━━━━━━━━\u001b[0m \u001b[32m9.4/9.4 MB\u001b[0m \u001b[31m57.4 MB/s\u001b[0m eta \u001b[36m0:00:00\u001b[0m\n",
            "\u001b[?25hCollecting beautifulsoup4>=4.11.1\n",
            "  Downloading beautifulsoup4-4.11.1-py3-none-any.whl (128 kB)\n",
            "\u001b[2K     \u001b[90m━━━━━━━━━━━━━━━━━━━━━━━━━━━━━━━━━━━━━━\u001b[0m \u001b[32m128.2/128.2 KB\u001b[0m \u001b[31m13.4 MB/s\u001b[0m eta \u001b[36m0:00:00\u001b[0m\n",
            "\u001b[?25hRequirement already satisfied: pandas>=1.3.2 in /usr/local/lib/python3.8/dist-packages (from vocaltractlab) (1.3.5)\n",
            "Requirement already satisfied: librosa>=0.8.1 in /usr/local/lib/python3.8/dist-packages (from vocaltractlab) (0.8.1)\n",
            "Collecting praat-parselmouth>=0.4.0\n",
            "  Downloading praat_parselmouth-0.4.3-cp38-cp38-manylinux_2_12_x86_64.manylinux2010_x86_64.whl (10.7 MB)\n",
            "\u001b[2K     \u001b[90m━━━━━━━━━━━━━━━━━━━━━━━━━━━━━━━━━━━━━━━━\u001b[0m \u001b[32m10.7/10.7 MB\u001b[0m \u001b[31m54.2 MB/s\u001b[0m eta \u001b[36m0:00:00\u001b[0m\n",
            "\u001b[?25hRequirement already satisfied: numpy in /usr/local/lib/python3.8/dist-packages (from vocaltractlab) (1.21.6)\n",
            "Requirement already satisfied: tqdm>=4.62.1 in /usr/local/lib/python3.8/dist-packages (from vocaltractlab) (4.64.1)\n",
            "Collecting soupsieve>1.2\n",
            "  Downloading soupsieve-2.3.2.post1-py3-none-any.whl (37 kB)\n",
            "Requirement already satisfied: soundfile>=0.10.2 in /usr/local/lib/python3.8/dist-packages (from librosa>=0.8.1->vocaltractlab) (0.11.0)\n",
            "Requirement already satisfied: decorator>=3.0.0 in /usr/local/lib/python3.8/dist-packages (from librosa>=0.8.1->vocaltractlab) (4.4.2)\n",
            "Requirement already satisfied: resampy>=0.2.2 in /usr/local/lib/python3.8/dist-packages (from librosa>=0.8.1->vocaltractlab) (0.4.2)\n",
            "Requirement already satisfied: packaging>=20.0 in /usr/local/lib/python3.8/dist-packages (from librosa>=0.8.1->vocaltractlab) (21.3)\n",
            "Requirement already satisfied: scipy>=1.0.0 in /usr/local/lib/python3.8/dist-packages (from librosa>=0.8.1->vocaltractlab) (1.7.3)\n",
            "Requirement already satisfied: joblib>=0.14 in /usr/local/lib/python3.8/dist-packages (from librosa>=0.8.1->vocaltractlab) (1.2.0)\n",
            "Requirement already satisfied: numba>=0.43.0 in /usr/local/lib/python3.8/dist-packages (from librosa>=0.8.1->vocaltractlab) (0.56.4)\n",
            "Requirement already satisfied: pooch>=1.0 in /usr/local/lib/python3.8/dist-packages (from librosa>=0.8.1->vocaltractlab) (1.6.0)\n",
            "Requirement already satisfied: audioread>=2.0.0 in /usr/local/lib/python3.8/dist-packages (from librosa>=0.8.1->vocaltractlab) (3.0.0)\n",
            "Requirement already satisfied: scikit-learn!=0.19.0,>=0.14.0 in /usr/local/lib/python3.8/dist-packages (from librosa>=0.8.1->vocaltractlab) (1.0.2)\n",
            "Requirement already satisfied: python-dateutil>=2.7 in /usr/local/lib/python3.8/dist-packages (from matplotlib>=3.4.3->vocaltractlab) (2.8.2)\n",
            "Collecting fonttools>=4.22.0\n",
            "  Downloading fonttools-4.38.0-py3-none-any.whl (965 kB)\n",
            "\u001b[2K     \u001b[90m━━━━━━━━━━━━━━━━━━━━━━━━━━━━━━━━━━━━━━\u001b[0m \u001b[32m965.4/965.4 KB\u001b[0m \u001b[31m60.9 MB/s\u001b[0m eta \u001b[36m0:00:00\u001b[0m\n",
            "\u001b[?25hRequirement already satisfied: cycler>=0.10 in /usr/local/lib/python3.8/dist-packages (from matplotlib>=3.4.3->vocaltractlab) (0.11.0)\n",
            "Requirement already satisfied: pyparsing>=2.2.1 in /usr/local/lib/python3.8/dist-packages (from matplotlib>=3.4.3->vocaltractlab) (3.0.9)\n",
            "Requirement already satisfied: pillow>=6.2.0 in /usr/local/lib/python3.8/dist-packages (from matplotlib>=3.4.3->vocaltractlab) (7.1.2)\n",
            "Requirement already satisfied: kiwisolver>=1.0.1 in /usr/local/lib/python3.8/dist-packages (from matplotlib>=3.4.3->vocaltractlab) (1.4.4)\n",
            "Collecting contourpy>=1.0.1\n",
            "  Downloading contourpy-1.0.6-cp38-cp38-manylinux_2_17_x86_64.manylinux2014_x86_64.whl (295 kB)\n",
            "\u001b[2K     \u001b[90m━━━━━━━━━━━━━━━━━━━━━━━━━━━━━━━━━━━━━━━\u001b[0m \u001b[32m296.0/296.0 KB\u001b[0m \u001b[31m1.9 MB/s\u001b[0m eta \u001b[36m0:00:00\u001b[0m\n",
            "\u001b[?25hRequirement already satisfied: pytz>=2017.3 in /usr/local/lib/python3.8/dist-packages (from pandas>=1.3.2->vocaltractlab) (2022.7)\n",
            "Requirement already satisfied: importlib-metadata in /usr/local/lib/python3.8/dist-packages (from numba>=0.43.0->librosa>=0.8.1->vocaltractlab) (5.2.0)\n",
            "Requirement already satisfied: setuptools in /usr/local/lib/python3.8/dist-packages (from numba>=0.43.0->librosa>=0.8.1->vocaltractlab) (57.4.0)\n",
            "Requirement already satisfied: llvmlite<0.40,>=0.39.0dev0 in /usr/local/lib/python3.8/dist-packages (from numba>=0.43.0->librosa>=0.8.1->vocaltractlab) (0.39.1)\n",
            "Requirement already satisfied: requests>=2.19.0 in /usr/local/lib/python3.8/dist-packages (from pooch>=1.0->librosa>=0.8.1->vocaltractlab) (2.25.1)\n",
            "Requirement already satisfied: appdirs>=1.3.0 in /usr/local/lib/python3.8/dist-packages (from pooch>=1.0->librosa>=0.8.1->vocaltractlab) (1.4.4)\n",
            "Requirement already satisfied: six>=1.5 in /usr/local/lib/python3.8/dist-packages (from python-dateutil>=2.7->matplotlib>=3.4.3->vocaltractlab) (1.15.0)\n",
            "Requirement already satisfied: threadpoolctl>=2.0.0 in /usr/local/lib/python3.8/dist-packages (from scikit-learn!=0.19.0,>=0.14.0->librosa>=0.8.1->vocaltractlab) (3.1.0)\n",
            "Requirement already satisfied: cffi>=1.0 in /usr/local/lib/python3.8/dist-packages (from soundfile>=0.10.2->librosa>=0.8.1->vocaltractlab) (1.15.1)\n",
            "Requirement already satisfied: pycparser in /usr/local/lib/python3.8/dist-packages (from cffi>=1.0->soundfile>=0.10.2->librosa>=0.8.1->vocaltractlab) (2.21)\n",
            "Requirement already satisfied: idna<3,>=2.5 in /usr/local/lib/python3.8/dist-packages (from requests>=2.19.0->pooch>=1.0->librosa>=0.8.1->vocaltractlab) (2.10)\n",
            "Requirement already satisfied: chardet<5,>=3.0.2 in /usr/local/lib/python3.8/dist-packages (from requests>=2.19.0->pooch>=1.0->librosa>=0.8.1->vocaltractlab) (4.0.0)\n",
            "Requirement already satisfied: certifi>=2017.4.17 in /usr/local/lib/python3.8/dist-packages (from requests>=2.19.0->pooch>=1.0->librosa>=0.8.1->vocaltractlab) (2022.12.7)\n",
            "Requirement already satisfied: urllib3<1.27,>=1.21.1 in /usr/local/lib/python3.8/dist-packages (from requests>=2.19.0->pooch>=1.0->librosa>=0.8.1->vocaltractlab) (1.24.3)\n",
            "Requirement already satisfied: zipp>=0.5 in /usr/local/lib/python3.8/dist-packages (from importlib-metadata->numba>=0.43.0->librosa>=0.8.1->vocaltractlab) (3.11.0)\n",
            "Building wheels for collected packages: vocaltractlab\n",
            "  Building wheel for vocaltractlab (pyproject.toml) ... \u001b[?25l\u001b[?25hdone\n",
            "  Created wheel for vocaltractlab: filename=VocalTractLab-0.4.29-cp38-cp38-linux_x86_64.whl size=9082373 sha256=4febd984745b2c8bf34d80d44ae78faf41f13220d5c2ec89ca2c22eeeebfe618\n",
            "  Stored in directory: /root/.cache/pip/wheels/5f/83/37/a7cb330a234cc594f989c5edf53dc368bacbed505c30789f0e\n",
            "Successfully built vocaltractlab\n",
            "Installing collected packages: soupsieve, praat-parselmouth, fonttools, contourpy, matplotlib, beautifulsoup4, vocaltractlab\n",
            "  Attempting uninstall: matplotlib\n",
            "    Found existing installation: matplotlib 3.2.2\n",
            "    Uninstalling matplotlib-3.2.2:\n",
            "      Successfully uninstalled matplotlib-3.2.2\n",
            "  Attempting uninstall: beautifulsoup4\n",
            "    Found existing installation: beautifulsoup4 4.6.3\n",
            "    Uninstalling beautifulsoup4-4.6.3:\n",
            "      Successfully uninstalled beautifulsoup4-4.6.3\n",
            "Successfully installed beautifulsoup4-4.11.1 contourpy-1.0.6 fonttools-4.38.0 matplotlib-3.6.2 praat-parselmouth-0.4.3 soupsieve-2.3.2.post1 vocaltractlab-0.4.29\n"
          ]
        },
        {
          "output_type": "display_data",
          "data": {
            "application/vnd.colab-display-data+json": {
              "pip_warning": {
                "packages": [
                  "matplotlib",
                  "mpl_toolkits"
                ]
              }
            }
          },
          "metadata": {}
        }
      ],
      "source": [
        "!pip install vocaltractlab"
      ]
    },
    {
      "cell_type": "code",
      "execution_count": null,
      "metadata": {
        "colab": {
          "base_uri": "https://localhost:8080/"
        },
        "id": "ORZsY8PfBnJ9",
        "outputId": "e890a1ac-c508-4b0b-a846-c0691d0c3692"
      },
      "outputs": [
        {
          "name": "stdout",
          "output_type": "stream",
          "text": [
            "Looking in indexes: https://pypi.org/simple, https://us-python.pkg.dev/colab-wheels/public/simple/\n",
            "Requirement already satisfied: ipython-autotime in /usr/local/lib/python3.8/dist-packages (0.3.1)\n",
            "Requirement already satisfied: ipython in /usr/local/lib/python3.8/dist-packages (from ipython-autotime) (7.9.0)\n",
            "Requirement already satisfied: pygments in /usr/local/lib/python3.8/dist-packages (from ipython->ipython-autotime) (2.6.1)\n",
            "Requirement already satisfied: pexpect in /usr/local/lib/python3.8/dist-packages (from ipython->ipython-autotime) (4.8.0)\n",
            "Requirement already satisfied: decorator in /usr/local/lib/python3.8/dist-packages (from ipython->ipython-autotime) (4.4.2)\n",
            "Requirement already satisfied: prompt-toolkit<2.1.0,>=2.0.0 in /usr/local/lib/python3.8/dist-packages (from ipython->ipython-autotime) (2.0.10)\n",
            "Requirement already satisfied: pickleshare in /usr/local/lib/python3.8/dist-packages (from ipython->ipython-autotime) (0.7.5)\n",
            "Requirement already satisfied: traitlets>=4.2 in /usr/local/lib/python3.8/dist-packages (from ipython->ipython-autotime) (5.7.1)\n",
            "Requirement already satisfied: backcall in /usr/local/lib/python3.8/dist-packages (from ipython->ipython-autotime) (0.2.0)\n",
            "Requirement already satisfied: jedi>=0.10 in /usr/local/lib/python3.8/dist-packages (from ipython->ipython-autotime) (0.18.2)\n",
            "Requirement already satisfied: setuptools>=18.5 in /usr/local/lib/python3.8/dist-packages (from ipython->ipython-autotime) (57.4.0)\n",
            "Requirement already satisfied: parso<0.9.0,>=0.8.0 in /usr/local/lib/python3.8/dist-packages (from jedi>=0.10->ipython->ipython-autotime) (0.8.3)\n",
            "Requirement already satisfied: wcwidth in /usr/local/lib/python3.8/dist-packages (from prompt-toolkit<2.1.0,>=2.0.0->ipython->ipython-autotime) (0.2.5)\n",
            "Requirement already satisfied: six>=1.9.0 in /usr/local/lib/python3.8/dist-packages (from prompt-toolkit<2.1.0,>=2.0.0->ipython->ipython-autotime) (1.15.0)\n",
            "Requirement already satisfied: ptyprocess>=0.5 in /usr/local/lib/python3.8/dist-packages (from pexpect->ipython->ipython-autotime) (0.7.0)\n",
            "The autotime extension is already loaded. To reload it, use:\n",
            "  %reload_ext autotime\n",
            "time: 6.66 s (started: 2022-12-29 05:30:07 +00:00)\n"
          ]
        }
      ],
      "source": [
        "!pip install ipython-autotime\n",
        "%load_ext autotime"
      ]
    },
    {
      "cell_type": "markdown",
      "metadata": {
        "id": "8kpDLgMgYvhM"
      },
      "source": [
        "#Imports"
      ]
    },
    {
      "cell_type": "code",
      "execution_count": 7,
      "metadata": {
        "id": "sWvi6Yd_GPEG"
      },
      "outputs": [],
      "source": [
        "import torch\n",
        "from torch import nn, ones, zeros\n",
        "from torch.nn.utils.rnn import pad_sequence"
      ]
    },
    {
      "cell_type": "code",
      "execution_count": 8,
      "metadata": {
        "id": "8cWcmQQ8Yt85"
      },
      "outputs": [],
      "source": [
        "#All imports\n",
        "import VocalTractLab as vtl\n",
        "import random\n",
        "import numpy as np\n",
        "import matplotlib.pyplot as plt;\n",
        "import soundfile as sf\n",
        "import urllib.request as URL\n",
        "from keras.preprocessing.text import Tokenizer\n",
        "import keras.preprocessing.sequence as kps\n",
        "import torch.cuda\n",
        "from torch import nn\n",
        "import pandas as pd\n",
        "import librosa\n",
        "import whisper\n",
        "from torch.utils.data import TensorDataset, DataLoader;"
      ]
    },
    {
      "cell_type": "code",
      "execution_count": 9,
      "metadata": {
        "id": "KJv_A9Kmh7Qb"
      },
      "outputs": [],
      "source": [
        "device = \"cuda\" if torch.cuda.is_available() else \"cpu\""
      ]
    },
    {
      "cell_type": "markdown",
      "metadata": {
        "id": "KGeAkmmmtD3M"
      },
      "source": [
        "#Data Preprocessing"
      ]
    },
    {
      "cell_type": "code",
      "execution_count": null,
      "metadata": {
        "id": "x4lftNws5H7t"
      },
      "outputs": [],
      "source": [
        "voice_df=pd.read_csv(\"cv-valid-train.csv\").to_numpy()\n",
        "audio_files=voice_df[:, 0]"
      ]
    },
    {
      "cell_type": "code",
      "execution_count": null,
      "metadata": {
        "id": "qLzoeM90Dbh4"
      },
      "outputs": [],
      "source": [
        "import librosa\n",
        "import warnings\n",
        "warnings.filterwarnings(\"ignore\")\n",
        "audio_data=[]\n",
        "c=0\n",
        "for f in audio_files:\n",
        "  print(c)\n",
        "  audio_data.append(librosa.load(\"/content/cv-valid-train/\"+f))\n",
        "  if(c>=10000):\n",
        "    break;\n",
        "  c+=1;\n"
      ]
    },
    {
      "cell_type": "code",
      "source": [
        "sr=22050\n",
        "audio_data_=[sample[0] for sample in audio_data]"
      ],
      "metadata": {
        "id": "V0fwjfy-5kgc"
      },
      "execution_count": null,
      "outputs": []
    },
    {
      "cell_type": "code",
      "source": [
        "from datetime import datetime\n",
        "datafilename=\"/content/drive/MyDrive/audio_data_{}.txt\".format(datetime.now())\n",
        "f=open(\"/content/drive/MyDrive/audio_data_{}.txt\".format(datetime.now()), \"x+\")"
      ],
      "metadata": {
        "id": "hahWlRB8609p"
      },
      "execution_count": null,
      "outputs": []
    },
    {
      "cell_type": "code",
      "source": [
        "audio_data_=np.array(audio_data_)"
      ],
      "metadata": {
        "id": "59zIAy072ifA"
      },
      "execution_count": null,
      "outputs": []
    },
    {
      "cell_type": "code",
      "source": [
        "np.save(\"/content/drive/MyDrive/audio_data1.txt\", audio_data_)"
      ],
      "metadata": {
        "id": "oKj62VY_2lYx"
      },
      "execution_count": null,
      "outputs": []
    },
    {
      "cell_type": "code",
      "source": [
        "print(audio_data_[1].shape)"
      ],
      "metadata": {
        "colab": {
          "base_uri": "https://localhost:8080/"
        },
        "id": "VKb1924y206M",
        "outputId": "a345e8a0-71a0-4897-e7a5-f2a4342bef39"
      },
      "execution_count": null,
      "outputs": [
        {
          "output_type": "stream",
          "name": "stdout",
          "text": [
            "(166698,)\n"
          ]
        }
      ]
    },
    {
      "cell_type": "code",
      "source": [
        "f=open(\"/content/drive/MyDrive/audio_data1.txt\", \"w\")\n",
        "s=\"\"\n",
        "for i in audio_data_:\n",
        "  for j in i:\n",
        "    s=s+str(j)+\" \"\n",
        "  s=s+\"\\n\"\n",
        "f.write(s)\n",
        "f.close()"
      ],
      "metadata": {
        "colab": {
          "base_uri": "https://localhost:8080/",
          "height": 235
        },
        "id": "2LaHnngk6_3v",
        "outputId": "bc79cd15-707d-4ca8-8eed-0178f880664c"
      },
      "execution_count": null,
      "outputs": [
        {
          "output_type": "error",
          "ename": "KeyboardInterrupt",
          "evalue": "ignored",
          "traceback": [
            "\u001b[0;31m---------------------------------------------------------------------------\u001b[0m",
            "\u001b[0;31mKeyboardInterrupt\u001b[0m                         Traceback (most recent call last)",
            "\u001b[0;32m<ipython-input-23-87135814a771>\u001b[0m in \u001b[0;36m<module>\u001b[0;34m\u001b[0m\n\u001b[1;32m      3\u001b[0m \u001b[0;32mfor\u001b[0m \u001b[0mi\u001b[0m \u001b[0;32min\u001b[0m \u001b[0maudio_data_\u001b[0m\u001b[0;34m:\u001b[0m\u001b[0;34m\u001b[0m\u001b[0;34m\u001b[0m\u001b[0m\n\u001b[1;32m      4\u001b[0m   \u001b[0;32mfor\u001b[0m \u001b[0mj\u001b[0m \u001b[0;32min\u001b[0m \u001b[0mi\u001b[0m\u001b[0;34m:\u001b[0m\u001b[0;34m\u001b[0m\u001b[0;34m\u001b[0m\u001b[0m\n\u001b[0;32m----> 5\u001b[0;31m     \u001b[0ms\u001b[0m\u001b[0;34m=\u001b[0m\u001b[0ms\u001b[0m\u001b[0;34m+\u001b[0m\u001b[0mstr\u001b[0m\u001b[0;34m(\u001b[0m\u001b[0mj\u001b[0m\u001b[0;34m)\u001b[0m\u001b[0;34m+\u001b[0m\u001b[0;34m\" \"\u001b[0m\u001b[0;34m\u001b[0m\u001b[0;34m\u001b[0m\u001b[0m\n\u001b[0m\u001b[1;32m      6\u001b[0m   \u001b[0ms\u001b[0m\u001b[0;34m=\u001b[0m\u001b[0ms\u001b[0m\u001b[0;34m+\u001b[0m\u001b[0;34m\"\\n\"\u001b[0m\u001b[0;34m\u001b[0m\u001b[0;34m\u001b[0m\u001b[0m\n\u001b[1;32m      7\u001b[0m \u001b[0mf\u001b[0m\u001b[0;34m.\u001b[0m\u001b[0mwrite\u001b[0m\u001b[0;34m(\u001b[0m\u001b[0ms\u001b[0m\u001b[0;34m)\u001b[0m\u001b[0;34m\u001b[0m\u001b[0;34m\u001b[0m\u001b[0m\n",
            "\u001b[0;31mKeyboardInterrupt\u001b[0m: "
          ]
        }
      ]
    },
    {
      "cell_type": "code",
      "source": [
        "print(len(s.split(\"\\n\")))"
      ],
      "metadata": {
        "colab": {
          "base_uri": "https://localhost:8080/"
        },
        "id": "zBzq0BtK2Ktu",
        "outputId": "649762b2-02ce-4e56-d6d0-8e6fd655a0a6"
      },
      "execution_count": null,
      "outputs": [
        {
          "output_type": "stream",
          "name": "stdout",
          "text": [
            "18\n"
          ]
        }
      ]
    },
    {
      "cell_type": "code",
      "source": [
        "audio_data_=np.load(\"/content/drive/MyDrive/audio_data.txt.npy\", allow_pickle=True)"
      ],
      "metadata": {
        "id": "pFxWTYLX4SxB"
      },
      "execution_count": 15,
      "outputs": []
    },
    {
      "cell_type": "code",
      "source": [],
      "metadata": {
        "id": "A71CBH_J9qFl"
      },
      "execution_count": 25,
      "outputs": []
    },
    {
      "cell_type": "code",
      "source": [
        "audio_data_=np.array([d for d in audio_data_ if len(d)<50000])"
      ],
      "metadata": {
        "colab": {
          "base_uri": "https://localhost:8080/"
        },
        "id": "Vi-PgoYs9BKg",
        "outputId": "dc6a0030-bff0-4b12-b8a9-b89933805445"
      },
      "execution_count": 38,
      "outputs": [
        {
          "output_type": "stream",
          "name": "stderr",
          "text": [
            "<ipython-input-38-e24f89ae6720>:1: VisibleDeprecationWarning: Creating an ndarray from ragged nested sequences (which is a list-or-tuple of lists-or-tuples-or ndarrays with different lengths or shapes) is deprecated. If you meant to do this, you must specify 'dtype=object' when creating the ndarray.\n",
            "  audio_data_=np.array([d for d in audio_data_ if len(d)<50000])\n"
          ]
        }
      ]
    },
    {
      "cell_type": "code",
      "source": [
        "print([len(d) for d in audio_data_])"
      ],
      "metadata": {
        "colab": {
          "base_uri": "https://localhost:8080/"
        },
        "id": "x10Nv14c-7Qd",
        "outputId": "90888687-dee4-44f0-9060-eebf510c8701"
      },
      "execution_count": 39,
      "outputs": [
        {
          "output_type": "stream",
          "name": "stdout",
          "text": [
            "[38103, 34928, 28577, 39161, 36515, 44453, 46041, 40220, 45512, 48158, 33869, 47099, 47628, 44453, 42866, 33869, 41807, 45512, 48158, 46570, 45512, 47099, 49745, 49216, 43395, 46041, 48687, 32282, 49745, 46570, 42866, 40749, 43395, 39690, 47099, 39690, 38103, 44982, 41807, 37574, 46041, 47099, 45512, 43395, 44453, 36515, 37044, 44453, 32282, 43395, 45512, 44453, 49745, 45512, 48158, 46041, 42866, 38103, 42336, 36515, 31752, 47099, 45512, 42866, 37574, 35457, 40220, 28577, 42866, 40220, 44453, 49745, 49745, 49745, 40749, 47099, 26990, 35457, 49745, 43395, 43395, 49745, 44453, 48158, 49745, 49745, 41807, 43395, 48687, 34928, 33869, 49745, 45512, 40220, 47099, 40220, 42866, 42336, 49745, 42866, 42866, 48158, 49745, 43395, 44453, 34928, 37044, 38632, 44453, 42336, 45512, 37574, 41807, 33869, 39161, 37574, 34928, 43395, 48158, 49745, 45512, 44453, 35986, 47099, 35986, 45512, 44453, 49216, 48158, 45512, 45512, 41278, 47099, 41278, 49216, 44453, 44982, 45512, 47099, 48158, 47099, 44453, 35986, 47628, 46041, 48158, 48158, 47099, 41278, 48687, 47099, 45512, 49745, 47099, 38632, 46570, 41807, 42866, 40749, 31223, 42866, 41807, 45512, 49745, 35457, 49216, 44453, 34928, 45512, 45512, 40220, 34928, 41278, 38103, 40220, 25931, 47099, 31223, 47099, 37574, 45512, 42866, 44982, 45512, 41807, 31223, 45512, 39161, 44453, 42336, 44453, 49216, 48158, 31223, 44453, 37044, 40220, 49745, 44453, 46570, 41807, 48158, 48158, 37574, 48158, 44453, 32811, 46041, 45512, 40220, 47628, 42866, 47628, 45512, 42336, 42866, 48158, 31223, 49216, 42866, 44453, 47099, 34928, 42866, 48158, 45512, 45512, 31223, 40220, 49745, 43395, 46041, 32282, 44982, 44982, 48158, 45512, 49745, 47099, 44453, 44453, 36515, 46570, 47099, 32811, 38103, 47099, 44453, 40220, 46570, 42866, 45512, 39161, 41807, 40220, 49216, 41807, 42866, 41807, 43395, 46570, 39690, 37574, 48687, 30694, 47628, 47099, 44453, 39161, 45512, 46570, 39161, 48158, 46570, 42866, 47099, 48158, 39161, 47099, 39161, 49745, 32811, 48687, 41807, 41807, 44982, 48158, 48158, 40220, 44453, 34928, 48158, 49216, 47099, 46570, 47628, 49745, 40220, 41807, 49745, 47099, 48158, 39161, 42866, 42866, 45512, 40220, 32282, 44453, 39161, 34928, 39161, 49745, 44453, 30694, 44453, 49745, 42336, 48158, 47099, 47099, 41807, 37044, 43924, 48687, 49745, 49745, 48158, 49745, 37574, 48158, 45512, 47099, 44982, 47099, 33869, 37574, 42866, 43395, 49216, 48158, 45512, 45512, 41807, 42866, 47099, 48158, 39161, 40220, 32282, 45512, 47628, 39161, 42866, 48158, 23285, 42866, 47099, 44982, 39690, 44453, 41807, 46041, 29636, 42866, 41807, 45512, 44453, 44982, 45512, 42866, 47099, 39161, 37574, 47628, 28577, 49745, 49745, 48158, 41278, 48158, 48158, 39161, 36515, 48158, 45512, 40220, 37574, 49745, 44453, 49216, 41807, 46570, 30165, 43924, 41807, 48687, 38632, 44453, 48158, 48687, 45512, 43395, 39161, 42866, 48158, 42866, 47628, 39161, 39690, 42866, 38632, 40220, 49216, 44453, 40220, 47099, 47099, 42866, 44453, 46570, 44982, 48158, 46570, 30694, 36515, 43924, 47628, 45512, 39161, 45512, 45512, 47099, 48158, 31223, 45512, 45512, 32282, 48158, 41807, 46570, 42866, 35986, 49745, 46041, 33869, 48158, 34928, 29106, 42866, 44453, 34928, 44453, 49745, 38632, 40220, 39161, 48687, 38103, 41807, 42866, 47628, 44453, 39161, 43395, 39161, 41807, 48687, 33869, 43924, 39690, 45512, 48158, 48158, 42866, 48158, 49745, 48158, 37574, 49216, 47099, 46041, 37044, 45512, 48158, 36515, 47099, 49745, 36515, 42866, 37044, 40749, 28577, 47099, 44453, 44453, 42866, 45512, 34928, 41807, 48158, 49745, 48158, 48158, 47099, 38103, 44982, 48158, 47628, 48158, 47099, 34928, 48158, 48158, 39161, 48687, 49745, 49216, 39161, 41807, 45512, 42336, 45512, 43924, 48158, 44453, 40220, 48158, 49745, 42336, 37574, 48158, 47099, 41807, 39161, 43395, 42866, 49216, 44453, 41807, 42866, 47099, 41807, 48158, 49216, 40220, 44982, 45512, 48158, 45512, 46570, 24873, 43924, 33869, 48687, 41807, 38103, 48158, 29636, 44453, 32282, 45512, 41807, 48158, 29636, 35986, 49745, 37574, 40220, 44453, 48158, 40220, 39161, 34928, 45512, 46041, 39690, 41807, 42336, 42336, 48158, 48158, 47099, 36515, 42866, 49216, 45512, 48158, 40220, 44453, 39690, 43395, 42866, 47099, 48158, 44453, 45512, 49745, 36515, 36515, 45512, 37574, 36515, 31752, 49745, 42866, 41807, 48158, 49745, 47099, 36515, 32811, 46570, 48158, 38632, 38632, 45512, 38632, 36515, 38632, 42866, 42866, 35457, 49745, 49216, 48158, 31223, 48158, 39161, 47099, 40220, 38632, 37574, 48158, 48158, 42866, 42336, 26990, 45512, 46041, 44453, 32282, 48158, 49216, 47099, 45512, 39161, 47099, 38632, 48687, 33340, 48158, 44453, 49216, 49745, 42866, 38103, 41807, 45512, 49745, 32282, 35986, 48158, 48158, 39161, 49745, 42336, 42866, 49745, 40220, 41807, 40220, 41807, 40220, 49745, 48687, 34928, 47099, 41807, 37574, 35457, 48687, 49745, 45512, 48158, 48687, 47628, 42866, 43395, 37574, 46041, 49745, 49745, 44453, 42866, 40220, 41278, 48687, 48158, 45512, 47099, 35457, 43924, 48158, 34398, 44453, 42866, 44453, 41807, 48687, 41278, 48687, 25931, 46041, 49745, 39161, 48158]\n"
          ]
        }
      ]
    },
    {
      "cell_type": "code",
      "source": [
        "audio_data_=audio_data_[:100]"
      ],
      "metadata": {
        "id": "dyzcemfmUJpL"
      },
      "execution_count": 40,
      "outputs": []
    },
    {
      "cell_type": "code",
      "execution_count": 41,
      "metadata": {
        "id": "_NgBwUelsJxG"
      },
      "outputs": [],
      "source": [
        "critic_audio_train_input=torch.tensor(kps.data_utils.pad_sequences(audio_data_, padding=\"post\")[:]);\n",
        "critic_audio_train_labels=torch.ones(critic_audio_train_input.size()[0])\n",
        "critic_train_dataset=TensorDataset(critic_audio_train_input.float(), critic_audio_train_labels.long())\n",
        "critic_train_dataloader=DataLoader(critic_train_dataset, batch_size=32, num_workers=2)"
      ]
    },
    {
      "cell_type": "code",
      "source": [
        "print(critic_audio_train_input.size())"
      ],
      "metadata": {
        "colab": {
          "base_uri": "https://localhost:8080/"
        },
        "id": "OGDJ09YdWWaQ",
        "outputId": "24023a6e-18ea-4ea2-8bdc-eea502338f46"
      },
      "execution_count": 42,
      "outputs": [
        {
          "output_type": "stream",
          "name": "stdout",
          "text": [
            "torch.Size([100, 49745])\n"
          ]
        }
      ]
    },
    {
      "cell_type": "code",
      "source": [
        "np.save(\"/content/drive/MyDrive/audio_data_padded\", critic_audio_train_input.numpy())"
      ],
      "metadata": {
        "id": "ftpH5Vkb4_Rj"
      },
      "execution_count": null,
      "outputs": []
    },
    {
      "cell_type": "code",
      "execution_count": null,
      "metadata": {
        "id": "wsgQ-Oll9LvY"
      },
      "outputs": [],
      "source": [
        "#Switching to other method\n",
        "wikipedia_sentence_file=open(\"/content/drive/MyDrive/wikisent2.txt\", \"r\")\n",
        "wikipedia_sentence_text=wikipedia_sentence_file.read().split(\"\\n\")\n",
        "wikipedia_sentence_characters=[list(sentence) for sentence in wikipedia_sentence_text]\n",
        "wikipedia_letter_tokenizer=Tokenizer()\n",
        "wikipedia_letter_tokenizer.fit_on_texts(wikipedia_sentence_characters, filters=\"!\\\"#$%&()*+,-./:;<=>?@[\\\\]^_`{|}~\\t\\n'0123456789\")\n",
        "tokenized_sentences=wikipedia_letter_tokenizer.texts_to_sequences(wikipedia_sentence_characters, )\n",
        "tokenized_sentences=kps.data_utils.pad_sequences(tokenized_sentences, padding=\"post\")[:]"
      ]
    },
    {
      "cell_type": "code",
      "execution_count": 43,
      "metadata": {
        "id": "hSB1fwe_tKv-"
      },
      "outputs": [],
      "source": [
        "#Download cmudict\n",
        "dictionary_url=\"https://github.com/cmusphinx/cmudict/raw/master/\"\n",
        "dictionary_fileName=\"cmudict.dict\"\n",
        "URL.urlretrieve(dictionary_url+dictionary_fileName, dictionary_fileName)\n",
        "dict_file=\"/content/\"+dictionary_fileName"
      ]
    },
    {
      "cell_type": "code",
      "execution_count": 44,
      "metadata": {
        "id": "J6uJtXqAtbqE",
        "colab": {
          "base_uri": "https://localhost:8080/"
        },
        "outputId": "57f20118-9dff-4fe8-d1ce-983d62a67c4e"
      },
      "outputs": [
        {
          "output_type": "stream",
          "name": "stdout",
          "text": [
            "[[\"'bout\", 'B', 'AW1', 'T'], [\"'cause\", 'K', 'AH0', 'Z'], [\"'course\", 'K', 'AO1', 'R', 'S'], [\"'cuse\", 'K', 'Y', 'UW1', 'Z'], [\"'em\", 'AH0', 'M'], [\"'frisco\", 'F', 'R', 'IH1', 'S', 'K', 'OW0'], [\"'gain\", 'G', 'EH1', 'N'], [\"'kay\", 'K', 'EY1'], [\"'m\", 'AH0', 'M'], [\"'n\", 'AH0', 'N'], [\"'round\", 'R', 'AW1', 'N', 'D'], [\"'s\", 'EH1', 'S'], [\"'til\", 'T', 'IH1', 'L'], [\"'tis\", 'T', 'IH1', 'Z'], [\"'twas\", 'T', 'W', 'AH1', 'Z'], ['a', 'AH0'], ['a(2)', 'EY1'], [\"a's\", 'EY1', 'Z'], ['a.', 'EY1'], [\"a.'s\", 'EY1', 'Z'], ['a.d.', 'EY2', 'D', 'IY1'], ['a.m.', 'EY2', 'EH1', 'M'], ['a.s', 'EY1', 'Z'], ['aaa', 'T', 'R', 'IH2', 'P', 'AH0', 'L', 'EY1'], ['aaberg', 'AA1', 'B', 'ER0', 'G'], ['aachen', 'AA1', 'K', 'AH0', 'N'], ['aachener', 'AA1', 'K', 'AH0', 'N', 'ER0'], ['aaker', 'AA1', 'K', 'ER0'], ['aalborg', 'AO1', 'L', 'B', 'AO0', 'R', 'G', '#', 'place,', 'danish'], ['aalborg(2)', 'AA1', 'L', 'B', 'AO0', 'R', 'G'], ['aalburg', 'AE1', 'L', 'B', 'ER0', 'G', '#', 'place,', 'dutch'], ['aalen', 'AE1', 'L', 'AH0', 'N', '#', 'place,', 'german'], ['aalen(2)', 'AA1', 'L', 'AH0', 'N'], ['aaliyah', 'AA2', 'L', 'IY1', 'AA2'], ['aalseth', 'AA1', 'L', 'S', 'EH0', 'TH'], ['aalsmeer', 'AA1', 'L', 'S', 'M', 'IH0', 'R', '#', 'place,', 'dutch'], ['aalto', 'AA1', 'L', 'T', 'OW2', '#', 'name,', 'finnish'], ['aamodt', 'AA1', 'M', 'AH0', 'T'], ['aancor', 'AA1', 'N', 'K', 'AO2', 'R'], ['aardema', 'AA0', 'R', 'D', 'EH1', 'M', 'AH0'], ['aardvark', 'AA1', 'R', 'D', 'V', 'AA2', 'R', 'K'], ['aardvarks', 'AA1', 'R', 'D', 'V', 'AA2', 'R', 'K', 'S'], ['aargh', 'AA1', 'R', 'G'], ['aarhus', 'AA2', 'HH', 'UW1', 'S'], ['aaron', 'EH1', 'R', 'AH0', 'N'], [\"aaron's\", 'EH1', 'R', 'AH0', 'N', 'Z'], ['aarons', 'EH1', 'R', 'AH0', 'N', 'Z'], ['aaronson', 'EH1', 'R', 'AH0', 'N', 'S', 'AH0', 'N'], ['aaronson(2)', 'AA1', 'R', 'AH0', 'N', 'S', 'AH0', 'N'], [\"aaronson's\", 'EH1', 'R', 'AH0', 'N', 'S', 'AH0', 'N', 'Z'], [\"aaronson's(2)\", 'AA1', 'R', 'AH0', 'N', 'S', 'AH0', 'N', 'Z'], ['aarti', 'AA1', 'R', 'T', 'IY2'], ['aase', 'AA1', 'S'], ['aasen', 'AA1', 'S', 'AH0', 'N'], ['ab', 'AE1', 'B'], ['ab(2)', 'EY1', 'B', 'IY1'], ['aba', 'EY2', 'B', 'IY2', 'EY1'], ['ababa', 'AH0', 'B', 'AA1', 'B', 'AH0'], ['ababa(2)', 'AA1', 'B', 'AH0', 'B', 'AH0'], ['abacha', 'AE1', 'B', 'AH0', 'K', 'AH0'], ['aback', 'AH0', 'B', 'AE1', 'K'], ['abaco', 'AE1', 'B', 'AH0', 'K', 'OW2'], ['abacus', 'AE1', 'B', 'AH0', 'K', 'AH0', 'S'], ['abad', 'AH0', 'B', 'AA1', 'D'], ['abadaka', 'AH0', 'B', 'AE1', 'D', 'AH0', 'K', 'AH0'], ['abadi', 'AH0', 'B', 'AE1', 'D', 'IY0'], ['abadie', 'AH0', 'B', 'AE1', 'D', 'IY0'], ['abair', 'AH0', 'B', 'EH1', 'R'], ['abalkin', 'AH0', 'B', 'AA1', 'L', 'K', 'IH0', 'N'], ['abalone', 'AE2', 'B', 'AH0', 'L', 'OW1', 'N', 'IY0'], ['abalones', 'AE2', 'B', 'AH0', 'L', 'OW1', 'N', 'IY0', 'Z'], ['abalos', 'AA0', 'B', 'AA1', 'L', 'OW0', 'Z'], ['abandon', 'AH0', 'B', 'AE1', 'N', 'D', 'AH0', 'N'], ['abandoned', 'AH0', 'B', 'AE1', 'N', 'D', 'AH0', 'N', 'D'], ['abandoning', 'AH0', 'B', 'AE1', 'N', 'D', 'AH0', 'N', 'IH0', 'NG'], ['abandonment', 'AH0', 'B', 'AE1', 'N', 'D', 'AH0', 'N', 'M', 'AH0', 'N', 'T'], ['abandonments', 'AH0', 'B', 'AE1', 'N', 'D', 'AH0', 'N', 'M', 'AH0', 'N', 'T', 'S'], ['abandons', 'AH0', 'B', 'AE1', 'N', 'D', 'AH0', 'N', 'Z'], ['abanto', 'AH0', 'B', 'AE1', 'N', 'T', 'OW0'], ['abarca', 'AH0', 'B', 'AA1', 'R', 'K', 'AH0'], ['abare', 'AA0', 'B', 'AA1', 'R', 'IY0'], ['abascal', 'AE1', 'B', 'AH0', 'S', 'K', 'AH0', 'L'], ['abash', 'AH0', 'B', 'AE1', 'SH'], ['abashed', 'AH0', 'B', 'AE1', 'SH', 'T'], ['abasia', 'AH0', 'B', 'EY1', 'ZH', 'Y', 'AH0'], ['abate', 'AH0', 'B', 'EY1', 'T'], ['abated', 'AH0', 'B', 'EY1', 'T', 'IH0', 'D'], ['abatement', 'AH0', 'B', 'EY1', 'T', 'M', 'AH0', 'N', 'T'], ['abatements', 'AH0', 'B', 'EY1', 'T', 'M', 'AH0', 'N', 'T', 'S'], ['abates', 'AH0', 'B', 'EY1', 'T', 'S'], ['abating', 'AH0', 'B', 'EY1', 'T', 'IH0', 'NG'], ['abattoir', 'AE2', 'B', 'AH0', 'T', 'W', 'AA1', 'R'], ['abba', 'AE1', 'B', 'AH0'], ['abbado', 'AH0', 'B', 'AA1', 'D', 'OW0'], ['abbas', 'AH0', 'B', 'AA1', 'S'], ['abbasi', 'AA0', 'B', 'AA1', 'S', 'IY0'], ['abbate', 'AA1', 'B', 'EY0', 'T'], ['abbatiello', 'AA0', 'B', 'AA0', 'T', 'IY0', 'EH1', 'L', 'OW0'], ['abbe', 'AE1', 'B', 'IY0'], ['abbe(2)', 'AE0', 'B', 'EY1'], ['abbenhaus', 'AE1', 'B', 'AH0', 'N', 'HH', 'AW2', 'S'], ['abbett', 'AH0', 'B', 'EH1', 'T'], ['abbeville', 'AE1', 'B', 'V', 'IH0', 'L'], ['abbey', 'AE1', 'B', 'IY0'], [\"abbey's\", 'AE1', 'B', 'IY0', 'Z'], ['abbie', 'AE1', 'B', 'IY0'], ['abbitt', 'AE1', 'B', 'IH0', 'T'], ['abbot', 'AE1', 'B', 'AH0', 'T'], ['abbotstown', 'AE1', 'B', 'AH0', 'T', 'S', 'T', 'AW1', 'N'], ['abbott', 'AE1', 'B', 'AH0', 'T'], [\"abbott's\", 'AE1', 'B', 'AH0', 'T', 'S'], ['abbottstown', 'AE1', 'B', 'AH0', 'T', 'S', 'T', 'AW1', 'N'], ['abboud', 'AH0', 'B', 'UW1', 'D'], ['abboud(2)', 'AH0', 'B', 'AW1', 'D'], ['abbreviate', 'AH0', 'B', 'R', 'IY1', 'V', 'IY0', 'EY2', 'T'], ['abbreviated', 'AH0', 'B', 'R', 'IY1', 'V', 'IY0', 'EY2', 'T', 'IH0', 'D'], ['abbreviates', 'AH0', 'B', 'R', 'IY1', 'V', 'IY0', 'EY2', 'T', 'S'], ['abbreviating', 'AH0', 'B', 'R', 'IY1', 'V', 'IY0', 'EY2', 'T', 'IH0', 'NG'], ['abbreviation', 'AH0', 'B', 'R', 'IY2', 'V', 'IY0', 'EY1', 'SH', 'AH0', 'N'], ['abbreviations', 'AH0', 'B', 'R', 'IY2', 'V', 'IY0', 'EY1', 'SH', 'AH0', 'N', 'Z'], ['abbruzzese', 'AA0', 'B', 'R', 'UW0', 'T', 'S', 'EY1', 'Z', 'IY0'], ['abbs', 'AE1', 'B', 'Z'], ['abby', 'AE1', 'B', 'IY0'], ['abc', 'EY1', 'B', 'IY2', 'S', 'IY2'], [\"abc's\", 'EY1', 'B', 'IY2', 'S', 'IY2', 'Z'], ['abco', 'AE1', 'B', 'K', 'OW0'], ['abcotek', 'AE1', 'B', 'K', 'OW0', 'T', 'EH2', 'K'], ['abcs', 'EY1', 'B', 'IY2', 'S', 'IY2', 'Z'], ['abd', 'EY2', 'B', 'IY2', 'D', 'IY1'], ['abdalla', 'AE2', 'B', 'D', 'AE1', 'L', 'AH0'], ['abdallah', 'AE2', 'B', 'D', 'AE1', 'L', 'AH0'], ['abdel', 'AE1', 'B', 'D', 'EH2', 'L'], ['abdella', 'AE2', 'B', 'D', 'EH1', 'L', 'AH0'], ['abdicate', 'AE1', 'B', 'D', 'AH0', 'K', 'EY2', 'T'], ['abdicated', 'AE1', 'B', 'D', 'AH0', 'K', 'EY2', 'T', 'IH0', 'D'], ['abdicates', 'AE1', 'B', 'D', 'AH0', 'K', 'EY2', 'T', 'S'], ['abdicating', 'AE1', 'B', 'D', 'IH0', 'K', 'EY2', 'T', 'IH0', 'NG'], ['abdication', 'AE2', 'B', 'D', 'IH0', 'K', 'EY1', 'SH', 'AH0', 'N'], ['abdnor', 'AE1', 'B', 'D', 'N', 'ER0'], ['abdo', 'AE1', 'B', 'D', 'OW0'], ['abdollah', 'AE2', 'B', 'D', 'AA1', 'L', 'AH0'], ['abdomen', 'AE0', 'B', 'D', 'OW1', 'M', 'AH0', 'N'], ['abdomen(2)', 'AE1', 'B', 'D', 'AH0', 'M', 'AH0', 'N'], ['abdominal', 'AE0', 'B', 'D', 'AA1', 'M', 'AH0', 'N', 'AH0', 'L'], ['abdominal(2)', 'AH0', 'B', 'D', 'AA1', 'M', 'AH0', 'N', 'AH0', 'L'], ['abduct', 'AE0', 'B', 'D', 'AH1', 'K', 'T'], ['abducted', 'AE0', 'B', 'D', 'AH1', 'K', 'T', 'IH0', 'D'], ['abducted(2)', 'AH0', 'B', 'D', 'AH1', 'K', 'T', 'IH0', 'D'], ['abductee', 'AE0', 'B', 'D', 'AH2', 'K', 'T', 'IY1'], ['abductees', 'AE0', 'B', 'D', 'AH2', 'K', 'T', 'IY1', 'Z'], ['abducting', 'AE0', 'B', 'D', 'AH1', 'K', 'T', 'IH0', 'NG'], ['abducting(2)', 'AH0', 'B', 'D', 'AH1', 'K', 'T', 'IH0', 'NG'], ['abduction', 'AE0', 'B', 'D', 'AH1', 'K', 'SH', 'AH0', 'N'], ['abduction(2)', 'AH0', 'B', 'D', 'AH1', 'K', 'SH', 'AH0', 'N'], ['abductions', 'AE0', 'B', 'D', 'AH1', 'K', 'SH', 'AH0', 'N', 'Z'], ['abductions(2)', 'AH0', 'B', 'D', 'AH1', 'K', 'SH', 'AH0', 'N', 'Z'], ['abductor', 'AE0', 'B', 'D', 'AH1', 'K', 'T', 'ER0'], ['abductor(2)', 'AH0', 'B', 'D', 'AH1', 'K', 'T', 'ER0'], ['abductors', 'AE0', 'B', 'D', 'AH1', 'K', 'T', 'ER0', 'Z'], ['abductors(2)', 'AH0', 'B', 'D', 'AH1', 'K', 'T', 'ER0', 'Z'], ['abducts', 'AE0', 'B', 'D', 'AH1', 'K', 'T', 'S'], ['abdul', 'AE0', 'B', 'D', 'UW1', 'L'], ['abdulaziz', 'AE0', 'B', 'D', 'UW2', 'L', 'AH0', 'Z', 'IY1', 'Z'], ['abdulla', 'AA0', 'B', 'D', 'UW1', 'L', 'AH0'], ['abdullah', 'AE2', 'B', 'D', 'AH1', 'L', 'AH0'], ['abe', 'EY1', 'B'], ['abed', 'AH0', 'B', 'EH1', 'D'], ['abedi', 'AH0', 'B', 'EH1', 'D', 'IY0'], ['abee', 'AH0', 'B', 'IY1'], ['abel', 'EY1', 'B', 'AH0', 'L'], ['abela', 'AA0', 'B', 'EH1', 'L', 'AH0'], ['abelard', 'AE1', 'B', 'IH0', 'L', 'ER0', 'D'], ['abele', 'AH0', 'B', 'EH1', 'L'], ['abeles', 'AH0', 'B', 'EH1', 'L', 'Z'], ['abeles(2)', 'EY1', 'B', 'AH0', 'L', 'IY2', 'Z'], ['abell', 'EY1', 'B', 'AH0', 'L'], ['abella', 'AH0', 'B', 'EH1', 'L', 'AH0'], ['abeln', 'AE1', 'B', 'IH0', 'L', 'N'], ['abelow', 'AE1', 'B', 'AH0', 'L', 'OW0'], ['abels', 'EY1', 'B', 'AH0', 'L', 'Z'], ['abelson', 'AE1', 'B', 'IH0', 'L', 'S', 'AH0', 'N'], ['abend', 'AE1', 'B', 'EH0', 'N', 'D'], ['abend(2)', 'AH0', 'B', 'EH1', 'N', 'D'], ['abendroth', 'AE1', 'B', 'IH0', 'N', 'D', 'R', 'AO0', 'TH'], ['aber', 'EY1', 'B', 'ER0'], ['abercrombie', 'AE2', 'B', 'ER0', 'K', 'R', 'AA1', 'M', 'B', 'IY0'], ['aberdeen', 'AE1', 'B', 'ER0', 'D', 'IY2', 'N'], ['aberford', 'EY1', 'B', 'ER0', 'F', 'ER0', 'D'], ['aberg', 'AE1', 'B', 'ER0', 'G'], ['aberle', 'AE1', 'B', 'ER0', 'AH0', 'L'], ['aberle(2)', 'AE1', 'B', 'ER0', 'L'], ['abermin', 'AE1', 'B', 'ER0', 'M', 'IH0', 'N'], ['abernathy', 'AE1', 'B', 'ER0', 'N', 'AE2', 'TH', 'IY0'], ['abernethy', 'AE1', 'B', 'ER0', 'N', 'EH2', 'TH', 'IY0'], ['aberrant', 'AE0', 'B', 'EH1', 'R', 'AH0', 'N', 'T'], ['aberration', 'AE2', 'B', 'ER0', 'EY1', 'SH', 'AH0', 'N'], ['aberrational', 'AE2', 'B', 'ER0', 'EY1', 'SH', 'AH0', 'N', 'AH0', 'L'], ['aberrations', 'AE2', 'B', 'ER0', 'EY1', 'SH', 'AH0', 'N', 'Z'], ['abert', 'AE1', 'B', 'ER0', 'T'], ['abet', 'AH0', 'B', 'EH1', 'T'], ['abetted', 'AH0', 'B', 'EH1', 'T', 'IH0', 'D'], ['abetting', 'AH0', 'B', 'EH1', 'T', 'IH0', 'NG'], ['abex', 'EY1', 'B', 'EH0', 'K', 'S'], ['abeyance', 'AH0', 'B', 'EY1', 'AH0', 'N', 'S'], ['abeyta', 'AA0', 'B', 'EY1', 'T', 'AH0'], ['abhor', 'AE0', 'B', 'HH', 'AO1', 'R'], ['abhorred', 'AH0', 'B', 'HH', 'AO1', 'R', 'D'], ['abhorrence', 'AH0', 'B', 'HH', 'AO1', 'R', 'AH0', 'N', 'S'], ['abhorrent', 'AE0', 'B', 'HH', 'AO1', 'R', 'AH0', 'N', 'T'], ['abhors', 'AH0', 'B', 'HH', 'AO1', 'R', 'Z'], ['abiam', 'EY1', 'B', 'IY0', 'AH0', 'M'], [\"abiam's\", 'EY1', 'B', 'IY0', 'AH0', 'M', 'Z'], ['abid', 'EY1', 'B', 'IH0', 'D'], ['abide', 'AH0', 'B', 'AY1', 'D'], ['abided', 'AH0', 'B', 'AY1', 'D', 'IH0', 'D'], ['abides', 'AH0', 'B', 'AY1', 'D', 'Z'], ['abiding', 'AH0', 'B', 'AY1', 'D', 'IH0', 'NG'], ['abidjan', 'AE0', 'B', 'IH0', 'JH', 'AA1', 'N'], ['abie', 'AE1', 'B', 'IY0'], ['abigail', 'AE1', 'B', 'AH0', 'G', 'EY2', 'L'], ['abila', 'AA0', 'B', 'IY1', 'L', 'AH0'], ['abilene', 'AE1', 'B', 'IH0', 'L', 'IY2', 'N'], ['abilities', 'AH0', 'B', 'IH1', 'L', 'AH0', 'T', 'IY2', 'Z'], ['ability', 'AH0', 'B', 'IH1', 'L', 'AH0', 'T', 'IY2'], ['abimael', 'AE2', 'B', 'IH0', 'M', 'EY1', 'L'], ['abimaels', 'AE2', 'B', 'IH0', 'M', 'EY1', 'L', 'Z'], ['abingdon', 'AE1', 'B', 'IH0', 'NG', 'D', 'AH0', 'N'], ['abington', 'AE1', 'B', 'IH0', 'NG', 'T', 'AH0', 'N'], ['abio', 'AA1', 'B', 'IY0', 'OW0'], ['abiola', 'AA2', 'B', 'IY0', 'OW1', 'L', 'AH0'], [\"abiola's\", 'AA2', 'B', 'IY0', 'OW1', 'L', 'AH0', 'Z'], ['abiomed', 'EY0', 'B', 'IY1', 'AH0', 'M', 'EH0', 'D'], ['abiquiu', 'AH0', 'B', 'IH1', 'K', 'Y', 'UW0'], ['abitibi', 'AE2', 'B', 'IH0', 'T', 'IY1', 'B', 'IY0'], ['abitz', 'AE1', 'B', 'IH0', 'T', 'S'], ['abject', 'AE1', 'B', 'JH', 'EH0', 'K', 'T'], ['abkhazia', 'AE0', 'B', 'K', 'AA1', 'Z', 'Y', 'AH0'], ['abkhazia(2)', 'AE0', 'B', 'K', 'AE1', 'Z', 'Y', 'AH0'], ['abkhazian', 'AE0', 'B', 'K', 'AA1', 'Z', 'IY0', 'AH0', 'N'], ['abkhazian(2)', 'AE0', 'B', 'K', 'AE1', 'Z', 'IY0', 'AH0', 'N'], ['abkhazian(3)', 'AE0', 'B', 'K', 'AA1', 'Z', 'Y', 'AH0', 'N'], ['abkhazian(4)', 'AE0', 'B', 'K', 'AE1', 'Z', 'Y', 'AH0', 'N'], ['abkhazians', 'AE0', 'B', 'K', 'AA1', 'Z', 'IY0', 'AH0', 'N', 'Z'], ['abkhazians(2)', 'AE0', 'B', 'K', 'AE1', 'Z', 'IY0', 'AH0', 'N', 'Z'], ['ablate', 'AH2', 'B', 'L', 'EY1', 'T'], ['ablation', 'AH2', 'B', 'L', 'EY1', 'SH', 'AH0', 'N'], ['ablaze', 'AH0', 'B', 'L', 'EY1', 'Z'], ['able', 'EY1', 'B', 'AH0', 'L'], ['able-bodied', 'EY1', 'B', 'AH0', 'L', 'B', 'AA1', 'D', 'IY0', 'D'], ['abled', 'EY1', 'B', 'AH0', 'L', 'D'], ['abler', 'EY1', 'B', 'AH0', 'L', 'ER0'], ['abler(2)', 'EY1', 'B', 'L', 'ER0'], ['ables', 'EY1', 'B', 'AH0', 'L', 'Z'], ['ablest', 'EY1', 'B', 'AH0', 'L', 'S', 'T'], ['ablest(2)', 'EY1', 'B', 'L', 'AH0', 'S', 'T'], ['abloom', 'AH0', 'B', 'L', 'UW1', 'M'], ['ablution', 'AH0', 'B', 'L', 'UW1', 'SH', 'AH0', 'N'], ['ablutions', 'AH0', 'B', 'L', 'UW1', 'SH', 'AH0', 'N', 'Z'], ['ably', 'EY1', 'B', 'L', 'IY0'], ['abnegation', 'AE2', 'B', 'N', 'EH0', 'G', 'EY1', 'SH', 'AH0', 'N'], ['abner', 'AE1', 'B', 'N', 'ER0'], ['abney', 'AE1', 'B', 'N', 'IY0'], ['abnormal', 'AE0', 'B', 'N', 'AO1', 'R', 'M', 'AH0', 'L'], ['abnormalities', 'AE2', 'B', 'N', 'AO0', 'R', 'M', 'AE1', 'L', 'AH0', 'T', 'IY0', 'Z'], ['abnormality', 'AE2', 'B', 'N', 'AO0', 'R', 'M', 'AE1', 'L', 'AH0', 'T', 'IY0'], ['abnormally', 'AE0', 'B', 'N', 'AO1', 'R', 'M', 'AH0', 'L', 'IY0'], ['abo', 'AA1', 'B', 'OW0'], [\"abo's\", 'AA1', 'B', 'OW0', 'Z'], ['aboard', 'AH0', 'B', 'AO1', 'R', 'D'], ['abode', 'AH0', 'B', 'OW1', 'D'], ['abohalima', 'AE0', 'B', 'AH0', 'HH', 'AH0', 'L', 'IY1', 'M', 'AH0'], ['abolish', 'AH0', 'B', 'AA1', 'L', 'IH0', 'SH'], ['abolished', 'AH0', 'B', 'AA1', 'L', 'IH0', 'SH', 'T'], ['abolishes', 'AH0', 'B', 'AA1', 'L', 'IH0', 'SH', 'IH0', 'Z'], ['abolishing', 'AH0', 'B', 'AA1', 'L', 'IH0', 'SH', 'IH0', 'NG'], ['abolition', 'AE2', 'B', 'AH0', 'L', 'IH1', 'SH', 'AH0', 'N'], ['abolitionism', 'AE2', 'B', 'AH0', 'L', 'IH1', 'SH', 'AH0', 'N', 'IH2', 'Z', 'AH0', 'M'], ['abolitionist', 'AE2', 'B', 'AH0', 'L', 'IH1', 'SH', 'AH0', 'N', 'AH0', 'S', 'T'], ['abolitionists', 'AE2', 'B', 'AH0', 'L', 'IH1', 'SH', 'AH0', 'N', 'AH0', 'S', 'T', 'S'], ['abominable', 'AH0', 'B', 'AA1', 'M', 'AH0', 'N', 'AH0', 'B', 'AH0', 'L'], ['abomination', 'AH0', 'B', 'AA2', 'M', 'AH0', 'N', 'EY1', 'SH', 'AH0', 'N'], ['abominations', 'AH0', 'B', 'AA2', 'M', 'AH0', 'N', 'EY1', 'SH', 'AH0', 'N', 'Z'], ['abood', 'AH0', 'B', 'UW1', 'D'], ['aboodi', 'AH0', 'B', 'UW1', 'D', 'IY0'], ['abor', 'AH0', 'B', 'AO1', 'R'], ['aboriginal', 'AE2', 'B', 'ER0', 'IH1', 'JH', 'AH0', 'N', 'AH0', 'L'], ['aborigine', 'AE2', 'B', 'ER0', 'IH1', 'JH', 'AH0', 'N', 'IY0'], ['aborigines', 'AE2', 'B', 'ER0', 'IH1', 'JH', 'AH0', 'N', 'IY0', 'Z'], ['aborn', 'AH0', 'B', 'AO1', 'R', 'N'], ['abort', 'AH0', 'B', 'AO1', 'R', 'T'], ['aborted', 'AH0', 'B', 'AO1', 'R', 'T', 'IH0', 'D'], ['abortifacient', 'AH0', 'B', 'AO2', 'R', 'T', 'AH0', 'F', 'EY1', 'SH', 'AH0', 'N', 'T'], ['abortifacients', 'AH0', 'B', 'AO2', 'R', 'T', 'AH0', 'F', 'EY1', 'SH', 'AH0', 'N', 'T', 'S'], ['aborting', 'AH0', 'B', 'AO1', 'R', 'T', 'IH0', 'NG'], ['abortion', 'AH0', 'B', 'AO1', 'R', 'SH', 'AH0', 'N'], ['abortionist', 'AH0', 'B', 'AO1', 'R', 'SH', 'AH0', 'N', 'IH0', 'S', 'T'], ['abortionists', 'AH0', 'B', 'AO1', 'R', 'SH', 'AH0', 'N', 'IH0', 'S', 'T', 'S'], ['abortions', 'AH0', 'B', 'AO1', 'R', 'SH', 'AH0', 'N', 'Z'], ['abortive', 'AH0', 'B', 'AO1', 'R', 'T', 'IH0', 'V'], ['aborts', 'AH0', 'B', 'AO1', 'R', 'T', 'S'], ['abott', 'AH0', 'B', 'AA1', 'T'], ['abou', 'AH0', 'B', 'UW1'], ['aboud', 'AA0', 'B', 'UW1', 'D'], ['abouhalima', 'AA2', 'B', 'UW0', 'HH', 'AA0', 'L', 'IY1', 'M', 'AH0'], [\"abouhalima's\", 'AA2', 'B', 'UW0', 'HH', 'AA0', 'L', 'IY1', 'M', 'AH0', 'Z'], ['abound', 'AH0', 'B', 'AW1', 'N', 'D'], ['abounded', 'AH0', 'B', 'AW1', 'N', 'D', 'IH0', 'D'], ['abounding', 'AH0', 'B', 'AW1', 'N', 'D', 'IH0', 'NG'], ['abounds', 'AH0', 'B', 'AW1', 'N', 'D', 'Z'], ['about', 'AH0', 'B', 'AW1', 'T'], [\"about's\", 'AH0', 'B', 'AW1', 'T', 'S'], ['above', 'AH0', 'B', 'AH1', 'V'], [\"above's\", 'AH0', 'B', 'AH1', 'V', 'Z'], ['aboveboard', 'AH0', 'B', 'AH1', 'V', 'B', 'AO2', 'R', 'D'], ['abplanalp', 'AE1', 'B', 'P', 'L', 'AH0', 'N', 'AE0', 'L', 'P'], ['abra', 'AA1', 'B', 'R', 'AH0'], ['abracadabra', 'AE2', 'B', 'R', 'AH0', 'K', 'AH0', 'D', 'AE1', 'B', 'R', 'AH0'], ['abrade', 'AE0', 'B', 'R', 'EY1', 'D'], ['abraded', 'AE0', 'B', 'R', 'EY1', 'D', 'IH0', 'D'], ['abrades', 'AE0', 'B', 'R', 'EY1', 'D', 'Z'], ['abraham', 'EY1', 'B', 'R', 'AH0', 'HH', 'AE2', 'M'], ['abrahamian', 'AE2', 'B', 'R', 'AH0', 'HH', 'EY1', 'M', 'IY0', 'AH0', 'N'], ['abrahams', 'EY1', 'B', 'R', 'AH0', 'HH', 'AE2', 'M', 'Z'], ['abrahamsen', 'AE0', 'B', 'R', 'AH0', 'HH', 'AE1', 'M', 'S', 'AH0', 'N'], ['abrahamson', 'AH0', 'B', 'R', 'AE1', 'HH', 'AH0', 'M', 'S', 'AH0', 'N'], ['abram', 'AH0', 'B', 'R', 'AE1', 'M'], [\"abram's\", 'EY1', 'B', 'R', 'AH0', 'M', 'Z'], ['abramczyk', 'AA1', 'B', 'R', 'AH0', 'M', 'CH', 'IH0', 'K'], ['abramo', 'AA0', 'B', 'R', 'AA1', 'M', 'OW0'], ['abramovitz', 'AH0', 'B', 'R', 'AA1', 'M', 'AH0', 'V', 'IH0', 'T', 'S'], ['abramowicz', 'AH0', 'B', 'R', 'AA1', 'M', 'AH0', 'V', 'IH0', 'CH'], ['abramowitz', 'AH0', 'B', 'R', 'AA1', 'M', 'AH0', 'W', 'IH0', 'T', 'S'], ['abrams', 'EY1', 'B', 'R', 'AH0', 'M', 'Z'], [\"abrams's\", 'EY1', 'B', 'R', 'AH0', 'M', 'Z', 'IH0', 'Z'], ['abramson', 'EY1', 'B', 'R', 'AH0', 'M', 'S', 'AH0', 'N'], ['abrasion', 'AH0', 'B', 'R', 'EY1', 'ZH', 'AH0', 'N'], ['abrasions', 'AH0', 'B', 'R', 'EY1', 'ZH', 'AH0', 'N', 'Z'], ['abrasive', 'AH0', 'B', 'R', 'EY1', 'S', 'IH0', 'V'], ['abrasives', 'AH0', 'B', 'R', 'EY1', 'S', 'IH0', 'V', 'Z'], ['abraxa', 'AH0', 'B', 'R', 'AE1', 'K', 'S', 'AH0'], [\"abraxa's\", 'AH0', 'B', 'R', 'AE1', 'K', 'S', 'AH0', 'Z'], ['abraxas', 'AH0', 'B', 'R', 'AE1', 'K', 'S', 'AH0', 'Z'], ['abreast', 'AH0', 'B', 'R', 'EH1', 'S', 'T'], ['abrego', 'AA0', 'B', 'R', 'EH1', 'G', 'OW0'], ['abreu', 'AH0', 'B', 'R', 'UW1'], ['abridge', 'AH0', 'B', 'R', 'IH1', 'JH'], ['abridged', 'AH0', 'B', 'R', 'IH1', 'JH', 'D'], ['abridgement', 'AH0', 'B', 'R', 'IH1', 'JH', 'M', 'AH0', 'N', 'T'], ['abridges', 'AH0', 'B', 'R', 'IH1', 'JH', 'AH0', 'Z'], ['abridging', 'AH0', 'B', 'R', 'IH1', 'JH', 'IH0', 'NG'], ['abril', 'AH0', 'B', 'R', 'IH1', 'L'], ['abroad', 'AH0', 'B', 'R', 'AO1', 'D'], ['abrogate', 'AE1', 'B', 'R', 'AH0', 'G', 'EY2', 'T'], ['abrogated', 'AE1', 'B', 'R', 'AH0', 'G', 'EY2', 'T', 'IH0', 'D'], ['abrogating', 'AE1', 'B', 'R', 'AH0', 'G', 'EY2', 'T', 'IH0', 'NG'], ['abrogation', 'AE2', 'B', 'R', 'AH0', 'G', 'EY1', 'SH', 'AH0', 'N'], ['abrol', 'AH0', 'B', 'R', 'OW1', 'L'], ['abron', 'AH0', 'B', 'R', 'AA1', 'N'], ['abrupt', 'AH0', 'B', 'R', 'AH1', 'P', 'T'], ['abruptly', 'AH0', 'B', 'R', 'AH1', 'P', 'T', 'L', 'IY0'], ['abruptness', 'AH0', 'B', 'R', 'AH1', 'P', 'T', 'N', 'AH0', 'S'], ['abrutyn', 'EY1', 'B', 'R', 'UW0', 'T', 'IH0', 'N'], ['abruzzese', 'AA0', 'B', 'R', 'UW0', 'T', 'S', 'EY1', 'Z', 'IY0'], ['abruzzo', 'AA0', 'B', 'R', 'UW1', 'Z', 'OW0'], ['abs', 'EY1', 'B', 'IY1', 'EH1', 'S'], ['abs(2)', 'AE1', 'B', 'Z'], ['absalom', 'AE1', 'B', 'S', 'AH0', 'L', 'AH0', 'M'], ['absaraka', 'AE0', 'B', 'S', 'AA1', 'R', 'AH0', 'K', 'AH0'], ['abscam', 'AE1', 'B', 'S', 'K', 'AE0', 'M'], ['abscess', 'AE1', 'B', 'S', 'EH2', 'S'], ['abscond', 'AE0', 'B', 'S', 'K', 'AA1', 'N', 'D'], ['absconded', 'AE0', 'B', 'S', 'K', 'AA1', 'N', 'D', 'IH0', 'D'], ['absconding', 'AE0', 'B', 'S', 'K', 'AA1', 'N', 'D', 'IH0', 'NG'], ['absconds', 'AE0', 'B', 'S', 'K', 'AA1', 'N', 'D', 'Z'], ['absecon', 'AE1', 'B', 'S', 'AH0', 'K', 'AO0', 'N'], ['absence', 'AE1', 'B', 'S', 'AH0', 'N', 'S'], ['absences', 'AE1', 'B', 'S', 'AH0', 'N', 'S', 'IH0', 'Z'], ['absent', 'AE1', 'B', 'S', 'AH0', 'N', 'T'], ['absentee', 'AE2', 'B', 'S', 'AH0', 'N', 'T', 'IY1'], ['absenteeism', 'AE2', 'B', 'S', 'AH0', 'N', 'T', 'IY1', 'IH0', 'Z', 'AH0', 'M'], ['absentees', 'AE2', 'B', 'S', 'AH0', 'N', 'T', 'IY1', 'Z'], ['absentia', 'AE0', 'B', 'S', 'EH1', 'N', 'SH', 'AH0'], ['absher', 'AE1', 'B', 'SH', 'ER0'], ['abshier', 'AE1', 'B', 'SH', 'IY0', 'ER0'], ['abshire', 'AE1', 'B', 'SH', 'AY2', 'R'], ['absinthe', 'AE1', 'B', 'S', 'IH0', 'N', 'TH'], ['abso', 'AE1', 'B', 'S', 'OW0'], ['absolom', 'AE1', 'B', 'S', 'AH0', 'L', 'AH0', 'M'], ['absolut', 'AE2', 'B', 'S', 'AH0', 'L', 'UW1', 'T'], [\"absolut's\", 'AE2', 'B', 'S', 'AH0', 'L', 'UW1', 'T', 'S'], ['absolute', 'AE1', 'B', 'S', 'AH0', 'L', 'UW2', 'T'], ['absolutely', 'AE2', 'B', 'S', 'AH0', 'L', 'UW1', 'T', 'L', 'IY0'], ['absoluteness', 'AE1', 'B', 'S', 'AH0', 'L', 'UW2', 'T', 'N', 'AH0', 'S'], ['absolutes', 'AE1', 'B', 'S', 'AH0', 'L', 'UW2', 'T', 'S'], ['absolution', 'AE2', 'B', 'S', 'AH0', 'L', 'UW1', 'SH', 'AH0', 'N'], ['absolutism', 'AE1', 'B', 'S', 'AH0', 'L', 'UW2', 'T', 'IH2', 'Z', 'AH0', 'M'], ['absolutist', 'AE0', 'B', 'S', 'AH0', 'L', 'UW1', 'T', 'IH0', 'S', 'T'], ['absolve', 'AH0', 'B', 'Z', 'AA1', 'L', 'V'], ['absolve(2)', 'AE0', 'B', 'Z', 'AA1', 'L', 'V'], ['absolved', 'AH0', 'B', 'Z', 'AA1', 'L', 'V', 'D'], ['absolved(2)', 'AE0', 'B', 'Z', 'AA1', 'L', 'V', 'D'], ['absolves', 'AH0', 'B', 'Z', 'AA1', 'L', 'V', 'Z'], ['absolves(2)', 'AE0', 'B', 'Z', 'AA1', 'L', 'V', 'Z'], ['absolving', 'AH0', 'B', 'Z', 'AA1', 'L', 'V', 'IH0', 'NG'], ['absolving(2)', 'AE0', 'B', 'Z', 'AA1', 'L', 'V', 'IH0', 'NG'], ['absorb', 'AH0', 'B', 'Z', 'AO1', 'R', 'B'], ['absorbed', 'AH0', 'B', 'Z', 'AO1', 'R', 'B', 'D'], ['absorbency', 'AH0', 'B', 'Z', 'AO1', 'R', 'B', 'AH0', 'N', 'S', 'IY0'], ['absorbent', 'AH0', 'B', 'Z', 'AO1', 'R', 'B', 'AH0', 'N', 'T'], ['absorber', 'AH0', 'B', 'Z', 'AO1', 'R', 'B', 'ER0'], ['absorbers', 'AH0', 'B', 'Z', 'AO1', 'R', 'B', 'ER0', 'Z'], ['absorbing', 'AH0', 'B', 'Z', 'AO1', 'R', 'B', 'IH0', 'NG'], ['absorbs', 'AH0', 'B', 'Z', 'AO1', 'R', 'B', 'Z'], ['absorption', 'AH0', 'B', 'Z', 'AO1', 'R', 'P', 'SH', 'AH0', 'N'], ['absorption(2)', 'AH0', 'B', 'S', 'AO1', 'R', 'P', 'SH', 'AH0', 'N'], ['abstain', 'AH0', 'B', 'S', 'T', 'EY1', 'N'], ['abstain(2)', 'AE0', 'B', 'S', 'T', 'EY1', 'N'], ['abstained', 'AH0', 'B', 'S', 'T', 'EY1', 'N', 'D'], ['abstained(2)', 'AE0', 'B', 'S', 'T', 'EY1', 'N', 'D'], ['abstaining', 'AH0', 'B', 'S', 'T', 'EY1', 'N', 'IH0', 'NG'], ['abstaining(2)', 'AE0', 'B', 'S', 'T', 'EY1', 'N', 'IH0', 'NG'], ['abstention', 'AH0', 'B', 'S', 'T', 'EH1', 'N', 'CH', 'AH0', 'N'], ['abstention(2)', 'AE0', 'B', 'S', 'T', 'EH1', 'N', 'CH', 'AH0', 'N'], ['abstentions', 'AH0', 'B', 'S', 'T', 'EH1', 'N', 'CH', 'AH0', 'N', 'Z'], ['abstentions(2)', 'AE0', 'B', 'S', 'T', 'EH1', 'N', 'CH', 'AH0', 'N', 'Z'], ['abstinence', 'AE1', 'B', 'S', 'T', 'AH0', 'N', 'AH0', 'N', 'S'], ['abstinent', 'AE1', 'B', 'S', 'T', 'AH0', 'N', 'AH0', 'N', 'T'], ['abston', 'AE1', 'B', 'S', 'T', 'AH0', 'N'], ['abstract', 'AE0', 'B', 'S', 'T', 'R', 'AE1', 'K', 'T'], ['abstract(2)', 'AE1', 'B', 'S', 'T', 'R', 'AE2', 'K', 'T'], ['abstracted', 'AE1', 'B', 'S', 'T', 'R', 'AE2', 'K', 'T', 'IH0', 'D'], ['abstraction', 'AE0', 'B', 'S', 'T', 'R', 'AE1', 'K', 'SH', 'AH0', 'N'], ['abstractions', 'AE0', 'B', 'S', 'T', 'R', 'AE1', 'K', 'SH', 'AH0', 'N', 'Z'], ['abstracts', 'AE1', 'B', 'S', 'T', 'R', 'AE0', 'K', 'T', 'S'], ['abstruse', 'AH0', 'B', 'S', 'T', 'R', 'UW1', 'S'], ['absurd', 'AH0', 'B', 'S', 'ER1', 'D'], ['absurdist', 'AH0', 'B', 'S', 'ER1', 'D', 'IH0', 'S', 'T'], ['absurdities', 'AH0', 'B', 'S', 'ER1', 'D', 'AH0', 'T', 'IY0', 'Z'], ['absurdity', 'AH0', 'B', 'S', 'ER1', 'D', 'AH0', 'T', 'IY0'], ['absurdly', 'AH0', 'B', 'S', 'ER1', 'D', 'L', 'IY0'], ['abt', 'AE1', 'B', 'T'], ['abt(2)', 'EY1', 'B', 'IY1', 'T', 'IY1'], ['abts', 'AE1', 'B', 'T', 'S'], ['abts(2)', 'EY1', 'B', 'IY1', 'T', 'IY1', 'Z'], ['abts(3)', 'EY1', 'B', 'IY1', 'T', 'IY1', 'EH1', 'S'], ['abu', 'AE1', 'B', 'UW0'], ['abudrahm', 'AH0', 'B', 'AH1', 'D', 'R', 'AH0', 'M'], ['abuellah', 'AH0', 'B', 'W', 'EH1', 'L', 'AH0'], [\"abuellah's\", 'AH0', 'B', 'W', 'EH1', 'L', 'AH0', 'Z'], ['abuladze', 'AE2', 'B', 'Y', 'UW0', 'L', 'AE1', 'D', 'Z', 'IY0'], ['abundance', 'AH0', 'B', 'AH1', 'N', 'D', 'AH0', 'N', 'S'], ['abundant', 'AH0', 'B', 'AH1', 'N', 'D', 'AH0', 'N', 'T'], ['abundantly', 'AH0', 'B', 'AH1', 'N', 'D', 'AH0', 'N', 'T', 'L', 'IY0'], ['aburto', 'AH0', 'B', 'UH1', 'R', 'T', 'OW2'], [\"aburto's\", 'AH0', 'B', 'UH1', 'R', 'T', 'OW2', 'Z'], ['abuse', 'AH0', 'B', 'Y', 'UW1', 'S'], ['abuse(2)', 'AH0', 'B', 'Y', 'UW1', 'Z'], ['abused', 'AH0', 'B', 'Y', 'UW1', 'Z', 'D'], ['abuser', 'AH0', 'B', 'Y', 'UW1', 'Z', 'ER0'], ['abusers', 'AH0', 'B', 'Y', 'UW1', 'Z', 'ER0', 'Z'], ['abuses', 'AH0', 'B', 'Y', 'UW1', 'S', 'IH0', 'Z'], ['abuses(2)', 'AH0', 'B', 'Y', 'UW1', 'Z', 'IH0', 'Z'], ['abusing', 'AH0', 'B', 'Y', 'UW1', 'Z', 'IH0', 'NG'], ['abusive', 'AH0', 'B', 'Y', 'UW1', 'S', 'IH0', 'V'], ['abut', 'AH0', 'B', 'AH1', 'T'], ['abuts', 'AH0', 'B', 'AH1', 'T', 'S'], ['abutted', 'AH0', 'B', 'AH1', 'T', 'IH0', 'D'], ['abutting', 'AH0', 'B', 'AH1', 'T', 'IH0', 'NG'], ['abuzz', 'AH0', 'B', 'AH1', 'Z'], ['abysmal', 'AH0', 'B', 'IH1', 'Z', 'M', 'AH0', 'L'], ['abysmally', 'AH0', 'B', 'IH1', 'Z', 'M', 'AH0', 'L', 'IY0'], ['abyss', 'AH0', 'B', 'IH1', 'S'], ['abyssinia', 'AE0', 'B', 'S', 'IH1', 'N', 'IY2', 'AH0'], ['abyssinian', 'AE0', 'B', 'S', 'IH1', 'N', 'IY2', 'AH0', 'N'], ['abzug', 'AE1', 'B', 'Z', 'AH2', 'G'], ['abzug(2)', 'AE1', 'B', 'Z', 'UH2', 'G'], ['ac', 'EY1', 'S', 'IY1'], ['aca', 'AE1', 'K', 'AH0'], ['acacia', 'AH0', 'K', 'EY1', 'SH', 'AH0'], ['academe', 'AE1', 'K', 'AH0', 'D', 'IY2', 'M'], ['academia', 'AE2', 'K', 'AH0', 'D', 'IY1', 'M', 'IY0', 'AH0'], ['academic', 'AE2', 'K', 'AH0', 'D', 'EH1', 'M', 'IH0', 'K'], ['academically', 'AE2', 'K', 'AH0', 'D', 'EH1', 'M', 'IH0', 'K', 'L', 'IY0'], ['academician', 'AE2', 'K', 'AH0', 'D', 'AH0', 'M', 'IH1', 'SH', 'AH0', 'N'], ['academicians', 'AE2', 'K', 'AH0', 'D', 'AH0', 'M', 'IH1', 'SH', 'AH0', 'N', 'Z'], ['academicians(2)', 'AH0', 'K', 'AE2', 'D', 'AH0', 'M', 'IH1', 'SH', 'AH0', 'N', 'Z'], ['academics', 'AE2', 'K', 'AH0', 'D', 'EH1', 'M', 'IH0', 'K', 'S'], ['academies', 'AH0', 'K', 'AE1', 'D', 'AH0', 'M', 'IY0', 'Z'], ['academy', 'AH0', 'K', 'AE1', 'D', 'AH0', 'M', 'IY0'], [\"academy's\", 'AH0', 'K', 'AE1', 'D', 'AH0', 'M', 'IY0', 'Z'], ['acadia', 'AH0', 'K', 'EY1', 'D', 'IY0', 'AH0'], ['acaena', 'AH0', 'S', 'IY1', 'N', 'AH0'], ['acampo', 'AH0', 'K', 'AA1', 'M', 'P', 'OW0'], ['acampora', 'AH0', 'K', 'AE1', 'M', 'P', 'ER0', 'AH0'], ['acampsia', 'AH0', 'K', 'AE1', 'M', 'P', 'S', 'Y', 'AH0'], ['acantha', 'AA0', 'K', 'AA1', 'N', 'DH', 'AH0'], ['acapulco', 'AE2', 'K', 'AH0', 'P', 'UH1', 'L', 'K', 'OW0'], ['acary', 'AE1', 'K', 'ER0', 'IY0'], ['acc', 'AY2', 'S', 'IY2', 'S', 'IY1'], ['accardi', 'AA0', 'K', 'AA1', 'R', 'D', 'IY0'], ['accardo', 'AA0', 'K', 'AA1', 'R', 'D', 'OW0'], ['accede', 'AE0', 'K', 'S', 'IY1', 'D'], ['acceded', 'AE0', 'K', 'S', 'IY1', 'D', 'IH0', 'D'], ['accedes', 'AE0', 'K', 'S', 'IY1', 'D', 'Z'], ['acceding', 'AE0', 'K', 'S', 'IY1', 'D', 'IH0', 'NG'], ['accel', 'AH0', 'K', 'S', 'EH1', 'L'], ['accelerant', 'AE0', 'K', 'S', 'EH1', 'L', 'ER0', 'AH0', 'N', 'T'], ['accelerants', 'AE0', 'K', 'S', 'EH1', 'L', 'ER0', 'AH0', 'N', 'T', 'S'], ['accelerate', 'AE0', 'K', 'S', 'EH1', 'L', 'ER0', 'EY2', 'T'], ['accelerated', 'AE0', 'K', 'S', 'EH1', 'L', 'ER0', 'EY2', 'T', 'IH0', 'D'], ['accelerates', 'AE0', 'K', 'S', 'EH1', 'L', 'ER0', 'EY2', 'T', 'S'], ['accelerating', 'AE0', 'K', 'S', 'EH1', 'L', 'ER0', 'EY2', 'T', 'IH0', 'NG'], ['acceleration', 'AE2', 'K', 'S', 'EH2', 'L', 'ER0', 'EY1', 'SH', 'AH0', 'N'], ['accelerator', 'AE0', 'K', 'S', 'EH1', 'L', 'ER0', 'EY2', 'T', 'ER0'], ['accelerators', 'AE0', 'K', 'S', 'EH1', 'L', 'ER0', 'EY2', 'T', 'ER0', 'Z'], ['accelerometer', 'AE0', 'K', 'S', 'EH2', 'L', 'ER0', 'AA1', 'M', 'AH0', 'T', 'ER0'], ['accelerometers', 'AE0', 'K', 'S', 'EH2', 'L', 'ER0', 'AA1', 'M', 'AH0', 'T', 'ER0', 'Z'], ['accent', 'AH0', 'K', 'S', 'EH1', 'N', 'T'], ['accent(2)', 'AE1', 'K', 'S', 'EH2', 'N', 'T'], ['accented', 'AE1', 'K', 'S', 'EH0', 'N', 'T', 'IH0', 'D'], ['accenting', 'AE1', 'K', 'S', 'EH0', 'N', 'T', 'IH0', 'NG'], ['accents', 'AE1', 'K', 'S', 'EH0', 'N', 'T', 'S'], ['accentuate', 'AE0', 'K', 'S', 'EH1', 'N', 'CH', 'UW0', 'EY0', 'T'], ['accentuated', 'AE0', 'K', 'S', 'EH1', 'N', 'CH', 'UW0', 'EY2', 'T', 'IH0', 'D'], ['accentuates', 'AE0', 'K', 'S', 'EH1', 'N', 'CH', 'UW0', 'EY2', 'T', 'S'], ['accentuating', 'AE0', 'K', 'S', 'EH1', 'N', 'CH', 'UW0', 'EY2', 'T', 'IH0', 'NG'], ['accenture', 'AE0', 'K', 'S', 'EH1', 'N', 'CH', 'ER0'], ['accept', 'AE0', 'K', 'S', 'EH1', 'P', 'T'], ['accept(2)', 'AH0', 'K', 'S', 'EH1', 'P', 'T'], ['acceptability', 'AH0', 'K', 'S', 'EH2', 'P', 'T', 'AH0', 'B', 'IH1', 'L', 'AH0', 'T', 'IY0'], ['acceptable', 'AE0', 'K', 'S', 'EH1', 'P', 'T', 'AH0', 'B', 'AH0', 'L'], ['acceptable(2)', 'AH0', 'K', 'S', 'EH1', 'P', 'T', 'AH0', 'B', 'AH0', 'L'], ['acceptably', 'AE0', 'K', 'S', 'EH1', 'P', 'T', 'AH0', 'B', 'L', 'IY0'], ['acceptably(2)', 'AH0', 'K', 'S', 'EH1', 'P', 'T', 'AH0', 'B', 'L', 'IY0'], ['acceptance', 'AE0', 'K', 'S', 'EH1', 'P', 'T', 'AH0', 'N', 'S'], ['acceptance(2)', 'AH0', 'K', 'S', 'EH1', 'P', 'T', 'AH0', 'N', 'S'], ['acceptances', 'AE0', 'K', 'S', 'EH1', 'P', 'T', 'AH0', 'N', 'S', 'IH0', 'Z'], ['accepted', 'AE0', 'K', 'S', 'EH1', 'P', 'T', 'IH0', 'D'], ['accepted(2)', 'AH0', 'K', 'S', 'EH1', 'P', 'T', 'IH0', 'D'], ['accepting', 'AE0', 'K', 'S', 'EH1', 'P', 'T', 'IH0', 'NG'], ['accepting(2)', 'AH0', 'K', 'S', 'EH1', 'P', 'T', 'IH0', 'NG'], ['accepts', 'AE0', 'K', 'S', 'EH1', 'P', 'T', 'S'], ['access', 'AE1', 'K', 'S', 'EH2', 'S'], ['accessed', 'AE1', 'K', 'S', 'EH2', 'S', 'T'], ['accessibility', 'AE2', 'K', 'S', 'EH0', 'S', 'AH0', 'B', 'IH1', 'L', 'IH0', 'T', 'IY0'], ['accessible', 'AE0', 'K', 'S', 'EH1', 'S', 'AH0', 'B', 'AH0', 'L'], ['accessing', 'AE1', 'K', 'S', 'EH2', 'S', 'IH0', 'NG'], ['accession', 'AH0', 'K', 'S', 'EH1', 'SH', 'AH0', 'N'], ['accessories', 'AE0', 'K', 'S', 'EH1', 'S', 'ER0', 'IY0', 'Z'], ['accessorize', 'AE0', 'K', 'S', 'EH1', 'S', 'ER0', 'AY2', 'Z'], ['accessorized', 'AE0', 'K', 'S', 'EH1', 'S', 'ER0', 'AY2', 'Z', 'D'], ['accessory', 'AE0', 'K', 'S', 'EH1', 'S', 'ER0', 'IY0'], ['accetta', 'AA0', 'CH', 'EH1', 'T', 'AH0'], ['accident', 'AE1', 'K', 'S', 'AH0', 'D', 'AH0', 'N', 'T'], [\"accident's\", 'AE1', 'K', 'S', 'AH0', 'D', 'AH0', 'N', 'T', 'S'], ['accidental', 'AE2', 'K', 'S', 'AH0', 'D', 'EH1', 'N', 'T', 'AH0', 'L'], ['accidental(2)', 'AE2', 'K', 'S', 'AH0', 'D', 'EH1', 'N', 'AH0', 'L'], ['accidentally', 'AE2', 'K', 'S', 'AH0', 'D', 'EH1', 'N', 'T', 'AH0', 'L', 'IY0'], ['accidentally(2)', 'AE2', 'K', 'S', 'AH0', 'D', 'EH1', 'N', 'AH0', 'L', 'IY0'], ['accidently', 'AE1', 'K', 'S', 'AH0', 'D', 'AH0', 'N', 'T', 'L', 'IY0'], ['accidents', 'AE1', 'K', 'S', 'AH0', 'D', 'AH0', 'N', 'T', 'S'], ['accion', 'AE1', 'CH', 'IY0', 'AH0', 'N'], ['accival', 'AE1', 'S', 'IH0', 'V', 'AA2', 'L'], ['acclaim', 'AH0', 'K', 'L', 'EY1', 'M'], [\"acclaim's\", 'AH0', 'K', 'L', 'EY1', 'M', 'Z'], ['acclaimed', 'AH0', 'K', 'L', 'EY1', 'M', 'D'], ['acclaiming', 'AH0', 'K', 'L', 'EY1', 'M', 'IH0', 'NG'], ['acclaims', 'AH0', 'K', 'L', 'EY1', 'M', 'Z'], ['acclamation', 'AE2', 'K', 'L', 'AH0', 'M', 'EY1', 'SH', 'AH0', 'N'], ['acclimate', 'AE1', 'K', 'L', 'AH0', 'M', 'EY2', 'T'], ['acclimated', 'AE1', 'K', 'L', 'AH0', 'M', 'EY2', 'T', 'IH0', 'D'], ['acclimation', 'AE2', 'K', 'L', 'AH0', 'M', 'EY1', 'SH', 'AH0', 'N'], ['acco', 'AE1', 'K', 'OW0'], ['accokeek', 'AE1', 'K', 'OW0', 'K', 'IY0', 'K'], ['accola', 'AA0', 'K', 'OW1', 'L', 'AH0'], ['accolade', 'AE1', 'K', 'AH0', 'L', 'EY2', 'D'], ['accolades', 'AE1', 'K', 'AH0', 'L', 'EY2', 'D', 'Z'], ['accomando', 'AA0', 'K', 'OW0', 'M', 'AA1', 'N', 'D', 'OW0'], ['accommodate', 'AH0', 'K', 'AA1', 'M', 'AH0', 'D', 'EY2', 'T'], ['accommodated', 'AH0', 'K', 'AA1', 'M', 'AH0', 'D', 'EY2', 'T', 'IH0', 'D'], ['accommodates', 'AH0', 'K', 'AA1', 'M', 'AH0', 'D', 'EY2', 'T', 'S'], ['accommodating', 'AH0', 'K', 'AA1', 'M', 'AH0', 'D', 'EY2', 'T', 'IH0', 'NG'], ['accommodation', 'AH0', 'K', 'AA2', 'M', 'AH0', 'D', 'EY1', 'SH', 'AH0', 'N'], ['accommodations', 'AH0', 'K', 'AA2', 'M', 'AH0', 'D', 'EY1', 'SH', 'AH0', 'N', 'Z'], ['accommodative', 'AH0', 'K', 'AA1', 'M', 'AH0', 'D', 'EY2', 'T', 'IH0', 'V'], ['accompanied', 'AH0', 'K', 'AH1', 'M', 'P', 'AH0', 'N', 'IY0', 'D'], ['accompanies', 'AH0', 'K', 'AH1', 'M', 'P', 'AH0', 'N', 'IY0', 'Z'], ['accompaniment', 'AH0', 'K', 'AH1', 'M', 'P', 'N', 'IH0', 'M', 'AH0', 'N', 'T'], ['accompaniment(2)', 'AH0', 'K', 'AH1', 'M', 'P', 'N', 'IY0', 'M', 'AH0', 'N', 'T'], ['accompaniments', 'AH0', 'K', 'AH1', 'M', 'P', 'N', 'IH0', 'M', 'AH0', 'N', 'T', 'S'], ['accompaniments(2)', 'AH0', 'K', 'AH1', 'M', 'P', 'N', 'IY0', 'M', 'AH0', 'N', 'T', 'S'], ['accompanist', 'AH0', 'K', 'AH1', 'M', 'P', 'AH0', 'N', 'AH0', 'S', 'T'], ['accompany', 'AH0', 'K', 'AH1', 'M', 'P', 'AH0', 'N', 'IY0'], ['accompanying', 'AH0', 'K', 'AH1', 'M', 'P', 'AH0', 'N', 'IY0', 'IH0', 'NG'], ['accompli', 'AA2', 'K', 'AA1', 'M', 'P', 'L', 'IY0'], ['accompli(2)', 'AH0', 'K', 'AA1', 'M', 'P', 'L', 'IY0'], ['accomplice', 'AH0', 'K', 'AA1', 'M', 'P', 'L', 'AH0', 'S'], ['accomplices', 'AH0', 'K', 'AA1', 'M', 'P', 'L', 'AH0', 'S', 'AH0', 'Z'], ['accomplish', 'AH0', 'K', 'AA1', 'M', 'P', 'L', 'IH0', 'SH'], ['accomplished', 'AH0', 'K', 'AA1', 'M', 'P', 'L', 'IH0', 'SH', 'T'], ['accomplishes', 'AH0', 'K', 'AA1', 'M', 'P', 'L', 'IH0', 'SH', 'IH0', 'Z'], ['accomplishing', 'AH0', 'K', 'AA1', 'M', 'P', 'L', 'IH0', 'SH', 'IH0', 'NG'], ['accomplishment', 'AH0', 'K', 'AA1', 'M', 'P', 'L', 'IH0', 'SH', 'M', 'AH0', 'N', 'T'], ['accomplishments', 'AH0', 'K', 'AA1', 'M', 'P', 'L', 'IH0', 'SH', 'M', 'AH0', 'N', 'T', 'S'], ['accor', 'AE1', 'K', 'AO2', 'R'], [\"accor's\", 'AE1', 'K', 'ER0', 'Z'], ['accord', 'AH0', 'K', 'AO1', 'R', 'D'], [\"accord's\", 'AH0', 'K', 'AO1', 'R', 'D', 'Z'], ['accordance', 'AH0', 'K', 'AO1', 'R', 'D', 'AH0', 'N', 'S'], ['accorded', 'AH0', 'K', 'AO1', 'R', 'D', 'IH0', 'D'], ['according', 'AH0', 'K', 'AO1', 'R', 'D', 'IH0', 'NG'], ['accordingly', 'AH0', 'K', 'AO1', 'R', 'D', 'IH0', 'NG', 'L', 'IY0'], ['accordion', 'AH0', 'K', 'AO1', 'R', 'D', 'IY0', 'AH0', 'N'], ['accordions', 'AH0', 'K', 'AO1', 'R', 'D', 'IY0', 'AH0', 'N', 'Z'], ['accords', 'AH0', 'K', 'AO1', 'R', 'D', 'Z'], ['accost', 'AH0', 'K', 'AO1', 'S', 'T'], ['accosted', 'AH0', 'K', 'AA1', 'S', 'T', 'IH0', 'D'], ['accosting', 'AH0', 'K', 'AA1', 'S', 'T', 'IH0', 'NG'], ['account', 'AH0', 'K', 'AW1', 'N', 'T'], [\"account's\", 'AH0', 'K', 'AW1', 'N', 'T', 'S'], ['accountability', 'AH0', 'K', 'AW1', 'N', 'T', 'AH0', 'B', 'IH2', 'L', 'IH0', 'T', 'IY0'], ['accountability(2)', 'AH0', 'K', 'AW1', 'N', 'AH0', 'B', 'IH0', 'L', 'IH0', 'T', 'IY0'], ['accountable', 'AH0', 'K', 'AW1', 'N', 'T', 'AH0', 'B', 'AH0', 'L'], ['accountable(2)', 'AH0', 'K', 'AW1', 'N', 'AH0', 'B', 'AH0', 'L'], ['accountancy', 'AH0', 'K', 'AW1', 'N', 'T', 'AH0', 'N', 'S', 'IY0'], ['accountant', 'AH0', 'K', 'AW1', 'N', 'T', 'AH0', 'N', 'T'], [\"accountant's\", 'AH0', 'K', 'AW1', 'N', 'T', 'AH0', 'N', 'T', 'S'], ['accountants', 'AH0', 'K', 'AW1', 'N', 'T', 'AH0', 'N', 'T', 'S'], [\"accountants'\", 'AH0', 'K', 'AW1', 'N', 'T', 'AH0', 'N', 'T', 'S'], ['accounted', 'AH0', 'K', 'AW1', 'N', 'T', 'IH0', 'D'], ['accounted(2)', 'AH0', 'K', 'AW1', 'N', 'AH0', 'D'], ['accountemp', 'AH0', 'K', 'AW1', 'N', 'T', 'EH2', 'M', 'P'], ['accountemps', 'AH0', 'K', 'AW1', 'N', 'T', 'EH2', 'M', 'P', 'S'], ['accounting', 'AH0', 'K', 'AW1', 'N', 'T', 'IH0', 'NG'], ['accounting(2)', 'AH0', 'K', 'AW1', 'N', 'IH0', 'NG'], ['accounts', 'AH0', 'K', 'AW1', 'N', 'T', 'S'], ['accouterment', 'AH0', 'K', 'UW1', 'T', 'ER0', 'M', 'AH0', 'N', 'T'], ['accouterments', 'AH0', 'K', 'UW1', 'T', 'ER0', 'M', 'AH0', 'N', 'T', 'S'], ['accoutrement', 'AH0', 'K', 'UW1', 'T', 'ER0', 'M', 'AH0', 'N', 'T'], ['accoutrements', 'AH0', 'K', 'UW1', 'T', 'ER0', 'M', 'AH0', 'N', 'T', 'S'], ['accra', 'AA1', 'K', 'R', 'AA2'], ['accredit', 'AH0', 'K', 'R', 'EH2', 'D', 'AH0', 'T'], ['accreditation', 'AH0', 'K', 'R', 'EH2', 'D', 'AH0', 'T', 'EY1', 'SH', 'AH0', 'N'], ['accreditations', 'AH0', 'K', 'R', 'EH2', 'D', 'AH0', 'T', 'EY1', 'SH', 'AH0', 'N', 'Z'], ['accredited', 'AH0', 'K', 'R', 'EH1', 'D', 'IH0', 'T', 'IH0', 'D'], ['accrediting', 'AH0', 'K', 'R', 'EH1', 'D', 'AH0', 'T', 'IH0', 'NG'], ['accreted', 'AH0', 'K', 'R', 'IY1', 'T', 'IH0', 'D'], ['accretion', 'AH0', 'K', 'R', 'IY1', 'SH', 'AH0', 'N'], ['accrual', 'AH0', 'K', 'R', 'UW1', 'AH0', 'L'], ['accruals', 'AH0', 'K', 'R', 'UW1', 'AH0', 'L', 'Z'], ['accrue', 'AH0', 'K', 'R', 'UW1'], ['accrued', 'AH0', 'K', 'R', 'UW1', 'D'], ['accrues', 'AH0', 'K', 'R', 'UW1', 'Z'], ['accruing', 'AH0', 'K', 'R', 'UW1', 'IH0', 'NG'], ['accu', 'AE1', 'K', 'Y', 'UW0'], ['accuhealth', 'AE1', 'K', 'Y', 'UW0', 'HH', 'EH2', 'L', 'TH'], ['accumulate', 'AH0', 'K', 'Y', 'UW1', 'M', 'Y', 'AH0', 'L', 'EY2', 'T'], ['accumulated', 'AH0', 'K', 'Y', 'UW1', 'M', 'Y', 'AH0', 'L', 'EY2', 'T', 'IH0', 'D'], ['accumulates', 'AH0', 'K', 'Y', 'UW1', 'M', 'Y', 'AH0', 'L', 'EY2', 'T', 'S'], ['accumulating', 'AH0', 'K', 'Y', 'UW1', 'M', 'Y', 'AH0', 'L', 'EY2', 'T', 'IH0', 'NG'], ['accumulation', 'AH0', 'K', 'Y', 'UW2', 'M', 'Y', 'AH0', 'L', 'EY1', 'SH', 'AH0', 'N'], ['accumulations', 'AH0', 'K', 'Y', 'UW2', 'M', 'Y', 'AH0', 'L', 'EY1', 'SH', 'AH0', 'N', 'Z'], ['accumulative', 'AH0', 'K', 'Y', 'UW1', 'M', 'Y', 'AH0', 'L', 'EY2', 'T', 'IH0', 'V'], ['accumulatively', 'AH0', 'K', 'Y', 'UW1', 'M', 'Y', 'AH0', 'L', 'EY2', 'T', 'IH0', 'V', 'L', 'IY0'], ['accumulatively(2)', 'AH0', 'K', 'Y', 'UW1', 'M', 'Y', 'AH0', 'L', 'AH0', 'T', 'IH2', 'V', 'L', 'IY0'], ['accumulator', 'AH0', 'K', 'Y', 'UW1', 'M', 'Y', 'AH0', 'L', 'EY2', 'T', 'ER0'], ['accumulators', 'AH0', 'K', 'Y', 'UW1', 'M', 'Y', 'AH0', 'L', 'EY2', 'T', 'ER0', 'Z'], ['accuracies', 'AE1', 'K', 'Y', 'ER0', 'AH0', 'S', 'IY0', 'Z'], ['accuracy', 'AE1', 'K', 'Y', 'ER0', 'AH0', 'S', 'IY0'], ['accurate', 'AE1', 'K', 'Y', 'ER0', 'AH0', 'T'], ['accurately', 'AE1', 'K', 'Y', 'ER0', 'AH0', 'T', 'L', 'IY0'], ['accuray', 'AE1', 'K', 'Y', 'ER0', 'EY2'], [\"accuray's\", 'AE1', 'K', 'Y', 'ER0', 'EY2', 'Z'], ['accuride', 'AE1', 'K', 'Y', 'ER0', 'AY2', 'D'], ['accursed', 'AE2', 'K', 'ER1', 'S', 'T'], ['accurso', 'AA0', 'K', 'UH1', 'R', 'S', 'OW0'], ['accusation', 'AE2', 'K', 'Y', 'AH0', 'Z', 'EY1', 'SH', 'AH0', 'N'], ['accusation(2)', 'AE2', 'K', 'Y', 'UW0', 'Z', 'EY1', 'SH', 'AH0', 'N'], ['accusations', 'AE2', 'K', 'Y', 'AH0', 'Z', 'EY1', 'SH', 'AH0', 'N', 'Z'], ['accusations(2)', 'AE2', 'K', 'Y', 'UW0', 'Z', 'EY1', 'SH', 'AH0', 'N', 'Z'], ['accusative', 'AH0', 'K', 'Y', 'UW1', 'Z', 'AH0', 'T', 'IH0', 'V'], ['accusatory', 'AH0', 'K', 'Y', 'UW1', 'Z', 'AH0', 'T', 'AO2', 'R', 'IY0'], ['accuse', 'AH0', 'K', 'Y', 'UW1', 'Z'], ['accused', 'AH0', 'K', 'Y', 'UW1', 'Z', 'D'], ['accuser', 'AH0', 'K', 'Y', 'UW1', 'Z', 'ER0'], ['accusers', 'AH0', 'K', 'Y', 'UW1', 'Z', 'ER0', 'Z'], ['accuses', 'AH0', 'K', 'Y', 'UW1', 'Z', 'IH0', 'Z'], ['accusing', 'AH0', 'K', 'Y', 'UW1', 'Z', 'IH0', 'NG'], ['accusingly', 'AH0', 'K', 'Y', 'UW1', 'Z', 'IH0', 'NG', 'L', 'IY0'], ['accustom', 'AH0', 'K', 'AH1', 'S', 'T', 'AH0', 'M'], ['accustomed', 'AH0', 'K', 'AH1', 'S', 'T', 'AH0', 'M', 'D'], ['accutane', 'AE1', 'K', 'Y', 'UW0', 'T', 'EY2', 'N'], ['ace', 'EY1', 'S'], ['acecomm', 'EY1', 'S', 'K', 'AA0', 'M'], ['aced', 'EY1', 'S', 'T'], ['acer', 'EY1', 'S', 'ER0'], ['acerbic', 'AH0', 'S', 'EH1', 'R', 'B', 'IH0', 'K'], ['acero', 'AH0', 'S', 'EH1', 'R', 'OW0'], ['acero(2)', 'AH0', 'S', 'Y', 'EH1', 'R', 'OW0'], ['acero(3)', 'AH0', 'TH', 'EH1', 'R', 'OW0'], ['acerra', 'AH0', 'S', 'EH1', 'R', 'AH0'], ['aces', 'EY1', 'S', 'IH0', 'Z'], ['acetaminophen', 'AH0', 'S', 'IY2', 'T', 'AH0', 'M', 'IH1', 'N', 'AH0', 'F', 'AH0', 'N'], ['acetate', 'AE1', 'S', 'AH0', 'T', 'EY2', 'T'], ['acetic', 'AH0', 'S', 'EH1', 'T', 'IH0', 'K'], ['acetic(2)', 'AH0', 'S', 'IY1', 'T', 'IH0', 'K'], ['aceto', 'AA0', 'S', 'EH1', 'T', 'OW0'], ['acetochlor', 'AA0', 'S', 'EH1', 'T', 'OW0', 'K', 'L', 'AO2', 'R'], ['acetone', 'AE1', 'S', 'AH0', 'T', 'OW2', 'N'], ['acetosyringone', 'AH0', 'S', 'EH2', 'T', 'OW0', 'S', 'IH1', 'R', 'IH0', 'NG', 'G', 'AO0', 'N'], ['acetylcholine', 'AH0', 'S', 'EH2', 'T', 'AH0', 'L', 'K', 'OW1', 'L', 'IY0', 'N'], ['acetylcholine(2)', 'AH0', 'S', 'IY2', 'T', 'AH0', 'L', 'K', 'OW1', 'L', 'IY0', 'N'], ['acetylene', 'AH0', 'S', 'EH1', 'T', 'AH0', 'L', 'IY2', 'N'], ['acevedo', 'AE0', 'S', 'AH0', 'V', 'EY1', 'D', 'OW0'], ['aceves', 'AA0', 'S', 'EY1', 'V', 'EH0', 'S'], ['acey', 'EY1', 'S', 'IY0'], ['ach', 'EY1', 'S', 'IY1', 'EY1', 'CH'], ['achaean', 'AH0', 'CH', 'IY1', 'AH0', 'N'], ['achatz', 'AE1', 'K', 'AH0', 'T', 'S'], ['ache', 'EY1', 'K'], ['achebe', 'AA0', 'CH', 'EY1', 'B', 'IY0'], ['ached', 'EY1', 'K', 'T'], ['achee', 'AH0', 'CH', 'IY1'], ['achenbach', 'AE1', 'K', 'IH0', 'N', 'B', 'AA0', 'K'], ['achenbaum', 'AE1', 'K', 'AH0', 'N', 'B', 'AW2', 'M'], ['achene', 'AH0', 'K', 'IY1', 'N'], ['achenes', 'AH0', 'K', 'IY1', 'N', 'Z'], ['aches', 'EY1', 'K', 'S'], ['acheson', 'AE1', 'CH', 'AH0', 'S', 'AH0', 'N'], [\"acheson's\", 'AE1', 'CH', 'AH0', 'S', 'AH0', 'N', 'Z'], ['achesons', 'AE1', 'CH', 'AH0', 'S', 'AH0', 'N', 'Z'], ['achey', 'AE1', 'CH', 'IY0'], ['achieva', 'AH0', 'CH', 'IY1', 'V', 'AH0'], ['achievable', 'AH0', 'CH', 'IY1', 'V', 'AH0', 'B', 'AH0', 'L'], ['achieve', 'AH0', 'CH', 'IY1', 'V'], ['achieved', 'AH0', 'CH', 'IY1', 'V', 'D'], ['achievement', 'AH0', 'CH', 'IY1', 'V', 'M', 'AH0', 'N', 'T'], ['achievements', 'AH0', 'CH', 'IY1', 'V', 'M', 'AH0', 'N', 'T', 'S'], ['achiever', 'AH0', 'CH', 'IY1', 'V', 'ER0'], ['achievers', 'AH0', 'CH', 'IY1', 'V', 'ER0', 'Z'], ['achieves', 'AH0', 'CH', 'IY1', 'V', 'Z'], ['achieving', 'AH0', 'CH', 'IY1', 'V', 'IH0', 'NG'], ['achill', 'AE1', 'K', 'IH0', 'L', '#', 'place,', 'irish'], [\"achill's\", 'AE1', 'K', 'IH0', 'L', 'Z'], ['achille', 'AH0', 'K', 'IH1', 'L', 'IY0'], ['achilles', 'AH0', 'K', 'IH1', 'L', 'IY0', 'Z'], [\"achilles'\", 'AH0', 'K', 'IH1', 'L', 'IY0', 'Z'], ['aching', 'EY1', 'K', 'IH0', 'NG'], ['achingly', 'EY1', 'K', 'IH0', 'NG', 'L', 'IY0'], ['achmed', 'AA1', 'HH', 'M', 'EH0', 'D'], ['achoa', 'AH0', 'CH', 'OW1', 'AH0'], [\"achoa's\", 'AH0', 'CH', 'OW1', 'AH0', 'Z'], ['achoo', 'AA2', 'CH', 'UW1'], ['achor', 'EY1', 'K', 'ER0'], ['achord', 'AE1', 'K', 'AO0', 'R', 'D'], ['achorn', 'AE1', 'K', 'ER0', 'N'], ['achtenberg', 'AE1', 'K', 'T', 'EH0', 'N', 'B', 'ER0', 'G'], ['achterberg', 'AE1', 'K', 'T', 'ER0', 'B', 'ER0', 'G'], ['achy', 'EY1', 'K', 'IY0'], ['acid', 'AE1', 'S', 'AH0', 'D'], ['acidic', 'AH0', 'S', 'IH1', 'D', 'IH0', 'K'], ['acidification', 'AH0', 'S', 'IH2', 'D', 'AH0', 'F', 'AH0', 'K', 'EY1', 'SH', 'AH0', 'N'], ['acidified', 'AH0', 'S', 'IH1', 'D', 'AH0', 'F', 'AY2', 'D'], ['acidifies', 'AH0', 'S', 'IH1', 'D', 'AH0', 'F', 'AY2', 'Z'], ['acidify', 'AH0', 'S', 'IH1', 'D', 'AH0', 'F', 'AY2'], ['acidity', 'AH0', 'S', 'IH1', 'D', 'AH0', 'T', 'IY0'], ['acidly', 'AE1', 'S', 'AH0', 'D', 'L', 'IY0'], ['acidosis', 'AE2', 'S', 'AH0', 'D', 'OW1', 'S', 'AH0', 'S'], ['acids', 'AE1', 'S', 'AH0', 'D', 'Z'], ['aciduria', 'AE2', 'S', 'AH0', 'D', 'UH1', 'R', 'IY0', 'AH0'], ['acierno', 'AA0', 'S', 'IH1', 'R', 'N', 'OW0'], ['ack', 'AE1', 'K'], ['acker', 'AE1', 'K', 'ER0'], [\"acker's\", 'AE1', 'K', 'ER0', 'Z'], ['ackerley', 'AE1', 'K', 'ER0', 'L', 'IY0'], ['ackerly', 'AE1', 'K', 'ER0', 'L', 'IY0'], ['ackerman', 'AE1', 'K', 'ER0', 'M', 'AH0', 'N'], ['ackermann', 'AE1', 'K', 'ER0', 'M', 'AH0', 'N'], ['ackermanville', 'AE1', 'K', 'ER0', 'M', 'AH0', 'N', 'V', 'IH0', 'L'], ['ackerson', 'AE1', 'K', 'ER0', 'S', 'AH0', 'N'], ['ackert', 'AE1', 'K', 'ER0', 'T'], ['ackhouse', 'AE1', 'K', 'HH', 'AW2', 'S'], ['ackland', 'AE1', 'K', 'L', 'AH0', 'N', 'D'], ['ackles', 'AE1', 'K', 'AH0', 'L', 'Z'], ['ackley', 'AE1', 'K', 'L', 'IY0'], ['acklin', 'AE1', 'K', 'L', 'IH0', 'N'], ['ackman', 'AE1', 'K', 'M', 'AH0', 'N'], ['acknowledge', 'AE0', 'K', 'N', 'AA1', 'L', 'IH0', 'JH'], ['acknowledgeable', 'AE0', 'K', 'N', 'AA1', 'L', 'IH0', 'JH', 'AH0', 'B', 'AH0', 'L'], ['acknowledged', 'AE0', 'K', 'N', 'AA1', 'L', 'IH0', 'JH', 'D'], ['acknowledgement', 'AE0', 'K', 'N', 'AA1', 'L', 'IH0', 'JH', 'M', 'AH0', 'N', 'T'], ['acknowledgements', 'AE0', 'K', 'N', 'AA1', 'L', 'IH0', 'JH', 'M', 'AH0', 'N', 'T', 'S'], ['acknowledges', 'AE0', 'K', 'N', 'AA1', 'L', 'IH0', 'JH', 'IH0', 'Z'], ['acknowledging', 'AE0', 'K', 'N', 'AA1', 'L', 'IH0', 'JH', 'IH0', 'NG'], ['acknowledgment', 'AE0', 'K', 'N', 'AA1', 'L', 'IH0', 'JH', 'M', 'AH0', 'N', 'T'], ['acknowledgments', 'AE0', 'K', 'N', 'AA1', 'L', 'IH0', 'JH', 'M', 'AH0', 'N', 'T', 'S'], ['ackroyd', 'AE1', 'K', 'R', 'OY2', 'D'], [\"ackroyd's\", 'AE1', 'K', 'R', 'OY2', 'D', 'Z'], ['acm', 'EY2', 'S', 'IY2', 'EH1', 'M'], ['acmat', 'AE1', 'K', 'M', 'AE0', 'T'], [\"acmat's\", 'AE1', 'K', 'M', 'AE0', 'T', 'S'], ['acme', 'AE1', 'K', 'M', 'IY0'], [\"acme's\", 'AE1', 'K', 'M', 'IY0', 'Z'], ['acne', 'AE1', 'K', 'N', 'IY0'], ['acocella', 'AA0', 'K', 'OW0', 'CH', 'EH1', 'L', 'AH0'], ['acoff', 'AE1', 'K', 'AO0', 'F'], ['acog', 'AH0', 'K', 'AO1', 'G'], ['acolyte', 'AE1', 'K', 'AH0', 'L', 'AY2', 'T'], ['acolytes', 'AE1', 'K', 'AH0', 'L', 'AY2', 'T', 'S'], ['acomb', 'EY1', 'K', 'AH0', 'M'], ['acomb(2)', 'Y', 'AE1', 'K', 'AH0', 'M'], ['acord', 'AH0', 'K', 'AO1', 'R', 'D'], ['acordia', 'AH0', 'K', 'AO1', 'R', 'D', 'IY0', 'AH0'], ['acorn', 'EY1', 'K', 'AO0', 'R', 'N'], [\"acorn's\", 'EY1', 'K', 'AO0', 'R', 'N', 'Z'], ['acorns', 'EY1', 'K', 'AO0', 'R', 'N', 'Z'], ['acosta', 'AH0', 'K', 'AO1', 'S', 'T', 'AH0'], ['acott', 'EY1', 'K', 'AO0', 'T'], ['acoustic', 'AH0', 'K', 'UW1', 'S', 'T', 'IH0', 'K'], ['acoustical', 'AH0', 'K', 'UW1', 'S', 'T', 'IH0', 'K', 'AH0', 'L'], ['acoustically', 'AH0', 'K', 'UW1', 'S', 'T', 'IH0', 'K', 'L', 'IY0'], ['acoustics', 'AH0', 'K', 'UW1', 'S', 'T', 'IH0', 'K', 'S'], ['acquaint', 'AH0', 'K', 'W', 'EY1', 'N', 'T'], ['acquaintance', 'AH0', 'K', 'W', 'EY1', 'N', 'T', 'AH0', 'N', 'S'], ['acquaintances', 'AH0', 'K', 'W', 'EY1', 'N', 'T', 'AH0', 'N', 'S', 'IH0', 'Z'], ['acquaintanceship', 'AH0', 'K', 'W', 'EY1', 'N', 'T', 'AH0', 'N', 'S', 'SH', 'IH0', 'P'], ['acquainted', 'AH0', 'K', 'W', 'EY1', 'N', 'T', 'IH0', 'D'], ['acquainted(2)', 'AH0', 'K', 'W', 'EY1', 'N', 'IH0', 'D'], ['acquaviva', 'AA0', 'K', 'W', 'AA0', 'V', 'IY1', 'V', 'AH0'], ['acquiesce', 'AE2', 'K', 'W', 'IY0', 'EH1', 'S'], ['acquiesced', 'AE2', 'K', 'W', 'IY0', 'EH1', 'S', 'T'], ['acquiescence', 'AE2', 'K', 'W', 'IY0', 'EH1', 'S', 'AH0', 'N', 'S'], ['acquiescent', 'AE2', 'K', 'W', 'IY0', 'EH1', 'S', 'AH0', 'N', 'T'], ['acquiescing', 'AE2', 'K', 'W', 'IY0', 'EH1', 'S', 'IH0', 'NG'], ['acquire', 'AH0', 'K', 'W', 'AY1', 'ER0'], ['acquired', 'AH0', 'K', 'W', 'AY1', 'ER0', 'D'], ['acquirer', 'AH0', 'K', 'W', 'AY1', 'ER0', 'ER0'], [\"acquirer's\", 'AH0', 'K', 'W', 'AY1', 'ER0', 'ER0', 'Z'], ['acquirers', 'AH0', 'K', 'W', 'AY1', 'ER0', 'ER0', 'Z'], ['acquires', 'AH0', 'K', 'W', 'AY1', 'ER0', 'Z'], ['acquiring', 'AH0', 'K', 'W', 'AY1', 'R', 'IH0', 'NG'], ['acquiring(2)', 'AH0', 'K', 'W', 'AY1', 'ER0', 'IH0', 'NG'], ['acquisition', 'AE2', 'K', 'W', 'AH0', 'Z', 'IH1', 'SH', 'AH0', 'N'], [\"acquisition's\", 'AE2', 'K', 'W', 'AH0', 'Z', 'IH1', 'SH', 'AH0', 'N', 'Z'], ['acquisitions', 'AE2', 'K', 'W', 'AH0', 'Z', 'IH1', 'SH', 'AH0', 'N', 'Z'], ['acquisitive', 'AH0', 'K', 'W', 'IH1', 'Z', 'AH0', 'T', 'IH0', 'V'], ['acquit', 'AH0', 'K', 'W', 'IH1', 'T'], ['acquitaine', 'AE1', 'K', 'W', 'IH0', 'T', 'EY2', 'N'], ['acquits', 'AH0', 'K', 'W', 'IH1', 'T', 'S'], ['acquittal', 'AH0', 'K', 'W', 'IH1', 'T', 'AH0', 'L'], ['acquittals', 'AH0', 'K', 'W', 'IH1', 'T', 'AH0', 'L', 'Z'], ['acquitted', 'AH0', 'K', 'W', 'IH1', 'T', 'IH0', 'D'], ['acquitting', 'AH0', 'K', 'W', 'IH1', 'T', 'IH0', 'NG'], ['acre', 'EY1', 'K', 'ER0'], ['acreage', 'EY1', 'K', 'ER0', 'IH0', 'JH'], ['acreage(2)', 'EY1', 'K', 'R', 'AH0', 'JH'], ['acree', 'AH0', 'K', 'R', 'IY1'], ['acres', 'EY1', 'K', 'ER0', 'Z'], ['acrey', 'AE1', 'K', 'R', 'IY0'], ['acri', 'AA1', 'K', 'R', 'IY0'], ['acrid', 'AE1', 'K', 'R', 'IH0', 'D'], ['acrimonious', 'AE2', 'K', 'R', 'AH0', 'M', 'OW1', 'N', 'IY0', 'AH0', 'S'], ['acrimony', 'AE1', 'K', 'R', 'IH0', 'M', 'OW2', 'N', 'IY0'], ['acro', 'AE1', 'K', 'R', 'OW0'], ['acrobat', 'AE1', 'K', 'R', 'AH0', 'B', 'AE2', 'T'], ['acrobatic', 'AE2', 'K', 'R', 'AH0', 'B', 'AE1', 'T', 'IH0', 'K'], ['acrobatics', 'AE2', 'K', 'R', 'AH0', 'B', 'AE1', 'T', 'IH0', 'K', 'S'], ['acrobats', 'AE1', 'K', 'R', 'AH0', 'B', 'AE2', 'T', 'S'], ['acrolein', 'AE1', 'K', 'R', 'OW0', 'L', 'IY2', 'N'], ['acronym', 'AE1', 'K', 'R', 'AH0', 'N', 'IH0', 'M'], ['acronyms', 'AE1', 'K', 'R', 'AH0', 'N', 'IH0', 'M', 'Z'], ['acropolis', 'AH0', 'K', 'R', 'AA1', 'P', 'AH0', 'L', 'AH0', 'S'], ['across', 'AH0', 'K', 'R', 'AO1', 'S'], ['acrylic', 'AH0', 'K', 'R', 'IH1', 'L', 'IH0', 'K'], ['acrylics', 'AH0', 'K', 'R', 'IH1', 'L', 'IH0', 'K', 'S'], ['act', 'AE1', 'K', 'T'], [\"act's\", 'AE1', 'K', 'T', 'S'], ['acta', 'AE1', 'K', 'T', 'AA0'], ['actava', 'AE2', 'K', 'T', 'AA1', 'V', 'AH0'], [\"actava's\", 'AE2', 'K', 'T', 'AA1', 'V', 'AH0', 'Z'], ['actavas', 'AE2', 'K', 'T', 'AA1', 'V', 'AH0', 'Z'], ['acted', 'AE1', 'K', 'T', 'IH0', 'D'], ['actel', 'AE1', 'K', 'T', 'EH0', 'L'], ['actigall', 'AE1', 'K', 'T', 'IH0', 'G', 'AO0', 'L'], ['actin', 'AE1', 'K', 'T', 'AH0', 'N'], ['acting', 'AE1', 'K', 'T', 'IH0', 'NG'], ['actinide', 'AE1', 'K', 'T', 'IH0', 'N', 'AY2', 'D'], ['actinidia', 'AE2', 'K', 'T', 'IH0', 'N', 'IH1', 'D', 'IY0', 'AH0'], ['actinomycosis', 'AE2', 'K', 'T', 'IH2', 'N', 'OW0', 'M', 'AY2', 'K', 'OW1', 'S', 'IH0', 'S'], ['action', 'AE1', 'K', 'SH', 'AH0', 'N'], [\"action's\", 'AE1', 'K', 'SH', 'AH0', 'N', 'Z'], ['actionable', 'AE1', 'K', 'SH', 'AH0', 'N', 'AH0', 'B', 'AH0', 'L'], ['actions', 'AE1', 'K', 'SH', 'AH0', 'N', 'Z'], ['activase', 'AE1', 'K', 'T', 'IH0', 'V', 'EY2', 'Z'], ['activate', 'AE1', 'K', 'T', 'AH0', 'V', 'EY2', 'T'], ['activated', 'AE1', 'K', 'T', 'AH0', 'V', 'EY2', 'T', 'IH0', 'D'], ['activates', 'AE1', 'K', 'T', 'AH0', 'V', 'EY2', 'T', 'S'], ['activating', 'AE1', 'K', 'T', 'AH0', 'V', 'EY2', 'T', 'IH0', 'NG'], ['activation', 'AE2', 'K', 'T', 'AH0', 'V', 'EY1', 'SH', 'AH0', 'N'], ['activator', 'AE1', 'K', 'T', 'AH0', 'V', 'EY2', 'T', 'ER0'], ['active', 'AE1', 'K', 'T', 'IH0', 'V'], [\"active's\", 'AE1', 'K', 'T', 'IH0', 'V', 'Z'], ['actively', 'AE1', 'K', 'T', 'IH0', 'V', 'L', 'IY0'], ['actives', 'AE1', 'K', 'T', 'IH0', 'V', 'Z'], ['activision', 'AE1', 'K', 'T', 'IH0', 'V', 'IH2', 'ZH', 'AH0', 'N'], ['activism', 'AE1', 'K', 'T', 'IH0', 'V', 'IH2', 'Z', 'AH0', 'M'], ['activist', 'AE1', 'K', 'T', 'AH0', 'V', 'AH0', 'S', 'T'], ['activist(2)', 'AE1', 'K', 'T', 'IH0', 'V', 'IH0', 'S', 'T'], ['activists', 'AE1', 'K', 'T', 'AH0', 'V', 'AH0', 'S', 'T', 'S'], ['activists(2)', 'AE1', 'K', 'T', 'IH0', 'V', 'IH0', 'S', 'T', 'S'], [\"activists'\", 'AE1', 'K', 'T', 'IH0', 'V', 'IH0', 'S', 'T', 'S'], ['activities', 'AE0', 'K', 'T', 'IH1', 'V', 'AH0', 'T', 'IY0', 'Z'], ['activities(2)', 'AE0', 'K', 'T', 'IH1', 'V', 'IH0', 'T', 'IY0', 'Z'], ['activity', 'AE0', 'K', 'T', 'IH1', 'V', 'AH0', 'T', 'IY0'], ['activity(2)', 'AE0', 'K', 'T', 'IH1', 'V', 'IH0', 'T', 'IY0'], ['actmedia', 'AE0', 'K', 'T', 'M', 'IY1', 'D', 'IY0', 'AH0'], ['actodine', 'AE1', 'K', 'T', 'OW0', 'D', 'AY2', 'N'], ['acton', 'AE1', 'K', 'T', 'AH0', 'N'], ['actor', 'AE1', 'K', 'T', 'ER0'], [\"actor's\", 'AE1', 'K', 'T', 'ER0', 'Z'], ['actors', 'AE1', 'K', 'T', 'ER0', 'Z'], [\"actors'\", 'AE1', 'K', 'T', 'ER0', 'Z'], ['actress', 'AE1', 'K', 'T', 'R', 'AH0', 'S'], [\"actress's\", 'AE1', 'K', 'T', 'R', 'AH0', 'S', 'IH0', 'Z'], ['actresses', 'AE1', 'K', 'T', 'R', 'AH0', 'S', 'IH0', 'Z'], ['acts', 'AE1', 'K', 'T', 'S'], ['acts(2)', 'AE1', 'K', 'S'], ['actual', 'AE1', 'K', 'CH', 'AH0', 'W', 'AH0', 'L'], ['actual(2)', 'AE1', 'K', 'SH', 'AH0', 'L'], ['actuality', 'AE2', 'K', 'CH', 'UW0', 'AE1', 'L', 'AH0', 'T', 'IY2'], ['actualize', 'AE1', 'K', 'CH', 'UW2', 'AH0', 'L', 'AY2', 'Z'], ['actually', 'AE1', 'K', 'CH', 'UW2', 'AH0', 'L', 'IY0'], ['actually(2)', 'AE1', 'K', 'CH', 'L', 'IY0'], ['actually(3)', 'AE1', 'K', 'SH', 'AH0', 'L', 'IY0'], ['actuarial', 'AE2', 'K', 'CH', 'UW2', 'EH1', 'R', 'IY0', 'AH0', 'L'], ['actuaries', 'AE1', 'K', 'CH', 'UW2', 'EH1', 'R', 'IY2', 'Z'], ['actuary', 'AE1', 'K', 'CH', 'UW0', 'EH1', 'R', 'IY2'], ['actuate', 'AE1', 'K', 'CH', 'UW2', 'EY1', 'T'], ['actuator', 'AE1', 'K', 'T', 'Y', 'UW0', 'EY2', 'T', 'ER0'], ['actuator(2)', 'AE1', 'K', 'CH', 'UW0', 'EY2', 'T', 'ER0'], ['actuators', 'AE1', 'K', 'T', 'Y', 'UW0', 'EY2', 'T', 'ER0', 'Z'], ['actuators(2)', 'AE1', 'K', 'CH', 'UW0', 'EY2', 'T', 'ER0', 'Z'], ['actus', 'AE1', 'K', 'T', 'AH0', 'S'], ['acuff', 'AH0', 'K', 'AH1', 'F'], ['acuity', 'AH0', 'K', 'Y', 'UW1', 'AH0', 'T', 'IY0'], ['acumen', 'AH0', 'K', 'Y', 'UW1', 'M', 'AH0', 'N'], ['acuna', 'AA0', 'K', 'UW1', 'N', 'AH0'], ['acupuncture', 'AE1', 'K', 'Y', 'UW0', 'P', 'AH2', 'NG', 'K', 'CH', 'ER0'], ['acura', 'AE1', 'K', 'Y', 'ER0', 'AH0'], [\"acura's\", 'AE1', 'K', 'Y', 'ER0', 'AH0', 'Z'], ['acuras', 'AE1', 'K', 'Y', 'ER0', 'AH0', 'Z'], ['acuson', 'AE2', 'K', 'Y', 'UW1', 'S', 'AH0', 'N'], ['acustar', 'AE1', 'K', 'Y', 'UW0', 'S', 'T', 'AA2', 'R'], ['acusyst', 'AE1', 'K', 'Y', 'UW0', 'S', 'IH0', 'S', 'T'], ['acute', 'AH0', 'K', 'Y', 'UW1', 'T'], ['acutely', 'AH0', 'K', 'Y', 'UW1', 'T', 'L', 'IY0'], ['acuteness', 'AH0', 'K', 'Y', 'UW1', 'T', 'N', 'AH0', 'S'], ['acyclovir', 'AH0', 'S', 'IH1', 'K', 'L', 'OW0', 'V', 'IH2', 'R'], ['ad', 'AE1', 'D'], [\"ad's\", 'AE1', 'D', 'Z'], ['ad-hoc', 'AE1', 'D', 'HH', 'AA1', 'K'], ['ad-lib', 'AE1', 'D', 'L', 'IH1', 'B'], ['ad-nauseam', 'AE1', 'D', 'N', 'AO1', 'Z', 'IY0', 'AA0', 'M'], ['ad-nauseum', 'AE1', 'D', 'N', 'AO1', 'Z', 'IY0', 'AH0', 'M'], ['ada', 'EY1', 'D', 'AH0'], [\"ada's\", 'EY1', 'D', 'AH0', 'Z'], ['adabel', 'AE1', 'D', 'AH0', 'B', 'EH0', 'L'], ['adabelle', 'AE1', 'D', 'AH0', 'B', 'AH0', 'L'], ['adachi', 'AA0', 'D', 'AA1', 'K', 'IY0'], ['adage', 'AE1', 'D', 'AH0', 'JH'], ['adage(2)', 'AE1', 'D', 'IH0', 'JH'], ['adagio', 'AH0', 'D', 'AA1', 'ZH', 'IY0', 'OW2'], ['adah', 'AE1', 'D', 'AA0'], ['adair', 'AH0', 'D', 'EH1', 'R'], ['adaire', 'AA0', 'D', 'EH1', 'R'], ['adak', 'AH0', 'D', 'AE1', 'K'], ['adalah', 'AA0', 'D', 'AA1', 'L', 'AH0'], ['adalia', 'AA0', 'D', 'AA1', 'L', 'IY0', 'AH0'], ['adam', 'AE1', 'D', 'AH0', 'M'], [\"adam's\", 'AE1', 'D', 'AH0', 'M', 'Z'], ['adamant', 'AE1', 'D', 'AH0', 'M', 'AH0', 'N', 'T'], ['adamantly', 'AE1', 'D', 'AH0', 'M', 'AH0', 'N', 'T', 'L', 'IY0'], ['adamcik', 'AA1', 'D', 'AH0', 'M', 'CH', 'IH0', 'K'], ['adamczak', 'AA1', 'D', 'AH0', 'M', 'CH', 'AE0', 'K'], ['adamczyk', 'AA1', 'D', 'AH0', 'M', 'CH', 'IH0', 'K'], ['adame', 'AA0', 'D', 'AA1', 'M', 'IY0'], ['adamec', 'AH0', 'D', 'AA1', 'M', 'IH0', 'K'], ['adamek', 'AH0', 'D', 'AA1', 'M', 'EH0', 'K'], ['adames', 'AH0', 'D', 'EY1', 'M', 'Z'], ['adami', 'AA0', 'D', 'AA1', 'M', 'IY0'], ['adamik', 'AH0', 'D', 'AA1', 'M', 'IH0', 'K'], ['adamina', 'AA0', 'D', 'AA0', 'M', 'IY1', 'N', 'AH0'], ['adamkus', 'AE1', 'D', 'AH0', 'M', 'K', 'AH0', 'S'], ['adamo', 'AA0', 'D', 'AA1', 'M', 'OW0'], ['adamowicz', 'AH0', 'D', 'AA1', 'M', 'AH0', 'V', 'IH0', 'CH'], ['adams', 'AE1', 'D', 'AH0', 'M', 'Z'], [\"adams'\", 'AE1', 'D', 'AH0', 'M', 'Z'], [\"adams's\", 'AE1', 'D', 'AH0', 'M', 'Z', 'IH0', 'Z'], ['adamski', 'AH0', 'D', 'AE1', 'M', 'S', 'K', 'IY2'], ['adamson', 'AE1', 'D', 'AH0', 'M', 'S', 'AH0', 'N']]\n",
            "[['B', 'AW1', 'T'], ['K', 'AH0', 'Z'], ['K', 'AO1', 'R', 'S'], ['K', 'Y', 'UW1', 'Z'], ['AH0', 'M'], ['F', 'R', 'IH1', 'S', 'K', 'OW0'], ['G', 'EH1', 'N'], ['K', 'EY1'], ['AH0', 'M'], ['AH0', 'N'], ['R', 'AW1', 'N', 'D'], ['EH1', 'S'], ['T', 'IH1', 'L'], ['T', 'IH1', 'Z'], ['T', 'W', 'AH1', 'Z'], ['AH0'], ['EY1'], ['EY1', 'Z'], ['EY1'], ['EY1', 'Z'], ['EY2', 'D', 'IY1'], ['EY2', 'EH1', 'M'], ['EY1', 'Z'], ['T', 'R', 'IH2', 'P', 'AH0', 'L', 'EY1'], ['AA1', 'B', 'ER0', 'G'], ['AA1', 'K', 'AH0', 'N'], ['AA1', 'K', 'AH0', 'N', 'ER0'], ['AA1', 'K', 'ER0'], ['AO1', 'L', 'B', 'AO0', 'R', 'G', '#', 'place,', 'danish'], ['AA1', 'L', 'B', 'AO0', 'R', 'G'], ['AE1', 'L', 'B', 'ER0', 'G', '#', 'place,', 'dutch'], ['AE1', 'L', 'AH0', 'N', '#', 'place,', 'german'], ['AA1', 'L', 'AH0', 'N'], ['AA2', 'L', 'IY1', 'AA2'], ['AA1', 'L', 'S', 'EH0', 'TH'], ['AA1', 'L', 'S', 'M', 'IH0', 'R', '#', 'place,', 'dutch'], ['AA1', 'L', 'T', 'OW2', '#', 'name,', 'finnish'], ['AA1', 'M', 'AH0', 'T'], ['AA1', 'N', 'K', 'AO2', 'R'], ['AA0', 'R', 'D', 'EH1', 'M', 'AH0'], ['AA1', 'R', 'D', 'V', 'AA2', 'R', 'K'], ['AA1', 'R', 'D', 'V', 'AA2', 'R', 'K', 'S'], ['AA1', 'R', 'G'], ['AA2', 'HH', 'UW1', 'S'], ['EH1', 'R', 'AH0', 'N'], ['EH1', 'R', 'AH0', 'N', 'Z'], ['EH1', 'R', 'AH0', 'N', 'Z'], ['EH1', 'R', 'AH0', 'N', 'S', 'AH0', 'N'], ['AA1', 'R', 'AH0', 'N', 'S', 'AH0', 'N'], ['EH1', 'R', 'AH0', 'N', 'S', 'AH0', 'N', 'Z'], ['AA1', 'R', 'AH0', 'N', 'S', 'AH0', 'N', 'Z'], ['AA1', 'R', 'T', 'IY2'], ['AA1', 'S'], ['AA1', 'S', 'AH0', 'N'], ['AE1', 'B'], ['EY1', 'B', 'IY1'], ['EY2', 'B', 'IY2', 'EY1'], ['AH0', 'B', 'AA1', 'B', 'AH0'], ['AA1', 'B', 'AH0', 'B', 'AH0'], ['AE1', 'B', 'AH0', 'K', 'AH0'], ['AH0', 'B', 'AE1', 'K'], ['AE1', 'B', 'AH0', 'K', 'OW2'], ['AE1', 'B', 'AH0', 'K', 'AH0', 'S'], ['AH0', 'B', 'AA1', 'D'], ['AH0', 'B', 'AE1', 'D', 'AH0', 'K', 'AH0'], ['AH0', 'B', 'AE1', 'D', 'IY0'], ['AH0', 'B', 'AE1', 'D', 'IY0'], ['AH0', 'B', 'EH1', 'R'], ['AH0', 'B', 'AA1', 'L', 'K', 'IH0', 'N'], ['AE2', 'B', 'AH0', 'L', 'OW1', 'N', 'IY0'], ['AE2', 'B', 'AH0', 'L', 'OW1', 'N', 'IY0', 'Z'], ['AA0', 'B', 'AA1', 'L', 'OW0', 'Z'], ['AH0', 'B', 'AE1', 'N', 'D', 'AH0', 'N'], ['AH0', 'B', 'AE1', 'N', 'D', 'AH0', 'N', 'D'], ['AH0', 'B', 'AE1', 'N', 'D', 'AH0', 'N', 'IH0', 'NG'], ['AH0', 'B', 'AE1', 'N', 'D', 'AH0', 'N', 'M', 'AH0', 'N', 'T'], ['AH0', 'B', 'AE1', 'N', 'D', 'AH0', 'N', 'M', 'AH0', 'N', 'T', 'S'], ['AH0', 'B', 'AE1', 'N', 'D', 'AH0', 'N', 'Z'], ['AH0', 'B', 'AE1', 'N', 'T', 'OW0'], ['AH0', 'B', 'AA1', 'R', 'K', 'AH0'], ['AA0', 'B', 'AA1', 'R', 'IY0'], ['AE1', 'B', 'AH0', 'S', 'K', 'AH0', 'L'], ['AH0', 'B', 'AE1', 'SH'], ['AH0', 'B', 'AE1', 'SH', 'T'], ['AH0', 'B', 'EY1', 'ZH', 'Y', 'AH0'], ['AH0', 'B', 'EY1', 'T'], ['AH0', 'B', 'EY1', 'T', 'IH0', 'D'], ['AH0', 'B', 'EY1', 'T', 'M', 'AH0', 'N', 'T'], ['AH0', 'B', 'EY1', 'T', 'M', 'AH0', 'N', 'T', 'S'], ['AH0', 'B', 'EY1', 'T', 'S'], ['AH0', 'B', 'EY1', 'T', 'IH0', 'NG'], ['AE2', 'B', 'AH0', 'T', 'W', 'AA1', 'R'], ['AE1', 'B', 'AH0'], ['AH0', 'B', 'AA1', 'D', 'OW0'], ['AH0', 'B', 'AA1', 'S'], ['AA0', 'B', 'AA1', 'S', 'IY0'], ['AA1', 'B', 'EY0', 'T'], ['AA0', 'B', 'AA0', 'T', 'IY0', 'EH1', 'L', 'OW0'], ['AE1', 'B', 'IY0'], ['AE0', 'B', 'EY1'], ['AE1', 'B', 'AH0', 'N', 'HH', 'AW2', 'S'], ['AH0', 'B', 'EH1', 'T'], ['AE1', 'B', 'V', 'IH0', 'L'], ['AE1', 'B', 'IY0'], ['AE1', 'B', 'IY0', 'Z'], ['AE1', 'B', 'IY0'], ['AE1', 'B', 'IH0', 'T'], ['AE1', 'B', 'AH0', 'T'], ['AE1', 'B', 'AH0', 'T', 'S', 'T', 'AW1', 'N'], ['AE1', 'B', 'AH0', 'T'], ['AE1', 'B', 'AH0', 'T', 'S'], ['AE1', 'B', 'AH0', 'T', 'S', 'T', 'AW1', 'N'], ['AH0', 'B', 'UW1', 'D'], ['AH0', 'B', 'AW1', 'D'], ['AH0', 'B', 'R', 'IY1', 'V', 'IY0', 'EY2', 'T'], ['AH0', 'B', 'R', 'IY1', 'V', 'IY0', 'EY2', 'T', 'IH0', 'D'], ['AH0', 'B', 'R', 'IY1', 'V', 'IY0', 'EY2', 'T', 'S'], ['AH0', 'B', 'R', 'IY1', 'V', 'IY0', 'EY2', 'T', 'IH0', 'NG'], ['AH0', 'B', 'R', 'IY2', 'V', 'IY0', 'EY1', 'SH', 'AH0', 'N'], ['AH0', 'B', 'R', 'IY2', 'V', 'IY0', 'EY1', 'SH', 'AH0', 'N', 'Z'], ['AA0', 'B', 'R', 'UW0', 'T', 'S', 'EY1', 'Z', 'IY0'], ['AE1', 'B', 'Z'], ['AE1', 'B', 'IY0'], ['EY1', 'B', 'IY2', 'S', 'IY2'], ['EY1', 'B', 'IY2', 'S', 'IY2', 'Z'], ['AE1', 'B', 'K', 'OW0'], ['AE1', 'B', 'K', 'OW0', 'T', 'EH2', 'K'], ['EY1', 'B', 'IY2', 'S', 'IY2', 'Z'], ['EY2', 'B', 'IY2', 'D', 'IY1'], ['AE2', 'B', 'D', 'AE1', 'L', 'AH0'], ['AE2', 'B', 'D', 'AE1', 'L', 'AH0'], ['AE1', 'B', 'D', 'EH2', 'L'], ['AE2', 'B', 'D', 'EH1', 'L', 'AH0'], ['AE1', 'B', 'D', 'AH0', 'K', 'EY2', 'T'], ['AE1', 'B', 'D', 'AH0', 'K', 'EY2', 'T', 'IH0', 'D'], ['AE1', 'B', 'D', 'AH0', 'K', 'EY2', 'T', 'S'], ['AE1', 'B', 'D', 'IH0', 'K', 'EY2', 'T', 'IH0', 'NG'], ['AE2', 'B', 'D', 'IH0', 'K', 'EY1', 'SH', 'AH0', 'N'], ['AE1', 'B', 'D', 'N', 'ER0'], ['AE1', 'B', 'D', 'OW0'], ['AE2', 'B', 'D', 'AA1', 'L', 'AH0'], ['AE0', 'B', 'D', 'OW1', 'M', 'AH0', 'N'], ['AE1', 'B', 'D', 'AH0', 'M', 'AH0', 'N'], ['AE0', 'B', 'D', 'AA1', 'M', 'AH0', 'N', 'AH0', 'L'], ['AH0', 'B', 'D', 'AA1', 'M', 'AH0', 'N', 'AH0', 'L'], ['AE0', 'B', 'D', 'AH1', 'K', 'T'], ['AE0', 'B', 'D', 'AH1', 'K', 'T', 'IH0', 'D'], ['AH0', 'B', 'D', 'AH1', 'K', 'T', 'IH0', 'D'], ['AE0', 'B', 'D', 'AH2', 'K', 'T', 'IY1'], ['AE0', 'B', 'D', 'AH2', 'K', 'T', 'IY1', 'Z'], ['AE0', 'B', 'D', 'AH1', 'K', 'T', 'IH0', 'NG'], ['AH0', 'B', 'D', 'AH1', 'K', 'T', 'IH0', 'NG'], ['AE0', 'B', 'D', 'AH1', 'K', 'SH', 'AH0', 'N'], ['AH0', 'B', 'D', 'AH1', 'K', 'SH', 'AH0', 'N'], ['AE0', 'B', 'D', 'AH1', 'K', 'SH', 'AH0', 'N', 'Z'], ['AH0', 'B', 'D', 'AH1', 'K', 'SH', 'AH0', 'N', 'Z'], ['AE0', 'B', 'D', 'AH1', 'K', 'T', 'ER0'], ['AH0', 'B', 'D', 'AH1', 'K', 'T', 'ER0'], ['AE0', 'B', 'D', 'AH1', 'K', 'T', 'ER0', 'Z'], ['AH0', 'B', 'D', 'AH1', 'K', 'T', 'ER0', 'Z'], ['AE0', 'B', 'D', 'AH1', 'K', 'T', 'S'], ['AE0', 'B', 'D', 'UW1', 'L'], ['AE0', 'B', 'D', 'UW2', 'L', 'AH0', 'Z', 'IY1', 'Z'], ['AA0', 'B', 'D', 'UW1', 'L', 'AH0'], ['AE2', 'B', 'D', 'AH1', 'L', 'AH0'], ['EY1', 'B'], ['AH0', 'B', 'EH1', 'D'], ['AH0', 'B', 'EH1', 'D', 'IY0'], ['AH0', 'B', 'IY1'], ['EY1', 'B', 'AH0', 'L'], ['AA0', 'B', 'EH1', 'L', 'AH0'], ['AE1', 'B', 'IH0', 'L', 'ER0', 'D'], ['AH0', 'B', 'EH1', 'L'], ['AH0', 'B', 'EH1', 'L', 'Z'], ['EY1', 'B', 'AH0', 'L', 'IY2', 'Z'], ['EY1', 'B', 'AH0', 'L'], ['AH0', 'B', 'EH1', 'L', 'AH0'], ['AE1', 'B', 'IH0', 'L', 'N'], ['AE1', 'B', 'AH0', 'L', 'OW0'], ['EY1', 'B', 'AH0', 'L', 'Z'], ['AE1', 'B', 'IH0', 'L', 'S', 'AH0', 'N'], ['AE1', 'B', 'EH0', 'N', 'D'], ['AH0', 'B', 'EH1', 'N', 'D'], ['AE1', 'B', 'IH0', 'N', 'D', 'R', 'AO0', 'TH'], ['EY1', 'B', 'ER0'], ['AE2', 'B', 'ER0', 'K', 'R', 'AA1', 'M', 'B', 'IY0'], ['AE1', 'B', 'ER0', 'D', 'IY2', 'N'], ['EY1', 'B', 'ER0', 'F', 'ER0', 'D'], ['AE1', 'B', 'ER0', 'G'], ['AE1', 'B', 'ER0', 'AH0', 'L'], ['AE1', 'B', 'ER0', 'L'], ['AE1', 'B', 'ER0', 'M', 'IH0', 'N'], ['AE1', 'B', 'ER0', 'N', 'AE2', 'TH', 'IY0'], ['AE1', 'B', 'ER0', 'N', 'EH2', 'TH', 'IY0'], ['AE0', 'B', 'EH1', 'R', 'AH0', 'N', 'T'], ['AE2', 'B', 'ER0', 'EY1', 'SH', 'AH0', 'N'], ['AE2', 'B', 'ER0', 'EY1', 'SH', 'AH0', 'N', 'AH0', 'L'], ['AE2', 'B', 'ER0', 'EY1', 'SH', 'AH0', 'N', 'Z'], ['AE1', 'B', 'ER0', 'T'], ['AH0', 'B', 'EH1', 'T'], ['AH0', 'B', 'EH1', 'T', 'IH0', 'D'], ['AH0', 'B', 'EH1', 'T', 'IH0', 'NG'], ['EY1', 'B', 'EH0', 'K', 'S'], ['AH0', 'B', 'EY1', 'AH0', 'N', 'S'], ['AA0', 'B', 'EY1', 'T', 'AH0'], ['AE0', 'B', 'HH', 'AO1', 'R'], ['AH0', 'B', 'HH', 'AO1', 'R', 'D'], ['AH0', 'B', 'HH', 'AO1', 'R', 'AH0', 'N', 'S'], ['AE0', 'B', 'HH', 'AO1', 'R', 'AH0', 'N', 'T'], ['AH0', 'B', 'HH', 'AO1', 'R', 'Z'], ['EY1', 'B', 'IY0', 'AH0', 'M'], ['EY1', 'B', 'IY0', 'AH0', 'M', 'Z'], ['EY1', 'B', 'IH0', 'D'], ['AH0', 'B', 'AY1', 'D'], ['AH0', 'B', 'AY1', 'D', 'IH0', 'D'], ['AH0', 'B', 'AY1', 'D', 'Z'], ['AH0', 'B', 'AY1', 'D', 'IH0', 'NG'], ['AE0', 'B', 'IH0', 'JH', 'AA1', 'N'], ['AE1', 'B', 'IY0'], ['AE1', 'B', 'AH0', 'G', 'EY2', 'L'], ['AA0', 'B', 'IY1', 'L', 'AH0'], ['AE1', 'B', 'IH0', 'L', 'IY2', 'N'], ['AH0', 'B', 'IH1', 'L', 'AH0', 'T', 'IY2', 'Z'], ['AH0', 'B', 'IH1', 'L', 'AH0', 'T', 'IY2'], ['AE2', 'B', 'IH0', 'M', 'EY1', 'L'], ['AE2', 'B', 'IH0', 'M', 'EY1', 'L', 'Z'], ['AE1', 'B', 'IH0', 'NG', 'D', 'AH0', 'N'], ['AE1', 'B', 'IH0', 'NG', 'T', 'AH0', 'N'], ['AA1', 'B', 'IY0', 'OW0'], ['AA2', 'B', 'IY0', 'OW1', 'L', 'AH0'], ['AA2', 'B', 'IY0', 'OW1', 'L', 'AH0', 'Z'], ['EY0', 'B', 'IY1', 'AH0', 'M', 'EH0', 'D'], ['AH0', 'B', 'IH1', 'K', 'Y', 'UW0'], ['AE2', 'B', 'IH0', 'T', 'IY1', 'B', 'IY0'], ['AE1', 'B', 'IH0', 'T', 'S'], ['AE1', 'B', 'JH', 'EH0', 'K', 'T'], ['AE0', 'B', 'K', 'AA1', 'Z', 'Y', 'AH0'], ['AE0', 'B', 'K', 'AE1', 'Z', 'Y', 'AH0'], ['AE0', 'B', 'K', 'AA1', 'Z', 'IY0', 'AH0', 'N'], ['AE0', 'B', 'K', 'AE1', 'Z', 'IY0', 'AH0', 'N'], ['AE0', 'B', 'K', 'AA1', 'Z', 'Y', 'AH0', 'N'], ['AE0', 'B', 'K', 'AE1', 'Z', 'Y', 'AH0', 'N'], ['AE0', 'B', 'K', 'AA1', 'Z', 'IY0', 'AH0', 'N', 'Z'], ['AE0', 'B', 'K', 'AE1', 'Z', 'IY0', 'AH0', 'N', 'Z'], ['AH2', 'B', 'L', 'EY1', 'T'], ['AH2', 'B', 'L', 'EY1', 'SH', 'AH0', 'N'], ['AH0', 'B', 'L', 'EY1', 'Z'], ['EY1', 'B', 'AH0', 'L'], ['EY1', 'B', 'AH0', 'L', 'B', 'AA1', 'D', 'IY0', 'D'], ['EY1', 'B', 'AH0', 'L', 'D'], ['EY1', 'B', 'AH0', 'L', 'ER0'], ['EY1', 'B', 'L', 'ER0'], ['EY1', 'B', 'AH0', 'L', 'Z'], ['EY1', 'B', 'AH0', 'L', 'S', 'T'], ['EY1', 'B', 'L', 'AH0', 'S', 'T'], ['AH0', 'B', 'L', 'UW1', 'M'], ['AH0', 'B', 'L', 'UW1', 'SH', 'AH0', 'N'], ['AH0', 'B', 'L', 'UW1', 'SH', 'AH0', 'N', 'Z'], ['EY1', 'B', 'L', 'IY0'], ['AE2', 'B', 'N', 'EH0', 'G', 'EY1', 'SH', 'AH0', 'N'], ['AE1', 'B', 'N', 'ER0'], ['AE1', 'B', 'N', 'IY0'], ['AE0', 'B', 'N', 'AO1', 'R', 'M', 'AH0', 'L'], ['AE2', 'B', 'N', 'AO0', 'R', 'M', 'AE1', 'L', 'AH0', 'T', 'IY0', 'Z'], ['AE2', 'B', 'N', 'AO0', 'R', 'M', 'AE1', 'L', 'AH0', 'T', 'IY0'], ['AE0', 'B', 'N', 'AO1', 'R', 'M', 'AH0', 'L', 'IY0'], ['AA1', 'B', 'OW0'], ['AA1', 'B', 'OW0', 'Z'], ['AH0', 'B', 'AO1', 'R', 'D'], ['AH0', 'B', 'OW1', 'D'], ['AE0', 'B', 'AH0', 'HH', 'AH0', 'L', 'IY1', 'M', 'AH0'], ['AH0', 'B', 'AA1', 'L', 'IH0', 'SH'], ['AH0', 'B', 'AA1', 'L', 'IH0', 'SH', 'T'], ['AH0', 'B', 'AA1', 'L', 'IH0', 'SH', 'IH0', 'Z'], ['AH0', 'B', 'AA1', 'L', 'IH0', 'SH', 'IH0', 'NG'], ['AE2', 'B', 'AH0', 'L', 'IH1', 'SH', 'AH0', 'N'], ['AE2', 'B', 'AH0', 'L', 'IH1', 'SH', 'AH0', 'N', 'IH2', 'Z', 'AH0', 'M'], ['AE2', 'B', 'AH0', 'L', 'IH1', 'SH', 'AH0', 'N', 'AH0', 'S', 'T'], ['AE2', 'B', 'AH0', 'L', 'IH1', 'SH', 'AH0', 'N', 'AH0', 'S', 'T', 'S'], ['AH0', 'B', 'AA1', 'M', 'AH0', 'N', 'AH0', 'B', 'AH0', 'L'], ['AH0', 'B', 'AA2', 'M', 'AH0', 'N', 'EY1', 'SH', 'AH0', 'N'], ['AH0', 'B', 'AA2', 'M', 'AH0', 'N', 'EY1', 'SH', 'AH0', 'N', 'Z'], ['AH0', 'B', 'UW1', 'D'], ['AH0', 'B', 'UW1', 'D', 'IY0'], ['AH0', 'B', 'AO1', 'R'], ['AE2', 'B', 'ER0', 'IH1', 'JH', 'AH0', 'N', 'AH0', 'L'], ['AE2', 'B', 'ER0', 'IH1', 'JH', 'AH0', 'N', 'IY0'], ['AE2', 'B', 'ER0', 'IH1', 'JH', 'AH0', 'N', 'IY0', 'Z'], ['AH0', 'B', 'AO1', 'R', 'N'], ['AH0', 'B', 'AO1', 'R', 'T'], ['AH0', 'B', 'AO1', 'R', 'T', 'IH0', 'D'], ['AH0', 'B', 'AO2', 'R', 'T', 'AH0', 'F', 'EY1', 'SH', 'AH0', 'N', 'T'], ['AH0', 'B', 'AO2', 'R', 'T', 'AH0', 'F', 'EY1', 'SH', 'AH0', 'N', 'T', 'S'], ['AH0', 'B', 'AO1', 'R', 'T', 'IH0', 'NG'], ['AH0', 'B', 'AO1', 'R', 'SH', 'AH0', 'N'], ['AH0', 'B', 'AO1', 'R', 'SH', 'AH0', 'N', 'IH0', 'S', 'T'], ['AH0', 'B', 'AO1', 'R', 'SH', 'AH0', 'N', 'IH0', 'S', 'T', 'S'], ['AH0', 'B', 'AO1', 'R', 'SH', 'AH0', 'N', 'Z'], ['AH0', 'B', 'AO1', 'R', 'T', 'IH0', 'V'], ['AH0', 'B', 'AO1', 'R', 'T', 'S'], ['AH0', 'B', 'AA1', 'T'], ['AH0', 'B', 'UW1'], ['AA0', 'B', 'UW1', 'D'], ['AA2', 'B', 'UW0', 'HH', 'AA0', 'L', 'IY1', 'M', 'AH0'], ['AA2', 'B', 'UW0', 'HH', 'AA0', 'L', 'IY1', 'M', 'AH0', 'Z'], ['AH0', 'B', 'AW1', 'N', 'D'], ['AH0', 'B', 'AW1', 'N', 'D', 'IH0', 'D'], ['AH0', 'B', 'AW1', 'N', 'D', 'IH0', 'NG'], ['AH0', 'B', 'AW1', 'N', 'D', 'Z'], ['AH0', 'B', 'AW1', 'T'], ['AH0', 'B', 'AW1', 'T', 'S'], ['AH0', 'B', 'AH1', 'V'], ['AH0', 'B', 'AH1', 'V', 'Z'], ['AH0', 'B', 'AH1', 'V', 'B', 'AO2', 'R', 'D'], ['AE1', 'B', 'P', 'L', 'AH0', 'N', 'AE0', 'L', 'P'], ['AA1', 'B', 'R', 'AH0'], ['AE2', 'B', 'R', 'AH0', 'K', 'AH0', 'D', 'AE1', 'B', 'R', 'AH0'], ['AE0', 'B', 'R', 'EY1', 'D'], ['AE0', 'B', 'R', 'EY1', 'D', 'IH0', 'D'], ['AE0', 'B', 'R', 'EY1', 'D', 'Z'], ['EY1', 'B', 'R', 'AH0', 'HH', 'AE2', 'M'], ['AE2', 'B', 'R', 'AH0', 'HH', 'EY1', 'M', 'IY0', 'AH0', 'N'], ['EY1', 'B', 'R', 'AH0', 'HH', 'AE2', 'M', 'Z'], ['AE0', 'B', 'R', 'AH0', 'HH', 'AE1', 'M', 'S', 'AH0', 'N'], ['AH0', 'B', 'R', 'AE1', 'HH', 'AH0', 'M', 'S', 'AH0', 'N'], ['AH0', 'B', 'R', 'AE1', 'M'], ['EY1', 'B', 'R', 'AH0', 'M', 'Z'], ['AA1', 'B', 'R', 'AH0', 'M', 'CH', 'IH0', 'K'], ['AA0', 'B', 'R', 'AA1', 'M', 'OW0'], ['AH0', 'B', 'R', 'AA1', 'M', 'AH0', 'V', 'IH0', 'T', 'S'], ['AH0', 'B', 'R', 'AA1', 'M', 'AH0', 'V', 'IH0', 'CH'], ['AH0', 'B', 'R', 'AA1', 'M', 'AH0', 'W', 'IH0', 'T', 'S'], ['EY1', 'B', 'R', 'AH0', 'M', 'Z'], ['EY1', 'B', 'R', 'AH0', 'M', 'Z', 'IH0', 'Z'], ['EY1', 'B', 'R', 'AH0', 'M', 'S', 'AH0', 'N'], ['AH0', 'B', 'R', 'EY1', 'ZH', 'AH0', 'N'], ['AH0', 'B', 'R', 'EY1', 'ZH', 'AH0', 'N', 'Z'], ['AH0', 'B', 'R', 'EY1', 'S', 'IH0', 'V'], ['AH0', 'B', 'R', 'EY1', 'S', 'IH0', 'V', 'Z'], ['AH0', 'B', 'R', 'AE1', 'K', 'S', 'AH0'], ['AH0', 'B', 'R', 'AE1', 'K', 'S', 'AH0', 'Z'], ['AH0', 'B', 'R', 'AE1', 'K', 'S', 'AH0', 'Z'], ['AH0', 'B', 'R', 'EH1', 'S', 'T'], ['AA0', 'B', 'R', 'EH1', 'G', 'OW0'], ['AH0', 'B', 'R', 'UW1'], ['AH0', 'B', 'R', 'IH1', 'JH'], ['AH0', 'B', 'R', 'IH1', 'JH', 'D'], ['AH0', 'B', 'R', 'IH1', 'JH', 'M', 'AH0', 'N', 'T'], ['AH0', 'B', 'R', 'IH1', 'JH', 'AH0', 'Z'], ['AH0', 'B', 'R', 'IH1', 'JH', 'IH0', 'NG'], ['AH0', 'B', 'R', 'IH1', 'L'], ['AH0', 'B', 'R', 'AO1', 'D'], ['AE1', 'B', 'R', 'AH0', 'G', 'EY2', 'T'], ['AE1', 'B', 'R', 'AH0', 'G', 'EY2', 'T', 'IH0', 'D'], ['AE1', 'B', 'R', 'AH0', 'G', 'EY2', 'T', 'IH0', 'NG'], ['AE2', 'B', 'R', 'AH0', 'G', 'EY1', 'SH', 'AH0', 'N'], ['AH0', 'B', 'R', 'OW1', 'L'], ['AH0', 'B', 'R', 'AA1', 'N'], ['AH0', 'B', 'R', 'AH1', 'P', 'T'], ['AH0', 'B', 'R', 'AH1', 'P', 'T', 'L', 'IY0'], ['AH0', 'B', 'R', 'AH1', 'P', 'T', 'N', 'AH0', 'S'], ['EY1', 'B', 'R', 'UW0', 'T', 'IH0', 'N'], ['AA0', 'B', 'R', 'UW0', 'T', 'S', 'EY1', 'Z', 'IY0'], ['AA0', 'B', 'R', 'UW1', 'Z', 'OW0'], ['EY1', 'B', 'IY1', 'EH1', 'S'], ['AE1', 'B', 'Z'], ['AE1', 'B', 'S', 'AH0', 'L', 'AH0', 'M'], ['AE0', 'B', 'S', 'AA1', 'R', 'AH0', 'K', 'AH0'], ['AE1', 'B', 'S', 'K', 'AE0', 'M'], ['AE1', 'B', 'S', 'EH2', 'S'], ['AE0', 'B', 'S', 'K', 'AA1', 'N', 'D'], ['AE0', 'B', 'S', 'K', 'AA1', 'N', 'D', 'IH0', 'D'], ['AE0', 'B', 'S', 'K', 'AA1', 'N', 'D', 'IH0', 'NG'], ['AE0', 'B', 'S', 'K', 'AA1', 'N', 'D', 'Z'], ['AE1', 'B', 'S', 'AH0', 'K', 'AO0', 'N'], ['AE1', 'B', 'S', 'AH0', 'N', 'S'], ['AE1', 'B', 'S', 'AH0', 'N', 'S', 'IH0', 'Z'], ['AE1', 'B', 'S', 'AH0', 'N', 'T'], ['AE2', 'B', 'S', 'AH0', 'N', 'T', 'IY1'], ['AE2', 'B', 'S', 'AH0', 'N', 'T', 'IY1', 'IH0', 'Z', 'AH0', 'M'], ['AE2', 'B', 'S', 'AH0', 'N', 'T', 'IY1', 'Z'], ['AE0', 'B', 'S', 'EH1', 'N', 'SH', 'AH0'], ['AE1', 'B', 'SH', 'ER0'], ['AE1', 'B', 'SH', 'IY0', 'ER0'], ['AE1', 'B', 'SH', 'AY2', 'R'], ['AE1', 'B', 'S', 'IH0', 'N', 'TH'], ['AE1', 'B', 'S', 'OW0'], ['AE1', 'B', 'S', 'AH0', 'L', 'AH0', 'M'], ['AE2', 'B', 'S', 'AH0', 'L', 'UW1', 'T'], ['AE2', 'B', 'S', 'AH0', 'L', 'UW1', 'T', 'S'], ['AE1', 'B', 'S', 'AH0', 'L', 'UW2', 'T'], ['AE2', 'B', 'S', 'AH0', 'L', 'UW1', 'T', 'L', 'IY0'], ['AE1', 'B', 'S', 'AH0', 'L', 'UW2', 'T', 'N', 'AH0', 'S'], ['AE1', 'B', 'S', 'AH0', 'L', 'UW2', 'T', 'S'], ['AE2', 'B', 'S', 'AH0', 'L', 'UW1', 'SH', 'AH0', 'N'], ['AE1', 'B', 'S', 'AH0', 'L', 'UW2', 'T', 'IH2', 'Z', 'AH0', 'M'], ['AE0', 'B', 'S', 'AH0', 'L', 'UW1', 'T', 'IH0', 'S', 'T'], ['AH0', 'B', 'Z', 'AA1', 'L', 'V'], ['AE0', 'B', 'Z', 'AA1', 'L', 'V'], ['AH0', 'B', 'Z', 'AA1', 'L', 'V', 'D'], ['AE0', 'B', 'Z', 'AA1', 'L', 'V', 'D'], ['AH0', 'B', 'Z', 'AA1', 'L', 'V', 'Z'], ['AE0', 'B', 'Z', 'AA1', 'L', 'V', 'Z'], ['AH0', 'B', 'Z', 'AA1', 'L', 'V', 'IH0', 'NG'], ['AE0', 'B', 'Z', 'AA1', 'L', 'V', 'IH0', 'NG'], ['AH0', 'B', 'Z', 'AO1', 'R', 'B'], ['AH0', 'B', 'Z', 'AO1', 'R', 'B', 'D'], ['AH0', 'B', 'Z', 'AO1', 'R', 'B', 'AH0', 'N', 'S', 'IY0'], ['AH0', 'B', 'Z', 'AO1', 'R', 'B', 'AH0', 'N', 'T'], ['AH0', 'B', 'Z', 'AO1', 'R', 'B', 'ER0'], ['AH0', 'B', 'Z', 'AO1', 'R', 'B', 'ER0', 'Z'], ['AH0', 'B', 'Z', 'AO1', 'R', 'B', 'IH0', 'NG'], ['AH0', 'B', 'Z', 'AO1', 'R', 'B', 'Z'], ['AH0', 'B', 'Z', 'AO1', 'R', 'P', 'SH', 'AH0', 'N'], ['AH0', 'B', 'S', 'AO1', 'R', 'P', 'SH', 'AH0', 'N'], ['AH0', 'B', 'S', 'T', 'EY1', 'N'], ['AE0', 'B', 'S', 'T', 'EY1', 'N'], ['AH0', 'B', 'S', 'T', 'EY1', 'N', 'D'], ['AE0', 'B', 'S', 'T', 'EY1', 'N', 'D'], ['AH0', 'B', 'S', 'T', 'EY1', 'N', 'IH0', 'NG'], ['AE0', 'B', 'S', 'T', 'EY1', 'N', 'IH0', 'NG'], ['AH0', 'B', 'S', 'T', 'EH1', 'N', 'CH', 'AH0', 'N'], ['AE0', 'B', 'S', 'T', 'EH1', 'N', 'CH', 'AH0', 'N'], ['AH0', 'B', 'S', 'T', 'EH1', 'N', 'CH', 'AH0', 'N', 'Z'], ['AE0', 'B', 'S', 'T', 'EH1', 'N', 'CH', 'AH0', 'N', 'Z'], ['AE1', 'B', 'S', 'T', 'AH0', 'N', 'AH0', 'N', 'S'], ['AE1', 'B', 'S', 'T', 'AH0', 'N', 'AH0', 'N', 'T'], ['AE1', 'B', 'S', 'T', 'AH0', 'N'], ['AE0', 'B', 'S', 'T', 'R', 'AE1', 'K', 'T'], ['AE1', 'B', 'S', 'T', 'R', 'AE2', 'K', 'T'], ['AE1', 'B', 'S', 'T', 'R', 'AE2', 'K', 'T', 'IH0', 'D'], ['AE0', 'B', 'S', 'T', 'R', 'AE1', 'K', 'SH', 'AH0', 'N'], ['AE0', 'B', 'S', 'T', 'R', 'AE1', 'K', 'SH', 'AH0', 'N', 'Z'], ['AE1', 'B', 'S', 'T', 'R', 'AE0', 'K', 'T', 'S'], ['AH0', 'B', 'S', 'T', 'R', 'UW1', 'S'], ['AH0', 'B', 'S', 'ER1', 'D'], ['AH0', 'B', 'S', 'ER1', 'D', 'IH0', 'S', 'T'], ['AH0', 'B', 'S', 'ER1', 'D', 'AH0', 'T', 'IY0', 'Z'], ['AH0', 'B', 'S', 'ER1', 'D', 'AH0', 'T', 'IY0'], ['AH0', 'B', 'S', 'ER1', 'D', 'L', 'IY0'], ['AE1', 'B', 'T'], ['EY1', 'B', 'IY1', 'T', 'IY1'], ['AE1', 'B', 'T', 'S'], ['EY1', 'B', 'IY1', 'T', 'IY1', 'Z'], ['EY1', 'B', 'IY1', 'T', 'IY1', 'EH1', 'S'], ['AE1', 'B', 'UW0'], ['AH0', 'B', 'AH1', 'D', 'R', 'AH0', 'M'], ['AH0', 'B', 'W', 'EH1', 'L', 'AH0'], ['AH0', 'B', 'W', 'EH1', 'L', 'AH0', 'Z'], ['AE2', 'B', 'Y', 'UW0', 'L', 'AE1', 'D', 'Z', 'IY0'], ['AH0', 'B', 'AH1', 'N', 'D', 'AH0', 'N', 'S'], ['AH0', 'B', 'AH1', 'N', 'D', 'AH0', 'N', 'T'], ['AH0', 'B', 'AH1', 'N', 'D', 'AH0', 'N', 'T', 'L', 'IY0'], ['AH0', 'B', 'UH1', 'R', 'T', 'OW2'], ['AH0', 'B', 'UH1', 'R', 'T', 'OW2', 'Z'], ['AH0', 'B', 'Y', 'UW1', 'S'], ['AH0', 'B', 'Y', 'UW1', 'Z'], ['AH0', 'B', 'Y', 'UW1', 'Z', 'D'], ['AH0', 'B', 'Y', 'UW1', 'Z', 'ER0'], ['AH0', 'B', 'Y', 'UW1', 'Z', 'ER0', 'Z'], ['AH0', 'B', 'Y', 'UW1', 'S', 'IH0', 'Z'], ['AH0', 'B', 'Y', 'UW1', 'Z', 'IH0', 'Z'], ['AH0', 'B', 'Y', 'UW1', 'Z', 'IH0', 'NG'], ['AH0', 'B', 'Y', 'UW1', 'S', 'IH0', 'V'], ['AH0', 'B', 'AH1', 'T'], ['AH0', 'B', 'AH1', 'T', 'S'], ['AH0', 'B', 'AH1', 'T', 'IH0', 'D'], ['AH0', 'B', 'AH1', 'T', 'IH0', 'NG'], ['AH0', 'B', 'AH1', 'Z'], ['AH0', 'B', 'IH1', 'Z', 'M', 'AH0', 'L'], ['AH0', 'B', 'IH1', 'Z', 'M', 'AH0', 'L', 'IY0'], ['AH0', 'B', 'IH1', 'S'], ['AE0', 'B', 'S', 'IH1', 'N', 'IY2', 'AH0'], ['AE0', 'B', 'S', 'IH1', 'N', 'IY2', 'AH0', 'N'], ['AE1', 'B', 'Z', 'AH2', 'G'], ['AE1', 'B', 'Z', 'UH2', 'G'], ['EY1', 'S', 'IY1'], ['AE1', 'K', 'AH0'], ['AH0', 'K', 'EY1', 'SH', 'AH0'], ['AE1', 'K', 'AH0', 'D', 'IY2', 'M'], ['AE2', 'K', 'AH0', 'D', 'IY1', 'M', 'IY0', 'AH0'], ['AE2', 'K', 'AH0', 'D', 'EH1', 'M', 'IH0', 'K'], ['AE2', 'K', 'AH0', 'D', 'EH1', 'M', 'IH0', 'K', 'L', 'IY0'], ['AE2', 'K', 'AH0', 'D', 'AH0', 'M', 'IH1', 'SH', 'AH0', 'N'], ['AE2', 'K', 'AH0', 'D', 'AH0', 'M', 'IH1', 'SH', 'AH0', 'N', 'Z'], ['AH0', 'K', 'AE2', 'D', 'AH0', 'M', 'IH1', 'SH', 'AH0', 'N', 'Z'], ['AE2', 'K', 'AH0', 'D', 'EH1', 'M', 'IH0', 'K', 'S'], ['AH0', 'K', 'AE1', 'D', 'AH0', 'M', 'IY0', 'Z'], ['AH0', 'K', 'AE1', 'D', 'AH0', 'M', 'IY0'], ['AH0', 'K', 'AE1', 'D', 'AH0', 'M', 'IY0', 'Z'], ['AH0', 'K', 'EY1', 'D', 'IY0', 'AH0'], ['AH0', 'S', 'IY1', 'N', 'AH0'], ['AH0', 'K', 'AA1', 'M', 'P', 'OW0'], ['AH0', 'K', 'AE1', 'M', 'P', 'ER0', 'AH0'], ['AH0', 'K', 'AE1', 'M', 'P', 'S', 'Y', 'AH0'], ['AA0', 'K', 'AA1', 'N', 'DH', 'AH0'], ['AE2', 'K', 'AH0', 'P', 'UH1', 'L', 'K', 'OW0'], ['AE1', 'K', 'ER0', 'IY0'], ['AY2', 'S', 'IY2', 'S', 'IY1'], ['AA0', 'K', 'AA1', 'R', 'D', 'IY0'], ['AA0', 'K', 'AA1', 'R', 'D', 'OW0'], ['AE0', 'K', 'S', 'IY1', 'D'], ['AE0', 'K', 'S', 'IY1', 'D', 'IH0', 'D'], ['AE0', 'K', 'S', 'IY1', 'D', 'Z'], ['AE0', 'K', 'S', 'IY1', 'D', 'IH0', 'NG'], ['AH0', 'K', 'S', 'EH1', 'L'], ['AE0', 'K', 'S', 'EH1', 'L', 'ER0', 'AH0', 'N', 'T'], ['AE0', 'K', 'S', 'EH1', 'L', 'ER0', 'AH0', 'N', 'T', 'S'], ['AE0', 'K', 'S', 'EH1', 'L', 'ER0', 'EY2', 'T'], ['AE0', 'K', 'S', 'EH1', 'L', 'ER0', 'EY2', 'T', 'IH0', 'D'], ['AE0', 'K', 'S', 'EH1', 'L', 'ER0', 'EY2', 'T', 'S'], ['AE0', 'K', 'S', 'EH1', 'L', 'ER0', 'EY2', 'T', 'IH0', 'NG'], ['AE2', 'K', 'S', 'EH2', 'L', 'ER0', 'EY1', 'SH', 'AH0', 'N'], ['AE0', 'K', 'S', 'EH1', 'L', 'ER0', 'EY2', 'T', 'ER0'], ['AE0', 'K', 'S', 'EH1', 'L', 'ER0', 'EY2', 'T', 'ER0', 'Z'], ['AE0', 'K', 'S', 'EH2', 'L', 'ER0', 'AA1', 'M', 'AH0', 'T', 'ER0'], ['AE0', 'K', 'S', 'EH2', 'L', 'ER0', 'AA1', 'M', 'AH0', 'T', 'ER0', 'Z'], ['AH0', 'K', 'S', 'EH1', 'N', 'T'], ['AE1', 'K', 'S', 'EH2', 'N', 'T'], ['AE1', 'K', 'S', 'EH0', 'N', 'T', 'IH0', 'D'], ['AE1', 'K', 'S', 'EH0', 'N', 'T', 'IH0', 'NG'], ['AE1', 'K', 'S', 'EH0', 'N', 'T', 'S'], ['AE0', 'K', 'S', 'EH1', 'N', 'CH', 'UW0', 'EY0', 'T'], ['AE0', 'K', 'S', 'EH1', 'N', 'CH', 'UW0', 'EY2', 'T', 'IH0', 'D'], ['AE0', 'K', 'S', 'EH1', 'N', 'CH', 'UW0', 'EY2', 'T', 'S'], ['AE0', 'K', 'S', 'EH1', 'N', 'CH', 'UW0', 'EY2', 'T', 'IH0', 'NG'], ['AE0', 'K', 'S', 'EH1', 'N', 'CH', 'ER0'], ['AE0', 'K', 'S', 'EH1', 'P', 'T'], ['AH0', 'K', 'S', 'EH1', 'P', 'T'], ['AH0', 'K', 'S', 'EH2', 'P', 'T', 'AH0', 'B', 'IH1', 'L', 'AH0', 'T', 'IY0'], ['AE0', 'K', 'S', 'EH1', 'P', 'T', 'AH0', 'B', 'AH0', 'L'], ['AH0', 'K', 'S', 'EH1', 'P', 'T', 'AH0', 'B', 'AH0', 'L'], ['AE0', 'K', 'S', 'EH1', 'P', 'T', 'AH0', 'B', 'L', 'IY0'], ['AH0', 'K', 'S', 'EH1', 'P', 'T', 'AH0', 'B', 'L', 'IY0'], ['AE0', 'K', 'S', 'EH1', 'P', 'T', 'AH0', 'N', 'S'], ['AH0', 'K', 'S', 'EH1', 'P', 'T', 'AH0', 'N', 'S'], ['AE0', 'K', 'S', 'EH1', 'P', 'T', 'AH0', 'N', 'S', 'IH0', 'Z'], ['AE0', 'K', 'S', 'EH1', 'P', 'T', 'IH0', 'D'], ['AH0', 'K', 'S', 'EH1', 'P', 'T', 'IH0', 'D'], ['AE0', 'K', 'S', 'EH1', 'P', 'T', 'IH0', 'NG'], ['AH0', 'K', 'S', 'EH1', 'P', 'T', 'IH0', 'NG'], ['AE0', 'K', 'S', 'EH1', 'P', 'T', 'S'], ['AE1', 'K', 'S', 'EH2', 'S'], ['AE1', 'K', 'S', 'EH2', 'S', 'T'], ['AE2', 'K', 'S', 'EH0', 'S', 'AH0', 'B', 'IH1', 'L', 'IH0', 'T', 'IY0'], ['AE0', 'K', 'S', 'EH1', 'S', 'AH0', 'B', 'AH0', 'L'], ['AE1', 'K', 'S', 'EH2', 'S', 'IH0', 'NG'], ['AH0', 'K', 'S', 'EH1', 'SH', 'AH0', 'N'], ['AE0', 'K', 'S', 'EH1', 'S', 'ER0', 'IY0', 'Z'], ['AE0', 'K', 'S', 'EH1', 'S', 'ER0', 'AY2', 'Z'], ['AE0', 'K', 'S', 'EH1', 'S', 'ER0', 'AY2', 'Z', 'D'], ['AE0', 'K', 'S', 'EH1', 'S', 'ER0', 'IY0'], ['AA0', 'CH', 'EH1', 'T', 'AH0'], ['AE1', 'K', 'S', 'AH0', 'D', 'AH0', 'N', 'T'], ['AE1', 'K', 'S', 'AH0', 'D', 'AH0', 'N', 'T', 'S'], ['AE2', 'K', 'S', 'AH0', 'D', 'EH1', 'N', 'T', 'AH0', 'L'], ['AE2', 'K', 'S', 'AH0', 'D', 'EH1', 'N', 'AH0', 'L'], ['AE2', 'K', 'S', 'AH0', 'D', 'EH1', 'N', 'T', 'AH0', 'L', 'IY0'], ['AE2', 'K', 'S', 'AH0', 'D', 'EH1', 'N', 'AH0', 'L', 'IY0'], ['AE1', 'K', 'S', 'AH0', 'D', 'AH0', 'N', 'T', 'L', 'IY0'], ['AE1', 'K', 'S', 'AH0', 'D', 'AH0', 'N', 'T', 'S'], ['AE1', 'CH', 'IY0', 'AH0', 'N'], ['AE1', 'S', 'IH0', 'V', 'AA2', 'L'], ['AH0', 'K', 'L', 'EY1', 'M'], ['AH0', 'K', 'L', 'EY1', 'M', 'Z'], ['AH0', 'K', 'L', 'EY1', 'M', 'D'], ['AH0', 'K', 'L', 'EY1', 'M', 'IH0', 'NG'], ['AH0', 'K', 'L', 'EY1', 'M', 'Z'], ['AE2', 'K', 'L', 'AH0', 'M', 'EY1', 'SH', 'AH0', 'N'], ['AE1', 'K', 'L', 'AH0', 'M', 'EY2', 'T'], ['AE1', 'K', 'L', 'AH0', 'M', 'EY2', 'T', 'IH0', 'D'], ['AE2', 'K', 'L', 'AH0', 'M', 'EY1', 'SH', 'AH0', 'N'], ['AE1', 'K', 'OW0'], ['AE1', 'K', 'OW0', 'K', 'IY0', 'K'], ['AA0', 'K', 'OW1', 'L', 'AH0'], ['AE1', 'K', 'AH0', 'L', 'EY2', 'D'], ['AE1', 'K', 'AH0', 'L', 'EY2', 'D', 'Z'], ['AA0', 'K', 'OW0', 'M', 'AA1', 'N', 'D', 'OW0'], ['AH0', 'K', 'AA1', 'M', 'AH0', 'D', 'EY2', 'T'], ['AH0', 'K', 'AA1', 'M', 'AH0', 'D', 'EY2', 'T', 'IH0', 'D'], ['AH0', 'K', 'AA1', 'M', 'AH0', 'D', 'EY2', 'T', 'S'], ['AH0', 'K', 'AA1', 'M', 'AH0', 'D', 'EY2', 'T', 'IH0', 'NG'], ['AH0', 'K', 'AA2', 'M', 'AH0', 'D', 'EY1', 'SH', 'AH0', 'N'], ['AH0', 'K', 'AA2', 'M', 'AH0', 'D', 'EY1', 'SH', 'AH0', 'N', 'Z'], ['AH0', 'K', 'AA1', 'M', 'AH0', 'D', 'EY2', 'T', 'IH0', 'V'], ['AH0', 'K', 'AH1', 'M', 'P', 'AH0', 'N', 'IY0', 'D'], ['AH0', 'K', 'AH1', 'M', 'P', 'AH0', 'N', 'IY0', 'Z'], ['AH0', 'K', 'AH1', 'M', 'P', 'N', 'IH0', 'M', 'AH0', 'N', 'T'], ['AH0', 'K', 'AH1', 'M', 'P', 'N', 'IY0', 'M', 'AH0', 'N', 'T'], ['AH0', 'K', 'AH1', 'M', 'P', 'N', 'IH0', 'M', 'AH0', 'N', 'T', 'S'], ['AH0', 'K', 'AH1', 'M', 'P', 'N', 'IY0', 'M', 'AH0', 'N', 'T', 'S'], ['AH0', 'K', 'AH1', 'M', 'P', 'AH0', 'N', 'AH0', 'S', 'T'], ['AH0', 'K', 'AH1', 'M', 'P', 'AH0', 'N', 'IY0'], ['AH0', 'K', 'AH1', 'M', 'P', 'AH0', 'N', 'IY0', 'IH0', 'NG'], ['AA2', 'K', 'AA1', 'M', 'P', 'L', 'IY0'], ['AH0', 'K', 'AA1', 'M', 'P', 'L', 'IY0'], ['AH0', 'K', 'AA1', 'M', 'P', 'L', 'AH0', 'S'], ['AH0', 'K', 'AA1', 'M', 'P', 'L', 'AH0', 'S', 'AH0', 'Z'], ['AH0', 'K', 'AA1', 'M', 'P', 'L', 'IH0', 'SH'], ['AH0', 'K', 'AA1', 'M', 'P', 'L', 'IH0', 'SH', 'T'], ['AH0', 'K', 'AA1', 'M', 'P', 'L', 'IH0', 'SH', 'IH0', 'Z'], ['AH0', 'K', 'AA1', 'M', 'P', 'L', 'IH0', 'SH', 'IH0', 'NG'], ['AH0', 'K', 'AA1', 'M', 'P', 'L', 'IH0', 'SH', 'M', 'AH0', 'N', 'T'], ['AH0', 'K', 'AA1', 'M', 'P', 'L', 'IH0', 'SH', 'M', 'AH0', 'N', 'T', 'S'], ['AE1', 'K', 'AO2', 'R'], ['AE1', 'K', 'ER0', 'Z'], ['AH0', 'K', 'AO1', 'R', 'D'], ['AH0', 'K', 'AO1', 'R', 'D', 'Z'], ['AH0', 'K', 'AO1', 'R', 'D', 'AH0', 'N', 'S'], ['AH0', 'K', 'AO1', 'R', 'D', 'IH0', 'D'], ['AH0', 'K', 'AO1', 'R', 'D', 'IH0', 'NG'], ['AH0', 'K', 'AO1', 'R', 'D', 'IH0', 'NG', 'L', 'IY0'], ['AH0', 'K', 'AO1', 'R', 'D', 'IY0', 'AH0', 'N'], ['AH0', 'K', 'AO1', 'R', 'D', 'IY0', 'AH0', 'N', 'Z'], ['AH0', 'K', 'AO1', 'R', 'D', 'Z'], ['AH0', 'K', 'AO1', 'S', 'T'], ['AH0', 'K', 'AA1', 'S', 'T', 'IH0', 'D'], ['AH0', 'K', 'AA1', 'S', 'T', 'IH0', 'NG'], ['AH0', 'K', 'AW1', 'N', 'T'], ['AH0', 'K', 'AW1', 'N', 'T', 'S'], ['AH0', 'K', 'AW1', 'N', 'T', 'AH0', 'B', 'IH2', 'L', 'IH0', 'T', 'IY0'], ['AH0', 'K', 'AW1', 'N', 'AH0', 'B', 'IH0', 'L', 'IH0', 'T', 'IY0'], ['AH0', 'K', 'AW1', 'N', 'T', 'AH0', 'B', 'AH0', 'L'], ['AH0', 'K', 'AW1', 'N', 'AH0', 'B', 'AH0', 'L'], ['AH0', 'K', 'AW1', 'N', 'T', 'AH0', 'N', 'S', 'IY0'], ['AH0', 'K', 'AW1', 'N', 'T', 'AH0', 'N', 'T'], ['AH0', 'K', 'AW1', 'N', 'T', 'AH0', 'N', 'T', 'S'], ['AH0', 'K', 'AW1', 'N', 'T', 'AH0', 'N', 'T', 'S'], ['AH0', 'K', 'AW1', 'N', 'T', 'AH0', 'N', 'T', 'S'], ['AH0', 'K', 'AW1', 'N', 'T', 'IH0', 'D'], ['AH0', 'K', 'AW1', 'N', 'AH0', 'D'], ['AH0', 'K', 'AW1', 'N', 'T', 'EH2', 'M', 'P'], ['AH0', 'K', 'AW1', 'N', 'T', 'EH2', 'M', 'P', 'S'], ['AH0', 'K', 'AW1', 'N', 'T', 'IH0', 'NG'], ['AH0', 'K', 'AW1', 'N', 'IH0', 'NG'], ['AH0', 'K', 'AW1', 'N', 'T', 'S'], ['AH0', 'K', 'UW1', 'T', 'ER0', 'M', 'AH0', 'N', 'T'], ['AH0', 'K', 'UW1', 'T', 'ER0', 'M', 'AH0', 'N', 'T', 'S'], ['AH0', 'K', 'UW1', 'T', 'ER0', 'M', 'AH0', 'N', 'T'], ['AH0', 'K', 'UW1', 'T', 'ER0', 'M', 'AH0', 'N', 'T', 'S'], ['AA1', 'K', 'R', 'AA2'], ['AH0', 'K', 'R', 'EH2', 'D', 'AH0', 'T'], ['AH0', 'K', 'R', 'EH2', 'D', 'AH0', 'T', 'EY1', 'SH', 'AH0', 'N'], ['AH0', 'K', 'R', 'EH2', 'D', 'AH0', 'T', 'EY1', 'SH', 'AH0', 'N', 'Z'], ['AH0', 'K', 'R', 'EH1', 'D', 'IH0', 'T', 'IH0', 'D'], ['AH0', 'K', 'R', 'EH1', 'D', 'AH0', 'T', 'IH0', 'NG'], ['AH0', 'K', 'R', 'IY1', 'T', 'IH0', 'D'], ['AH0', 'K', 'R', 'IY1', 'SH', 'AH0', 'N'], ['AH0', 'K', 'R', 'UW1', 'AH0', 'L'], ['AH0', 'K', 'R', 'UW1', 'AH0', 'L', 'Z'], ['AH0', 'K', 'R', 'UW1'], ['AH0', 'K', 'R', 'UW1', 'D'], ['AH0', 'K', 'R', 'UW1', 'Z'], ['AH0', 'K', 'R', 'UW1', 'IH0', 'NG'], ['AE1', 'K', 'Y', 'UW0'], ['AE1', 'K', 'Y', 'UW0', 'HH', 'EH2', 'L', 'TH'], ['AH0', 'K', 'Y', 'UW1', 'M', 'Y', 'AH0', 'L', 'EY2', 'T'], ['AH0', 'K', 'Y', 'UW1', 'M', 'Y', 'AH0', 'L', 'EY2', 'T', 'IH0', 'D'], ['AH0', 'K', 'Y', 'UW1', 'M', 'Y', 'AH0', 'L', 'EY2', 'T', 'S'], ['AH0', 'K', 'Y', 'UW1', 'M', 'Y', 'AH0', 'L', 'EY2', 'T', 'IH0', 'NG'], ['AH0', 'K', 'Y', 'UW2', 'M', 'Y', 'AH0', 'L', 'EY1', 'SH', 'AH0', 'N'], ['AH0', 'K', 'Y', 'UW2', 'M', 'Y', 'AH0', 'L', 'EY1', 'SH', 'AH0', 'N', 'Z'], ['AH0', 'K', 'Y', 'UW1', 'M', 'Y', 'AH0', 'L', 'EY2', 'T', 'IH0', 'V'], ['AH0', 'K', 'Y', 'UW1', 'M', 'Y', 'AH0', 'L', 'EY2', 'T', 'IH0', 'V', 'L', 'IY0'], ['AH0', 'K', 'Y', 'UW1', 'M', 'Y', 'AH0', 'L', 'AH0', 'T', 'IH2', 'V', 'L', 'IY0'], ['AH0', 'K', 'Y', 'UW1', 'M', 'Y', 'AH0', 'L', 'EY2', 'T', 'ER0'], ['AH0', 'K', 'Y', 'UW1', 'M', 'Y', 'AH0', 'L', 'EY2', 'T', 'ER0', 'Z'], ['AE1', 'K', 'Y', 'ER0', 'AH0', 'S', 'IY0', 'Z'], ['AE1', 'K', 'Y', 'ER0', 'AH0', 'S', 'IY0'], ['AE1', 'K', 'Y', 'ER0', 'AH0', 'T'], ['AE1', 'K', 'Y', 'ER0', 'AH0', 'T', 'L', 'IY0'], ['AE1', 'K', 'Y', 'ER0', 'EY2'], ['AE1', 'K', 'Y', 'ER0', 'EY2', 'Z'], ['AE1', 'K', 'Y', 'ER0', 'AY2', 'D'], ['AE2', 'K', 'ER1', 'S', 'T'], ['AA0', 'K', 'UH1', 'R', 'S', 'OW0'], ['AE2', 'K', 'Y', 'AH0', 'Z', 'EY1', 'SH', 'AH0', 'N'], ['AE2', 'K', 'Y', 'UW0', 'Z', 'EY1', 'SH', 'AH0', 'N'], ['AE2', 'K', 'Y', 'AH0', 'Z', 'EY1', 'SH', 'AH0', 'N', 'Z'], ['AE2', 'K', 'Y', 'UW0', 'Z', 'EY1', 'SH', 'AH0', 'N', 'Z'], ['AH0', 'K', 'Y', 'UW1', 'Z', 'AH0', 'T', 'IH0', 'V'], ['AH0', 'K', 'Y', 'UW1', 'Z', 'AH0', 'T', 'AO2', 'R', 'IY0'], ['AH0', 'K', 'Y', 'UW1', 'Z'], ['AH0', 'K', 'Y', 'UW1', 'Z', 'D'], ['AH0', 'K', 'Y', 'UW1', 'Z', 'ER0'], ['AH0', 'K', 'Y', 'UW1', 'Z', 'ER0', 'Z'], ['AH0', 'K', 'Y', 'UW1', 'Z', 'IH0', 'Z'], ['AH0', 'K', 'Y', 'UW1', 'Z', 'IH0', 'NG'], ['AH0', 'K', 'Y', 'UW1', 'Z', 'IH0', 'NG', 'L', 'IY0'], ['AH0', 'K', 'AH1', 'S', 'T', 'AH0', 'M'], ['AH0', 'K', 'AH1', 'S', 'T', 'AH0', 'M', 'D'], ['AE1', 'K', 'Y', 'UW0', 'T', 'EY2', 'N'], ['EY1', 'S'], ['EY1', 'S', 'K', 'AA0', 'M'], ['EY1', 'S', 'T'], ['EY1', 'S', 'ER0'], ['AH0', 'S', 'EH1', 'R', 'B', 'IH0', 'K'], ['AH0', 'S', 'EH1', 'R', 'OW0'], ['AH0', 'S', 'Y', 'EH1', 'R', 'OW0'], ['AH0', 'TH', 'EH1', 'R', 'OW0'], ['AH0', 'S', 'EH1', 'R', 'AH0'], ['EY1', 'S', 'IH0', 'Z'], ['AH0', 'S', 'IY2', 'T', 'AH0', 'M', 'IH1', 'N', 'AH0', 'F', 'AH0', 'N'], ['AE1', 'S', 'AH0', 'T', 'EY2', 'T'], ['AH0', 'S', 'EH1', 'T', 'IH0', 'K'], ['AH0', 'S', 'IY1', 'T', 'IH0', 'K'], ['AA0', 'S', 'EH1', 'T', 'OW0'], ['AA0', 'S', 'EH1', 'T', 'OW0', 'K', 'L', 'AO2', 'R'], ['AE1', 'S', 'AH0', 'T', 'OW2', 'N'], ['AH0', 'S', 'EH2', 'T', 'OW0', 'S', 'IH1', 'R', 'IH0', 'NG', 'G', 'AO0', 'N'], ['AH0', 'S', 'EH2', 'T', 'AH0', 'L', 'K', 'OW1', 'L', 'IY0', 'N'], ['AH0', 'S', 'IY2', 'T', 'AH0', 'L', 'K', 'OW1', 'L', 'IY0', 'N'], ['AH0', 'S', 'EH1', 'T', 'AH0', 'L', 'IY2', 'N'], ['AE0', 'S', 'AH0', 'V', 'EY1', 'D', 'OW0'], ['AA0', 'S', 'EY1', 'V', 'EH0', 'S'], ['EY1', 'S', 'IY0'], ['EY1', 'S', 'IY1', 'EY1', 'CH'], ['AH0', 'CH', 'IY1', 'AH0', 'N'], ['AE1', 'K', 'AH0', 'T', 'S'], ['EY1', 'K'], ['AA0', 'CH', 'EY1', 'B', 'IY0'], ['EY1', 'K', 'T'], ['AH0', 'CH', 'IY1'], ['AE1', 'K', 'IH0', 'N', 'B', 'AA0', 'K'], ['AE1', 'K', 'AH0', 'N', 'B', 'AW2', 'M'], ['AH0', 'K', 'IY1', 'N'], ['AH0', 'K', 'IY1', 'N', 'Z'], ['EY1', 'K', 'S'], ['AE1', 'CH', 'AH0', 'S', 'AH0', 'N'], ['AE1', 'CH', 'AH0', 'S', 'AH0', 'N', 'Z'], ['AE1', 'CH', 'AH0', 'S', 'AH0', 'N', 'Z'], ['AE1', 'CH', 'IY0'], ['AH0', 'CH', 'IY1', 'V', 'AH0'], ['AH0', 'CH', 'IY1', 'V', 'AH0', 'B', 'AH0', 'L'], ['AH0', 'CH', 'IY1', 'V'], ['AH0', 'CH', 'IY1', 'V', 'D'], ['AH0', 'CH', 'IY1', 'V', 'M', 'AH0', 'N', 'T'], ['AH0', 'CH', 'IY1', 'V', 'M', 'AH0', 'N', 'T', 'S'], ['AH0', 'CH', 'IY1', 'V', 'ER0'], ['AH0', 'CH', 'IY1', 'V', 'ER0', 'Z'], ['AH0', 'CH', 'IY1', 'V', 'Z'], ['AH0', 'CH', 'IY1', 'V', 'IH0', 'NG'], ['AE1', 'K', 'IH0', 'L', '#', 'place,', 'irish'], ['AE1', 'K', 'IH0', 'L', 'Z'], ['AH0', 'K', 'IH1', 'L', 'IY0'], ['AH0', 'K', 'IH1', 'L', 'IY0', 'Z'], ['AH0', 'K', 'IH1', 'L', 'IY0', 'Z'], ['EY1', 'K', 'IH0', 'NG'], ['EY1', 'K', 'IH0', 'NG', 'L', 'IY0'], ['AA1', 'HH', 'M', 'EH0', 'D'], ['AH0', 'CH', 'OW1', 'AH0'], ['AH0', 'CH', 'OW1', 'AH0', 'Z'], ['AA2', 'CH', 'UW1'], ['EY1', 'K', 'ER0'], ['AE1', 'K', 'AO0', 'R', 'D'], ['AE1', 'K', 'ER0', 'N'], ['AE1', 'K', 'T', 'EH0', 'N', 'B', 'ER0', 'G'], ['AE1', 'K', 'T', 'ER0', 'B', 'ER0', 'G'], ['EY1', 'K', 'IY0'], ['AE1', 'S', 'AH0', 'D'], ['AH0', 'S', 'IH1', 'D', 'IH0', 'K'], ['AH0', 'S', 'IH2', 'D', 'AH0', 'F', 'AH0', 'K', 'EY1', 'SH', 'AH0', 'N'], ['AH0', 'S', 'IH1', 'D', 'AH0', 'F', 'AY2', 'D'], ['AH0', 'S', 'IH1', 'D', 'AH0', 'F', 'AY2', 'Z'], ['AH0', 'S', 'IH1', 'D', 'AH0', 'F', 'AY2'], ['AH0', 'S', 'IH1', 'D', 'AH0', 'T', 'IY0'], ['AE1', 'S', 'AH0', 'D', 'L', 'IY0'], ['AE2', 'S', 'AH0', 'D', 'OW1', 'S', 'AH0', 'S'], ['AE1', 'S', 'AH0', 'D', 'Z'], ['AE2', 'S', 'AH0', 'D', 'UH1', 'R', 'IY0', 'AH0'], ['AA0', 'S', 'IH1', 'R', 'N', 'OW0'], ['AE1', 'K'], ['AE1', 'K', 'ER0'], ['AE1', 'K', 'ER0', 'Z'], ['AE1', 'K', 'ER0', 'L', 'IY0'], ['AE1', 'K', 'ER0', 'L', 'IY0'], ['AE1', 'K', 'ER0', 'M', 'AH0', 'N'], ['AE1', 'K', 'ER0', 'M', 'AH0', 'N'], ['AE1', 'K', 'ER0', 'M', 'AH0', 'N', 'V', 'IH0', 'L'], ['AE1', 'K', 'ER0', 'S', 'AH0', 'N'], ['AE1', 'K', 'ER0', 'T'], ['AE1', 'K', 'HH', 'AW2', 'S'], ['AE1', 'K', 'L', 'AH0', 'N', 'D'], ['AE1', 'K', 'AH0', 'L', 'Z'], ['AE1', 'K', 'L', 'IY0'], ['AE1', 'K', 'L', 'IH0', 'N'], ['AE1', 'K', 'M', 'AH0', 'N'], ['AE0', 'K', 'N', 'AA1', 'L', 'IH0', 'JH'], ['AE0', 'K', 'N', 'AA1', 'L', 'IH0', 'JH', 'AH0', 'B', 'AH0', 'L'], ['AE0', 'K', 'N', 'AA1', 'L', 'IH0', 'JH', 'D'], ['AE0', 'K', 'N', 'AA1', 'L', 'IH0', 'JH', 'M', 'AH0', 'N', 'T'], ['AE0', 'K', 'N', 'AA1', 'L', 'IH0', 'JH', 'M', 'AH0', 'N', 'T', 'S'], ['AE0', 'K', 'N', 'AA1', 'L', 'IH0', 'JH', 'IH0', 'Z'], ['AE0', 'K', 'N', 'AA1', 'L', 'IH0', 'JH', 'IH0', 'NG'], ['AE0', 'K', 'N', 'AA1', 'L', 'IH0', 'JH', 'M', 'AH0', 'N', 'T'], ['AE0', 'K', 'N', 'AA1', 'L', 'IH0', 'JH', 'M', 'AH0', 'N', 'T', 'S'], ['AE1', 'K', 'R', 'OY2', 'D'], ['AE1', 'K', 'R', 'OY2', 'D', 'Z'], ['EY2', 'S', 'IY2', 'EH1', 'M'], ['AE1', 'K', 'M', 'AE0', 'T'], ['AE1', 'K', 'M', 'AE0', 'T', 'S'], ['AE1', 'K', 'M', 'IY0'], ['AE1', 'K', 'M', 'IY0', 'Z'], ['AE1', 'K', 'N', 'IY0'], ['AA0', 'K', 'OW0', 'CH', 'EH1', 'L', 'AH0'], ['AE1', 'K', 'AO0', 'F'], ['AH0', 'K', 'AO1', 'G'], ['AE1', 'K', 'AH0', 'L', 'AY2', 'T'], ['AE1', 'K', 'AH0', 'L', 'AY2', 'T', 'S'], ['EY1', 'K', 'AH0', 'M'], ['Y', 'AE1', 'K', 'AH0', 'M'], ['AH0', 'K', 'AO1', 'R', 'D'], ['AH0', 'K', 'AO1', 'R', 'D', 'IY0', 'AH0'], ['EY1', 'K', 'AO0', 'R', 'N'], ['EY1', 'K', 'AO0', 'R', 'N', 'Z'], ['EY1', 'K', 'AO0', 'R', 'N', 'Z'], ['AH0', 'K', 'AO1', 'S', 'T', 'AH0'], ['EY1', 'K', 'AO0', 'T'], ['AH0', 'K', 'UW1', 'S', 'T', 'IH0', 'K'], ['AH0', 'K', 'UW1', 'S', 'T', 'IH0', 'K', 'AH0', 'L'], ['AH0', 'K', 'UW1', 'S', 'T', 'IH0', 'K', 'L', 'IY0'], ['AH0', 'K', 'UW1', 'S', 'T', 'IH0', 'K', 'S'], ['AH0', 'K', 'W', 'EY1', 'N', 'T'], ['AH0', 'K', 'W', 'EY1', 'N', 'T', 'AH0', 'N', 'S'], ['AH0', 'K', 'W', 'EY1', 'N', 'T', 'AH0', 'N', 'S', 'IH0', 'Z'], ['AH0', 'K', 'W', 'EY1', 'N', 'T', 'AH0', 'N', 'S', 'SH', 'IH0', 'P'], ['AH0', 'K', 'W', 'EY1', 'N', 'T', 'IH0', 'D'], ['AH0', 'K', 'W', 'EY1', 'N', 'IH0', 'D'], ['AA0', 'K', 'W', 'AA0', 'V', 'IY1', 'V', 'AH0'], ['AE2', 'K', 'W', 'IY0', 'EH1', 'S'], ['AE2', 'K', 'W', 'IY0', 'EH1', 'S', 'T'], ['AE2', 'K', 'W', 'IY0', 'EH1', 'S', 'AH0', 'N', 'S'], ['AE2', 'K', 'W', 'IY0', 'EH1', 'S', 'AH0', 'N', 'T'], ['AE2', 'K', 'W', 'IY0', 'EH1', 'S', 'IH0', 'NG'], ['AH0', 'K', 'W', 'AY1', 'ER0'], ['AH0', 'K', 'W', 'AY1', 'ER0', 'D'], ['AH0', 'K', 'W', 'AY1', 'ER0', 'ER0'], ['AH0', 'K', 'W', 'AY1', 'ER0', 'ER0', 'Z'], ['AH0', 'K', 'W', 'AY1', 'ER0', 'ER0', 'Z'], ['AH0', 'K', 'W', 'AY1', 'ER0', 'Z'], ['AH0', 'K', 'W', 'AY1', 'R', 'IH0', 'NG'], ['AH0', 'K', 'W', 'AY1', 'ER0', 'IH0', 'NG'], ['AE2', 'K', 'W', 'AH0', 'Z', 'IH1', 'SH', 'AH0', 'N'], ['AE2', 'K', 'W', 'AH0', 'Z', 'IH1', 'SH', 'AH0', 'N', 'Z'], ['AE2', 'K', 'W', 'AH0', 'Z', 'IH1', 'SH', 'AH0', 'N', 'Z'], ['AH0', 'K', 'W', 'IH1', 'Z', 'AH0', 'T', 'IH0', 'V'], ['AH0', 'K', 'W', 'IH1', 'T'], ['AE1', 'K', 'W', 'IH0', 'T', 'EY2', 'N'], ['AH0', 'K', 'W', 'IH1', 'T', 'S'], ['AH0', 'K', 'W', 'IH1', 'T', 'AH0', 'L'], ['AH0', 'K', 'W', 'IH1', 'T', 'AH0', 'L', 'Z'], ['AH0', 'K', 'W', 'IH1', 'T', 'IH0', 'D'], ['AH0', 'K', 'W', 'IH1', 'T', 'IH0', 'NG'], ['EY1', 'K', 'ER0'], ['EY1', 'K', 'ER0', 'IH0', 'JH'], ['EY1', 'K', 'R', 'AH0', 'JH'], ['AH0', 'K', 'R', 'IY1'], ['EY1', 'K', 'ER0', 'Z'], ['AE1', 'K', 'R', 'IY0'], ['AA1', 'K', 'R', 'IY0'], ['AE1', 'K', 'R', 'IH0', 'D'], ['AE2', 'K', 'R', 'AH0', 'M', 'OW1', 'N', 'IY0', 'AH0', 'S'], ['AE1', 'K', 'R', 'IH0', 'M', 'OW2', 'N', 'IY0'], ['AE1', 'K', 'R', 'OW0'], ['AE1', 'K', 'R', 'AH0', 'B', 'AE2', 'T'], ['AE2', 'K', 'R', 'AH0', 'B', 'AE1', 'T', 'IH0', 'K'], ['AE2', 'K', 'R', 'AH0', 'B', 'AE1', 'T', 'IH0', 'K', 'S'], ['AE1', 'K', 'R', 'AH0', 'B', 'AE2', 'T', 'S'], ['AE1', 'K', 'R', 'OW0', 'L', 'IY2', 'N'], ['AE1', 'K', 'R', 'AH0', 'N', 'IH0', 'M'], ['AE1', 'K', 'R', 'AH0', 'N', 'IH0', 'M', 'Z'], ['AH0', 'K', 'R', 'AA1', 'P', 'AH0', 'L', 'AH0', 'S'], ['AH0', 'K', 'R', 'AO1', 'S'], ['AH0', 'K', 'R', 'IH1', 'L', 'IH0', 'K'], ['AH0', 'K', 'R', 'IH1', 'L', 'IH0', 'K', 'S'], ['AE1', 'K', 'T'], ['AE1', 'K', 'T', 'S'], ['AE1', 'K', 'T', 'AA0'], ['AE2', 'K', 'T', 'AA1', 'V', 'AH0'], ['AE2', 'K', 'T', 'AA1', 'V', 'AH0', 'Z'], ['AE2', 'K', 'T', 'AA1', 'V', 'AH0', 'Z'], ['AE1', 'K', 'T', 'IH0', 'D'], ['AE1', 'K', 'T', 'EH0', 'L'], ['AE1', 'K', 'T', 'IH0', 'G', 'AO0', 'L'], ['AE1', 'K', 'T', 'AH0', 'N'], ['AE1', 'K', 'T', 'IH0', 'NG'], ['AE1', 'K', 'T', 'IH0', 'N', 'AY2', 'D'], ['AE2', 'K', 'T', 'IH0', 'N', 'IH1', 'D', 'IY0', 'AH0'], ['AE2', 'K', 'T', 'IH2', 'N', 'OW0', 'M', 'AY2', 'K', 'OW1', 'S', 'IH0', 'S'], ['AE1', 'K', 'SH', 'AH0', 'N'], ['AE1', 'K', 'SH', 'AH0', 'N', 'Z'], ['AE1', 'K', 'SH', 'AH0', 'N', 'AH0', 'B', 'AH0', 'L'], ['AE1', 'K', 'SH', 'AH0', 'N', 'Z'], ['AE1', 'K', 'T', 'IH0', 'V', 'EY2', 'Z'], ['AE1', 'K', 'T', 'AH0', 'V', 'EY2', 'T'], ['AE1', 'K', 'T', 'AH0', 'V', 'EY2', 'T', 'IH0', 'D'], ['AE1', 'K', 'T', 'AH0', 'V', 'EY2', 'T', 'S'], ['AE1', 'K', 'T', 'AH0', 'V', 'EY2', 'T', 'IH0', 'NG'], ['AE2', 'K', 'T', 'AH0', 'V', 'EY1', 'SH', 'AH0', 'N'], ['AE1', 'K', 'T', 'AH0', 'V', 'EY2', 'T', 'ER0'], ['AE1', 'K', 'T', 'IH0', 'V'], ['AE1', 'K', 'T', 'IH0', 'V', 'Z'], ['AE1', 'K', 'T', 'IH0', 'V', 'L', 'IY0'], ['AE1', 'K', 'T', 'IH0', 'V', 'Z'], ['AE1', 'K', 'T', 'IH0', 'V', 'IH2', 'ZH', 'AH0', 'N'], ['AE1', 'K', 'T', 'IH0', 'V', 'IH2', 'Z', 'AH0', 'M'], ['AE1', 'K', 'T', 'AH0', 'V', 'AH0', 'S', 'T'], ['AE1', 'K', 'T', 'IH0', 'V', 'IH0', 'S', 'T'], ['AE1', 'K', 'T', 'AH0', 'V', 'AH0', 'S', 'T', 'S'], ['AE1', 'K', 'T', 'IH0', 'V', 'IH0', 'S', 'T', 'S'], ['AE1', 'K', 'T', 'IH0', 'V', 'IH0', 'S', 'T', 'S'], ['AE0', 'K', 'T', 'IH1', 'V', 'AH0', 'T', 'IY0', 'Z'], ['AE0', 'K', 'T', 'IH1', 'V', 'IH0', 'T', 'IY0', 'Z'], ['AE0', 'K', 'T', 'IH1', 'V', 'AH0', 'T', 'IY0'], ['AE0', 'K', 'T', 'IH1', 'V', 'IH0', 'T', 'IY0'], ['AE0', 'K', 'T', 'M', 'IY1', 'D', 'IY0', 'AH0'], ['AE1', 'K', 'T', 'OW0', 'D', 'AY2', 'N'], ['AE1', 'K', 'T', 'AH0', 'N'], ['AE1', 'K', 'T', 'ER0'], ['AE1', 'K', 'T', 'ER0', 'Z'], ['AE1', 'K', 'T', 'ER0', 'Z'], ['AE1', 'K', 'T', 'ER0', 'Z'], ['AE1', 'K', 'T', 'R', 'AH0', 'S'], ['AE1', 'K', 'T', 'R', 'AH0', 'S', 'IH0', 'Z'], ['AE1', 'K', 'T', 'R', 'AH0', 'S', 'IH0', 'Z'], ['AE1', 'K', 'T', 'S'], ['AE1', 'K', 'S'], ['AE1', 'K', 'CH', 'AH0', 'W', 'AH0', 'L'], ['AE1', 'K', 'SH', 'AH0', 'L'], ['AE2', 'K', 'CH', 'UW0', 'AE1', 'L', 'AH0', 'T', 'IY2'], ['AE1', 'K', 'CH', 'UW2', 'AH0', 'L', 'AY2', 'Z'], ['AE1', 'K', 'CH', 'UW2', 'AH0', 'L', 'IY0'], ['AE1', 'K', 'CH', 'L', 'IY0'], ['AE1', 'K', 'SH', 'AH0', 'L', 'IY0'], ['AE2', 'K', 'CH', 'UW2', 'EH1', 'R', 'IY0', 'AH0', 'L'], ['AE1', 'K', 'CH', 'UW2', 'EH1', 'R', 'IY2', 'Z'], ['AE1', 'K', 'CH', 'UW0', 'EH1', 'R', 'IY2'], ['AE1', 'K', 'CH', 'UW2', 'EY1', 'T'], ['AE1', 'K', 'T', 'Y', 'UW0', 'EY2', 'T', 'ER0'], ['AE1', 'K', 'CH', 'UW0', 'EY2', 'T', 'ER0'], ['AE1', 'K', 'T', 'Y', 'UW0', 'EY2', 'T', 'ER0', 'Z'], ['AE1', 'K', 'CH', 'UW0', 'EY2', 'T', 'ER0', 'Z'], ['AE1', 'K', 'T', 'AH0', 'S'], ['AH0', 'K', 'AH1', 'F'], ['AH0', 'K', 'Y', 'UW1', 'AH0', 'T', 'IY0'], ['AH0', 'K', 'Y', 'UW1', 'M', 'AH0', 'N'], ['AA0', 'K', 'UW1', 'N', 'AH0'], ['AE1', 'K', 'Y', 'UW0', 'P', 'AH2', 'NG', 'K', 'CH', 'ER0'], ['AE1', 'K', 'Y', 'ER0', 'AH0'], ['AE1', 'K', 'Y', 'ER0', 'AH0', 'Z'], ['AE1', 'K', 'Y', 'ER0', 'AH0', 'Z'], ['AE2', 'K', 'Y', 'UW1', 'S', 'AH0', 'N'], ['AE1', 'K', 'Y', 'UW0', 'S', 'T', 'AA2', 'R'], ['AE1', 'K', 'Y', 'UW0', 'S', 'IH0', 'S', 'T'], ['AH0', 'K', 'Y', 'UW1', 'T'], ['AH0', 'K', 'Y', 'UW1', 'T', 'L', 'IY0'], ['AH0', 'K', 'Y', 'UW1', 'T', 'N', 'AH0', 'S'], ['AH0', 'S', 'IH1', 'K', 'L', 'OW0', 'V', 'IH2', 'R'], ['AE1', 'D'], ['AE1', 'D', 'Z'], ['AE1', 'D', 'HH', 'AA1', 'K'], ['AE1', 'D', 'L', 'IH1', 'B'], ['AE1', 'D', 'N', 'AO1', 'Z', 'IY0', 'AA0', 'M'], ['AE1', 'D', 'N', 'AO1', 'Z', 'IY0', 'AH0', 'M'], ['EY1', 'D', 'AH0'], ['EY1', 'D', 'AH0', 'Z'], ['AE1', 'D', 'AH0', 'B', 'EH0', 'L'], ['AE1', 'D', 'AH0', 'B', 'AH0', 'L'], ['AA0', 'D', 'AA1', 'K', 'IY0'], ['AE1', 'D', 'AH0', 'JH'], ['AE1', 'D', 'IH0', 'JH'], ['AH0', 'D', 'AA1', 'ZH', 'IY0', 'OW2'], ['AE1', 'D', 'AA0'], ['AH0', 'D', 'EH1', 'R'], ['AA0', 'D', 'EH1', 'R'], ['AH0', 'D', 'AE1', 'K'], ['AA0', 'D', 'AA1', 'L', 'AH0'], ['AA0', 'D', 'AA1', 'L', 'IY0', 'AH0'], ['AE1', 'D', 'AH0', 'M'], ['AE1', 'D', 'AH0', 'M', 'Z'], ['AE1', 'D', 'AH0', 'M', 'AH0', 'N', 'T'], ['AE1', 'D', 'AH0', 'M', 'AH0', 'N', 'T', 'L', 'IY0'], ['AA1', 'D', 'AH0', 'M', 'CH', 'IH0', 'K'], ['AA1', 'D', 'AH0', 'M', 'CH', 'AE0', 'K'], ['AA1', 'D', 'AH0', 'M', 'CH', 'IH0', 'K'], ['AA0', 'D', 'AA1', 'M', 'IY0'], ['AH0', 'D', 'AA1', 'M', 'IH0', 'K'], ['AH0', 'D', 'AA1', 'M', 'EH0', 'K'], ['AH0', 'D', 'EY1', 'M', 'Z'], ['AA0', 'D', 'AA1', 'M', 'IY0'], ['AH0', 'D', 'AA1', 'M', 'IH0', 'K'], ['AA0', 'D', 'AA0', 'M', 'IY1', 'N', 'AH0'], ['AE1', 'D', 'AH0', 'M', 'K', 'AH0', 'S'], ['AA0', 'D', 'AA1', 'M', 'OW0'], ['AH0', 'D', 'AA1', 'M', 'AH0', 'V', 'IH0', 'CH'], ['AE1', 'D', 'AH0', 'M', 'Z'], ['AE1', 'D', 'AH0', 'M', 'Z'], ['AE1', 'D', 'AH0', 'M', 'Z', 'IH0', 'Z'], ['AH0', 'D', 'AE1', 'M', 'S', 'K', 'IY2'], ['AE1', 'D', 'AH0', 'M', 'S', 'AH0', 'N']]\n"
          ]
        }
      ],
      "source": [
        "#Extract phonetics only\n",
        "#Transform each phonetic representation into a sequence of phonemes\n",
        "f=open(dict_file, \"r\")\n",
        "full_text=f.read()\n",
        "f.close()\n",
        "full_text_split=full_text.split(\"\\n\")\n",
        "word_list=[]\n",
        "phonetics_list=[]\n",
        "etp_dict={}\n",
        "for i in range(len(full_text_split)):\n",
        "  full_text_split[i]=full_text_split[i].split(\" \")\n",
        "  word_list.append(full_text_split[i][0])\n",
        "  phonetics_list.append(full_text_split[i][1:])\n",
        "  etp_dict[full_text_split[i][0]]=full_text_split[i][1:]\n",
        "print(full_text_split[:1000])\n",
        "print(phonetics_list[:1000])"
      ]
    },
    {
      "cell_type": "code",
      "execution_count": 45,
      "metadata": {
        "id": "xBWKAyXdhhND",
        "colab": {
          "base_uri": "https://localhost:8080/"
        },
        "outputId": "7fa75ce1-e979-406c-9c90-35295ee85327"
      },
      "outputs": [
        {
          "output_type": "stream",
          "name": "stdout",
          "text": [
            "[['V', 'AE1', 'L', 'IY0'], ['W', 'AO1', 'L', 'D', 'AA0', 'K'], ['K', 'EY1', 'B', 'AH0', 'L', 'G', 'R', 'AE2', 'M'], ['T', 'UH1', 'R', 'Z'], ['P', 'R', 'AA1', 'M', 'P', 'T', 'L', 'IY0'], ['AH0', 'N', 'D'], ['AA0', 'N', 'R', 'IY1', 'K'], ['F', 'EH1', 'L', 'OW2', 'Z'], ['B', 'ER1', 'K', 'SH', 'AY2', 'R'], ['HH', 'EH1', 'N', 'IH0', 'NG', 'S', 'AH0', 'N'], ['F', 'L', 'AE1', 'G', 'S', 'T', 'OW2', 'N'], ['P', 'R', 'IH0', 'M', 'EH1', 'R', 'IH0', 'K', 'AH0', 'Z'], ['AA2', 'D', 'IY0', 'OW1', 'S'], ['P', 'L', 'AH1', 'N', 'JH', 'D'], ['CH', 'AE0', 'M', 'P', 'EY1', 'N', 'ER0', 'B', 'AE1', 'N', 'AH0'], ['B', 'Y', 'UW1', 'N', 'OW0', 'L'], ['HH', 'AA1', 'R', 'T', 'AO0', 'NG'], ['K', 'EY1', 'L', 'Z'], ['T', 'R', 'AE1', 'M', 'P'], ['P', 'ER0', 'EH1', 'R', 'AH0'], ['G', 'AH1', 'TH', 'M', 'IH0', 'L', 'ER0'], ['AW1', 'T', 'N', 'AH2', 'M', 'B', 'ER0', 'IH0', 'NG'], ['L', 'IY0', 'OW1', 'T', 'IY0', 'EY2'], ['W', 'EH2', 'S', 'T', 'HH', 'AE1', 'M', 'P', 'T', 'AH0', 'N'], ['B', 'L', 'EH1', 'N', 'D', 'ER0'], ['K', 'AE1', 'N', 'S', 'ER0', 'Z'], ['JH', 'ER0', 'AA0', 'L', 'D', 'IY1', 'N', 'AH0'], ['N', 'AE1', 'SH', 'N', 'AH0', 'L', 'IH0', 'S', 'T'], ['K', 'AA2', 'M', 'AH0', 'N', 'D', 'AA1', 'N', 'T'], ['F', 'R', 'EY1', 'N'], ['L', 'IH1', 'N', 'S', 'EY0'], ['AA0', 'M', 'AA1', 'Y', 'AH0'], ['K', 'OW2', 'AH0', 'G', 'Z', 'IH1', 'S', 'T'], ['B', 'ER1', 'K', 'AO0'], ['M', 'UW1', 'IH0'], ['K', 'EH1', 'M', 'AH0', 'N', 'Z'], ['HH', 'AO1', 'TH', 'AO2', 'R', 'N'], ['IY1', 'L', 'EH0', 'V', 'AH0', 'N'], ['F', 'IH1', 'SH', 'ER0', 'IY0', 'Z'], ['D', 'AH1', 'NG', 'K'], ['D', 'IH0', 'S', 'F', 'IH1', 'G', 'Y', 'ER0', 'D'], ['B', 'EH1', 'N', 'AH0', 'D', 'IH0', 'K'], ['S', 'EH1', 'L', 'T', 'S', 'ER0'], ['K', 'IH1', 'SH'], ['D', 'EH1', 'F', 'R', 'AY0', 'T', 'AH0', 'Z'], ['M', 'AA0', 'L', 'IY1', 'N', 'AH0'], ['P', 'OW1', 'L', 'IH0', 'NG'], ['B', 'AE1', 'NG', 'K', 'HH', 'OW2', 'L', 'D', 'IH0', 'NG'], ['P', 'EY1', 'N', 'T', 'ER0', 'L', 'IY0'], ['L', 'OW1', 'JH', 'IY0'], ['R', 'AO1', 'ER0', 'R'], ['F', 'AO1', 'K', 'AH0', 'N', 'S', 'T', 'AY0', 'N'], ['F', 'EH1', 'S', 'T'], ['M', 'AH0', 'L', 'EH1', 'N', 'IY0', 'AH0', 'M'], ['HH', 'AO1', 'R', 'S', 'IH0', 'Z'], ['T', 'AY1', 'T', 'AH0', 'L', 'B', 'AW0', 'M'], ['B', 'L', 'AY1', 'L', 'ER0'], ['Z', 'AY1', 'M', 'IH0', 'T'], ['T', 'EH1', 'K', 'S', 'AH0', 'S', 'AH0', 'Z'], ['L', 'AO1', 'N', 'CH', 'ER0', 'Z'], ['L', 'IH1', 'N', 'CH'], ['K', 'AH0', 'N', 'JH', 'EH1', 'S', 'T', 'IH0', 'D'], ['S', 'T', 'IY1', 'L', 'Z'], ['AH0', 'N', 'T', 'AA1', 'SH'], ['IH0', 'N', 'T', 'ER0', 'N', 'AE2', 'SH', 'AH0', 'N', 'AA1', 'L', 'IY0'], ['W', 'EH1', 'L', 'F', 'ER0', 'D'], ['L', 'AO1', 'D', 'AH0', 'N', 'AH0', 'M'], ['HH', 'ER0', 'M', 'AE1', 'F', 'R', 'AH0', 'D', 'AY2', 'T'], ['TH', 'R', 'EH1', 'SH', 'ER0'], ['S', 'AA1'], ['W', 'AY1', 'M', 'ER0'], ['L', 'IY1', 'B'], ['AH0', 'K', 'AE1', 'D', 'AH0', 'M', 'IY0', 'Z'], ['R', 'UW2', 'S', 'IH1', 'NG', 'K', 'OW0'], ['P', 'UH1', 'SH', 'IH0', 'Z'], ['JH', 'AE1', 'S', 'IH0', 'N', 'TH'], ['B', 'AA1', 'N', 'D', 'ER0', 'M', 'AH0', 'N'], ['B', 'AA1', 'R', 'K', 'AH0', 'N'], ['HH', 'AE1', 'D', 'F', 'IY2', 'L', 'D'], ['M', 'AH0', 'L', 'EY1', 'Z'], ['AA1', 'T', 'IY0', 'Z', 'AH0', 'N'], ['Z', 'AY1', 'L', 'AH0', 'N', 'AH0'], ['K', 'OW1', 'L', 'D', 'B', 'L', 'AH1', 'D'], ['G', 'AH1', 'M', 'Z'], ['Y', 'ER1', 'K', 'IY0'], ['D', 'AE0', 'L', 'EH1', 'S', 'T'], ['K', 'IH1', 'N', 'S', 'T', 'AH0', 'N'], ['P', 'AA0', 'T', 'N', 'AO1', 'D', 'IY0'], ['D', 'AW1', 'D', 'Z'], ['G', 'L', 'AE1', 'D', 'AH0', 'N'], ['K', 'AA2', 'M', 'B', 'AH0', 'N', 'EY1', 'SH', 'AH0', 'N', 'Z'], ['B', 'AO1', 'K'], ['S', 'AH0', 'B', 'S', 'T', 'AE1', 'N', 'SH', 'IY0', 'EY2', 'T', 'IH0', 'D'], ['HH', 'AY1', 'L', 'AH0', 'N', 'D'], ['T', 'EH2', 'L', 'AH0', 'F', 'AA1', 'N', 'IH0', 'K', 'S'], ['SH', 'W', 'IY1', 'D', 'AH0'], ['K', 'ER0', 'AA1', 'T', 'IH0', 'D'], ['P', 'AE1', 'TH', 'AH0', 'T', 'L', 'AW1'], ['SH', 'AO1', 'R', 'T', 'AH0', 'JH'], ['D', 'AO1', 'R', 'N', 'HH', 'EH0', 'N', 'Z'], ['HH', 'OW1', 'M', 'M', 'EY2', 'K', 'ER0'], ['IH2', 'N', 'S', 'EY1', 'N'], ['K', 'AO1', 'R', 'B', 'AH0', 'L'], ['V', 'AE0', 'N', 'AE1', 'L', 'S', 'T', 'IY0', 'N'], ['K', 'W', 'AA2', 'S', 'AA1', 'N', 'T'], ['B', 'R', 'AA1', 'D', 'ER0', 'S', 'AH0', 'N'], ['G', 'AH1', 'V', 'ER0', 'M', 'EH2', 'N', 'T', 'AH0', 'L', 'IY0'], ['TH', 'IH1', 'R', 'IY0'], ['S', 'IY2', 'V', 'IH0', 'L', 'EH1', 'T', 'IY0'], ['HH', 'AY1', 'P', 'ER0', 'M', 'AA2', 'R', 'K', 'IH0', 'T', 'S'], ['HH', 'AA1', 'R', 'P', 'ER0', 'Z'], ['T', 'UW1', 'B', 'Y', 'UW0', 'L'], ['AH1', 'HH', 'AH1'], ['G', 'R', 'OW1', 'V', 'ER0', 'Z'], ['EH1', 'L', 'P', 'AE1', 'S', 'OW0'], ['B', 'AA1', 'R', 'N', 'S', 'T', 'AO2', 'R', 'M', 'IH0', 'NG'], ['HH', 'OW1', 'L', 'AH0', 'W', 'EY0'], ['G', 'OW1', 'AH0'], ['S', 'K', 'AO1', 'L', 'D'], ['V', 'AA1', 'S', 'L', 'ER0'], ['N', 'UW1', 'T', 'R', 'IY0'], ['F', 'R', 'IY1', 'S', 'T', 'OW2', 'N'], ['IH2', 'N', 'T', 'ER1', 'P', 'R', 'AH0', 'T', 'S'], ['K', 'R', 'OW1', 'ZH', 'ER0'], ['AH0', 'N', 'B', 'EH1', 'R', 'AH0', 'B', 'AH0', 'L'], ['HH', 'UW1', 'L'], ['D', 'EY1', 'G', 'AH0', 'L'], ['TH', 'AH1', 'M', 'P'], ['V', 'EH1', 'R', 'G', 'AH0'], ['M', 'AE0', 'G', 'N', 'EH1', 'T', 'IH0', 'K', 'AH0', 'L', 'IY0'], ['EH0', 'S', 'T', 'OW1', 'N', 'IY0', 'AH0'], ['JH', 'AA1', 'R', 'N', 'AH0', 'JH', 'IH0', 'N'], ['F', 'AY1', 'OW0', 'L', 'AH0'], ['F', 'ER1', 'S', 'T'], ['K', 'AW1', 'N', 'T', 'ER0', 'M', 'EH2', 'ZH', 'ER0', 'Z'], ['S', 'AE1', 'N', 'AH0', 'T', 'AY2', 'Z', 'IH0', 'NG'], ['M', 'AH1', 'N', 'S', 'IY0'], ['S', 'T', 'R', 'EY1', 'T', 'AH0', 'N'], ['G', 'AA0', 'R', 'B', 'AA0', 'R', 'IY1', 'N', 'OW0'], ['Y', 'IH1', 'R', 'AH0', 'G', 'OW0'], ['AH0', 'B', 'Z', 'AO1', 'R', 'B', 'AH0', 'N', 'S', 'IY0'], ['IH0', 'N', 'L', 'AA1', 'R', 'G', 'ER0'], ['N', 'AE1', 'K', 'IY0', 'OW2'], ['B', 'AA1', 'L', 'D', 'EH2', 'V'], ['B', 'AE1', 'NG', 'K', 'V', 'ER0', 'M', 'AA1', 'N', 'T'], ['L', 'AE1', 'N', 'AH0', 'M'], ['T', 'EH1', 'K', 'N', 'IH0', 'K', 'AH0', 'L', 'Z'], ['N', 'EY1', 'T', 'AH0', 'L'], ['W', 'EH1', 'S', 'T', 'L', 'IY0'], ['P', 'L', 'AW1', 'D'], ['AA1', 'P', 'R', 'AH0', 'L'], ['HH', 'EH1', 'N', 'ER0', 'IY0'], ['AA1', 'R', 'G', 'OW0'], ['B', 'R', 'AE1', 'N', 'Z', 'K', 'AH2', 'M'], ['P', 'IY1', 'K', 'IH0', 'NG'], ['K', 'R', 'OW1', 'TH', 'ER0', 'Z'], ['D', 'W', 'EY1', 'N'], ['AA0', 'B', 'R', 'UW0', 'T', 'S', 'EY1', 'Z', 'IY0'], ['AE1', 'F', 'R', 'IH0', 'K', 'AA0', 'N', 'IH0', 'S', 'T', 'S'], ['HH', 'IH1', 'P', 'B', 'OW1', 'N'], ['N', 'OW1', 'L', 'Z'], ['S', 'L', 'EH1', 'D', 'Z'], ['AH0', 'N', 'S', 'K', 'R', 'UW1', 'P', 'Y', 'AH0', 'L', 'AH0', 'S'], ['D', 'AY1', 'S'], ['S', 'EH1', 'L', 'M', 'AY0', 'ER0'], ['L', 'EH1', 'P', 'IH0', 'JH'], ['P', 'L', 'UW1', 'D'], ['G', 'R', 'IY1', 'S'], ['T', 'R', 'IH1', 'V', 'AH0', 'S', 'T'], ['B', 'UW1', 'Y', 'AH0', 'K'], ['M', 'AH1', 'T', 'ER0'], ['S', 'P', 'AA1', 'R', 'K', 'AH0', 'L', 'IH0', 'NG'], ['B', 'AO1', 'R', 'L', 'AH0', 'N', 'D', 'Z'], ['AA1', 'R', 'D', 'OW2', 'L', 'F'], ['V', 'AA1', 'R', 'G', 'AH0'], ['W', 'IY1'], ['T', 'AA1', 'M', 'S', 'AH0', 'N'], ['B', 'UW1', 'M', 'Z'], ['T', 'R', 'EH1', 'D', 'W', 'IY2', 'L'], ['W', 'AY1', 'D', 'M', 'AH0', 'N'], ['M', 'AY1', 'K', 'R', 'OW0', 'F', 'OW2', 'N', 'Z'], ['S', 'IH1', 'CH', 'UW0', 'EY2', 'T', 'IH0', 'D'], ['D', 'AH0', 'L', 'UW1', 'TH'], ['S', 'P', 'IH1', 'V', 'AH0', 'K'], ['R', 'IY0', 'K', 'AE1', 'S', 'T', 'IH0', 'NG'], ['AE0', 'D', 'V', 'AE1', 'N', 'T', 'IH0', 'JH', 'IH0', 'Z'], ['T', 'EH1', 'N', 'AH0', 'N', 'T', 'S'], ['G', 'R', 'AH0', 'N', 'AA1', 'D', 'AH0'], ['M', 'IH0', 'S', 'R', 'EH1', 'K', 'AH0', 'G', 'N', 'AY2', 'Z'], ['S', 'T', 'IH1', 'K', 'AH0', 'L', 'Z'], ['Y', 'UW2', 'K', 'EY1'], ['HH', 'AY1', 'D', 'R', 'AH0', 'L', 'AY2', 'Z'], ['B', 'R', 'AE1', 'K', 'AH0', 'N', 'B', 'EH2', 'R', 'IY0'], ['M', 'AE1', 'L', 'IH0', 'K'], ['F', 'L', 'AE1', 'T', 'AH0', 'N'], ['K', 'L', 'EH1', 'N', 'CH', 'AH0', 'Z'], ['M', 'OW0', 'P', 'AE1', 'N'], ['L', 'OW0', 'K', 'EY1', 'D', 'IY0', 'AH0'], ['S', 'AO1', 'B', 'ER0'], ['W', 'AO1', 'R', 'M', 'TH'], ['K', 'EH1', 'R', 'IY0', 'ER0', 'Z'], ['V', 'AA1', 'R', 'AH0'], ['R', 'EH1', 'B', 'AH0', 'L', 'Z'], ['F', 'AH0', 'S', 'IH1', 'L', 'AH0', 'T', 'EY2', 'T', 'ER0'], ['F', 'AH1', 'N', 'T', 'AY2', 'M'], ['P', 'AE1', 'N', 'AH0', 'L', 'IH0', 'S', 'T', 'S'], ['S', 'L', 'IH1', 'T'], ['V', 'ER1', 'B', 'AH0', 'L', 'AY2', 'Z'], ['HH', 'EY1', 'Z', 'AH0', 'L'], ['M', 'EH1', 'R', 'IH0', 'T', 'IH0', 'D'], ['P', 'EY1', 'K'], ['S', 'EH1', 'L', 'S', 'ER0'], ['T', 'R', 'IH0', 'B', 'IH1', 'L', 'K', 'AH0', 'K'], ['M', 'EH1', 'S', 'ER0', 'Z'], ['S', 'T', 'EY1', 'K', 'S'], ['N', 'IH1', 'L'], ['CH', 'EH1', 'R', 'AH0', 'B', 'Z'], ['D', 'IY1', 'W', 'UH0', 'D', 'IY0'], ['F', 'EH1', 'B', 'R', 'AH0', 'S'], ['HH', 'ER1', 'M', 'AH0', 'N'], ['M', 'AH1', 'N', 'Z', 'ER0'], ['D', 'AA1', 'L'], ['B', 'EY1', 'N', 'ER0', 'D'], ['L', 'AA1', 'NG', 'P', 'ER0'], ['Y', 'UW1', 'N', 'Y', 'AH0', 'N', 'IH2', 'Z', 'AH0', 'M'], ['K', 'AA2', 'N', 'S', 'T', 'IH1', 'T', 'UW0', 'T', 'IH2', 'V'], ['N', 'IY1', 'L', 'Z'], ['M', 'AE2', 'L', 'P', 'EH1', 'N', 'S', 'AA0'], ['D', 'IH1', 'K', 'AH0', 'N', 'Z'], ['K', 'AH0', 'N', 'V', 'EH2', 'N', 'SH', 'AH0', 'N', 'IH1', 'R', 'Z'], ['IH2', 'N', 'K', 'R', 'IY1', 'S', 'T'], ['W', 'UH1', 'D', 'W', 'AO2', 'R', 'D'], ['K', 'OW1', 'N', 'ER0'], ['D', 'EH1', 'R', 'IY0'], ['M', 'EH1', 'K', 'W', 'AH0', 'N'], ['EY1', 'JH', 'AE2', 'K', 'S', 'AH0', 'Z'], ['K', 'OW1', 'L', 'ER0'], ['K', 'R', 'AA1', 'K'], ['K', 'EH1', 'L', 'S', 'AH0', 'L'], ['F', 'AH2', 'N', 'AH0', 'CH', 'EH1', 'L', 'OW0'], ['S', 'EH2', 'N', 'S', 'IH0', 'T', 'IH1', 'V', 'IH0', 'T', 'IY0', 'Z'], ['K', 'AH1', 'L', 'HH', 'AH0', 'N', 'EH0', 'K'], ['M', 'AH0', 'K', 'EH1', 'L', 'ER0'], ['G', 'EY1', 'N', 'S', 'K', 'OW0'], ['V', 'ER1', 'B', 'AH0', 'L'], ['B', 'AE1', 'N', 'F', 'ER0', 'D'], ['L', 'AH1', 'V', 'L', 'AH0', 'S'], ['D', 'AE1', 'T', 'S', 'AH0', 'N'], ['K', 'AA1', 'M', 'IH0', 'S', 'AA0', 'Z'], ['S', 'L', 'AY1', 'V', 'AH0'], ['R', 'AE2', 'SH', 'AH0', 'N', 'AE1', 'L'], ['ER1', 'K', 'IH0', 'L', 'AH0'], ['AH0', 'N', 'P', 'L', 'EH1', 'Z', 'AH0', 'N', 'T', 'L', 'IY0'], ['HH', 'AH1', 'N', 'T', 'L', 'IY0'], ['D', 'IH0', 'S', 'EH0', 'M', 'B', 'AA1', 'R', 'K'], ['S', 'L', 'EH1', 'V', 'IH0', 'N'], ['N', 'AA2', 'N', 'P', 'R', 'AH0', 'F', 'EH1', 'SH', 'AH0', 'N', 'AH0', 'L'], ['AE1', 'R', 'IH0', 'N', 'T', 'S'], ['JH', 'UW1', 'D', 'AH0', 'TH'], ['D', 'IH0', 'T', 'ER1', 'M', 'AH0', 'N', 'AH0', 'N', 'T'], ['L', 'EY1', 'AH0', 'N', 'B', 'AW0', 'ER0'], ['P', 'AH0', 'CH', 'K', 'AO1', 'F', 'S', 'K', 'IY0'], ['AA1', 'N', 'SH', 'L', 'UW0', 'S'], ['P', 'R', 'IY0', 'T', 'EH1', 'N', 'S', 'IH0', 'Z'], ['S', 'AE2', 'B', 'AH0', 'T', 'IY1', 'N', 'IY0'], ['N', 'AA0', 'N', 'P', 'R', 'AH0', 'L', 'IH2', 'F', 'ER0', 'EY1', 'SH', 'AH0', 'N'], ['D', 'IH2', 'S', 'K', 'AH0', 'M', 'B', 'AO1', 'B', 'Y', 'UW0', 'L', 'EY0', 'T', 'S'], ['P', 'EH1', 'N', 'W', 'EH2', 'L'], ['R', 'IY0', 'T', 'ER1', 'N', 'Z'], ['V', 'IY0', 'OW1'], ['V', 'AE2', 'N', 'S', 'T', 'R', 'EY1', 'T', 'AH0', 'N'], ['V', 'IH1', 'K', 'S', 'B', 'ER0', 'G'], ['JH', 'UW1', 'V', 'AH0', 'N', 'AH0', 'L', 'Z'], ['AH0', 'N', 'F', 'L', 'AE1', 'G', 'IH0', 'NG'], ['P', 'EH1', 'P', 'S', 'IH0', 'K', 'OW0'], ['R', 'IY2', 'S', 'EH1', 'SH', 'AH0', 'N', 'Z'], ['OW1', 'AH0', 'N'], ['L', 'AO1', 'R', 'M', 'AH0', 'N', 'D'], ['D', 'AA1', 'R', 'B', 'IH0', 'SH', 'AY2', 'R'], ['N', 'UW0', 'V', 'IY1', 'N'], ['B', 'ER0', 'AA1', 'F', 'S', 'K', 'IY0'], ['D', 'AO1', 'SH', 'ER0'], ['B', 'EY1', 'B', 'AE2', 'NG', 'K', 'S'], ['AH0', 'D', 'IH1', 'SH', 'AH0', 'N'], ['B', 'AA1', 'G', 'AH0', 'N'], ['AE1', 'L', 'IH0', 'N', 'S', 'AH0', 'N'], ['T', 'AA1', 'R', 'IH0', 'NG'], ['W', 'AY1', 'L', 'D', 'K', 'AA2', 'R', 'D'], ['D', 'OW1', 'D', 'OW0', 'Z'], ['D', 'IY2', 'IH2', 'N', 'S', 'T', 'IH0', 'T', 'UW2', 'SH', 'AH0', 'N', 'AH0', 'L', 'AY2', 'Z'], ['V', 'IH1', 'T', 'IH0', 'T', 'OW0'], ['K', 'AH1', 'P', 'AH0', 'N', 'IY0'], ['F', 'IH1', 'K', 'S', 'L', 'ER0'], ['M', 'IH1', 'N', 'S', 'IY0'], ['N', 'AA1', 'G', 'IY0'], ['D', 'AY0', 'L', 'UW1', 'SH', 'AH0', 'N'], ['AE2', 'L', 'AH0', 'G', 'Z', 'AE1', 'N', 'D', 'R', 'IY0', 'AH0'], ['B', 'AA1', 'R', 'N', 'IY0', 'Z'], ['AW1', 'T', 'G', 'OW2', 'IH0', 'NG'], ['CH', 'EH1', 'R', 'AH0', 'K', 'IY2', 'Z'], ['D', 'AO1', 'R', 'IY0'], ['B', 'R', 'AY1', 'M', 'ER0'], ['K', 'W', 'IH1', 'N', 'AH0', 'L'], ['ER1', 'T', 'S'], ['AH1', 'N', 'D', 'ER0', 'R', 'IH0', 'P', 'AO1', 'R', 'T', 'IH0', 'NG'], ['TH', 'UW1', 'N'], ['P', 'L', 'AE1', 'S', 'ER0'], ['S', 'K', 'EY1', 'N'], ['K', 'AE1', 'F', 'IH0', 'T', 'AY2', 'Z', 'ER0'], ['S', 'AY0', 'K', 'AA1', 'L', 'AH0', 'JH', 'AH0', 'S', 'T', 'S'], ['V', 'AH0', 'L', 'IY1', 'R', 'IY0', 'AH0'], ['HH', 'OW1', 'L', 'D', 'ER0', 'N', 'AH0', 'S'], ['G', 'R', 'OW1', 'N', 'D'], ['S', 'ER0', 'IH1', 'N', 'JH', 'AH0', 'Z'], ['T', 'EY1', 'S', 'T', 'ER0'], ['D', 'EY1', 'V', 'IY0'], ['HH', 'ER1', 'T', 'IH0', 'NG'], ['B', 'R', 'IH1', 'S', 'K', 'L', 'IY0'], ['M', 'EH1', 'R', 'IY0', 'UW2'], ['SH', 'UW1', 'B', 'IH0', 'N'], ['M', 'AH0', 'K', 'AA1', 'HH', 'IH2', 'L'], ['K', 'R', 'EH1', 'B', 'Z', 'B', 'AA0', 'K'], ['R', 'EH2', 'P', 'R', 'AH0', 'S', 'EH1', 'N', 'T', 'AH0', 'T', 'IH0', 'V', 'Z'], ['B', 'L', 'AA1', 'N', 'D'], ['R', 'UW1', 'M', 'IH0', 'NG'], ['S', 'EH1', 'T', 'AH2', 'P'], ['HH', 'IY1', 'T', 'ER0'], ['D', 'UW1', 'L', 'IH0', 'NG'], ['G', 'AE1', 'S'], ['HH', 'IH1', 'L', 'HH', 'EY2', 'V', 'AH0', 'N'], ['L', 'EH1', 'R', 'IY0', 'AH0', 'T'], ['S', 'P', 'IY1', 'G', 'AH0', 'L'], ['F', 'IH0', 'L', 'IH1', 'N', 'S', 'K', 'IY0'], ['L', 'IH1', 'T', 'AH0', 'G', 'EY2', 'T', 'ER0'], ['K', 'OW2', 'L', 'OW0', 'R', 'EH1', 'K', 'T', 'AH0', 'L'], ['S', 'AH0', 'L', 'UW1', 'T', 'IH0', 'D'], ['N', 'AO1', 'R', 'D', 'L', 'AH0', 'N', 'D'], ['R', 'IH0', 'S', 'EH1', 'P', 'SH', 'AH0', 'N', 'IH0', 'S', 'T', 'S'], ['ER0', 'IH1', 'JH', 'AH0', 'N', 'EY2', 'T', 'ER0', 'Z'], ['EH1', 'D', 'Z'], ['F', 'EH1', 'DH', 'ER0', 'L', 'IY0'], ['D', 'R', 'AE1', 'K', 'AH0', 'N', 'B', 'ER0', 'G'], ['G', 'R', 'AA0', 'N', 'AA1', 'D', 'OW0', 'Z'], ['M', 'AA1', 'R', 'K', 'D', 'AW2', 'N', 'Z'], ['B', 'IY1', 'N', 'Z'], ['W', 'AO1', 'L', 'T', 'S', 'ER0'], ['B', 'AY2', 'F', 'ER0', 'K', 'EY1', 'SH', 'AH0', 'N'], ['JH', 'AE1', 'K', 'S', 'AH0', 'N', 'Z'], ['V', 'IH1', 'K', 'T', 'AH0', 'M', 'Z'], ['AO1', 'R', 'IH0', 'M'], ['D', 'EH1', 'B', 'IH0', 'S'], ['P', 'AA1', 'L', 'AH0', 'N', 'EY2', 'T'], ['L', 'AE1', 'S', 'W', 'EH2', 'L'], ['HH', 'AH1', 'N', 'Z', 'IH0', 'K', 'ER0'], ['W', 'ER1', 'S', 'EH0', 'K'], ['P', 'ER1', 'L', 'M', 'AH0', 'N'], ['K', 'EH2', 'R', 'AH0', 'L', 'UW1'], ['AE1', 'NG', 'K', 'N', 'IY0'], ['K', 'L', 'AE1', 'S', 'AH0', 'F', 'AY2', 'Z'], ['F', 'AA0', 'R', 'AA1', 'CH', 'IY0'], ['M', 'AH0', 'K', 'AE1', 'M', 'B', 'R', 'IH2', 'JH'], ['R', 'AA1', 'B', 'IH0', 'N'], ['B', 'ER1', 'N', 'HH', 'AE0', 'M', 'Z'], ['G', 'ER0', 'IH1', 'L', 'AH0', 'Z'], ['D', 'EY1', 'G', 'AH0', 'S'], ['K', 'AA1', 'NG', 'G', 'R', 'AH0', 'S', 'P', 'ER2', 'S', 'AH0', 'N'], ['P', 'IY2', 'T', 'S', 'ER0', 'IY1', 'AH0', 'Z'], ['JH', 'IY1', 'N'], ['Y', 'ER0', 'IY1', 'AH0', 'Z'], ['S', 'IH1', 'L', 'K', 'W', 'UH2', 'D'], ['B', 'ER1', 'K', 'IH0', 'T'], ['S', 'AH0', 'L', 'EH1', 'K', 'T', 'N', 'EH2', 'T'], ['M', 'AA1', 'R', 'G', 'AH0', 'L', 'IH0', 'N'], ['R', 'EH2', 'T', 'R', 'OW0', 'AE0', 'K', 'T', 'IH1', 'V', 'IH0', 'T', 'IY0'], ['HH', 'EY1', 'S', 'T', 'AE2', 'K'], ['R', 'AH1', 'M', 'IH0', 'JH'], ['K', 'OW1', 'JH', 'AH0', 'N', 'S', 'IY0'], ['G', 'ER0', 'EH1', 'T'], ['K', 'AO1', 'R', 'S', 'AH0', 'N'], ['S', 'ER2', 'P', 'R', 'AY1', 'Z', 'IH0', 'NG', 'L', 'IY0'], ['AE1', 'M', 'AH0', 'B', 'EH2', 'L'], ['K', 'AO1', 'R', 'N'], ['G', 'R', 'AA1', 'G', 'IY0'], ['T', 'AH0', 'N', 'EY1', 'HH', 'AH0'], ['M', 'EH1', 'D', 'K', 'AE0', 'L', 'F'], ['S', 'M', 'ER1', 'N', 'AO0', 'F'], ['M', 'AA1', 'Z', 'AH0', 'L', 'T', 'AA2', 'F'], ['R', 'IH1', 'L', 'IH0', 'T', 'IY2'], ['S', 'AH1', 'L', 'AH0', 'N'], ['OW1', 'P', 'AH0', 'L'], ['S', 'P', 'IY1', 'TH'], ['HH', 'AA1', 'T', 'AH0', 'L', 'IH0', 'NG'], ['L', 'EY1', 'N', 'AA0', 'R', 'Z'], ['P', 'R', 'AH0', 'S', 'IY1', 'D'], ['AH0', 'JH', 'EH1', 'R', 'AH0', 'T', 'AH0', 'M'], ['T', 'EH1', 'L', 'AH0', 'G', 'R', 'AE2', 'F'], ['M', 'IY1', 'K', 'L', 'OW0', 'S'], ['AH0', 'D', 'IH1', 'SH', 'AH0', 'N', 'AH2', 'L', 'IY0'], ['P', 'EY1', 'T', 'R', 'IY0', 'AH0', 'T', 'S'], ['F', 'R', 'AA0', 'N', 'T', 'Y', 'EH1', 'R'], ['F', 'R', 'EH2', 'N', 'Z', 'EH1', 'L'], ['B', 'AY0', 'K', 'AH1', 'S', 'P', 'AH0', 'D', 'Z'], ['W', 'AH2', 'N', 'TH', 'ER1', 'D'], ['L', 'AW1', 'R', 'AH0', 'N'], ['HH', 'IY1', 'N', 'AH0', 'N'], ['AH0', 'CH', 'IY1', 'V', 'D'], ['P', 'R', 'OW0', 'V', 'IY1', 'N', 'IY0'], ['F', 'AH1', 'D', 'R', 'AH0', 'K', 'ER0', 'Z'], ['M', 'AE1', 'S', 'T', 'ER0', 'P', 'IY2', 'S'], ['HH', 'W', 'AY1', 'T', 'HH', 'EH2', 'D', 'Z'], ['F', 'EH1', 'R', 'IY0', 'ER0'], ['F', 'UW1', 'IY0'], ['IH2', 'N', 'T', 'IH1', 'R', 'IY0', 'ER0', 'Z'], ['M', 'AO2', 'R', 'F', 'AH0', 'L', 'AA1', 'JH', 'IH0', 'K', 'AH0', 'L'], ['N', 'UW1', 'Z', 'IY0'], ['HH', 'EH1', 'G', 'L', 'AH0', 'N', 'D'], ['K', 'UW1', 'N', 'T', 'S'], ['K', 'AH1', 'L', 'ER0', 'Z'], ['S', 'EH1', 'K'], ['P', 'IH1', 'P', 'IH0', 'N', 'Z'], ['TH', 'AO1', 'R', 'AH0', 'N'], ['G', 'AA0', 'S', 'P', 'ER0', 'IY1', 'N', 'IY0'], ['W', 'ER1', 'TH', 'IH0', 'NG'], ['M', 'AY1', 'K', 'AH0', 'L', 'S', 'AH0', 'N'], ['M', 'IY1', 'R', 'Z', 'W', 'AH0'], ['M', 'IH1', 'D', 'T', 'ER2', 'M', 'Z'], ['IH1', 'N', 'S', 'T', 'AH0', 'T', 'UW2', 'T', 'IH0', 'D'], ['V', 'ER0', 'OW1', 'N', 'AH0'], ['AH0', 'D', 'AE1', 'P', 'T', 'ER0', 'Z'], ['G', 'AA1', 'R', 'S', 'AH0', 'N'], ['K', 'AO1', 'S', 'CH', 'EH0', 'K', 'S'], ['M', 'IY1', 'M', 'IY0'], ['S', 'AO1', 'L', 'Z'], ['EH1', 'K', 'S', 'AH0', 'K', 'Y', 'UW2', 'T', 'IH0', 'NG'], ['R', 'EY1', 'D', 'ER0', 'Z'], ['P', 'IY1', 'T', 'AH0'], ['IH1', 'NG', 'G', 'L', 'IY0', 'Z'], ['K', 'OW1', 'AA1', 'TH', 'ER0'], ['EY1', 'N', 'AH0', 'S'], ['B', 'R', 'AE1', 'T', 'IH0', 'N'], ['M', 'IH1', 'L', 'HH', 'OW0', 'N'], ['F', 'AH1', 'G', 'EY0', 'T'], ['S', 'P', 'AY1', 'D', 'AH0', 'L'], ['P', 'AE2', 'T', 'AH0', 'G', 'OW1', 'N', 'IY0', 'AH0'], ['M', 'EH1', 'N', 'AH0', 'S', 'IH0', 'NG'], ['AE2', 'F', 'T', 'ER0', 'N', 'UW1', 'N', 'Z'], ['B', 'OW1', 'N', 'IY0'], ['S', 'EH1', 'V', 'AH0', 'N', 'T', 'IY0'], ['OW1', 'V', 'ER0', 'AA2', 'R', 'CH', 'IH0', 'NG'], ['M', 'EH1', 'T', 'K', 'AH0', 'L', 'F'], ['S', 'T', 'R', 'EY1', 'ER0'], ['D', 'AW1', 'N', 'R', 'AY2', 'T'], ['K', 'AO1', 'R', 'Z', 'OW0'], ['L', 'AH0', 'F', 'IH1', 'T'], ['IH2', 'M', 'P', 'AA1', 'R', 'T'], ['F', 'AO1', 'R', 'S', 'IH0', 'Z'], ['K', 'AH0', 'N', 'K', 'L', 'UW1', 'ZH', 'AH0', 'N'], ['S', 'IH1', 'S', 'K', 'OW0'], ['S', 'P', 'R', 'IH1', 'NG', 'G', 'B', 'ER0', 'N'], ['B', 'AA1', 'R', 'T', 'N', 'IH0', 'K'], ['IH0', 'K', 'S', 'EH1', 'L', 'D'], ['K', 'IY1', 'F'], ['G', 'AE1', 'M', 'B', 'AH0', 'L', 'Z'], ['M', 'EH1', 'M', 'W', 'AA2', 'R', 'Z'], ['S', 'K', 'AW1', 'N', 'D', 'R', 'AH0', 'L', 'Z'], ['K', 'AH0', 'M', 'EH1', 'T', 'S'], ['EH1', 'K', 'OW0', 'HH', 'AO2', 'K', 'S'], ['T', 'EH1', 'V', 'IH0', 'S'], ['S', 'AO1', 'NG', 'R', 'AY2', 'T', 'ER0'], ['F', 'L', 'AE1', 'T', 'N', 'IH0', 'NG'], ['S', 'T', 'R', 'EH1', 'NG', 'TH', 'S'], ['JH', 'UW1', 'V', 'AH0', 'N', 'AH0', 'L'], ['AH0', 'N', 'T', 'R', 'AE1', 'M', 'AH0', 'L', 'D'], ['N', 'AA1', 'B', 'L', 'IH0', 'T'], ['B', 'L', 'OW1', 'D', 'ER0', 'N'], ['SH', 'AA1', 'F', 'N', 'ER0'], ['P', 'L', 'EY1', 'K'], ['R', 'OW0', 'S', 'AA1', 'L', 'EH0', 'Z'], ['M', 'AO0', 'R', 'EY1', 'N', 'OW0'], ['S', 'K', 'R', 'IH1', 'P', 'S'], ['M', 'AA1', 'L', 'ER0'], ['V', 'AW1', 'CH', 'ER0', 'Z'], ['EH2', 'N', 'T', 'EH1', 'B', 'IY0'], ['SH', 'IH1', 'F', 'L', 'IH0', 'T'], ['S', 'UH1', 'T', 'IH0', 'D'], ['B', 'IH1', 'T', 'K', 'OY1', 'N'], ['HH', 'EH1', 'M', 'IH0', 'T', 'ER0'], ['B', 'AA1', 'R', 'B', 'ER0', 'SH', 'AA2', 'P'], ['B', 'EH1', 'N', 'IH0', 'G', 'AH0', 'N', 'Z'], ['M', 'AO1', 'R', 'B', 'IY0'], ['T', 'EH2', 'N', 'AH0', 'S', 'IY1'], ['K', 'UW1', 'P', 'R', 'AH0', 'S'], ['M', 'AO1', 'S'], ['P', 'R', 'IY0', 'Z', 'UW1', 'M', 'AH0', 'B', 'L', 'IY0'], ['TH', 'AO1', 'NG'], ['AE2', 'N', 'T', 'IY0', 'F', 'EH1', 'D', 'R', 'AH0', 'L', 'IH0', 'S', 'T'], ['S', 'EH1', 'S', 'L', 'ER0'], ['B', 'AH0', 'R', 'AA1', 'G', 'IY0'], ['K', 'AA0', 'N', 'AA1', 'T', 'AH0'], ['M', 'EH1', 'K', 'AH0', 'Z'], ['P', 'IH1', 'G', 'S', 'K', 'IH2', 'N'], ['N', 'EH1', 'DH', 'ER0', 'L', 'AH0', 'N', 'D'], ['IH1', 'M', 'P', 'R', 'AH0', 'V', 'AY2', 'Z', 'IH0', 'NG'], ['P', 'EH1', 'R', 'AH0', 'T', 'R', 'UW2', 'P', 'ER0'], ['B', 'AW1', 'M', 'B', 'AA2', 'K'], ['M', 'ER0', 'AO1', 'D', 'IH0', 'NG'], ['JH', 'AH1', 'S', 'T', 'AH0', 'N'], ['P', 'AE1', 'S', 'T', 'AO2', 'R'], ['L', 'UH1', 'R', 'Z'], ['K', 'R', 'AE1', 'K', 'P', 'AA2', 'T'], ['P', 'ER0', 'IH1', 'F', 'ER0', 'AH0', 'L', 'IY0'], ['Z', 'AH0', 'B', 'L', 'OW1', 'T', 'S', 'K', 'IY0'], ['K', 'L', 'AH1', 'M', 'P'], ['HH', 'IH1', 'P'], ['ZH', 'AW1', 'P', 'IH1', 'NG'], ['F', 'EY1', 'T'], ['L', 'AA0', 'R', 'UW1', 'S', 'OW0'], ['N', 'AO1', 'R', 'D', 'IH0', 'K', 'T', 'R', 'AE2', 'K'], ['D', 'AH0', 'M', 'AE1', 'N', 'S', 'K', 'IY0'], ['N', 'IH1', 'K', 'AH0', 'L', 'OW0'], ['TH', 'R', 'AE1', 'SH', 'IH0', 'Z'], ['IH2', 'N', 'T', 'ER0', 'M', 'IY1', 'D', 'IY0', 'AH0'], ['K', 'IY1', 'TH', 'S'], ['V', 'EY0', 'V', 'EH1', 'R', 'K', 'AH0'], ['K', 'AA1', 'R', 'D', 'IH0', 'D'], ['L', 'UH1', 'T', 'K', 'IH0', 'M', 'AY0', 'ER0'], ['AE1', 'N', 'D', 'R', 'OY2', 'D'], ['CH', 'AH1', 'G', 'D'], ['L', 'AA0', 'B', 'R', 'IY0', 'OW1', 'L', 'AH0'], ['K', 'AH1', 'S', 'T', 'ER0'], ['K', 'R', 'IY1', 'AH0', 'N', 'Z'], ['AE1', 'V', 'IH0', 'D'], ['B', 'AA0', 'S', 'IY1', 'M', 'Z'], ['K', 'OW0', 'HH', 'IH1', 'R', 'D'], ['K', 'AA2', 'R', 'N', 'EY1', 'G', 'IY0'], ['R', 'IH1', 'K', 'ER0', 'S', 'AH0', 'N'], ['AH2', 'N', 'AH0', 'D', 'R', 'EH1', 'S', 'T'], ['V', 'AH0', 'G', 'W', 'IY1', 'N'], ['V', 'IY0', 'L', 'AA0', 'M', 'IY1', 'L'], ['IH0', 'R', 'AE1', 'T', 'IH0', 'K'], ['UW0', 'W', 'IY1'], ['R', 'AE1', 'L', 'F', 'S'], ['G', 'W', 'AA1', 'N', 'D', 'OW2', 'NG', 'Z'], ['S', 'UW1', 'Z', 'AH0', 'F', 'OW2', 'N'], ['P', 'OW1', 'L', 'ER0', 'OY2', 'D'], ['S', 'AH0', 'B', 'P', 'R', 'IH1', 'N', 'S', 'AH0', 'P', 'AH0', 'L', 'Z'], ['G', 'R', 'IY1', 'N', 'B', 'ER0', 'G', 'ER0'], ['R', 'UW1', 'L', 'ER0'], ['S', 'T', 'AA1', 'R', 'K', 'ER0'], ['V', 'AY1', 'G', 'ER0'], ['T', 'AY2', 'P', 'AH0', 'G', 'R', 'AE1', 'F', 'IH0', 'K', 'AH0', 'L'], ['M', 'IH2', 'R', 'AE1', 'S', 'AH0', 'D'], ['EH1', 'T', 'N', 'AH0'], ['Z', 'AA0', 'M', 'P', 'EH1', 'D', 'R', 'IY0'], ['P', 'L', 'OW1', 'T', 'S'], ['S', 'T', 'R', 'AW1', 'S', 'IH0', 'Z'], ['K', 'AE1', 'DH', 'ER0', 'W', 'UH2', 'D'], ['D', 'IY1', 'HH', 'AE2', 'N'], ['K', 'AE1', 'M', 'P', 'G', 'R', 'AW2', 'N', 'D', 'Z'], ['L', 'UW1', 'IH0', 'L', 'IH0', 'N'], ['AE2', 'N', 'T', 'AY2', 'TH', 'EH1', 'F', 'T'], ['L', 'IH0', 'B', 'OW1'], ['D', 'IH1', 'JH', 'AH0', 'T', 'IY2'], ['B', 'ER1', 'G', 'D', 'AA2', 'L'], ['AH0', 'N', 'T', 'EH1', 'S', 'T', 'IH0', 'D'], ['K', 'UW1', 'K', 'JH', 'EY2'], ['AH0', 'S', 'EY1', 'L', 'AH0', 'N', 'T', 'S'], ['JH', 'UW1', 'L', 'IY0', 'Z'], ['SH', 'EH1', 'NG', 'K', 'ER0'], ['S', 'EH1', 'D', 'AH0', 'N', 'T', 'EH2', 'R', 'IY0'], ['AE1', 'NG', 'G', 'AH0', 'L', 'M', 'AY2', 'ER0'], ['CH', 'IY2', 'CH', 'AW1', 'AH0'], ['S', 'T', 'AE1', 'K', 'S'], ['S', 'K', 'ER1', 'M', 'IH0', 'SH'], ['Y', 'UW0', 'L', 'IH1', 'S', 'IY0', 'Z'], ['W', 'EH1', 'R', 'T', 'AH2'], ['V', 'AE2', 'N', 'B', 'EH1', 'B', 'ER0'], ['S', 'P', 'R', 'AE1', 'NG', 'ER0'], ['S', 'AY2', 'M', 'EH1', 'K', 'AH0'], ['G', 'AH1', 'V', 'ER0', 'N', 'ER0', 'SH', 'IH2', 'P', 'S'], ['K', 'R', 'AA1', 'T', 'S'], ['JH', 'AO1', 'R', 'D', 'IY0'], ['HH', 'OW1', 'L', 'B', 'AH0', 'N'], ['B', 'AH0', 'L', 'IY1', 'L', 'EH0', 'Z'], ['IH2', 'N', 'AO1', 'G', 'Y', 'ER0', 'AH0', 'L'], ['D', 'IH0', 'P', 'IH1', 'K', 'T', 'S'], ['P', 'OW1', 'T', 'AH0', 'N', 'S', 'IY0'], ['D', 'AH1', 'B', 'L', 'IH0', 'N'], ['D', 'EH1', 'N', 'IH0', 'S', 'T'], ['M', 'AA2', 'N', 'AH0', 'K', 'R', 'OW0', 'M', 'AE1', 'T', 'IH0', 'K'], ['R', 'AH1', 'D', 'AH0', 'L'], ['S', 'T', 'AO1', 'R', 'IY0', 'B', 'UH2', 'K', 'S'], ['R', 'IY0', 'HH', 'AY1', 'R'], ['K', 'AO1', 'R', 'T', 'HH', 'AW2', 'S', 'IH0', 'Z'], ['G', 'OW1', 'L', 'D', 'F', 'AH2', 'S'], ['V', 'AY1', 'R', 'EY0'], ['W', 'AO1', 'R', 'D', 'R', 'IH0', 'P'], ['M', 'AA0', 'Y', 'AO1', 'R', 'OW0', 'Z'], ['N', 'AH1', 'T', 'K', 'R', 'AE2', 'K', 'ER0', 'Z'], ['F', 'AA1', 'S', 'AH0', 'L', 'Z'], ['L', 'OW2', 'K', 'AH0', 'M', 'OW1', 'T', 'IH0', 'V'], ['JH', 'UW1', 'L', 'IY0', 'AA2', 'R', 'D'], ['CH', 'IH1', 'R', 'L', 'IY2', 'D', 'ER0', 'Z'], ['K', 'AA1', 'N', 'ER0'], ['K', 'EH1', 'L', 'AO0', 'G'], ['IY0', 'V', 'AE2', 'L', 'Y', 'UW0', 'EY1', 'SH', 'AH0', 'N', 'Z'], ['V', 'AW1', 'IH0', 'NG'], ['R', 'IY0', 'S', 'ER1', 'CH', 'ER0', 'Z'], ['V', 'AE1', 'S', 'T'], ['P', 'R', 'AA1', 'M', 'S', 'T', 'ER0'], ['L', 'IH1', 'L', 'IY0', 'HH', 'AE2', 'M', 'ER0'], ['S', 'AO1', 'N', 'D', 'ER0', 'Z', 'IH0', 'Z'], ['K', 'R', 'IH0', 'S', 'T', 'IY1', 'N', 'AH0'], ['AE1', 'N', 'S', 'ER0', 'IH0', 'NG'], ['EY1', 'K', 'AO0', 'T'], ['L', 'IH1', 'N', 'AH0', 'N'], ['K', 'Y', 'UW1', 'Z'], ['P', 'AO1', 'R', 'T', 'ER0'], ['G', 'AA1', 'UW0', 'IY0'], ['B', 'R', 'EH1', 'CH', 'N', 'AY2', 'D', 'ER0'], ['B', 'EY1'], ['R', 'IH1', 'S', 'K', 'IY0', 'N', 'AH0', 'S'], ['M', 'AA0', 'T', 'IY1', 'N', 'AH0'], ['JH', 'EH1', 'N', 'R', 'AH0', 'L', 'IY0'], ['T', 'R', 'EH1', 'ZH', 'ER0', 'IY0', 'Z'], ['M', 'AH0', 'K', 'N', 'AE1', 'B'], ['N', 'Y', 'UH1', 'R', 'OW0', 'S', 'AY2', 'AH0', 'N', 'T', 'IH0', 'S', 'T'], ['B', 'IY1', 'R'], ['D', 'AY0', 'S', 'EH1', 'K', 'T', 'S'], ['K', 'AY1'], ['AE1', 'ZH', 'ER0'], ['K', 'AH1', 'V', 'ER0', 'IH0', 'NG', 'Z'], ['P', 'EH2', 'D', 'AH0', 'F', 'IH1', 'L', 'Y', 'AE0', 'K', 'S'], ['JH', 'AH1', 'NG', 'K', 'CH', 'ER0', 'Z'], ['B', 'AE1', 'K', 'L', 'AA2', 'G', 'D'], ['SH', 'IH1', 'P', 'S'], ['AY1', 'AA1', 'R', 'EY1', 'Z'], ['R', 'AE1', 'CH', 'F', 'ER0', 'D'], ['D', 'EY1', 'N', 'JH', 'ER0', 'Z'], ['IH2', 'N', 'AE0', 'D', 'M', 'IH1', 'S', 'AH0', 'B', 'L', 'IY0'], ['P', 'IY1', 'N', 'AH0'], ['G', 'AY1', 'G', 'ER0'], ['Z', 'AA1', 'G'], ['B', 'R', 'EH1', 'N', 'D', 'AH0', 'L', 'IH0', 'NG', 'ER0'], ['P', 'ER1', 'L'], ['SH', 'W', 'AY1', 'S'], ['T', 'W', 'ER1', 'L', 'IH0', 'NG'], ['G', 'R', 'IY1', 'TH', 'AH0', 'M'], ['IH2', 'R', 'AE1', 'SH', 'AH0', 'N', 'AH0', 'L'], ['D', 'AA1', 'R', 'L', 'IY0'], ['Z', 'EH1', 'R', 'AH0', 'N'], ['Y', 'ER1', 'K', 'IY0'], ['JH', 'AO2', 'R', 'JH', 'IY1', 'N'], ['V', 'AE2', 'N', 'S', 'AE1', 'N', 'T'], ['W', 'AA2', 'R', 'SH', 'AA1', 'W', 'AA2'], ['R', 'AH0', 'M', 'AA1', 'D', 'AH0'], ['AE0', 'L', 'F', 'AA1', 'N', 'S', 'OW0'], ['HH', 'W', 'EH1', 'T', 'S', 'AH0', 'L'], ['B', 'R', 'IY1', 'Z'], ['M', 'UH0', 'R', 'AA1', 'N', 'OW0'], ['IH1', 'N', 'D', 'AH0', 'K', 'EY2', 'T', 'AH0', 'D'], ['D', 'IH0', 'F', 'IY1', 'T'], ['V', 'IH0', 'D', 'IY0', 'AO1', 'G', 'R', 'AH0', 'F', 'ER0'], ['S', 'K', 'AA1', 'L', 'Y', 'AH0'], ['W', 'AY1', 'T', 'HH', 'IH2', 'L'], ['Y', 'OW2', 'SH', 'IH0', 'HH', 'IY1', 'R', 'OW2'], ['AA1', 'R', 'CH', 'AH0', 'B', 'AO2', 'L', 'D'], ['M', 'AH2', 'L', 'T', 'IY0', 'M', 'IY1', 'D', 'IY0', 'AH0'], ['SH', 'R', 'IH1', 'K', 'ER0'], ['P', 'L', 'AW1', 'Z'], ['R', 'OW1', 'N', 'IY0'], ['W', 'IH1', 'K', 'ER0'], ['K', 'AA1', 'S', 'IY0'], ['S', 'T', 'ER1', 'D', 'IH0', 'V', 'AH0', 'N', 'T'], ['W', 'AO1', 'T', 'ER0', 'D'], ['V', 'IH1', 'N', 'CH', 'IY0', 'Z'], ['S', 'OW1', 'L', 'IH0', 'N'], ['K', 'L', 'IH1', 'P', 'T'], ['S', 'EY1', 'L', 'Z'], ['F', 'ER0', 'IY1', 'N', 'IY0'], ['T', 'R', 'AE1', 'SH'], ['JH', 'EH1', 'T'], ['T', 'ER1', 'T', 'AH0', 'N'], ['S', 'IH1', 'T', 'R', 'AH0', 'N', 'Z'], ['M', 'EH1', 'N', 'Z', 'ER0'], ['G', 'AA1', 'S', 'W', 'IH0', 'K'], ['F', 'AO1', 'R', 'M', 'Y', 'AH0', 'L', 'EY2', 'T', 'IH0', 'D'], ['M', 'EH1', 'L', 'D', 'AH0', 'N'], ['R', 'EH1', 'D', 'N', 'EH2', 'K'], ['W', 'IH1', 'N', 'IH0', 'K', 'AO0', 'F'], ['M', 'AA1', 'L', 'IH0', 'T'], ['B', 'AH1', 'S', 'ER0', 'T'], ['B', 'R', 'UH1', 'K', 'S', 'AY2', 'D'], ['R', 'AY1', 'S', 'N', 'ER0'], ['V', 'EH1', 'N', 'ER0'], ['D', 'R', 'OW1', 'T', 'ER0'], ['M', 'AA1', 'R', 'K', 'L', 'AH0', 'N', 'D'], ['B', 'AE2', 'L', 'ER0', 'IY1', 'N', 'AH0', 'Z'], ['HH', 'AW1'], ['D', 'EH1', 'M', 'Y', 'AH0', 'N'], ['Y', 'AE1', 'N', 'D', 'AH0'], ['B', 'AE1', 'NG', 'K', 'W', 'OW0', 'Z'], ['AA0', 'R', 'M', 'EY0', 'N', 'D', 'AA1', 'R', 'EH0', 'Z'], ['R', 'AY1', 'T', 'ER0'], ['HH', 'AY1', 'F', 'IH0', 'T', 'S'], ['B', 'AA1', 'Z', 'ER0', 'TH'], ['IH0', 'N', 'AE1', 'M', 'AH0', 'L'], ['M', 'UW1', 'S'], ['M', 'IY0', 'L', 'AA1', 'Z', 'OW0'], ['L', 'UW1', 'Z'], ['R', 'EY1', 'M', 'AA2', 'R', 'K'], ['K', 'AE1', 'T', 'OW0', 'N', 'AY2', 'N', 'T', 'EY2', 'L', 'Z'], ['S', 'IH2', 'M', 'Y', 'AH0', 'L', 'EY1', 'SH', 'AH0', 'N', 'Z'], ['S', 'UW1', 'T', 'ER0'], ['S', 'T', 'AO1', 'D'], ['M', 'AH0', 'G', 'W', 'AY1', 'R'], ['AE1', 'L', 'K', 'OW0'], ['F', 'EH1', 'S', 'T', 'IH0', 'V', 'AH0', 'L'], ['SH', 'EH1', 'NG', 'K', 'M', 'AH0', 'N'], ['HH', 'EH1', 'N', 'IY0'], ['AA0', 'M', 'AA0', 'L', 'F', 'IY0', 'T', 'AA1', 'N', 'OW0'], ['B', 'AH1', 'T', 'R', 'AE2', 'M'], ['P', 'IY0', 'AO1', 'R', 'IY0', 'AH0'], ['S', 'P', 'OY1', 'L', 'ER0', 'Z'], ['K', 'AH0', 'S', 'T', 'R', 'AH0', 'Z', 'EH1', 'W', 'AH0'], ['S', 'AE1', 'N', 'D', 'S', 'T', 'OW2', 'N'], ['L', 'AE1', 'N', 'D', 'S', 'K', 'EY2', 'P'], ['M', 'IH1', 'CH', 'K'], ['K', 'ER1', 'K', 'IH0', 'B', 'IY0'], ['R', 'IY0', 'S', 'P', 'L', 'EH1', 'N', 'D', 'AH0', 'N', 'T'], ['T', 'AE1', 'S', 'AH0', 'M'], ['EH2', 'P', 'AH0', 'D', 'IY2', 'M', 'IY2', 'AA1', 'L', 'AH0', 'JH', 'IH2', 'S', 'T'], ['ER0', 'EH1', 'N', 'D'], ['G', 'AE1', 'R', 'IY0'], ['N', 'AA2', 'N', 'AO2', 'T', 'OW0', 'M', 'OW1', 'T', 'IH0', 'V'], ['S', 'IY1', 'EH1', 'S', 'V', 'IY1'], ['W', 'AA1', 'CH', 'M', 'AH0', 'N'], ['P', 'L', 'AA0', 'CH', 'EH1', 'N', 'CH', 'AH0'], ['JH', 'AH0', 'S', 'IH1', 'N', 'D', 'AH0'], ['L', 'AE1', 'N', 'AH0'], ['L', 'UW1', 'B', 'AH0', 'N', 'AA2', 'F'], ['G', 'R', 'EH1', 'N', 'AH0', 'L'], ['B', 'R', 'AY1', 'AH0', 'N'], ['AO1', 'R', 'B', 'AH0', 'T', 'IH0', 'NG'], ['K', 'OW1', 'S', 'T', 'IH0', 'NG'], ['F', 'AE1', 'TH', 'IH0', 'M', 'AH0'], ['B', 'R', 'IH1', 'M'], ['M', 'ER1', 'K', 'L', 'AH0', 'N'], ['S', 'EY1', 'N', 'T', 'P', 'IY1', 'T', 'ER0', 'Z', 'B', 'ER0', 'G'], ['P', 'AY1', 'L', 'D'], ['S', 'M', 'IH1', 'K'], ['OW2', 'V', 'ER0', 'EH1', 'S', 'T', 'AH0', 'M', 'EY2', 'T'], ['L', 'UW1', 'B', 'AA0', 'R'], ['K', 'R', 'OW1', 'AH0', 'L'], ['S', 'T', 'EY1', 'B', 'AH0', 'L', 'ER0'], ['K', 'R', 'UW1', 'Z'], ['ER1', 'L'], ['CH', 'EH1', 'CH', 'N', 'IY0', 'AH0', 'N', 'Z'], ['AH0', 'HH', 'AA1', 'R', 'T'], ['S', 'IY1', 'EH2', 'F', 'OW1'], ['D', 'IY0', 'AA2', 'K', 'S', 'IY0', 'R', 'AY2', 'B', 'OW0', 'N', 'UW0', 'K', 'L', 'EY1', 'IH0', 'K'], ['M', 'IH1', 'L', 'K'], ['AE0', 'D', 'AH0', 'L', 'AA1', 'N', 'T', 'OW0'], ['B', 'AH1', 'D', 'N', 'ER0'], ['F', 'Y', 'UW1', 'M', 'IH2', 'G', 'EY2', 'T', 'IH0', 'NG'], ['K', 'AA2', 'N', 'IH2', 'SH', 'IH0', 'R', 'OW1', 'K', 'UW2'], ['K', 'AA1', 'P', 'IH0', 'JH'], ['L', 'EY1', 'NG', 'G', 'IH0', 'N', 'D', 'AO0', 'R', 'F'], ['AA1', 'K', 'T', 'IH0', 'V', 'Z'], ['K', 'AH1', 'K'], ['AA1', 'R', 'B', 'AH0', 'T', 'R', 'AA2', 'N'], ['R', 'IY0', 'T', 'AA1', 'R', 'D', 'AH0', 'N', 'T'], ['R', 'IY0', 'W', 'AO1', 'R', 'D', 'IH0', 'D'], ['S', 'UW1', 'ER0', 'D'], ['AW1', 'T', 'F', 'IH2', 'T', 'S'], ['T', 'ER0', 'EH1', 'T'], ['S', 'T', 'EH1', 'JH', 'S', 'K', 'AH0', 'L'], ['B', 'AA1', 'N', 'D'], ['K', 'EY1', 'JH', 'IY0'], ['L', 'Y', 'UW1', 'B', 'L', 'Y', 'AA0', 'N', 'AH0'], ['S', 'AH1', 'L', 'T', 'AH0', 'N', 'Z'], ['T', 'R', 'EH1', 'K', 'T'], ['S', 'AE1', 'M', 'W', 'IH0', 'CH', 'IH0', 'Z'], ['AO0', 'R', 'K', 'EH1', 'S', 'T', 'R', 'AH0', 'L'], ['L', 'AH1', 'D', 'K', 'IY0'], ['K', 'AA0', 'S', 'EY1', 'Z', 'IY0'], ['AE1', 'SH'], ['AE2', 'Z', 'ER0', 'B', 'AY0', 'JH', 'AA1', 'N', 'Z'], ['IH2', 'L', 'IY1', 'G', 'AH0', 'L', 'IY0'], ['JH', 'OW1', 'AH0', 'L', 'Z'], ['K', 'AO1', 'R', 'K', 'R', 'AH0', 'N'], ['B', 'AE1', 'K', 'EY2', 'K'], ['K', 'AA1', 'L', 'AH0', 'K', 'AO2', 'F'], ['W', 'IY1', 'N', 'T'], ['T', 'R', 'AE1', 'G', 'IY0', 'Z', 'ER0'], ['K', 'L', 'AA1', 'G', 'IH0', 'NG'], ['AO0', 'R', 'AE0', 'N', 'JH', 'IY1', 'N', 'ER0'], ['SH', 'UW1'], ['R', 'IY1', 'M', 'ER0', 'Z'], ['R', 'IH1', 'P', 'IY0'], ['K', 'OW1', 'M', 'AH0'], ['B', 'AH1', 'M', 'ER0'], ['N', 'AY1', 'N', 'AH0', 'D'], ['B', 'AH1', 'T', 'ER0', 'IH0', 'K'], ['S', 'UW1', 'K', 'ER0'], ['AH0', 'N', 'S', 'EY1', 'F'], ['AH1', 'L'], ['IH2', 'N', 'T', 'ER0', 'S', 'EH1', 'P', 'SH', 'AH0', 'N', 'Z'], ['V', 'AA1', 'TH'], ['S', 'P', 'R', 'EY1', 'N', 'IH0', 'NG'], ['R', 'IH0', 'S', 'P', 'AA1', 'N', 'D', 'Z'], ['T', 'UW1'], ['D', 'AE1', 'K', 'T', 'IH0', 'L'], ['S', 'T', 'EH1', 'D', 'IY0', 'ER0'], ['G', 'R', 'IH0', 'N', 'EH1', 'L'], ['M', 'AH0', 'N', 'IH1', 'L', 'AH0', 'Z'], ['B', 'R', 'EH1', 'N', 'D', 'ER0'], ['D', 'IH0', 'S', 'IY1', 'V'], ['D', 'EH1', 'K', 'ER0', 'EY2', 'T', 'ER0'], ['Y', 'AA1', 'K', 'OW0'], ['G', 'AH0', 'B', 'R', 'AW1', 'N', 'IY0'], ['EY2', 'CH', 'T', 'IY2', 'T', 'IY2', 'P', 'IY1'], ['W', 'EH1', 'S', 'T', 'EH1', 'R'], ['M', 'AH0', 'D', 'OW1', 'L'], ['K', 'IH1', 'R', 'S', 'IY0'], ['L', 'EH1', 'NG', 'TH'], ['M', 'Y', 'UW1', 'SH', 'AH0'], ['TH', 'R', 'OW1', 'T', 'IY0'], ['V', 'IH1', 'N', 'CH', 'IY0', 'Z'], ['M', 'EH1', 'S', 'T', 'R', 'OW0', 'V', 'IH0', 'K'], ['L', 'AY1', 'N', 'B', 'AE2', 'K', 'ER0'], ['HH', 'W', 'IH1', 'T'], ['S', 'L', 'EY1', 'IH0', 'NG', 'Z'], ['G', 'EY1', 'M', 'B', 'OY2'], ['S', 'AA0', 'R', 'AA0', 'CH', 'EH1', 'N', 'OW0'], ['M', 'AE2', 'N', 'AH0', 'F', 'AE1', 'K', 'CH', 'ER0', 'ER0', 'Z'], ['S', 'W', 'EY1', 'M'], ['AH2', 'N', 'D', 'IH0', 'S', 'G', 'AY1', 'Z', 'D'], ['IH2', 'N', 'D', 'EH1', 'L', 'IH0', 'K', 'AH0', 'T'], ['IH2', 'N', 'D', 'IY0', 'AH0', 'N', 'AE1', 'P', 'AH0', 'L', 'IH0', 'S', 'IH0', 'Z'], ['F', 'AO1', 'R', 'Y', 'AO1', 'R', 'IH2', 'N', 'F', 'ER0', 'M', 'EY1', 'SH', 'AH0', 'N'], ['B', 'EH1', 'L', 'JH', 'AH0', 'M'], ['K', 'AA0', 'R', 'B', 'AA1', 'L', 'OW0'], ['OW2', 'V', 'ER0', 'EH0', 'K', 'S', 'AY1', 'T', 'S'], ['K', 'OW0', 'L', 'K', 'L', 'AA1', 'ZH', 'ER0'], ['AH2', 'N', 'AO0', 'TH', 'EH1', 'N', 'T', 'IH0', 'K'], ['Z', 'UW1'], ['S', 'EY1', 'B', 'ER0'], ['P', 'IH1', 'N', 'S', 'ER0', 'L', 'AY2', 'K'], ['K', 'AA1', 'K', 'S', 'W', 'EH2', 'L'], ['T', 'IH1', 'B', 'AH0', 'D', 'OW0'], ['EH1', 'L', 'V', 'ER0', 'Z'], ['D', 'AH0', 'B', 'R', 'IY1', 'M', 'IH0', 'R'], ['D', 'IH0', 'D', 'OW1'], ['S', 'T', 'AA1', 'K', 'S'], ['M', 'AH0', 'S', 'L', 'AE1', 'NG', 'K', 'AH0'], ['AH0', 'K', 'W', 'AY1', 'ER0'], ['P', 'AA1', 'K', 'AH0', 'T', 'F', 'UH2', 'L'], ['R', 'IY1', 'AH0', 'T', 'AE1', 'CH', 'T'], ['K', 'AA1', 'Z', 'M', 'OW0', 'Z'], ['P', 'OW1', 'CH', 'IH0', 'NG'], ['M', 'UW1', 'K'], ['L', 'AH1', 'M', 'P', 'IH0', 'NG'], ['AA0', 'M', 'IH0', 'R', 'AA1', 'T', 'IY0'], ['K', 'ER1', 'T', 'IH0', 'S'], ['K', 'OW1', 'M', 'ER0'], ['IH0', 'V', 'AE1', 'L', 'Y', 'UW0', 'EY2', 'T'], ['B', 'R', 'EY1', 'TH', 'W', 'EY2', 'T'], ['K', 'Y', 'UW1', 'M', 'AE2', 'K', 'S'], ['S', 'ER0', 'IY2', 'AH0', 'L', 'IH1', 'S', 'T', 'IH0', 'K'], ['T', 'EH1', 'M', 'P', 'L', 'ER0'], ['HH', 'EY1', 'M', 'AH0', 'V', 'IH0', 'CH'], ['T', 'R', 'IH1', 'S', 'IH0', 'L'], ['R', 'AH1', 'SH', 'AH0', 'N', 'Z'], ['D', 'AY1', 'B', 'AH0', 'L', 'ER0'], ['S', 'K', 'AO1', 'R', 'S', 'AH0', 'N'], ['T', 'IY1', 'P', 'AA2', 'T'], ['D', 'R', 'UW1', 'G', 'AH0', 'N'], ['HH', 'EH1', 'M', 'IH0', 'NG', 'W', 'EY2'], ['M', 'EH1', 'N', 'D', 'AH0', 'L', 'S', 'AH0', 'N'], ['AA1', 'HH', 'M', 'EH0', 'D'], ['HH', 'EH1', 'D', 'IH0', 'NG'], ['ER0', 'OW1', 'N', 'OW0'], ['K', 'L', 'EH1', 'B', 'N', 'IH0', 'K', 'AA2', 'V'], ['SH', 'IH1', 'L', 'IH0', 'NG', 'L', 'AO2'], ['ER1', 'S', 'K', 'AY2', 'N'], ['S', 'T', 'IH1', 'L'], ['M', 'IH0', 'S', 'IH0', 'M', 'P', 'R', 'EH1', 'SH', 'AH0', 'N'], ['L', 'UW0', 'G', 'OW1', 'S', 'IY0'], ['B', 'AA1', 'NG', 'G', 'OW2', 'Z'], ['V', 'IY2', 'OW1', 'L', 'AH0', 'S'], ['T', 'OW0', 'ER1', 'IY0'], ['AE1', 'D', 'M', 'ER0', 'AH0', 'B', 'AH0', 'L'], ['M', 'AA1', 'N', 'AH0', 'T', 'ER0', 'IH2', 'S', 'T', 'S'], ['K', 'AA0', 'R', 'T', 'M', 'EY1', 'L'], ['B', 'AA1', 'T', 'L', 'ER0', 'Z'], ['B', 'Y', 'UW1', 'T', 'IY0', 'Z'], ['B', 'UH0', 'R', 'AA1', 'S', 'AH0'], ['K', 'R', 'AH0', 'SH', 'EH1', 'F', 'S', 'K', 'IY0'], ['IH1', 'NG', 'G', 'AH0', 'L', 'HH', 'AY2', 'M'], ['AO0', 'R', 'T', 'EH1', 'N', 'Z', 'IY0', 'OW0'], ['T', 'AO0', 'R', 'M', 'EH1', 'N', 'T'], ['R', 'IH0', 'Z', 'AH1', 'L', 'T'], ['P', 'ER0', 'G', 'OW1', 'L', 'AH0'], ['R', 'IH0', 'T', 'AE1', 'L', 'IY0', 'EY2', 'T', 'IH0', 'NG'], ['S', 'W', 'EY1', 'D'], ['D', 'IH0', 'F', 'AO1', 'R', 'AH0', 'S', 'T'], ['AE1', 'F', 'T', 'ER0', 'SH', 'AA2', 'K'], ['F', 'L', 'AE1', 'N', 'JH'], ['K', 'AA2', 'M', 'D', 'IH1', 'S', 'K', 'OW0'], ['M', 'ER0', 'AA1', 'ZH'], ['K', 'AH1', 'L', 'P'], ['AO1', 'L', 'CH', 'IH0', 'L', 'ER0'], ['P', 'EH1', 'K', 'AH0', 'S', 'IH0', 'K'], ['HH', 'EY1', 'N', 'Z', 'W', 'ER0', 'TH'], ['L', 'W', 'EH1'], ['W', 'EH1', 'N', 'T', 'L', 'IH0', 'NG'], ['S', 'N', 'AA1', 'HH', 'AH0', 'M', 'IH0', 'SH'], ['IH2', 'M', 'P', 'L', 'AE1', 'N', 'T', 'IH0', 'NG'], ['S', 'ER0', 'AA1', 'N', 'OW0'], ['T', 'AO1', 'R', 'IY2', 'Z'], ['V', 'AY1', 'S', 'AH0', 'Z'], ['D', 'IH0', 'S', 'K', 'R', 'AY1', 'B', 'AH0', 'B', 'AH0', 'L'], ['S', 'T', 'AA0', 'V', 'OW1', 'L', 'AH0'], ['EH1', 'T', 'AH0'], ['B', 'OW1', 'L', 'D', 'IH2', 'NG'], ['N', 'AE1', 'SH', 'N', 'AH0', 'L'], ['IY1', 'G', 'AO2', 'R'], ['F', 'IH0', 'L', 'AE1', 'T', 'AH0', 'L', 'IH0', 'S', 'T'], ['D', 'W', 'EY1', 'N'], ['B', 'AA1', 'R', 'B', 'OW2', 'N'], ['B', 'OW1', 'D', 'AH0', 'L'], ['CH', 'IY1', 'K', 'OW2'], ['HH', 'EH1', 'N', 'S', 'AH0', 'L'], ['W', 'UW1', 'L', 'IY0'], ['F', 'R', 'IH1', 'T', 'SH'], ['B', 'Y', 'AA1', 'R', 'D'], ['HH', 'EH1', 'JH', 'K', 'AA2', 'K'], ['HH', 'EH1', 'N', 'AH0', 'L', 'IY0'], ['M', 'EH1', 'CH', 'AH0', 'M'], ['L', 'AE1', 'CH', 'IH0', 'NG'], ['OW1', 'M', 'ER0'], ['D', 'EH1', 'F', 'R', 'IY0', 'S'], ['R', 'IH0', 'T', 'R', 'IY1', 'V', 'Z'], ['OW1', 'L'], ['K', 'AA0', 'R', 'EH1', 'R', 'AA0'], ['W', 'AO1', 'R', 'M', 'UH2', 'TH'], ['S', 'EH1', 'N', 'AH0', 'T', 'ER0'], ['IH0', 'JH', 'IH1', 'P', 'SH', 'AH0', 'N'], ['R', 'EH1', 'N', 'S', 'B', 'ER0', 'G', 'ER0'], ['R', 'EH1', 'N', 'T', 'AH0', 'B', 'AH0', 'L'], ['G', 'R', 'EY1', 'Z'], ['W', 'OW1', 'L', 'IH0', 'N'], ['S', 'EH1', 'L', 'F', 'R', 'IH0', 'JH'], ['F', 'AA1', 'N', 'T'], ['P', 'R', 'IH0', 'V', 'EH1', 'T'], ['JH', 'AE0', 'M', 'UW1'], ['Z', 'Y', 'UW1', 'G', 'AA0', 'N', 'AA0', 'V', 'Z'], ['L', 'UW1', 'D', 'AH0', 'K', 'R', 'AH0', 'S', 'L', 'IY0'], ['L', 'IY1', 'Z'], ['OW1', 'SH', 'AH0', 'N', 'G', 'OW2', 'IH0', 'NG'], ['IH2', 'N', 'IH1', 'SH', 'IY0', 'OW0'], ['P', 'AA2', 'L', 'AH0', 'T', 'IH1', 'SH', 'AH0', 'N', 'Z'], ['S', 'IH1', 'N', 'D', 'IH0', 'K', 'EY2', 'T', 'ER0'], ['M', 'AA0', 'T', 'S', 'UW0', 'M', 'UH1', 'R', 'AH0'], ['R', 'IH0', 'S', 'P', 'AA1', 'N', 'D', 'ER0', 'Z'], ['S', 'EH1', 'L', 'CH', 'AW0'], ['S', 'EH1', 'K', 'R', 'AH0', 'T', 'EH2', 'R', 'IY0'], ['S', 'L', 'AH1', 'M', 'P', 'IH0', 'NG'], ['B', 'AA1', 'R', 'N', 'IY0'], ['N', 'IH2', 'TH', 'W', 'AH0', 'K', 'AA1', 'N'], ['P', 'EH1', 'D', 'ER0', 'S', 'AH0', 'N'], ['K', 'L', 'EH1', 'L', 'AH0', 'N', 'D'], ['B', 'R', 'UW1', 'G', 'ER0'], ['R', 'AE2', 'V', 'IY0', 'OW1', 'L', 'IY0'], ['S', 'L', 'AY1', 'D', 'ER0'], ['K', 'AO1', 'R', 'N', 'Z'], ['S', 'OW1'], ['K', 'ER1', 'L', 'AH0', 'N', 'D', 'ER0'], ['HH', 'OW1', 'Z', 'IY0'], ['L', 'EH1', 'G', 'W', 'ER2', 'K'], ['HH', 'UW1', 'N', 'AA0', 'N'], ['AA1', 'M', 'N', 'IH0', 'K', 'AA0', 'M', 'Z'], ['K', 'AH0', 'N', 'S', 'AH1', 'L', 'T', 'AH0', 'T', 'IH0', 'V'], ['S', 'K', 'AE2', 'N', 'D', 'IH0', 'N', 'EY1', 'V', 'IY0', 'AH0'], ['M', 'AO1', 'R', 'G', 'AH0', 'N'], ['S', 'IH0', 'B', 'IH1', 'L', 'AH0'], ['K', 'AA1', 'N', 'F', 'R', 'AH0', 'N', 'S', 'IH0', 'Z'], ['K', 'AE1', 'L', 'M', 'ER0'], ['K', 'AH0', 'M', 'B', 'AY1', 'N', 'IH0', 'NG'], ['OW2', 'V', 'ER0', 'IH0', 'K', 'S', 'T', 'EH1', 'N', 'D'], ['K', 'AA1', 'R', 'D', 'AH0', 'M', 'AH0', 'M'], ['R', 'IH1', 'NG', 'K', 'L', 'IH0', 'NG'], ['R', 'OY1', 'AH0', 'L', 'T', 'IY0', 'Z'], ['M', 'IH1', 'CH', 'AH0', 'L', 'Z'], ['S', 'OW1', 'K', 'AH0', 'L'], ['K', 'AA0', 'P', 'IY1', 'T', 'OW0'], ['G', 'R', 'IH1', 'D'], ['P', 'UW0', 'L', 'AE1', 'N'], ['S', 'AE2', 'N', 'HH', 'OW0', 'Z', 'EY1']]\n"
          ]
        }
      ],
      "source": [
        "num_data_points=1000\n",
        "min_sentence_length=1\n",
        "max_sentence_length=8\n",
        "sentences=[]\n",
        "phonetic_values=[]\n",
        "for i in range(num_data_points):\n",
        "  length=(i//(num_data_points/(max_sentence_length-min_sentence_length+1)))+min_sentence_length\n",
        "  length=int(length)\n",
        "  words=random.sample(list(etp_dict.keys()), length)\n",
        "  phonetics=[]\n",
        "  for word in words:\n",
        "    phonetics.append(etp_dict[word])\n",
        "  phonetic_values.append(phonetics[0])\n",
        "  sentence=\" \".join(words)\n",
        "  sentences.append(sentence)\n",
        "sentence_characters=[list(sentence) for sentence in sentences]\n",
        "letter_tokenizer=Tokenizer(filters=\"!\\\"#$%&()*+,-./:;<=>?@[\\\\]^_`{|}~\\t\\n0123456789\")\n",
        "letter_tokenizer.fit_on_texts(sentence_characters)\n",
        "tokenized_sentences=letter_tokenizer.texts_to_sequences(sentence_characters, )\n",
        "tokenized_sentences=kps.data_utils.pad_sequences(tokenized_sentences, padding=\"post\")[:]\n",
        "phonetic_tokenizer=Tokenizer()\n",
        "flattened_phoneticlist=[phoneme for word in phonetic_values for phoneme in word]\n",
        "phonetic_tokenizer.fit_on_texts(flattened_phoneticlist)\n",
        "print(phonetic_values)\n",
        "tokenized_phonetics=phonetic_tokenizer.texts_to_sequences(phonetic_values)\n",
        "tokenized_phonetics=kps.data_utils.pad_sequences(tokenized_phonetics, padding=\"post\")[:]\n",
        "\n"
      ]
    },
    {
      "cell_type": "code",
      "source": [
        "print(tokenized_phonetics)"
      ],
      "metadata": {
        "colab": {
          "base_uri": "https://localhost:8080/"
        },
        "id": "PHhmaTx57o5B",
        "outputId": "f3ed34ab-df62-48c9-fbcc-e16541194d6e"
      },
      "execution_count": null,
      "outputs": [
        {
          "output_type": "stream",
          "name": "stdout",
          "text": [
            "[[11 19 27 ...  0  0  0]\n",
            " [10  2  5 ...  0  0  0]\n",
            " [ 7 18  5 ...  0  0  0]\n",
            " ...\n",
            " [ 3  1 15 ...  0  0  0]\n",
            " [ 6 33  4 ...  0  0  0]\n",
            " [18  2  7 ...  0  0  0]]\n"
          ]
        }
      ]
    },
    {
      "cell_type": "code",
      "execution_count": 46,
      "metadata": {
        "id": "uocDqqysOSgk"
      },
      "outputs": [],
      "source": [
        "phonetic_length=tokenized_phonetics.shape[1]\n",
        "sentence=tokenized_sentences.shape[1]"
      ]
    },
    {
      "cell_type": "code",
      "execution_count": 47,
      "metadata": {
        "id": "a2A0vAT68Xei"
      },
      "outputs": [],
      "source": [
        "tokenized_phonetics=tokenized_phonetics.astype('float32')\n",
        "tokenized_sentences=tokenized_sentences.reshape(tokenized_sentences.shape[0], tokenized_sentences.shape[1]).astype('float32')"
      ]
    },
    {
      "cell_type": "code",
      "execution_count": 48,
      "metadata": {
        "id": "DCLHvxOx9RVb"
      },
      "outputs": [],
      "source": [
        "indices=np.array(range(tokenized_sentences.shape[0]))\n",
        "np.random.shuffle(indices)\n",
        "tokenized_phonetics=tokenized_phonetics[indices]\n",
        "tokenized_sentences=tokenized_sentences[indices]\n"
      ]
    },
    {
      "cell_type": "code",
      "execution_count": 49,
      "metadata": {
        "id": "iuC_c3FRWot3"
      },
      "outputs": [],
      "source": [
        "from datetime import datetime\n",
        "np.save(\"/content/drive/MyDrive/indices_\"+str(datetime.now()), indices)"
      ]
    },
    {
      "cell_type": "code",
      "execution_count": 50,
      "metadata": {
        "id": "pwsGOEgUrQRq"
      },
      "outputs": [],
      "source": [
        "tokenized_phonetics=torch.tensor(tokenized_phonetics).long()"
      ]
    },
    {
      "cell_type": "code",
      "execution_count": 51,
      "metadata": {
        "id": "iIVBlyES92B8"
      },
      "outputs": [],
      "source": [
        "split_index=int(tokenized_sentences.shape[0]*0.9)\n",
        "\n",
        "words_train_tensor, words_test_tensor=(torch.tensor(tokenized_sentences[:split_index]), torch.tensor(tokenized_sentences[split_index:]))\n",
        "phonetics_train_tensor, phonetics_test_tensor=(tokenized_phonetics[:split_index], tokenized_phonetics[split_index:])"
      ]
    },
    {
      "cell_type": "code",
      "source": [
        "words_train_tensor()"
      ],
      "metadata": {
        "id": "e2DDzHSrnMsH"
      },
      "execution_count": null,
      "outputs": []
    },
    {
      "cell_type": "code",
      "execution_count": 52,
      "metadata": {
        "id": "qU0dSWHP9GxX"
      },
      "outputs": [],
      "source": [
        "actor_train_dataset=TensorDataset(phonetics_train_tensor.long(), words_train_tensor.float())\n",
        "actor_train_dataloader=DataLoader(actor_train_dataset, batch_size=32, num_workers=2)\n",
        "actor_test_dataset=TensorDataset(phonetics_test_tensor.long(), words_test_tensor.float())\n",
        "actor_test_dataloader=DataLoader(actor_test_dataset, batch_size=32, num_workers=2)"
      ]
    },
    {
      "cell_type": "code",
      "execution_count": null,
      "metadata": {
        "id": "2oNVy1fPtwYz"
      },
      "outputs": [],
      "source": [
        "#Initialize TensorDataset and TensorDataLoader for phonetic data?"
      ]
    },
    {
      "cell_type": "markdown",
      "metadata": {
        "id": "I4fbKhLGYw9W"
      },
      "source": [
        "#Auxillary Models"
      ]
    },
    {
      "cell_type": "markdown",
      "metadata": {
        "id": "JPOl34-iY0nl"
      },
      "source": [
        "###English To Phonetics"
      ]
    },
    {
      "cell_type": "code",
      "execution_count": null,
      "metadata": {
        "id": "DxyTw8UNYkXz"
      },
      "outputs": [],
      "source": [
        "#Load English To Phonetics"
      ]
    },
    {
      "cell_type": "markdown",
      "metadata": {
        "id": "N8tufAn1Y4eD"
      },
      "source": [
        "###Speech To Text Model"
      ]
    },
    {
      "cell_type": "code",
      "execution_count": 53,
      "metadata": {
        "colab": {
          "base_uri": "https://localhost:8080/"
        },
        "id": "XyW_Z_Ph-8ND",
        "outputId": "7d540e64-cac9-4242-f3c6-51b524445350"
      },
      "outputs": [
        {
          "output_type": "stream",
          "name": "stderr",
          "text": [
            "100%|███████████████████████████████████████| 139M/139M [00:03<00:00, 47.9MiB/s]\n"
          ]
        }
      ],
      "source": [
        "#Speech-To-Text Model - Focus on Efficiency over Accuracy\n",
        "#Can use OpenAI whisper OR custom model, Seq2Seq w/ Transformers\n",
        "whisper_model=whisper.load_model(\"base.en\")\n",
        "#test_audio=sf.read(\"/content/anton.wav\", 16000)\n",
        "#whisper_read=whisper.load_audio(\"/content/OSR_us_000_0010_8k.wav\")\n",
        "#print(test_audio)\n",
        "#print(whisper_read)\n"
      ]
    },
    {
      "cell_type": "code",
      "execution_count": null,
      "metadata": {
        "id": "8YpycECIhG1l"
      },
      "outputs": [],
      "source": [
        "test_audio=test_audio[0].astype(\"float32\")"
      ]
    },
    {
      "cell_type": "code",
      "execution_count": null,
      "metadata": {
        "colab": {
          "base_uri": "https://localhost:8080/"
        },
        "id": "z_V_AgYKhWtL",
        "outputId": "e28cf57a-14fa-46d9-9d88-9a020f7d587e"
      },
      "outputs": [
        {
          "name": "stdout",
          "output_type": "stream",
          "text": [
            "<class 'numpy.float32'>\n"
          ]
        }
      ],
      "source": [
        "print(type(test_audio[0]))"
      ]
    },
    {
      "cell_type": "code",
      "execution_count": null,
      "metadata": {
        "id": "4yPVqQmefBSQ"
      },
      "outputs": [],
      "source": [
        "test_audio=whisper.pad_or_trim(test_audio)\n",
        "print(test_audio)\n",
        "test_mel=whisper.log_mel_spectrogram(test_audio).to(whisper_model.device)\n",
        "test_options = whisper.DecodingOptions(language=\"en\", without_timestamps=True, fp16 = False)\n",
        "test_text = whisper.decode(whisper_model, test_mel, test_options)\n",
        "print(test_text.text)"
      ]
    },
    {
      "cell_type": "code",
      "execution_count": 54,
      "metadata": {
        "id": "FyTOdwMKAN2h"
      },
      "outputs": [],
      "source": [
        "def decode_audio(audio):\n",
        "  formatted_audio=whisper.pad_or_trim(test_audio)\n",
        "  mel=whisper.log_mel_spectrogram(test_audio).to(whisper_model.device)\n",
        "  return whisper.decode(whisper_model, test_mel, test_options)"
      ]
    },
    {
      "cell_type": "markdown",
      "metadata": {
        "id": "Ei4UbFxovZkJ"
      },
      "source": [
        "#Reward"
      ]
    },
    {
      "cell_type": "code",
      "source": [
        "import json\n",
        "\n",
        "with open(\"/root/var/log/colab-jupyter.log\", \"r\") as fo:\n",
        "  for line in fo:\n",
        "    print(json.loads(line)['msg'])"
      ],
      "metadata": {
        "colab": {
          "base_uri": "https://localhost:8080/",
          "height": 235
        },
        "id": "8kZGvirBk7tN",
        "outputId": "69e14f2e-c06a-4e12-8b14-69ea99c36bec"
      },
      "execution_count": 2,
      "outputs": [
        {
          "output_type": "error",
          "ename": "FileNotFoundError",
          "evalue": "ignored",
          "traceback": [
            "\u001b[0;31m---------------------------------------------------------------------------\u001b[0m",
            "\u001b[0;31mFileNotFoundError\u001b[0m                         Traceback (most recent call last)",
            "\u001b[0;32m<ipython-input-2-3b5cf30ac7f6>\u001b[0m in \u001b[0;36m<module>\u001b[0;34m\u001b[0m\n\u001b[1;32m      1\u001b[0m \u001b[0;32mimport\u001b[0m \u001b[0mjson\u001b[0m\u001b[0;34m\u001b[0m\u001b[0;34m\u001b[0m\u001b[0m\n\u001b[1;32m      2\u001b[0m \u001b[0;34m\u001b[0m\u001b[0m\n\u001b[0;32m----> 3\u001b[0;31m \u001b[0;32mwith\u001b[0m \u001b[0mopen\u001b[0m\u001b[0;34m(\u001b[0m\u001b[0;34m\"/root/var/log/colab-jupyter.log\"\u001b[0m\u001b[0;34m,\u001b[0m \u001b[0;34m\"r\"\u001b[0m\u001b[0;34m)\u001b[0m \u001b[0;32mas\u001b[0m \u001b[0mfo\u001b[0m\u001b[0;34m:\u001b[0m\u001b[0;34m\u001b[0m\u001b[0;34m\u001b[0m\u001b[0m\n\u001b[0m\u001b[1;32m      4\u001b[0m   \u001b[0;32mfor\u001b[0m \u001b[0mline\u001b[0m \u001b[0;32min\u001b[0m \u001b[0mfo\u001b[0m\u001b[0;34m:\u001b[0m\u001b[0;34m\u001b[0m\u001b[0;34m\u001b[0m\u001b[0m\n\u001b[1;32m      5\u001b[0m     \u001b[0mprint\u001b[0m\u001b[0;34m(\u001b[0m\u001b[0mjson\u001b[0m\u001b[0;34m.\u001b[0m\u001b[0mloads\u001b[0m\u001b[0;34m(\u001b[0m\u001b[0mline\u001b[0m\u001b[0;34m)\u001b[0m\u001b[0;34m[\u001b[0m\u001b[0;34m'msg'\u001b[0m\u001b[0;34m]\u001b[0m\u001b[0;34m)\u001b[0m\u001b[0;34m\u001b[0m\u001b[0;34m\u001b[0m\u001b[0m\n",
            "\u001b[0;31mFileNotFoundError\u001b[0m: [Errno 2] No such file or directory: '/root/var/log/colab-jupyter.log'"
          ]
        }
      ]
    },
    {
      "cell_type": "code",
      "execution_count": 55,
      "metadata": {
        "id": "geCovYORvbK2"
      },
      "outputs": [],
      "source": [
        "class Reward():\n",
        "  def __init__(self, critic, speech_to_text, true_data_dataloader, letter_tokenizer,  num_tract_parameters, min_critic_prob=0.5, max_reward=1, critic_loss=nn.BCELoss(), speech_to_text_loss=nn.CrossEntropyLoss()):\n",
        "    self.critic=critic;\n",
        "    self.speech_to_text=speech_to_text;\n",
        "    self.dataloader_iterator=iter(true_data_dataloader)\n",
        "    self.min_critic_prob=min_critic_prob\n",
        "    self.critic_loss=critic_loss\n",
        "    self.letter_tokenizer=letter_tokenizer\n",
        "    self.speech_to_text_loss=speech_to_text_loss\n",
        "    self.num_tract_parameters=num_tract_parameters\n",
        "  def articulatory_sequence_to_audio(self, articulatory_sequence):\n",
        "    motorseq_list=[]\n",
        "    print(articulatory_sequence.size())\n",
        "    for i in range(articulatory_sequence.size()[0]):\n",
        "      print(articulatory_sequence[i, :, :self.num_tract_parameters])\n",
        "      spgseq=vtl.tract_sequence.Supra_Glottal_Sequence(articulatory_sequence[i, :, :self.num_tract_parameters].numpy().astype(\"float64\"));\n",
        "      sgseq=vtl.tract_sequence.Sub_Glottal_Sequence(articulatory_sequence[i, :, self.num_tract_parameters:].numpy().astype(\"float64\"));\n",
        "      motorseq_list.append(vtl.tract_sequence.Motor_Sequence(spgseq, sgseq))\n",
        "    print(\"AAA\")\n",
        "    #print()\n",
        "    print(vtl.VocalTractLabApi.tract_sequence_to_audio(motorseq_list[0]))\n",
        "    return [torch.tensor(vtl.VocalTractLabApi.tract_sequence_to_audio(motorseq)) for motorseq in motorseq_list]\n",
        "  def __call__(self,  articulatory_sequence, target_text):\n",
        "    with torch.no_grad():\n",
        "      output_audio=self.articulatory_sequence_to_audio(articulatory_sequence)\n",
        "      reward=0;\n",
        "      #N x sound_len\n",
        "      real_audio, _=next(self.dataloader_iterator)\n",
        "      batch_size=real_audio.size()[0]\n",
        "      text_length=target_text.size()[1]\n",
        "      real_output=self.critic(real_audio.transpose(0, 1))\n",
        "      real_labels=ones(batch_size)\n",
        "      fake_labels=zeros(batch_size)\n",
        "      labels=torch.cat((real_labels, fake_labels))\n",
        "      fake_output=self.critic(output_audio)\n",
        "      outputs=torch.cat((real_output, fake_output))\n",
        "      indices=torch.randperm(2*batch_size)\n",
        "      labels=labels[indices]\n",
        "      outputs=outputs[indices]\n",
        "      critic_reward=self.critic_loss(outputs, labels)\n",
        "      text_interpretation=self.speech_to_text(output_audio)\n",
        "      text_interpretation=self.letter_tokenizer(text_interpretation.replace(\".\", \"\"))\n",
        "      empty=torch.zeros(text_length)\n",
        "      padded_text_interpretation=pad_sequence([empty, text_interpretation], batch_first=True)\n",
        "      padded_text_interpretation=padded_text_interpretation[1]\n",
        "      text_one_hotted=nn.functional.one_hot(padded_text_interpretation)\n",
        "      stt_reward=self.speech_to_text_loss(text_one_hotted, target_text)\n",
        "    return (stt_reward-critic_reward, critic_reward)"
      ]
    },
    {
      "cell_type": "code",
      "source": [],
      "metadata": {
        "id": "pYtVqCjT2F0h"
      },
      "execution_count": null,
      "outputs": []
    },
    {
      "cell_type": "markdown",
      "metadata": {
        "id": "tRtOHpKiY82w"
      },
      "source": [
        "#Policy"
      ]
    },
    {
      "cell_type": "code",
      "execution_count": null,
      "metadata": {
        "id": "LinQgVJ-Yh3I"
      },
      "outputs": [],
      "source": [
        "#Define the model to convert parameters into sound - SG\n",
        "#Basic one-to-many\n",
        "#Components:\n",
        "#Feedforward layer with input size 19[Number of parameters of vocal tract] and output size 32, ReLU activation perhaps\n",
        "#LSTM or GRU layer where the hidden size is 32, and the input size is TBD[Read papers on music generation]\n",
        "#Feedforward layer [Music generation papers]\n",
        "\n",
        "#Model forwarding:\n",
        "#Pass input vector through feedforward, call the output H\n",
        "#Create empty sequence, call it S\n",
        "#Loop until an end condition is met (Volume of sound is very close to 0, etc.):\n",
        "#   Pass S into LSTM with hidden state H, call the output L\n",
        "#   Pass L into the final feedforward layer. Append the result to S\n",
        "#   Repeat\n",
        "#Return S"
      ]
    },
    {
      "cell_type": "code",
      "execution_count": null,
      "metadata": {
        "id": "6rVCKgFtvphs"
      },
      "outputs": [],
      "source": [
        "#Define Reward Function\n"
      ]
    },
    {
      "cell_type": "code",
      "execution_count": null,
      "metadata": {
        "id": "ae7EVzljSV7G"
      },
      "outputs": [],
      "source": [
        "# class PolicyEncoder(nn.Module):\n",
        "#   def __init__(self, use_gru=True, embedding_size=64, phonetic_sequence_length=32, hidden_size=8):\n",
        "#     self.use_gru=use_gru;\n",
        "#     self.embedding=nn.Embedding()\n",
        "#     self.recurrent_layer=nn.LSTM(input_size=phonetic_sequence_length, hidden_size=hidden_size)\n",
        "#     if(use_gru):\n",
        "#       self.recurrent_layer=nn.GRU(input_size=phonetic_sequence_length, hidden_size=hidden_size)\n",
        "#   def forward(self, x):\n",
        "#     embedded_input=self.embedding(x);\n",
        "#     reccurrent_output=self.recurrent_layer(embedded_input);\n",
        "#     return recurrent_output"
      ]
    },
    {
      "cell_type": "code",
      "execution_count": null,
      "metadata": {
        "id": "mKLWbq094p2d"
      },
      "outputs": [],
      "source": [
        "# class Polic"
      ]
    },
    {
      "cell_type": "code",
      "execution_count": 56,
      "metadata": {
        "id": "Bqtz896jvCbC"
      },
      "outputs": [],
      "source": [
        "class CriticModel(nn.Module):\n",
        "  def __init__(self, d_model, num_heads, sound_length, input_embedding_size, dropout=0.1, num_encoder_layers=2):\n",
        "    super(CriticModel, self).__init__()\n",
        "    self.positional_encoding=nn.Embedding(sound_length, input_embedding_size)\n",
        "    #Again, not an embedding\n",
        "    self.sound_embedding=nn.Linear(1, input_embedding_size)\n",
        "    self.transformer_encoder_layer=nn.TransformerEncoderLayer(d_model=d_model, nhead=num_heads, dropout=dropout)\n",
        "    self.encoder=nn.TransformerEncoder(self.transformer_encoder_layer, num_encoder_layers)\n",
        "    self.dropout=nn.Dropout(dropout)\n",
        "    self.feedforward_length=nn.Linear(sound_length, 1)\n",
        "    self.feedforward_embedding=nn.Linear(input_embedding_size, 1)\n",
        "    self.activation=nn.Sigmoid()\n",
        "  def forward(self, x):\n",
        "    sound_len, batch_size=x.size()\n",
        "    embedded_sound=self.sound_embedding(x.unsqueeze(2))\n",
        "    position_embedding=self.positional_encoding(torch.arange(0, 1).unsqueeze(1).expand(sound_len, batch_size))\n",
        "    input_embedding=self.dropout(embedded_sound+position_embedding)\n",
        "    transformer_output=self.encoder(input_embedding)\n",
        "    transformer_flattened=self.feedforward_length(transformer_output.transpose(0, 2)).transpose(0, 2).squeeze(2)\n",
        "    result=self.feedforward_embedding(transformer_flattened)\n",
        "    result_probability=self.activation(result)\n",
        "    return result_probability\n",
        "\n",
        "    \n",
        "    "
      ]
    },
    {
      "cell_type": "code",
      "execution_count": 57,
      "metadata": {
        "id": "zLd12xwnsFNn"
      },
      "outputs": [],
      "source": [
        "#Define policy:\n",
        "class ArticulatoryPolicy(nn.Module):\n",
        "  def __init__(self, num_phonetic_chars, num_articulatory_parameters, d_model, num_heads, articulatory_parameter_weight_vector, articulatory_parameter_bias_vector, use_gru=True, dropout=0.1, phonetic_sequence_length=17, input_embedding_size=512, articulatory_embedding_size=32, hidden_size=8, articulatory_sequence_length=17):\n",
        "    super(ArticulatoryPolicy, self).__init__()\n",
        "    self.positional_encoding=nn.Embedding(phonetic_sequence_length, input_embedding_size)\n",
        "    self.phonetic_embedding=nn.Embedding(num_phonetic_chars, input_embedding_size)\n",
        "    self.articulator_positional_encoding=nn.Embedding(articulatory_sequence_length, articulatory_embedding_size)\n",
        "    #Not really an embedding but its the replacement for it in a classic transformer\n",
        "    self.articulatory_embedding=nn.Linear(num_articulatory_parameters, articulatory_embedding_size)\n",
        "    self.transformer=nn.Transformer(d_model=d_model, dropout=dropout, nhead=num_heads)\n",
        "    self.num_articulatory_parameters=num_articulatory_parameters\n",
        "    self.linear=nn.Linear(input_embedding_size, num_articulatory_parameters)\n",
        "    self.activation=nn.Sigmoid()\n",
        "    self.dropout=nn.Dropout(dropout)\n",
        "    #Shape: (1 x num_articulatory_parameters) -> (num_articulatory_parameters x 1)\n",
        "    self.articulatory_sequence_length=articulatory_sequence_length\n",
        "    self.articulatory_parameter_weight_vector=articulatory_parameter_weight_vector\n",
        "    self.articulatory_parameter_bias_vector=articulatory_parameter_bias_vector\n",
        "  def input_padding_mask(self, x):\n",
        "    return (x.transpose(0,1)==0);\n",
        "  def forward(self, x, prev):\n",
        "    input_len,batch_size=x.size()\n",
        "    target_len,batch_size,_=prev.size()\n",
        "    input_positional_embedding=self.positional_encoding(torch.arange(0, input_len).unsqueeze(1).expand(input_len, batch_size))\n",
        "    target_positional_embedding=self.articulator_positional_encoding(torch.arange(0, target_len).unsqueeze(1).expand(target_len, batch_size))\n",
        "    input_phonetic_embedding=self.phonetic_embedding(x)\n",
        "    print(\"z\")\n",
        "    target_articulatory_embedding=self.articulatory_embedding(prev)\n",
        "    print(\"zz\")\n",
        "    input_embedding=self.dropout(input_positional_embedding+input_phonetic_embedding)\n",
        "    target_embedding=self.dropout(input_positional_embedding+input_phonetic_embedding)\n",
        "    input_padding_mask=self.input_padding_mask(x);\n",
        "    target_mask=self.transformer.generate_square_subsequent_mask(target_len)\n",
        "    transformer_output=self.transformer(src=input_embedding, tgt=target_embedding, src_key_padding_mask=input_padding_mask, tgt_mask=target_mask);\n",
        "    print(\"f\")\n",
        "    expanded_sequence=self.activation(self.linear(transformer_output))\n",
        "    print(\"c\")\n",
        "    articulatory_sequence=self.articulatory_parameter_weight_vector*expanded_sequence+self.articulatory_parameter_bias_vector\n",
        "    return articulatory_sequence.transpose(0, 1)\n",
        "  def train_model(self, train_dataloader, reward_func, optimizer, critic_optimizer):\n",
        "    self.train()\n",
        "    print(\"b\")\n",
        "    for batch, (x, y) in enumerate(train_dataloader):\n",
        "      x=x.transpose(0, 1)\n",
        "      print(\"a\")\n",
        "      #y in this case is not a target value but yes it is sort of :shrug:\n",
        "      prev=torch.zeros(self.articulatory_sequence_length, x.size()[1], self.num_articulatory_parameters)\n",
        "      prev[0, :]=1\n",
        "      print(x.size())\n",
        "      result=self(x, prev)\n",
        "      (reward, critic_reward)=reward_func(result, y)\n",
        "      optimizer.zero_grad()\n",
        "      reward.backward()\n",
        "      optimizer.step()\n",
        "      critic_optimizer.zero_grad()\n",
        "      critic_reward.backward()\n",
        "      critic_optimizer.step()\n",
        "  \n",
        "\n",
        "  \n",
        "    \n",
        "#Input: Sequence of Phonemes\n",
        "#Pass input through Transformer\n",
        "#Pass result of recurrent layer into Dense layer with output size 19\n",
        "#Pass this into SG"
      ]
    },
    {
      "cell_type": "markdown",
      "metadata": {
        "id": "wfslrVr7lGZv"
      },
      "source": [
        "#Model Training"
      ]
    },
    {
      "cell_type": "code",
      "source": [
        "phonetic_length"
      ],
      "metadata": {
        "colab": {
          "base_uri": "https://localhost:8080/"
        },
        "id": "VlmUkWzoj-bX",
        "outputId": "1b9dbc7a-f63b-4472-b069-01136445257e"
      },
      "execution_count": 59,
      "outputs": [
        {
          "output_type": "execute_result",
          "data": {
            "text/plain": [
              "17"
            ]
          },
          "metadata": {},
          "execution_count": 59
        }
      ]
    },
    {
      "cell_type": "code",
      "execution_count": 58,
      "metadata": {
        "id": "9ntPDQG6X44e"
      },
      "outputs": [],
      "source": [
        "#Get VTL parameters, define \"weight and bias\" for outputs of policy network\n",
        "tract_param_info=vtl.VocalTractLabApi.get_param_info('tract').to_numpy()\n",
        "glottis_param_info=vtl.VocalTractLabApi.get_param_info('glottis').to_numpy()\n",
        "tract_ranges, tract_mins=(torch.tensor(tract_param_info[:, 3].astype(float)-tract_param_info[:, 2].astype(float)), torch.tensor(tract_param_info[:, 2].astype(float)))\n",
        "glottis_ranges, glottis_mins=(torch.tensor(glottis_param_info[:, 3].astype(float)-glottis_param_info[:, 2].astype(float)), torch.tensor(glottis_param_info[:, 2].astype(float)))\n",
        "vtl_weight_vector=torch.cat((tract_ranges, glottis_ranges), dim=0)\n",
        "vtl_bias_vector=torch.cat((tract_mins, glottis_mins), dim=0)"
      ]
    },
    {
      "cell_type": "code",
      "execution_count": 60,
      "metadata": {
        "id": "JzcktjWSZOJO"
      },
      "outputs": [],
      "source": [
        "#Define model instance\n",
        "policy=ArticulatoryPolicy(len(list(phonetic_tokenizer.word_index))+1, vtl_weight_vector.size()[0], 512, 8, vtl_weight_vector, vtl_bias_vector)"
      ]
    },
    {
      "cell_type": "code",
      "execution_count": 61,
      "metadata": {
        "id": "FfESS_L8XESs"
      },
      "outputs": [],
      "source": [
        "#Define critic instance\n",
        "critic=CriticModel(512, 8, critic_audio_train_input.shape[1], 512)"
      ]
    },
    {
      "cell_type": "code",
      "execution_count": null,
      "metadata": {
        "id": "bp2cXgtOAFFT"
      },
      "outputs": [],
      "source": []
    },
    {
      "cell_type": "code",
      "execution_count": 62,
      "metadata": {
        "id": "gdVQG4gQXGej"
      },
      "outputs": [],
      "source": [
        "#Define Reward instance\n",
        "#TODO: get common voice working to load into reward and tokenize letters from cmudict\n",
        "reward_func=Reward(critic, decode_audio, critic_train_dataloader, letter_tokenizer, tract_ranges.size()[0])"
      ]
    },
    {
      "cell_type": "code",
      "execution_count": null,
      "metadata": {
        "id": "VWb_afr-0_Ll"
      },
      "outputs": [],
      "source": []
    },
    {
      "cell_type": "code",
      "execution_count": null,
      "metadata": {
        "id": "2muJ-tYfXIcD",
        "colab": {
          "base_uri": "https://localhost:8080/"
        },
        "outputId": "fb04b545-7b34-4dcd-80f5-370a263ab8ea"
      },
      "outputs": [
        {
          "output_type": "stream",
          "name": "stdout",
          "text": [
            "b\n",
            "a\n",
            "torch.Size([17, 32])\n",
            "z\n",
            "zz\n",
            "f\n",
            "c\n",
            "torch.Size([32, 17, 30])\n",
            "tensor([[ 0.7081, -4.5215, -0.2391, -1.9893,  0.2429, -0.1839,  0.4021,  0.4516,\n",
            "         -0.8078, -0.1240,  4.0623,  1.0473,  0.0483,  2.6278, -2.6968, -4.1650,\n",
            "          0.4026,  0.5793,  0.2066],\n",
            "        [ 0.7156, -4.7516, -0.2542, -3.4319,  0.1110, -0.0769,  0.4401,  0.4169,\n",
            "         -1.0430, -0.7301,  3.1155,  0.5008,  0.5448,  1.5136, -2.6171, -3.5279,\n",
            "          0.4271,  0.5483,  0.2782],\n",
            "        [ 0.6737, -4.8337, -0.2534, -2.4960,  0.1920, -0.5315,  0.5491,  0.2503,\n",
            "         -0.2219, -0.4924,  2.9396, -0.4859,  1.0221,  1.3790, -2.5820, -3.7800,\n",
            "          0.4374,  0.5048,  0.3698],\n",
            "        [ 0.6995, -4.7866, -0.2193, -2.5857,  0.3755, -0.2108,  0.5374,  0.2116,\n",
            "         -0.5695, -0.3378,  3.7737, -0.0950, -0.1497,  2.5838, -2.5822, -4.0883,\n",
            "          0.3556,  0.6150,  0.1910],\n",
            "        [ 0.7087, -4.7389, -0.2936, -1.3708,  0.4568,  0.0283,  0.5842,  0.4204,\n",
            "         -0.5629, -0.5981,  2.9163, -0.3598,  0.4772,  2.0935, -2.6120, -3.4141,\n",
            "          0.4485,  0.5374,  0.1156],\n",
            "        [ 0.7475, -4.8952, -0.2689, -1.5035,  0.2535, -0.6279,  0.5280,  0.3087,\n",
            "          0.1609, -0.6730,  3.7034,  0.2470,  0.5913,  2.5909, -1.9991, -3.0238,\n",
            "          0.4617,  0.4469,  0.3157],\n",
            "        [ 0.7233, -4.5303, -0.2644, -2.0736,  0.4320, -0.5193,  0.4672,  0.4174,\n",
            "         -1.3569, -0.7295,  3.8765, -0.0323,  1.1250,  2.0742, -2.3316, -3.0617,\n",
            "          0.4526,  0.5667, -0.0080],\n",
            "        [ 0.7954, -4.7826, -0.2469, -2.4828,  0.4981, -0.3859,  0.4824,  0.2991,\n",
            "         -0.9789, -0.3966,  3.2295, -0.5842,  0.5982,  2.1114, -2.8004, -3.0900,\n",
            "          0.3353,  0.5772,  0.2345],\n",
            "        [ 0.7903, -4.6832, -0.2865, -1.5634,  0.3662, -0.5570,  0.5964,  0.3907,\n",
            "         -1.4651, -0.0768,  3.2570,  0.0920,  0.7231,  1.9475, -2.9921, -3.8420,\n",
            "          0.3530,  0.5188,  0.2476],\n",
            "        [ 0.7995, -4.6485, -0.2427, -3.0238,  0.2482,  0.0778,  0.4620,  0.1944,\n",
            "          0.1327, -0.2947,  3.7887, -0.0430,  0.2456,  1.9524, -2.7373, -2.9833,\n",
            "          0.5766,  0.5455,  0.3644],\n",
            "        [ 0.6939, -4.9152, -0.2089, -2.3742,  0.0624, -0.5943,  0.4281,  0.2261,\n",
            "         -0.6891, -0.3260,  3.0150, -0.4195,  1.3595,  1.2974, -2.7078, -3.4824,\n",
            "          0.3902,  0.4376,  0.3606],\n",
            "        [ 0.6752, -4.8541, -0.2026, -2.2913,  0.3523, -0.2698,  0.4735,  0.1543,\n",
            "          0.2010, -1.0961,  3.2060, -0.0223,  0.5872,  1.0499, -2.3945, -3.0601,\n",
            "          0.3414,  0.5110,  0.0437],\n",
            "        [ 0.7271, -5.0050, -0.2496, -2.3289,  0.2738, -0.7651,  0.4973,  0.2252,\n",
            "         -0.3828, -0.4989,  3.5075,  0.0771,  1.5200,  1.7884, -2.7309, -3.0449,\n",
            "          0.3096,  0.5378,  0.0655],\n",
            "        [ 0.7613, -4.5208, -0.2777, -1.7947,  0.1593, -0.9347,  0.5377,  0.1783,\n",
            "          0.2970, -0.3846,  3.2351,  0.4981,  1.2315,  1.7264, -2.3552, -3.5113,\n",
            "          0.4448,  0.5338,  0.2011],\n",
            "        [ 0.6713, -4.6765, -0.2358, -1.6823,  0.4505, -0.8442,  0.4990,  0.2547,\n",
            "         -0.0564, -0.2964,  3.4905,  0.2150,  0.7367,  0.7130, -2.7435, -3.0641,\n",
            "          0.4925,  0.5199,  0.2445],\n",
            "        [ 0.6384, -4.6951, -0.2642, -1.6396,  0.3716, -0.4721,  0.4350,  0.2615,\n",
            "         -0.8233, -0.8232,  3.6711,  0.1980,  0.8815,  2.6605, -1.9893, -3.4997,\n",
            "          0.3650,  0.4792,  0.2650],\n",
            "        [ 0.7792, -4.5627, -0.2694, -2.6797,  0.3848, -0.4685,  0.5056,  0.3584,\n",
            "         -0.2613, -0.8521,  3.3515,  0.0754,  0.7228,  2.2933, -2.5235, -3.4966,\n",
            "          0.3491,  0.4664,  0.1388]], dtype=torch.float64, requires_grad=True)\n",
            "tensor([[ 5.4530e-01, -5.0260e+00, -1.6309e-01, -3.8527e+00,  6.0813e-01,\n",
            "         -4.6522e-01,  4.5937e-01,  1.2099e-01, -1.5956e-01, -3.2995e-01,\n",
            "          3.8224e+00,  6.5127e-01, -1.1906e+00,  3.9803e+00, -1.3293e+00,\n",
            "         -3.2249e+00,  5.0288e-01,  3.8042e-01,  1.0643e-01],\n",
            "        [ 7.4428e-01, -5.2607e+00, -2.1388e-01, -2.9531e+00,  3.3469e-01,\n",
            "          3.7050e-01,  5.7289e-01,  1.5229e-01,  7.1799e-01,  1.3816e-01,\n",
            "          3.9586e+00,  8.5220e-02, -7.7087e-01,  2.9747e+00, -1.9260e+00,\n",
            "         -2.7239e+00,  4.6370e-01,  3.7425e-01,  1.4006e-01],\n",
            "        [ 5.7399e-01, -5.0303e+00, -1.5761e-01, -1.9616e+00,  5.2180e-01,\n",
            "         -1.7242e-01,  4.7571e-01,  8.9586e-02,  9.7182e-01, -3.0853e-01,\n",
            "          3.6062e+00,  8.2540e-02, -5.1034e-01,  3.5153e+00, -1.3506e+00,\n",
            "         -3.0326e+00,  5.6172e-01,  5.4617e-01,  2.3595e-01],\n",
            "        [ 7.1640e-01, -4.7145e+00, -1.8736e-01, -2.0583e+00,  4.5331e-01,\n",
            "         -1.9964e-01,  4.8115e-01,  9.4165e-02,  6.1589e-01, -1.1094e-01,\n",
            "          3.5282e+00, -3.7480e-01, -8.8215e-01,  2.5960e+00, -1.3961e+00,\n",
            "         -2.7995e+00,  5.5401e-01,  4.7560e-01,  2.5346e-01],\n",
            "        [ 7.2032e-01, -4.9369e+00, -1.1976e-01, -1.8499e+00,  5.0640e-01,\n",
            "         -8.0238e-01,  4.5053e-01,  2.2168e-01,  7.7265e-01,  1.0821e-01,\n",
            "          4.3698e+00,  3.9221e-01, -2.1487e-01,  3.4067e+00, -1.7263e+00,\n",
            "         -3.6331e+00,  5.0409e-01,  4.7983e-01,  8.2743e-02],\n",
            "        [ 7.1072e-01, -4.9035e+00, -2.2437e-01, -2.0991e+00,  4.0145e-01,\n",
            "         -9.5357e-02,  6.4469e-01,  1.8478e-01,  7.0876e-01,  7.5500e-02,\n",
            "          3.8805e+00,  3.4262e-02,  1.6364e-01,  3.4708e+00, -1.1041e+00,\n",
            "         -2.6814e+00,  5.0051e-01,  3.5566e-01,  2.0257e-01],\n",
            "        [ 6.8329e-01, -5.1036e+00, -2.1023e-01, -2.6234e+00,  4.6672e-01,\n",
            "         -3.0499e-01,  3.3042e-01,  1.3129e-01, -2.9091e-01, -9.3976e-02,\n",
            "          3.8730e+00, -4.9912e-01, -3.8787e-01,  3.2250e+00, -2.2155e+00,\n",
            "         -3.0580e+00,  4.8240e-01,  5.2076e-01,  3.2458e-01],\n",
            "        [ 6.7609e-01, -5.2193e+00, -2.1815e-01, -2.1025e+00,  3.9048e-01,\n",
            "          4.9904e-01,  5.4838e-01,  1.4962e-01, -4.2669e-01,  1.2039e-01,\n",
            "          3.9901e+00, -8.7641e-01, -5.4809e-01,  2.4250e+00, -2.2016e+00,\n",
            "         -2.3115e+00,  6.0990e-01,  5.0404e-01,  2.8997e-01],\n",
            "        [ 6.9870e-01, -5.1007e+00, -2.2419e-01, -2.3994e+00,  4.5234e-01,\n",
            "         -3.9331e-01,  4.0758e-01,  1.5560e-01,  2.2990e-01,  8.0100e-02,\n",
            "          3.8495e+00,  1.9184e-01, -4.7360e-01,  2.9158e+00, -1.9709e+00,\n",
            "         -2.8658e+00,  5.6380e-01,  3.4802e-01,  1.3550e-01],\n",
            "        [ 6.6418e-01, -4.8187e+00, -1.9469e-01, -2.3571e+00,  4.6217e-01,\n",
            "         -2.3321e-01,  4.7471e-01,  1.2591e-01,  5.5604e-01, -7.4753e-02,\n",
            "          3.8282e+00,  5.2718e-02, -5.3405e-01,  2.6372e+00, -1.8529e+00,\n",
            "         -3.4286e+00,  4.9486e-01,  4.5652e-01,  4.2586e-01],\n",
            "        [ 6.3446e-01, -4.9671e+00, -2.0269e-01, -1.4952e+00,  6.2749e-01,\n",
            "          4.3492e-01,  4.8527e-01,  4.3163e-02,  2.7024e-01,  2.4907e-02,\n",
            "          3.9773e+00, -2.1003e-01, -8.4862e-01,  2.7009e+00, -1.3426e+00,\n",
            "         -2.9697e+00,  5.7112e-01,  5.5528e-01, -2.4084e-02],\n",
            "        [ 7.1388e-01, -5.2794e+00, -2.7228e-01, -2.1917e+00,  4.6745e-01,\n",
            "         -3.6463e-01,  3.8285e-01,  1.4578e-01,  6.7542e-01, -8.0889e-02,\n",
            "          3.4755e+00, -8.0269e-02, -9.0925e-01,  2.2413e+00, -9.1641e-01,\n",
            "         -2.8659e+00,  4.6867e-01,  4.5923e-01, -3.4065e-02],\n",
            "        [ 6.8246e-01, -4.8595e+00, -2.2325e-01, -1.8831e+00,  4.1709e-01,\n",
            "          2.4132e-03,  3.7989e-01,  1.4651e-01,  4.6284e-01,  1.6770e-01,\n",
            "          3.9715e+00, -3.2000e-01, -1.2173e+00,  2.0806e+00, -1.7566e+00,\n",
            "         -3.1535e+00,  4.2557e-01,  5.4084e-01,  1.0515e-01],\n",
            "        [ 7.1623e-01, -5.0305e+00, -2.0461e-01, -2.8776e+00,  4.4432e-01,\n",
            "          1.9945e-01,  3.7980e-01,  8.1442e-02,  1.3152e+00, -2.0331e-01,\n",
            "          4.1438e+00,  2.4532e-01, -4.8054e-01,  2.4662e+00, -2.0916e+00,\n",
            "         -3.7859e+00,  4.8415e-01,  4.6821e-01,  1.2047e-01],\n",
            "        [ 6.5042e-01, -5.0401e+00, -1.9669e-01, -1.8665e+00,  2.9271e-01,\n",
            "          4.4144e-01,  4.5222e-01,  6.1320e-02,  8.6128e-01, -6.8647e-02,\n",
            "          4.0295e+00,  5.7137e-01, -8.3980e-01,  2.6175e+00, -2.0755e+00,\n",
            "         -2.8744e+00,  5.2779e-01,  4.2333e-01,  1.8411e-01],\n",
            "        [ 6.4130e-01, -4.9894e+00, -2.1949e-01, -1.7202e+00,  4.1014e-01,\n",
            "         -5.5538e-01,  4.9145e-01,  4.3486e-02,  6.4782e-01, -2.0264e-01,\n",
            "          4.0057e+00,  6.3056e-01, -9.5567e-01,  2.8585e+00, -2.0128e+00,\n",
            "         -3.4974e+00,  5.1604e-01,  5.1927e-01,  9.3958e-02],\n",
            "        [ 7.1069e-01, -4.9650e+00, -2.2290e-01, -2.5429e+00,  5.8794e-01,\n",
            "          1.6804e-01,  3.9937e-01,  1.1079e-01, -4.5654e-01,  2.1757e-01,\n",
            "          4.0309e+00, -2.9690e-01, -9.5016e-01,  1.8052e+00, -1.8571e+00,\n",
            "         -3.0767e+00,  5.5804e-01,  4.4084e-01,  6.6399e-02]],\n",
            "       dtype=torch.float64, requires_grad=True)\n",
            "tensor([[ 0.5719, -4.7773, -0.2090, -3.1153,  0.2710,  0.1251,  0.5411,  0.3859,\n",
            "         -0.5744, -0.4276,  4.1094,  0.9700,  1.3487,  2.0352, -1.7602, -3.0396,\n",
            "          0.4524,  0.5818,  0.3979],\n",
            "        [ 0.6857, -5.0700, -0.1639, -2.1848,  0.2558, -0.3665,  0.4953,  0.3446,\n",
            "         -0.1482, -0.9053,  3.8807,  0.8337,  0.7803,  2.0479, -1.5611, -2.7809,\n",
            "          0.4997,  0.4884,  0.6323],\n",
            "        [ 0.6623, -4.9137, -0.1949, -1.8865,  0.3458, -0.4357,  0.4627,  0.3077,\n",
            "         -0.1308, -0.8565,  3.5120,  0.8777,  0.4206,  2.2191, -1.9686, -2.8358,\n",
            "          0.4201,  0.6246,  0.6920],\n",
            "        [ 0.5680, -4.9200, -0.1432, -2.4191,  0.2477, -0.0847,  0.5121,  0.2558,\n",
            "         -0.3743, -0.8023,  3.8588,  0.7592,  1.5072,  0.9794, -1.8824, -2.5039,\n",
            "          0.4526,  0.5953,  0.3070],\n",
            "        [ 0.7269, -5.0857, -0.1832, -2.8620,  0.2537, -0.7753,  0.4952,  0.3721,\n",
            "         -0.5320, -0.9429,  3.2012,  0.1791,  1.1390,  2.5861, -1.7129, -2.9017,\n",
            "          0.3713,  0.4746,  0.2585],\n",
            "        [ 0.5186, -4.9605, -0.2369, -1.7989,  0.3968, -0.7932,  0.6380,  0.3780,\n",
            "         -0.2245, -0.3522,  4.0035,  0.2386,  1.3366,  2.1878, -1.8863, -3.2548,\n",
            "          0.4372,  0.5388,  0.5036],\n",
            "        [ 0.6810, -4.6156, -0.2374, -1.4787,  0.3613, -0.8516,  0.4975,  0.3651,\n",
            "          0.2307, -0.8658,  4.0874,  0.5455,  0.5380,  1.9377, -2.5721, -3.0895,\n",
            "          0.5457,  0.5620,  0.4966],\n",
            "        [ 0.4903, -5.0901, -0.1853, -2.4515,  0.2136, -0.3699,  0.4559,  0.3811,\n",
            "         -0.3972, -0.9946,  3.8631,  0.6725,  0.9355,  1.9382, -1.9415, -2.7290,\n",
            "          0.5026,  0.5917,  0.5113],\n",
            "        [ 0.5838, -4.8099, -0.1895, -2.1916,  0.4075, -0.3861,  0.5593,  0.3733,\n",
            "          0.4019, -0.9724,  4.0700,  0.1002,  1.4497,  2.0336, -1.9881, -2.5491,\n",
            "          0.4620,  0.6490,  0.3593],\n",
            "        [ 0.6013, -4.9674, -0.1830, -2.7801,  0.3861, -0.3811,  0.5317,  0.2448,\n",
            "          0.8251, -1.0903,  3.8127,  1.0182,  1.9061,  2.5631, -2.3311, -2.7594,\n",
            "          0.3491,  0.5745,  0.5123],\n",
            "        [ 0.6219, -4.7916, -0.2518, -1.8007,  0.3141, -0.6167,  0.4262,  0.2924,\n",
            "          0.5127, -0.9636,  3.9323,  0.7031,  0.2824,  2.4715, -2.1242, -2.6770,\n",
            "          0.5582,  0.5591,  0.4765],\n",
            "        [ 0.6051, -4.7893, -0.1741, -1.8726,  0.2753, -0.7328,  0.4676,  0.2287,\n",
            "          0.1639, -0.2553,  4.2522,  0.5003,  0.9517,  1.3820, -1.6667, -2.9055,\n",
            "          0.5793,  0.5209,  0.5983],\n",
            "        [ 0.5551, -5.1881, -0.2760, -2.3068,  0.1905, -0.3837,  0.5045,  0.1575,\n",
            "         -0.5406, -0.8749,  4.0659,  0.8193,  1.2044,  2.1428, -2.1786, -2.4461,\n",
            "          0.4326,  0.5454,  0.3839],\n",
            "        [ 0.6304, -4.7471, -0.1766, -2.4363,  0.0829, -0.4392,  0.3673,  0.2478,\n",
            "          0.7894, -0.7305,  4.0413,  0.2956,  1.9186,  1.8145, -2.2897, -2.7984,\n",
            "          0.3588,  0.6362,  0.4694],\n",
            "        [ 0.7240, -4.9088, -0.1757, -2.5960,  0.2526, -0.4226,  0.5266,  0.1989,\n",
            "         -0.0204, -0.9102,  4.1274,  0.6684,  1.1983,  2.0277, -2.3707, -2.3067,\n",
            "          0.4922,  0.6000,  0.5952],\n",
            "        [ 0.5077, -4.7547, -0.1769, -2.7728,  0.1928, -0.6681,  0.4333,  0.1665,\n",
            "          0.5018, -0.4385,  4.3062,  0.2037,  1.0359,  2.9845, -1.6662, -3.5793,\n",
            "          0.3253,  0.5536,  0.5338],\n",
            "        [ 0.6443, -4.9072, -0.2094, -2.6608,  0.1945, -0.5662,  0.4950,  0.2773,\n",
            "          0.0415, -0.5361,  3.6584,  0.8814,  1.6481,  2.3240, -2.4920, -2.4582,\n",
            "          0.4525,  0.4540,  0.5539]], dtype=torch.float64, requires_grad=True)\n",
            "tensor([[ 0.5291, -4.7289, -0.2243, -2.6933,  0.5571,  0.1895,  0.6872,  0.4512,\n",
            "         -0.6853, -0.3239,  4.3361,  0.9822,  0.2907,  2.9287, -1.9866, -3.5969,\n",
            "          0.6312,  0.5507, -0.1111],\n",
            "        [ 0.4323, -4.8441, -0.2210, -2.2907,  0.6178,  0.2779,  0.6141,  0.3778,\n",
            "         -0.3645, -0.0664,  4.8562,  1.1708,  0.6228,  3.5864, -1.1623, -3.2023,\n",
            "          0.5609,  0.6655,  0.2942],\n",
            "        [ 0.3248, -4.6473, -0.1835, -2.6775,  0.3807, -0.4981,  0.6653,  0.2182,\n",
            "          0.0938, -0.2118,  4.6139,  0.9662,  0.5243,  2.7503, -1.4617, -3.4253,\n",
            "          0.6032,  0.6614,  0.2666],\n",
            "        [ 0.4634, -4.5927, -0.2017, -2.4388,  0.5957, -0.4209,  0.6375,  0.4127,\n",
            "          0.7426, -0.3670,  4.4337,  1.0987, -0.4135,  3.2135, -0.4405, -3.2829,\n",
            "          0.6119,  0.6656,  0.3929],\n",
            "        [ 0.4717, -4.4554, -0.2334, -2.2637,  0.5029, -0.5646,  0.5147,  0.3493,\n",
            "         -0.6884, -0.1497,  4.1209,  0.6367,  0.8042,  2.4167, -1.1108, -3.5487,\n",
            "          0.6355,  0.6500,  0.3466],\n",
            "        [ 0.5315, -4.3910, -0.1938, -1.8100,  0.2539, -0.2152,  0.6943,  0.2587,\n",
            "          0.5540, -0.5806,  4.2597,  0.8931,  0.2887,  2.9375, -1.0128, -2.8448,\n",
            "          0.5710,  0.5970,  0.4502],\n",
            "        [ 0.4625, -4.4456, -0.2009, -2.4901,  0.5455, -0.7523,  0.5196,  0.3091,\n",
            "          0.5027, -0.1848,  4.2687,  0.5018,  0.6778,  3.4167, -1.4693, -3.7836,\n",
            "          0.5915,  0.6222,  0.5422],\n",
            "        [ 0.4352, -4.5991, -0.2223, -2.1940,  0.5507,  0.1600,  0.5862,  0.3259,\n",
            "          0.6101, -0.6956,  3.9070,  0.9034,  0.5649,  2.5200, -1.3200, -2.8318,\n",
            "          0.5858,  0.6094,  0.5073],\n",
            "        [ 0.4676, -4.5292, -0.2072, -1.9966,  0.5643, -0.3703,  0.6361,  0.2651,\n",
            "          0.5960, -0.8002,  4.1857,  0.6605,  0.1801,  3.1460, -1.3512, -3.6299,\n",
            "          0.5997,  0.5805,  0.3514],\n",
            "        [ 0.4958, -4.5731, -0.3087, -2.2422,  0.3757,  0.1596,  0.5048,  0.2629,\n",
            "         -0.4331, -0.2473,  3.9732,  0.1964,  0.4771,  1.9697, -1.1347, -4.4270,\n",
            "          0.5490,  0.5250,  0.2353],\n",
            "        [ 0.5255, -4.7219, -0.2486, -3.8250,  0.4789, -0.0135,  0.5204,  0.3104,\n",
            "          0.0775, -0.2250,  4.3923,  0.1755,  0.9028,  2.7261, -0.7466, -3.6258,\n",
            "          0.6294,  0.6026,  0.4446],\n",
            "        [ 0.4239, -4.4152, -0.2110, -2.7831,  0.5545,  0.1888,  0.6133,  0.3697,\n",
            "         -0.0211, -0.2394,  4.3173, -0.6237,  0.2361,  2.3572, -1.7484, -3.6742,\n",
            "          0.5283,  0.5937,  0.3327],\n",
            "        [ 0.4341, -4.4929, -0.2071, -3.1076,  0.6473, -0.0935,  0.4759,  0.3657,\n",
            "          0.1552, -0.3308,  3.6218,  0.9948,  1.0915,  2.9100, -1.6681, -3.2948,\n",
            "          0.4907,  0.6029,  0.6110],\n",
            "        [ 0.5267, -4.6984, -0.2904, -2.7488,  0.3497,  0.0802,  0.6375,  0.1500,\n",
            "          0.3583, -0.2584,  3.5646,  0.5805,  0.8046,  3.2158, -1.0173, -3.2734,\n",
            "          0.5707,  0.5845,  0.4029],\n",
            "        [ 0.4434, -4.3885, -0.2305, -2.6425,  0.4132, -0.3782,  0.6342,  0.2226,\n",
            "         -0.7673, -0.2306,  3.9145,  0.3791,  0.7094,  2.3193, -2.2913, -3.8114,\n",
            "          0.6468,  0.5688,  0.3388],\n",
            "        [ 0.4085, -4.5191, -0.2068, -2.3192,  0.5348, -0.6122,  0.5575,  0.1818,\n",
            "         -0.2063, -0.0116,  4.0975,  0.3014,  0.8427,  2.6728, -1.6430, -3.5482,\n",
            "          0.5495,  0.6428,  0.4952],\n",
            "        [ 0.5011, -4.6580, -0.2621, -3.2484,  0.4932, -0.0371,  0.5909,  0.4133,\n",
            "         -0.1086, -0.5145,  4.0148,  0.6804,  0.1560,  2.5860, -1.7257, -3.8286,\n",
            "          0.5421,  0.6030,  0.2665]], dtype=torch.float64, requires_grad=True)\n",
            "tensor([[ 0.7737, -4.4633, -0.2698, -3.9460,  0.4551, -0.3157,  0.5206,  0.3065,\n",
            "          0.3440, -0.2564,  2.9177,  0.4374,  0.1791,  2.9203, -1.2827, -3.6846,\n",
            "          0.6270,  0.5724,  0.4841],\n",
            "        [ 0.8377, -4.6776, -0.2436, -3.0604,  0.3963, -0.1267,  0.5676,  0.5050,\n",
            "          0.5438, -0.0980,  3.0500,  0.5438,  1.1534,  2.7669, -0.8379, -4.4276,\n",
            "          0.5943,  0.5274,  0.4293],\n",
            "        [ 0.7327, -4.5352, -0.3072, -2.6015,  0.4758, -0.3278,  0.4468,  0.1343,\n",
            "          0.2518, -0.1682,  2.8964,  0.6072, -0.1393,  2.1894, -0.6528, -4.4457,\n",
            "          0.6152,  0.6516,  0.5348],\n",
            "        [ 0.7336, -4.2310, -0.2866, -3.1202,  0.2466, -0.5336,  0.5299,  0.2652,\n",
            "          1.4950, -0.5275,  3.3333,  0.6645, -0.1080,  1.9424, -0.8929, -4.4312,\n",
            "          0.5421,  0.5514,  0.2391],\n",
            "        [ 0.7502, -4.5691, -0.3097, -2.3472,  0.4823,  0.5651,  0.5542,  0.3022,\n",
            "          0.4868, -0.3335,  2.9571,  0.0430,  0.8818,  2.2079, -0.3364, -4.2134,\n",
            "          0.6241,  0.5227,  0.5761],\n",
            "        [ 0.7383, -4.6910, -0.2824, -2.9236,  0.4660, -0.7287,  0.5410,  0.4015,\n",
            "          0.8660, -0.5295,  3.1565,  0.3997,  1.0336,  2.4615, -0.9992, -4.5603,\n",
            "          0.6432,  0.3875,  0.0554],\n",
            "        [ 0.7159, -4.3401, -0.3254, -2.3828,  0.2501, -0.8683,  0.4545,  0.4434,\n",
            "          1.1624, -0.2464,  3.4550,  0.7163,  0.1301,  2.4015, -1.0172, -3.9844,\n",
            "          0.5792,  0.4750,  0.6653],\n",
            "        [ 0.7685, -4.6573, -0.2567, -2.6324,  0.4785,  0.1173,  0.4376,  0.3403,\n",
            "          0.3261, -0.0730,  3.1754, -0.2591,  0.1937,  2.8184, -0.6559, -4.0687,\n",
            "          0.6623,  0.5254,  0.3269],\n",
            "        [ 0.8078, -4.7010, -0.3112, -2.2504,  0.4170, -0.4596,  0.3714,  0.3830,\n",
            "          0.4380, -0.3966,  3.0384,  0.7328,  0.2705,  2.5669, -0.4387, -4.8512,\n",
            "          0.5693,  0.5167,  0.4973],\n",
            "        [ 0.7586, -4.9128, -0.2446, -4.5354,  0.1490,  0.0778,  0.3596,  0.2563,\n",
            "          1.0161, -0.5154,  3.2344,  0.2401,  0.9825,  2.0273, -1.1910, -4.0814,\n",
            "          0.5736,  0.4890,  0.4220],\n",
            "        [ 0.6977, -4.6516, -0.2877, -3.2181,  0.4966, -0.2450,  0.4045,  0.2040,\n",
            "          0.2108, -0.0705,  3.1171,  0.7901, -0.2482,  2.3393, -1.0870, -4.7225,\n",
            "          0.5745,  0.5678,  0.4295],\n",
            "        [ 0.7517, -4.5605, -0.3046, -2.7868,  0.6226,  0.2317,  0.4694,  0.2266,\n",
            "          0.1612, -0.4524,  3.0154, -0.1397,  1.2945,  2.4153, -0.8807, -4.5929,\n",
            "          0.5806,  0.5546,  0.3683],\n",
            "        [ 0.6743, -4.4156, -0.2921, -2.7618,  0.3071, -0.0332,  0.4553,  0.2584,\n",
            "          0.1061, -0.0687,  3.5992,  0.2649,  0.4051,  1.9454, -0.6127, -4.4079,\n",
            "          0.4434,  0.5760,  0.2918],\n",
            "        [ 0.8315, -4.6187, -0.2848, -2.3283,  0.2590, -0.1489,  0.3635,  0.3173,\n",
            "          0.4662, -0.3640,  3.2247, -0.3011,  1.1706,  2.3657, -1.3603, -4.6232,\n",
            "          0.5105,  0.4911,  0.4875],\n",
            "        [ 0.7484, -4.8557, -0.2873, -2.7088,  0.3987, -0.2814,  0.4550,  0.2924,\n",
            "          0.7374,  0.2316,  3.3413,  0.3941,  0.7820,  2.0195, -0.4992, -4.6411,\n",
            "          0.5517,  0.5864,  0.4211],\n",
            "        [ 0.7765, -4.7143, -0.2866, -3.3461,  0.4515, -0.2831,  0.4045,  0.3708,\n",
            "          0.7260, -0.1504,  3.5204,  0.3623,  0.6266,  1.9016, -1.4119, -3.9572,\n",
            "          0.5486,  0.5932,  0.2772],\n",
            "        [ 0.6952, -4.4967, -0.3251, -2.5599,  0.3172, -0.3507,  0.5120,  0.2963,\n",
            "         -0.1200, -0.3642,  3.0983,  0.1935, -0.7500,  0.7318, -1.6052, -4.4060,\n",
            "          0.5121,  0.5890,  0.4259]], dtype=torch.float64, requires_grad=True)\n",
            "tensor([[ 7.4749e-01, -4.9991e+00, -2.6708e-01, -2.6776e+00,  1.1268e-01,\n",
            "          1.2421e-01,  6.6660e-01,  2.9529e-01,  1.4416e-01, -1.9585e-01,\n",
            "          3.5083e+00, -4.6863e-02, -5.1564e-01,  1.4171e+00, -7.3435e-01,\n",
            "         -3.6267e+00,  5.2808e-01,  4.7220e-01,  1.8031e-01],\n",
            "        [ 7.2375e-01, -5.1755e+00, -2.0842e-01, -2.6978e+00,  1.7189e-01,\n",
            "          5.5761e-01,  5.0330e-01,  1.6524e-01,  4.4823e-01, -4.4024e-01,\n",
            "          3.4551e+00,  8.3652e-01,  2.9781e-02,  2.4657e+00, -2.3268e+00,\n",
            "         -3.8566e+00,  5.5268e-01,  5.5132e-01,  1.1749e-01],\n",
            "        [ 7.1610e-01, -4.7710e+00, -1.9333e-01, -2.9867e+00,  3.0155e-01,\n",
            "         -1.9761e-01,  5.0401e-01,  2.8432e-01,  1.6669e-02, -1.3876e-01,\n",
            "          3.3210e+00,  5.4239e-01,  6.0040e-01,  2.4942e+00, -1.3337e+00,\n",
            "         -4.0979e+00,  5.4213e-01,  5.6424e-01,  1.5378e-01],\n",
            "        [ 7.3090e-01, -5.0911e+00, -1.7259e-01, -2.5750e+00,  3.5694e-01,\n",
            "          2.9708e-02,  5.2304e-01,  2.2262e-01,  6.4036e-01, -2.0783e-01,\n",
            "          3.2397e+00,  3.6185e-02, -2.4150e-01,  2.7021e+00, -1.8424e+00,\n",
            "         -3.7071e+00,  5.3323e-01,  5.3275e-01,  4.3629e-01],\n",
            "        [ 5.8812e-01, -5.0067e+00, -2.6551e-01, -2.8320e+00,  4.0285e-01,\n",
            "         -1.1495e-01,  5.9963e-01,  3.7121e-01,  6.9492e-01, -2.2741e-01,\n",
            "          3.5172e+00, -4.4888e-01,  6.6146e-01,  1.8066e+00, -1.8494e+00,\n",
            "         -4.1397e+00,  5.1593e-01,  5.0285e-01,  2.7601e-01],\n",
            "        [ 8.0516e-01, -5.1931e+00, -1.7394e-01, -2.8504e+00,  2.0096e-01,\n",
            "         -5.8353e-01,  5.7688e-01,  3.3859e-01,  1.4632e+00,  5.5630e-02,\n",
            "          3.4856e+00,  3.8610e-02, -1.2054e-01,  2.5501e+00, -1.8277e+00,\n",
            "         -4.1607e+00,  4.8691e-01,  5.5715e-01, -1.1451e-02],\n",
            "        [ 6.9713e-01, -5.1253e+00, -2.0621e-01, -2.3412e+00,  4.4130e-01,\n",
            "         -8.5991e-01,  6.0147e-01,  2.0669e-01, -6.2701e-01,  1.3152e-01,\n",
            "          3.1531e+00,  1.6922e-01,  1.3365e-01,  1.8811e+00, -1.1805e+00,\n",
            "         -3.7628e+00,  4.9040e-01,  6.1368e-01,  2.3615e-01],\n",
            "        [ 7.9180e-01, -5.1705e+00, -2.1441e-01, -2.4416e+00,  4.2768e-01,\n",
            "         -2.4480e-01,  6.8447e-01,  1.3240e-01,  4.1454e-01, -3.7836e-01,\n",
            "          3.5467e+00, -1.8631e-01, -2.0339e-01,  2.4422e+00, -1.9554e+00,\n",
            "         -4.2716e+00,  4.9119e-01,  5.5001e-01,  3.7382e-01],\n",
            "        [ 7.3185e-01, -4.7862e+00, -2.2060e-01, -3.4910e+00,  4.3159e-01,\n",
            "          1.8341e-01,  6.6325e-01,  2.0896e-01,  3.6850e-01, -2.2361e-01,\n",
            "          3.4476e+00,  3.0775e-01,  8.1633e-01,  3.0763e+00, -1.9910e+00,\n",
            "         -4.3151e+00,  5.7475e-01,  5.6374e-01,  3.0688e-01],\n",
            "        [ 6.4130e-01, -4.9766e+00, -2.1090e-01, -3.2174e+00,  4.2470e-01,\n",
            "          1.3066e-01,  6.3117e-01,  1.4053e-01,  7.2166e-01, -4.0122e-01,\n",
            "          3.4349e+00,  1.1655e-02,  3.5013e-01,  2.7428e+00, -1.4477e+00,\n",
            "         -4.3884e+00,  5.1429e-01,  6.9763e-01,  3.6988e-01],\n",
            "        [ 7.0897e-01, -4.7759e+00, -2.7056e-01, -2.0401e+00,  3.1873e-01,\n",
            "          1.0154e-01,  5.6911e-01,  2.6955e-01,  2.7572e-01, -5.7793e-04,\n",
            "          3.3755e+00, -2.5334e-01, -3.0821e-01,  1.9750e+00, -1.8835e+00,\n",
            "         -4.2402e+00,  5.5519e-01,  5.6797e-01,  2.4062e-01],\n",
            "        [ 6.7297e-01, -4.9425e+00, -1.9213e-01, -2.5348e+00,  4.2923e-01,\n",
            "          5.0609e-01,  4.9920e-01,  2.2267e-01,  2.9520e-01, -2.4961e-01,\n",
            "          3.0970e+00,  3.7898e-01, -1.0274e-01,  1.8115e+00, -8.4078e-01,\n",
            "         -3.5410e+00,  6.3347e-01,  4.8415e-01,  1.2962e-01],\n",
            "        [ 6.2800e-01, -4.8542e+00, -2.4734e-01, -2.3239e+00,  1.8662e-01,\n",
            "          2.7687e-02,  5.4367e-01,  2.0186e-01, -1.3292e-02, -1.2362e-01,\n",
            "          3.3810e+00,  5.3659e-01,  1.5878e-01,  2.0040e+00, -1.3884e+00,\n",
            "         -4.2807e+00,  4.5439e-01,  6.9594e-01,  3.5519e-01],\n",
            "        [ 6.2027e-01, -4.9663e+00, -2.4903e-01, -2.7658e+00,  7.2621e-02,\n",
            "          4.2294e-02,  5.9636e-01,  1.4155e-01, -5.4155e-01, -3.3068e-01,\n",
            "          3.1301e+00, -2.0545e-01,  4.6539e-01,  1.6917e+00, -1.6995e+00,\n",
            "         -4.0083e+00,  5.4389e-01,  6.9309e-01,  3.3521e-01],\n",
            "        [ 5.8593e-01, -4.7197e+00, -2.2198e-01, -2.0295e+00,  3.9381e-01,\n",
            "         -2.7933e-01,  4.8718e-01,  2.2266e-01,  7.4662e-02, -3.8735e-01,\n",
            "          3.6888e+00,  5.2501e-01, -5.1856e-01,  1.8031e+00, -2.3990e+00,\n",
            "         -3.4658e+00,  6.5864e-01,  5.0140e-01,  7.6731e-02],\n",
            "        [ 6.3147e-01, -4.6497e+00, -2.5402e-01, -2.9646e+00,  2.9146e-01,\n",
            "         -1.6835e-01,  6.1178e-01,  2.0527e-01, -2.0245e-01,  1.7115e-01,\n",
            "          3.0642e+00, -1.4265e-02, -1.1545e-01,  2.0907e+00, -1.8210e+00,\n",
            "         -3.8466e+00,  5.5041e-01,  5.5984e-01,  3.5442e-01],\n",
            "        [ 6.9277e-01, -5.0647e+00, -2.1879e-01, -2.5827e+00,  2.3826e-01,\n",
            "          1.0781e-01,  6.1505e-01,  2.4224e-01,  1.9347e-01,  2.2788e-01,\n",
            "          3.4184e+00,  6.8035e-02,  8.6827e-02,  2.0689e+00, -1.5740e+00,\n",
            "         -3.7193e+00,  5.5158e-01,  5.9476e-01,  1.8665e-01]],\n",
            "       dtype=torch.float64, requires_grad=True)\n",
            "tensor([[ 0.5477, -4.6680, -0.2553, -3.5403,  0.0668, -0.6628,  0.4078,  0.4246,\n",
            "          0.4443, -0.3332,  4.0179,  0.6110, -0.3115,  2.5087, -0.6353, -3.5971,\n",
            "          0.5392,  0.5364,  0.1382],\n",
            "        [ 0.5371, -4.8041, -0.1754, -2.5995,  0.3115, -0.7160,  0.4403,  0.1285,\n",
            "          0.8481,  0.0385,  3.8084,  0.5617,  0.0640,  1.8592, -1.6778, -4.1817,\n",
            "          0.4782,  0.6335,  0.0687],\n",
            "        [ 0.6097, -4.9746, -0.1890, -2.7521,  0.2736, -0.8083,  0.5002,  0.2365,\n",
            "          0.2997, -0.2710,  3.9963,  0.4717,  0.3363,  1.7346, -1.3599, -4.8279,\n",
            "          0.5619,  0.5290,  0.4495],\n",
            "        [ 0.6701, -5.2903, -0.2227, -3.3671,  0.2454,  0.0726,  0.4332,  0.1331,\n",
            "          0.8386, -0.6466,  3.6285,  0.8210, -0.2105,  0.8708, -0.7232, -4.1463,\n",
            "          0.4831,  0.6007,  0.3517],\n",
            "        [ 0.6155, -4.9523, -0.2190, -1.8880,  0.5616, -0.9926,  0.3522,  0.1286,\n",
            "          1.1333, -0.4737,  4.1546,  0.8490, -0.2408,  2.1093, -1.0285, -4.4979,\n",
            "          0.4358,  0.5698,  0.2658],\n",
            "        [ 0.5966, -4.4447, -0.2173, -1.8019,  0.1890, -0.9127,  0.5149,  0.3027,\n",
            "          0.9286, -0.1646,  3.5719,  0.4569,  0.4168,  2.8434, -1.0475, -4.4461,\n",
            "          0.4999,  0.4994,  0.3531],\n",
            "        [ 0.4855, -4.7397, -0.1696, -2.7365,  0.3266,  0.6298,  0.3673,  0.1922,\n",
            "          1.5039,  0.0106,  3.6943,  0.7012, -0.3240,  2.2392, -0.8966, -4.3399,\n",
            "          0.4955,  0.5084,  0.3748],\n",
            "        [ 0.5640, -4.9628, -0.2004, -2.9419,  0.5264, -0.4661,  0.4695,  0.1872,\n",
            "          0.4700, -0.1428,  3.7557,  1.0144,  0.4068,  2.4180, -1.2904, -3.7776,\n",
            "          0.4485,  0.5767,  0.3270],\n",
            "        [ 0.6988, -4.5906, -0.2209, -3.5971,  0.1075, -0.0855,  0.4931,  0.2264,\n",
            "          0.7812, -0.3360,  3.6602,  0.9341,  0.8664,  1.2764, -1.4694, -3.9187,\n",
            "          0.4489,  0.5876,  0.4175],\n",
            "        [ 0.6679, -4.9439, -0.2029, -2.9278,  0.5779,  0.2212,  0.4102,  0.1133,\n",
            "          0.4529, -0.2782,  3.8124,  0.0261,  0.8524,  1.2655, -1.6470, -4.5770,\n",
            "          0.5470,  0.6226,  0.4341],\n",
            "        [ 0.7479, -4.5387, -0.2238, -3.2143,  0.1880, -0.2811,  0.3814,  0.1404,\n",
            "          0.0453,  0.0732,  3.4179,  0.4526, -0.0929,  0.5295, -0.5610, -4.3350,\n",
            "          0.5933,  0.5732,  0.5508],\n",
            "        [ 0.6370, -5.0422, -0.2395, -2.5903,  0.4630, -0.3722,  0.4640,  0.1897,\n",
            "          0.6893, -0.4105,  3.3544,  0.5303,  0.7020,  1.2510, -1.1733, -4.1618,\n",
            "          0.4785,  0.5237,  0.5099],\n",
            "        [ 0.6979, -4.8433, -0.2528, -3.1676,  0.3015, -0.6505,  0.4144,  0.1127,\n",
            "         -0.1528,  0.3019,  3.2128,  0.7085,  0.5266,  1.7587, -1.2365, -4.3994,\n",
            "          0.3597,  0.5245,  0.4614],\n",
            "        [ 0.7114, -4.2107, -0.2407, -2.4504,  0.1111, -1.0585,  0.4201,  0.1549,\n",
            "          0.7200,  0.0552,  3.4062,  1.0222,  0.7892,  1.8232, -1.3683, -4.3813,\n",
            "          0.5384,  0.4415,  0.1288],\n",
            "        [ 0.6651, -4.5969, -0.2528, -3.2728,  0.1570, -0.1009,  0.5647,  0.2740,\n",
            "          0.7581,  0.1023,  3.1848,  0.6032,  0.4856,  2.1207, -0.4717, -4.0334,\n",
            "          0.4985,  0.4510,  0.4207],\n",
            "        [ 0.6583, -4.4854, -0.2547, -2.1371,  0.2354, -0.4862,  0.5208,  0.1839,\n",
            "          0.7735, -0.3729,  3.9584,  0.5594, -0.2477,  1.7461, -0.7784, -4.4184,\n",
            "          0.4532,  0.6199,  0.3412],\n",
            "        [ 0.6366, -4.6595, -0.2380, -2.3675,  0.2035, -1.0138,  0.3676,  0.1426,\n",
            "          0.9680, -0.0491,  3.4995,  0.9511,  0.7949,  1.0866, -1.2265, -4.4810,\n",
            "          0.3776,  0.6182,  0.4885]], dtype=torch.float64, requires_grad=True)\n",
            "tensor([[ 7.0910e-01, -4.8106e+00, -1.7665e-01, -1.8366e+00,  5.0181e-01,\n",
            "         -8.6091e-02,  4.6484e-01,  4.0378e-01,  5.3949e-02, -1.5693e-01,\n",
            "          3.9742e+00,  5.4055e-01, -6.7517e-01,  3.4508e+00, -2.3643e+00,\n",
            "         -3.6003e+00,  5.4869e-01,  4.5802e-01,  5.1495e-01],\n",
            "        [ 6.4160e-01, -4.7247e+00, -1.2384e-01, -1.5725e+00,  6.0156e-01,\n",
            "         -2.2348e-01,  2.7552e-01,  3.4084e-01, -4.6022e-01,  1.1503e-01,\n",
            "          4.1566e+00,  7.3876e-01, -1.6020e-01,  4.1711e+00, -2.1901e+00,\n",
            "         -3.1756e+00,  5.2453e-01,  5.3287e-01,  4.9319e-01],\n",
            "        [ 6.6882e-01, -4.6417e+00, -1.2199e-01, -2.1054e+00,  5.4292e-01,\n",
            "          5.1351e-01,  4.6928e-01,  3.4093e-01,  4.0160e-01,  3.1787e-01,\n",
            "          3.5381e+00, -1.9434e-01,  5.6769e-01,  3.8700e+00, -1.9110e+00,\n",
            "         -3.8164e+00,  3.9831e-01,  4.6032e-01,  4.3400e-01],\n",
            "        [ 6.6189e-01, -4.7178e+00, -1.3776e-01, -1.2379e+00,  5.3883e-01,\n",
            "          1.9477e-01,  5.0359e-01,  3.4916e-01,  5.9004e-01, -3.4214e-02,\n",
            "          4.1522e+00,  5.7549e-01, -2.3542e-01,  3.6968e+00, -2.4949e+00,\n",
            "         -2.7245e+00,  3.8299e-01,  5.2807e-01,  2.1487e-01],\n",
            "        [ 6.1788e-01, -4.7495e+00, -1.0290e-01, -1.8592e+00,  4.8286e-01,\n",
            "          7.2988e-01,  4.3072e-01,  3.4477e-01,  9.2136e-02,  2.0571e-01,\n",
            "          4.1102e+00, -6.7047e-02, -1.0948e+00,  3.3906e+00, -2.1544e+00,\n",
            "         -3.6365e+00,  4.4788e-01,  5.0487e-01,  4.8399e-01],\n",
            "        [ 6.6910e-01, -5.2128e+00, -1.5750e-01, -1.6538e+00,  6.4447e-01,\n",
            "         -1.3591e-01,  3.9803e-01,  2.2578e-01, -4.6555e-01,  1.3029e-01,\n",
            "          3.9061e+00,  2.5640e-01, -3.3372e-03,  3.6801e+00, -1.8687e+00,\n",
            "         -3.7189e+00,  6.4934e-01,  5.0245e-01,  4.9829e-01],\n",
            "        [ 6.8375e-01, -4.7463e+00, -1.9068e-01, -1.6366e+00,  5.8803e-01,\n",
            "         -2.0765e-01,  3.5953e-01,  2.5187e-01, -2.5356e-01,  1.6592e-01,\n",
            "          3.4932e+00,  7.1040e-01, -1.2201e+00,  3.5216e+00, -2.1202e+00,\n",
            "         -2.9621e+00,  6.4423e-01,  4.3025e-01,  3.9562e-01],\n",
            "        [ 7.6783e-01, -4.6153e+00, -1.4269e-01, -2.2598e+00,  5.3056e-01,\n",
            "          1.5528e-02,  3.9653e-01,  1.8909e-01, -4.9795e-01,  3.7774e-01,\n",
            "          3.7912e+00,  1.0491e-01, -5.2705e-01,  3.4628e+00, -2.1864e+00,\n",
            "         -4.0738e+00,  5.3894e-01,  4.8168e-01,  4.3021e-01],\n",
            "        [ 6.3616e-01, -4.6196e+00, -1.5382e-01, -1.4199e+00,  5.6570e-01,\n",
            "          1.0826e-01,  3.8749e-01,  1.6126e-01, -3.5791e-01,  2.2274e-01,\n",
            "          3.6933e+00,  1.2322e+00, -2.5105e-01,  3.6100e+00, -1.6984e+00,\n",
            "         -4.2638e+00,  5.8885e-01,  4.8555e-01,  5.2420e-01],\n",
            "        [ 5.7688e-01, -4.7300e+00, -1.5654e-01, -2.3560e+00,  5.9711e-01,\n",
            "          4.5679e-01,  3.4213e-01,  1.3114e-01, -5.9510e-01,  4.2766e-01,\n",
            "          3.3273e+00,  3.3312e-01, -9.9443e-01,  3.4880e+00, -2.3317e+00,\n",
            "         -3.1860e+00,  6.5200e-01,  4.8999e-01,  4.5489e-01],\n",
            "        [ 6.2631e-01, -4.7960e+00, -1.5753e-01, -2.1670e+00,  4.2379e-01,\n",
            "         -6.7027e-01,  3.1449e-01,  2.3669e-01, -1.1682e-01,  4.1687e-01,\n",
            "          3.9771e+00,  1.9544e-01, -3.9170e-01,  3.0996e+00, -2.1503e+00,\n",
            "         -3.4598e+00,  4.3107e-01,  4.2365e-01,  5.8578e-01],\n",
            "        [ 5.7115e-01, -4.8883e+00, -1.2511e-01, -2.1171e+00,  5.1950e-01,\n",
            "         -5.4991e-01,  4.7959e-01,  1.4121e-01,  5.0165e-01,  1.1995e-01,\n",
            "          3.7971e+00,  3.2370e-01, -2.3389e-01,  3.5438e+00, -2.1815e+00,\n",
            "         -3.5480e+00,  6.6853e-01,  4.9801e-01,  2.7346e-01],\n",
            "        [ 6.9712e-01, -4.8631e+00, -1.3905e-01, -1.9966e+00,  6.7485e-01,\n",
            "          7.0306e-02,  4.5609e-01,  1.1371e-01, -2.2614e-01,  2.8769e-01,\n",
            "          3.8491e+00, -3.9310e-01, -1.2296e+00,  2.6675e+00, -1.9928e+00,\n",
            "         -3.4533e+00,  5.7883e-01,  5.6385e-01,  5.9935e-01],\n",
            "        [ 6.8376e-01, -4.7786e+00, -2.1908e-01, -2.3419e+00,  4.8083e-01,\n",
            "         -1.9653e-01,  4.6611e-01,  1.8139e-01,  4.2749e-02,  4.1885e-01,\n",
            "          3.9813e+00,  2.6884e-01, -2.3533e-01,  3.2112e+00, -2.4197e+00,\n",
            "         -3.6170e+00,  4.2208e-01,  4.5849e-01,  3.2226e-01],\n",
            "        [ 7.0251e-01, -4.5410e+00, -1.7548e-01, -2.3438e+00,  4.6880e-01,\n",
            "          2.4557e-01,  4.2430e-01,  1.1314e-01,  9.4687e-02,  3.6701e-01,\n",
            "          3.7530e+00,  4.2573e-01, -5.6900e-01,  3.6677e+00, -2.5610e+00,\n",
            "         -4.4022e+00,  5.3775e-01,  6.1316e-01,  5.4253e-01],\n",
            "        [ 4.8852e-01, -4.7061e+00, -1.4692e-01, -2.4533e+00,  4.8707e-01,\n",
            "         -3.4918e-01,  3.1415e-01,  2.2068e-01, -1.5203e-01,  4.2772e-01,\n",
            "          3.7477e+00,  5.8904e-01, -2.8517e-01,  3.7074e+00, -2.0632e+00,\n",
            "         -3.6853e+00,  5.6296e-01,  4.9650e-01,  4.5823e-01],\n",
            "        [ 6.5460e-01, -4.5558e+00, -1.5761e-01, -1.9431e+00,  6.3037e-01,\n",
            "         -2.1282e-01,  4.4944e-01,  9.9447e-02, -1.1002e-01,  1.4541e-01,\n",
            "          4.0511e+00,  6.4130e-01, -5.1038e-01,  3.1801e+00, -2.3819e+00,\n",
            "         -3.7007e+00,  5.1669e-01,  6.0096e-01,  5.2679e-01]],\n",
            "       dtype=torch.float64, requires_grad=True)\n",
            "tensor([[ 0.6240, -4.5339, -0.2667, -1.9353,  0.6103, -0.5147,  0.5133,  0.4215,\n",
            "         -0.0574, -0.1001,  3.3219,  1.0711, -1.4604,  1.5832, -2.0133, -3.0819,\n",
            "          0.5415,  0.5804,  0.3322],\n",
            "        [ 0.5770, -5.0320, -0.2716, -2.6724,  0.3144, -0.1947,  0.5825,  0.2775,\n",
            "          0.5475,  0.0307,  3.4843,  0.9495, -0.8669,  2.3801, -1.6809, -3.1659,\n",
            "          0.5406,  0.5960,  0.3165],\n",
            "        [ 0.5674, -4.8420, -0.2325, -2.8578,  0.5082, -0.9642,  0.5846,  0.3439,\n",
            "         -0.4057, -0.2899,  3.4892,  1.1245, -0.7704,  1.5391, -1.0709, -3.2485,\n",
            "          0.6602,  0.5582,  0.5953],\n",
            "        [ 0.6722, -5.1435, -0.2241, -3.0827,  0.4706, -0.6608,  0.5742,  0.2184,\n",
            "          0.0128, -0.0440,  3.4884,  0.9786,  0.0603,  2.0850, -1.6571, -3.0290,\n",
            "          0.4620,  0.5716,  0.2850],\n",
            "        [ 0.6381, -5.2023, -0.1953, -2.3989,  0.5180, -0.4601,  0.6215,  0.2509,\n",
            "          0.8440, -0.1258,  3.3455,  0.4095, -0.0939,  2.5573, -1.8781, -2.8115,\n",
            "          0.6012,  0.6187,  0.0998],\n",
            "        [ 0.6100, -5.1466, -0.2437, -2.1169,  0.4968, -0.6356,  0.5601,  0.2450,\n",
            "          0.2345,  0.1996,  3.3788,  0.9577, -1.0478,  3.2861, -1.7237, -3.6467,\n",
            "          0.5442,  0.6535,  0.3901],\n",
            "        [ 0.5622, -4.8947, -0.2473, -2.0818,  0.3239, -0.2988,  0.5443,  0.3075,\n",
            "          0.8539,  0.0105,  3.3745,  0.6157, -0.5952,  2.5879, -1.3407, -3.5371,\n",
            "          0.4989,  0.6464,  0.2927],\n",
            "        [ 0.6733, -4.9135, -0.2047, -2.2900,  0.3562, -0.3567,  0.6539,  0.3709,\n",
            "         -0.1954,  0.1126,  3.8468,  0.8002, -0.7352,  1.5189, -1.7056, -3.0629,\n",
            "          0.4593,  0.6566,  0.2837],\n",
            "        [ 0.6531, -4.9810, -0.2518, -1.8362,  0.4802, -0.0811,  0.5086,  0.2433,\n",
            "          0.7341, -0.2840,  2.8788,  0.9847, -0.8651,  1.7079, -1.5889, -3.1517,\n",
            "          0.4959,  0.4761,  0.2549],\n",
            "        [ 0.6526, -4.8743, -0.2361, -2.1537,  0.4813, -0.1655,  0.5305,  0.2303,\n",
            "          1.0201, -0.1372,  3.4119,  0.7352, -0.6744,  1.6018, -2.5287, -3.2688,\n",
            "          0.6596,  0.6500,  0.3053],\n",
            "        [ 0.7835, -4.9734, -0.2249, -1.8108,  0.5076, -0.4787,  0.5215,  0.2639,\n",
            "          0.1098,  0.0583,  3.1987,  0.7019, -0.8797,  2.0885, -2.2471, -2.4644,\n",
            "          0.6465,  0.6479,  0.2527],\n",
            "        [ 0.5878, -5.1297, -0.2496, -1.8889,  0.5855, -0.1291,  0.5307,  0.2249,\n",
            "          0.3687,  0.1628,  3.2577,  1.0355, -1.3475,  1.8737, -1.5615, -3.9496,\n",
            "          0.6584,  0.5699,  0.0168],\n",
            "        [ 0.5889, -4.9766, -0.2337, -2.2404,  0.6198, -0.4980,  0.4875,  0.1570,\n",
            "          0.6316,  0.1250,  3.2920,  1.1321, -1.1264,  1.6950, -2.2903, -3.6569,\n",
            "          0.4988,  0.6858,  0.2087],\n",
            "        [ 0.6258, -5.0042, -0.2298, -1.8885,  0.3340, -0.1490,  0.6075,  0.2652,\n",
            "          0.1657, -0.2040,  3.6159,  1.2522, -0.9002,  1.8821, -2.4309, -2.7488,\n",
            "          0.5573,  0.4744,  0.3905],\n",
            "        [ 0.6404, -5.0278, -0.2550, -1.9688,  0.6073, -0.7452,  0.4751,  0.2384,\n",
            "          1.0244, -0.0356,  3.4238,  0.6174, -0.7430,  1.7267, -2.5903, -3.7268,\n",
            "          0.4260,  0.6664,  0.3854],\n",
            "        [ 0.5814, -5.1321, -0.2108, -2.8642,  0.4780, -0.5855,  0.4475,  0.1576,\n",
            "          0.4247, -0.2179,  3.3026,  1.0155, -0.5976,  2.2893, -2.0018, -3.3515,\n",
            "          0.5509,  0.5410,  0.0242],\n",
            "        [ 0.6660, -4.9886, -0.2257, -2.1283,  0.6271, -0.6149,  0.4549,  0.2221,\n",
            "         -0.0285,  0.1002,  3.4702,  0.8981, -0.8452,  1.1923, -2.5771, -3.9809,\n",
            "          0.4489,  0.4420,  0.3957]], dtype=torch.float64, requires_grad=True)\n",
            "tensor([[ 0.6409, -4.6153, -0.2777, -2.9473,  0.5316,  1.5399,  0.7046,  0.2611,\n",
            "          0.0884, -0.8365,  3.2619,  0.1595, -0.2002,  2.4948, -2.3439, -3.2913,\n",
            "          0.6909,  0.3828,  0.5761],\n",
            "        [ 0.6359, -5.0753, -0.2269, -3.1750,  0.2700,  1.3220,  0.6126,  0.3954,\n",
            "         -0.9449, -0.1158,  4.0406,  0.3612, -0.5943,  2.6305, -2.4479, -2.8664,\n",
            "          0.5986,  0.4677,  0.4421],\n",
            "        [ 0.6647, -4.5184, -0.2032, -2.4444,  0.3963,  0.9975,  0.5913,  0.2356,\n",
            "         -0.8343, -0.1653,  3.6932,  0.2536, -0.4507,  3.5011, -2.3758, -2.8851,\n",
            "          0.5257,  0.5545,  0.4465],\n",
            "        [ 0.7662, -4.9221, -0.2465, -2.2927,  0.4117,  0.2582,  0.6357,  0.1495,\n",
            "         -0.1244, -0.0159,  3.9549,  0.2830, -0.8582,  2.4227, -2.1452, -2.2200,\n",
            "          0.5673,  0.5612,  0.5712],\n",
            "        [ 0.6999, -4.8362, -0.2295, -2.2231,  0.4329,  0.4461,  0.6228,  0.2950,\n",
            "         -0.1139, -0.2828,  3.7298,  0.4817,  0.0703,  3.1677, -2.1945, -3.0020,\n",
            "          0.5318,  0.5316,  0.6056],\n",
            "        [ 0.7304, -4.8017, -0.2135, -2.5142,  0.2502,  0.1446,  0.6676,  0.1953,\n",
            "         -0.1023, -0.2254,  3.7534,  0.2427, -0.4603,  2.7511, -1.9492, -2.2890,\n",
            "          0.5092,  0.5383,  0.4761],\n",
            "        [ 0.7360, -4.4693, -0.2535, -2.3210,  0.3905,  0.1904,  0.6771,  0.3317,\n",
            "         -0.2639, -0.2666,  3.6766, -0.2136,  0.4137,  2.7425, -2.2120, -2.8657,\n",
            "          0.6699,  0.5054,  0.7446],\n",
            "        [ 0.7224, -4.8296, -0.2703, -2.5513,  0.3207,  0.6672,  0.5947,  0.2591,\n",
            "          0.2663,  0.1420,  3.7502,  0.2234, -0.5845,  2.8338, -2.2826, -2.9298,\n",
            "          0.6067,  0.5274,  0.7143],\n",
            "        [ 0.7246, -4.6423, -0.2298, -2.7334,  0.2402,  0.8889,  0.4717,  0.2295,\n",
            "          0.3604, -0.7295,  3.5578,  0.7754, -0.2543,  2.5555, -2.3674, -2.3090,\n",
            "          0.6019,  0.6008,  0.5863],\n",
            "        [ 0.6966, -4.9076, -0.3089, -2.8722,  0.0301, -0.0640,  0.5101,  0.2506,\n",
            "         -0.2217, -0.3718,  3.9544,  0.7730,  0.2266,  2.8985, -2.3286, -3.2578,\n",
            "          0.5227,  0.4927,  0.6722],\n",
            "        [ 0.5575, -4.7679, -0.2494, -2.5931,  0.3056,  0.4108,  0.6887,  0.2414,\n",
            "          0.4210, -0.1330,  3.5728,  0.1268, -0.1732,  2.4837, -2.1717, -3.1644,\n",
            "          0.6180,  0.4494,  0.6929],\n",
            "        [ 0.5610, -4.8696, -0.2870, -2.6741,  0.3691,  0.4489,  0.6903,  0.2076,\n",
            "         -0.0597, -0.5919,  3.6389,  0.3546,  0.1946,  2.0910, -2.3234, -3.2509,\n",
            "          0.6696,  0.5876,  0.5191],\n",
            "        [ 0.7280, -4.3355, -0.2806, -2.4793,  0.2495,  0.5510,  0.6276,  0.1886,\n",
            "         -0.5066, -0.5338,  3.5490,  0.2845, -0.4182,  2.3010, -2.7725, -3.0170,\n",
            "          0.5977,  0.4917,  0.6770],\n",
            "        [ 0.7024, -4.7156, -0.2836, -2.7095,  0.2132,  0.0946,  0.4795,  0.1997,\n",
            "          0.1267,  0.1873,  3.4576,  0.4003, -0.5395,  3.1157, -2.1485, -2.4512,\n",
            "          0.6298,  0.4720,  0.6146],\n",
            "        [ 0.7077, -4.5711, -0.3184, -2.1744,  0.2245,  0.2749,  0.5997,  0.3423,\n",
            "         -0.2311, -0.5557,  3.9878,  0.2654,  0.0652,  2.4967, -2.4867, -2.9726,\n",
            "          0.5956,  0.4978,  0.6469],\n",
            "        [ 0.6314, -4.9008, -0.3022, -1.8321,  0.4249,  0.5569,  0.5501,  0.1968,\n",
            "          0.0925,  0.1116,  3.8196, -0.0108, -0.6914,  2.0808, -2.6120, -3.2058,\n",
            "          0.5617,  0.4464,  0.4053],\n",
            "        [ 0.6020, -4.3345, -0.2771, -1.7348,  0.3395,  0.1579,  0.5360,  0.1728,\n",
            "         -0.1896, -0.2082,  3.9612, -0.2661, -0.4434,  1.8281, -2.7362, -2.2755,\n",
            "          0.6569,  0.5114,  0.6132]], dtype=torch.float64, requires_grad=True)\n",
            "tensor([[ 0.6193, -5.0414, -0.2382, -1.8901,  0.0659,  0.3675,  0.4684,  0.3758,\n",
            "          0.6539, -0.6095,  4.2380,  1.1586,  0.4337,  3.4870, -0.3198, -3.6660,\n",
            "          0.5430,  0.6974,  0.5186],\n",
            "        [ 0.5295, -4.9883, -0.2427, -2.6641,  0.3613,  0.3956,  0.4963,  0.2698,\n",
            "         -0.3832, -0.1676,  3.4196,  0.4375,  0.0247,  1.3008, -0.3103, -2.7942,\n",
            "          0.4765,  0.5222,  0.4326],\n",
            "        [ 0.5884, -4.8671, -0.1755, -2.5738,  0.4141,  0.6566,  0.4457,  0.3101,\n",
            "          0.3271, -0.4538,  3.9982,  0.3084,  1.0097,  2.2563, -0.5732, -2.6373,\n",
            "          0.3428,  0.5731,  0.4525],\n",
            "        [ 0.5139, -4.7650, -0.1812, -2.3145,  0.3244, -0.2550,  0.6040,  0.2524,\n",
            "          0.1348, -0.5416,  4.3565,  1.0275,  0.5996,  2.2341, -0.4766, -2.9938,\n",
            "          0.4176,  0.6196,  0.2989],\n",
            "        [ 0.6527, -4.6602, -0.2035, -1.8279,  0.5264,  0.0094,  0.7394,  0.2095,\n",
            "          0.4166, -0.3185,  3.5489,  0.7308,  1.1490,  2.3051, -1.0393, -3.0834,\n",
            "          0.4593,  0.5195,  0.5792],\n",
            "        [ 0.6214, -4.7612, -0.1553, -2.6635,  0.4143, -0.4304,  0.3632,  0.1998,\n",
            "          0.4426, -0.2865,  3.7892,  1.0721,  0.7626,  2.8245, -1.0617, -3.8108,\n",
            "          0.3950,  0.6054,  0.2559],\n",
            "        [ 0.5676, -5.0949, -0.1844, -2.2131,  0.5505, -0.5039,  0.4508,  0.2035,\n",
            "          0.2866,  0.0978,  3.6924,  0.6822,  0.5286,  2.1481, -0.7753, -2.9003,\n",
            "          0.3531,  0.5337,  0.2606],\n",
            "        [ 0.5422, -4.5735, -0.1621, -2.4325,  0.3237,  0.2094,  0.5168,  0.2340,\n",
            "          0.7458, -0.2137,  3.9903,  0.7874,  0.4867,  2.6600, -0.9310, -3.6507,\n",
            "          0.5109,  0.5401,  0.2068],\n",
            "        [ 0.6609, -4.5591, -0.1747, -2.3254,  0.4349, -0.6034,  0.5732,  0.3082,\n",
            "          0.5010, -0.8641,  3.9720,  1.1392,  0.3442,  2.8336, -1.2210, -4.5452,\n",
            "          0.4885,  0.5859,  0.3337],\n",
            "        [ 0.6863, -4.6521, -0.2127, -2.4432,  0.1666,  0.1097,  0.3588,  0.1054,\n",
            "          0.3630, -0.6816,  4.2120,  1.1122,  1.4482,  2.6815, -1.2665, -3.2779,\n",
            "          0.3756,  0.5883,  0.2805],\n",
            "        [ 0.5113, -4.9993, -0.2128, -3.1414,  0.3592,  0.4575,  0.6026,  0.1398,\n",
            "          0.0982, -0.4197,  4.3734,  0.6272,  0.1046,  2.8756, -1.3929, -3.2824,\n",
            "          0.5389,  0.6286,  0.1953],\n",
            "        [ 0.5115, -4.9845, -0.1818, -2.7046,  0.3630, -0.6132,  0.4868,  0.0951,\n",
            "          0.4949, -0.4086,  4.2290,  0.5243,  0.9968,  1.9760, -0.8309, -3.3227,\n",
            "          0.3516,  0.5607,  0.3570],\n",
            "        [ 0.5894, -4.6918, -0.2496, -2.4875,  0.4449,  0.0672,  0.4841,  0.1338,\n",
            "          0.3776, -0.2997,  4.1652,  0.4954,  0.2519,  1.3812, -1.3034, -4.0079,\n",
            "          0.3483,  0.6495,  0.5072],\n",
            "        [ 0.5907, -4.9085, -0.1922, -2.2467,  0.4185, -0.3372,  0.4682,  0.1559,\n",
            "          0.9923, -0.2240,  3.7857,  0.8547,  0.6444,  2.5615, -0.9063, -3.4023,\n",
            "          0.3027,  0.4805,  0.4048],\n",
            "        [ 0.4561, -5.0457, -0.1937, -3.0310,  0.3038, -0.1305,  0.4806,  0.1554,\n",
            "          0.1726, -0.3261,  3.7071,  0.6793,  0.1298,  2.5861, -0.8914, -3.6756,\n",
            "          0.4679,  0.6178,  0.2578],\n",
            "        [ 0.5466, -4.7889, -0.2323, -2.6803,  0.0962,  0.0921,  0.4274,  0.1952,\n",
            "          0.1140, -0.6491,  4.5142,  1.4268,  0.7726,  2.4265, -0.8461, -3.0752,\n",
            "          0.2441,  0.5470,  0.3902],\n",
            "        [ 0.5097, -4.8916, -0.2375, -2.7183,  0.2045, -0.4845,  0.5084,  0.2718,\n",
            "          0.2517, -0.5274,  3.6521,  0.8850,  0.7671,  2.4436, -1.6026, -3.1175,\n",
            "          0.2902,  0.5277,  0.2341]], dtype=torch.float64, requires_grad=True)\n",
            "tensor([[ 5.3343e-01, -4.8143e+00, -2.0090e-01, -3.2487e+00,  3.3730e-01,\n",
            "         -3.2873e-01,  5.6436e-01,  4.7512e-01, -1.1466e+00,  4.6348e-01,\n",
            "          3.3474e+00,  7.3984e-01,  8.3987e-01,  3.4991e+00, -1.3972e+00,\n",
            "         -3.7890e+00,  5.9932e-01,  6.4433e-01,  3.8432e-01],\n",
            "        [ 5.4856e-01, -4.9095e+00, -2.5620e-01, -2.8130e+00,  4.2687e-01,\n",
            "         -5.4636e-01,  4.7995e-01,  3.6730e-01, -1.2276e-01,  8.8664e-02,\n",
            "          3.6486e+00, -7.3332e-02,  7.3170e-01,  3.9627e+00, -2.2077e+00,\n",
            "         -3.3583e+00,  6.1280e-01,  5.4369e-01,  1.8216e-01],\n",
            "        [ 4.0143e-01, -4.9177e+00, -2.3813e-01, -2.3600e+00,  5.1167e-01,\n",
            "          1.2420e-01,  4.3068e-01,  3.3146e-01, -7.3871e-01, -2.9558e-01,\n",
            "          3.3993e+00, -6.5147e-01,  6.2616e-01,  3.2221e+00, -2.3496e+00,\n",
            "         -3.6089e+00,  4.5734e-01,  6.9345e-01,  5.4249e-01],\n",
            "        [ 5.5080e-01, -5.1085e+00, -2.0873e-01, -3.9550e+00,  4.4890e-01,\n",
            "         -1.7109e-01,  3.8421e-01,  4.3292e-01, -5.0483e-01,  9.5618e-02,\n",
            "          2.8308e+00, -4.1804e-02,  1.1133e+00,  3.7870e+00, -1.2511e+00,\n",
            "         -3.5445e+00,  4.6049e-01,  5.7705e-01,  3.2219e-01],\n",
            "        [ 6.2110e-01, -4.8872e+00, -2.6798e-01, -2.2774e+00,  4.0833e-01,\n",
            "          1.6826e-01,  4.8699e-01,  3.6666e-01,  5.5770e-01, -4.2030e-01,\n",
            "          2.6649e+00, -1.1121e+00,  1.2561e+00,  3.6953e+00, -1.8214e+00,\n",
            "         -3.9144e+00,  4.1242e-01,  5.0143e-01,  3.0795e-01],\n",
            "        [ 6.6501e-01, -4.6046e+00, -2.6115e-01, -3.5663e+00,  3.9163e-01,\n",
            "         -2.2653e-01,  3.1719e-01,  3.6926e-01, -1.4181e-01, -3.4373e-01,\n",
            "          2.9521e+00, -1.5043e-01,  1.2414e+00,  3.4005e+00, -1.8917e+00,\n",
            "         -4.6103e+00,  5.1322e-01,  6.2931e-01,  3.5702e-01],\n",
            "        [ 3.9204e-01, -4.9307e+00, -3.0450e-01, -2.5820e+00,  4.8227e-01,\n",
            "          3.3187e-01,  3.3163e-01,  4.7504e-01, -5.7822e-01, -5.4193e-01,\n",
            "          3.5345e+00, -1.9274e-01,  4.2058e-01,  3.7044e+00, -1.3272e+00,\n",
            "         -4.1138e+00,  5.3106e-01,  4.6763e-01,  3.8322e-01],\n",
            "        [ 5.1690e-01, -4.7446e+00, -2.6552e-01, -3.6048e+00,  5.6553e-01,\n",
            "          1.2376e-01,  3.1515e-01,  3.3009e-01, -4.6301e-01,  2.8401e-01,\n",
            "          3.2734e+00, -2.0281e-02,  8.4815e-01,  2.9904e+00, -2.5012e+00,\n",
            "         -4.0756e+00,  4.9291e-01,  6.0722e-01,  4.5813e-01],\n",
            "        [ 4.6894e-01, -4.3340e+00, -3.3839e-01, -2.5448e+00,  5.9150e-01,\n",
            "         -7.1342e-01,  3.9489e-01,  3.1026e-01,  2.2962e-01, -6.2154e-02,\n",
            "          3.1064e+00, -2.1431e-01,  2.3584e-01,  3.5008e+00, -2.3343e+00,\n",
            "         -4.2489e+00,  5.4020e-01,  5.4807e-01,  4.7912e-01],\n",
            "        [ 5.7653e-01, -4.7187e+00, -2.9416e-01, -4.0906e+00,  2.7666e-01,\n",
            "         -6.7141e-01,  2.6039e-01,  2.6846e-01,  2.2208e-02, -9.3075e-02,\n",
            "          3.1545e+00,  4.5244e-01,  1.1533e+00,  3.9524e+00, -1.3289e+00,\n",
            "         -4.4046e+00,  4.7329e-01,  5.6455e-01,  3.6620e-01],\n",
            "        [ 6.4771e-01, -5.1260e+00, -2.4567e-01, -3.2911e+00,  3.2372e-01,\n",
            "          4.8495e-02,  3.4306e-01,  3.5612e-01, -8.2583e-03, -3.0855e-02,\n",
            "          3.5739e+00, -4.4696e-01,  6.4253e-01,  3.3027e+00, -2.0930e+00,\n",
            "         -4.4747e+00,  5.3735e-01,  6.9733e-01,  2.8872e-01],\n",
            "        [ 6.0414e-01, -4.9293e+00, -2.5109e-01, -2.5685e+00,  4.5294e-01,\n",
            "         -2.1268e-01,  3.9060e-01,  2.9341e-01,  2.6184e-01, -2.8472e-02,\n",
            "          3.1996e+00, -1.5116e-02,  1.4489e+00,  3.7515e+00, -1.8486e+00,\n",
            "         -3.4556e+00,  6.0667e-01,  6.3140e-01,  3.3873e-01],\n",
            "        [ 5.6051e-01, -4.7589e+00, -2.8972e-01, -3.2295e+00,  7.0105e-01,\n",
            "          2.5671e-01,  4.0834e-01,  1.7761e-01, -2.2770e-02,  1.6632e-03,\n",
            "          3.3019e+00,  1.4653e-01,  7.0635e-01,  3.2174e+00, -2.1162e+00,\n",
            "         -3.5603e+00,  5.0138e-01,  6.0419e-01,  3.2493e-01],\n",
            "        [ 6.6625e-01, -4.9711e+00, -3.2545e-01, -2.6459e+00,  3.9004e-01,\n",
            "         -6.8301e-01,  3.1557e-01,  3.0044e-01,  7.0766e-01, -8.2042e-02,\n",
            "          3.3743e+00, -7.4281e-01,  1.0041e+00,  2.7763e+00, -2.1190e+00,\n",
            "         -3.7091e+00,  6.2464e-01,  5.8147e-01,  5.0548e-01],\n",
            "        [ 5.0578e-01, -4.9768e+00, -3.2537e-01, -3.1996e+00,  5.6885e-01,\n",
            "         -2.0617e-01,  5.1521e-01,  2.7432e-01, -8.9395e-02, -1.7750e-01,\n",
            "          3.3167e+00, -3.7280e-01,  7.7039e-01,  3.2617e+00, -2.1919e+00,\n",
            "         -4.2362e+00,  6.0898e-01,  5.6979e-01,  3.4137e-01],\n",
            "        [ 4.8695e-01, -4.8299e+00, -3.0470e-01, -3.5301e+00,  2.9523e-01,\n",
            "         -8.2854e-01,  4.0589e-01,  2.9509e-01,  1.0863e+00, -9.7790e-02,\n",
            "          3.3712e+00,  6.1095e-02,  1.3084e+00,  3.0188e+00, -1.3141e+00,\n",
            "         -3.5501e+00,  6.3902e-01,  5.0159e-01,  3.6744e-01],\n",
            "        [ 5.7509e-01, -4.8113e+00, -2.6979e-01, -3.5449e+00,  2.5251e-01,\n",
            "         -7.9799e-02,  5.2955e-01,  3.1755e-01,  1.0389e+00, -1.9521e-01,\n",
            "          3.6635e+00,  3.6563e-01,  6.9069e-01,  3.6257e+00, -2.2078e+00,\n",
            "         -4.4169e+00,  4.9049e-01,  6.9629e-01,  3.9038e-01]],\n",
            "       dtype=torch.float64, requires_grad=True)\n",
            "tensor([[ 0.7577, -4.8398, -0.1971, -3.4534, -0.0633,  0.2848,  0.3720,  0.2833,\n",
            "          0.8693, -0.1658,  3.3149,  0.1977, -0.3162,  2.3817, -2.0069, -2.0901,\n",
            "          0.5393,  0.6274,  0.5451],\n",
            "        [ 0.6672, -5.0294, -0.2087, -2.9166,  0.0796,  0.7455,  0.4726,  0.3774,\n",
            "         -0.3640, -0.2216,  3.8865,  0.2704, -1.1232,  3.2721, -1.2769, -2.6380,\n",
            "          0.5336,  0.6062,  0.4240],\n",
            "        [ 0.6650, -4.7364, -0.2329, -2.3030,  0.3106,  0.9192,  0.4207,  0.1794,\n",
            "          0.5450, -0.0079,  3.4978,  0.1289, -0.9489,  3.4239, -1.4188, -2.6597,\n",
            "          0.5297,  0.5410,  0.1627],\n",
            "        [ 0.5821, -4.9413, -0.2434, -2.5741,  0.3407,  0.3993,  0.3167,  0.2665,\n",
            "         -0.0348,  0.3268,  3.6548, -0.6438, -0.0516,  2.0373, -1.5559, -2.6599,\n",
            "          0.4103,  0.6029,  0.1748],\n",
            "        [ 0.6675, -5.0574, -0.2740, -2.5513,  0.3701,  0.5435,  0.3990,  0.2333,\n",
            "          0.6817, -0.3805,  3.7981, -0.0677,  0.2240,  3.0030, -1.5554, -2.5147,\n",
            "          0.5304,  0.6582,  0.2914],\n",
            "        [ 0.7060, -5.0475, -0.1807, -3.1952,  0.5205, -0.1049,  0.3089,  0.1918,\n",
            "          1.1532, -0.2843,  3.4180,  0.5028, -0.7649,  3.5959, -1.6503, -3.4905,\n",
            "          0.5109,  0.6436,  0.0310],\n",
            "        [ 0.6851, -4.8233, -0.2725, -2.1577,  0.0910,  0.1764,  0.4177,  0.1497,\n",
            "          1.0003, -0.1685,  3.5084,  0.4073, -0.0073,  2.6847, -1.1265, -3.4643,\n",
            "          0.5718,  0.6771,  0.3433],\n",
            "        [ 0.5256, -4.6530, -0.2877, -2.8678,  0.2256,  0.1494,  0.4141,  0.2462,\n",
            "          1.6161,  0.1105,  3.8954, -0.2255, -0.0713,  3.0551, -1.5430, -2.7504,\n",
            "          0.5799,  0.7016,  0.3119],\n",
            "        [ 0.6904, -4.8829, -0.2165, -2.6530,  0.2927,  0.0693,  0.3681,  0.2272,\n",
            "          1.0845,  0.2918,  3.3137,  0.1332, -1.1984,  2.6712, -1.9741, -2.9037,\n",
            "          0.5419,  0.6511,  0.1750],\n",
            "        [ 0.6494, -4.7310, -0.2443, -4.1898,  0.2478, -0.2480,  0.3277,  0.2457,\n",
            "          1.5591, -0.0199,  3.7452, -0.2142, -0.0578,  3.5632, -1.4318, -3.6940,\n",
            "          0.5273,  0.4818,  0.1704],\n",
            "        [ 0.7754, -4.8690, -0.2590, -3.1881,  0.2892,  0.5413,  0.3985,  0.1833,\n",
            "          0.3252, -0.0762,  3.6822,  0.1973, -0.7353,  2.5923, -1.3936, -2.0808,\n",
            "          0.5998,  0.6827,  0.2002],\n",
            "        [ 0.6978, -5.1208, -0.3312, -3.4257,  0.4023,  0.1357,  0.3098,  0.1779,\n",
            "          1.2368, -0.2338,  3.1841, -0.0413, -0.0395,  1.8822, -2.1227, -3.5132,\n",
            "          0.6186,  0.6617,  0.3862],\n",
            "        [ 0.6420, -4.8136, -0.2518, -3.1638,  0.2851, -0.0944,  0.3642,  0.0695,\n",
            "          0.0688, -0.0842,  3.6614,  0.2812,  0.2497,  2.7448, -2.1039, -3.1993,\n",
            "          0.4990,  0.6117,  0.4196],\n",
            "        [ 0.6568, -4.7386, -0.2590, -2.8511,  0.2537,  0.3368,  0.4053,  0.1339,\n",
            "          1.4602, -0.3435,  3.8353, -0.1456, -0.2724,  3.3891, -1.0060, -3.3691,\n",
            "          0.5173,  0.6204,  0.1613],\n",
            "        [ 0.6443, -4.7196, -0.2269, -3.3270,  0.2723,  0.0388,  0.3004,  0.2342,\n",
            "          0.7203, -0.1928,  3.8166,  0.2301,  0.2438,  2.8995, -1.7461, -2.9730,\n",
            "          0.5722,  0.5855,  0.2344],\n",
            "        [ 0.6549, -4.6551, -0.2863, -2.7630,  0.3347,  0.8127,  0.4835,  0.2459,\n",
            "          0.5290, -0.3657,  3.6823,  0.2097, -0.5926,  2.2089, -1.6663, -2.9264,\n",
            "          0.5830,  0.6019,  0.2904],\n",
            "        [ 0.6421, -4.8862, -0.2000, -3.6471,  0.4392, -0.2571,  0.3744,  0.2328,\n",
            "          0.8270,  0.0394,  3.6529, -0.0533,  0.0841,  3.4819, -1.7078, -3.0653,\n",
            "          0.5262,  0.6323,  0.3156]], dtype=torch.float64, requires_grad=True)\n",
            "tensor([[ 0.7499, -5.1716, -0.2607, -1.9677,  0.3102,  0.1696,  0.5238,  0.4287,\n",
            "         -0.3091, -0.1298,  3.7492,  0.7948,  0.6981,  3.0178, -2.0950, -3.3070,\n",
            "          0.4013,  0.5167,  0.2486],\n",
            "        [ 0.6749, -4.7948, -0.2465, -1.8723,  0.5087,  0.9044,  0.5009,  0.3762,\n",
            "          0.0374, -0.5177,  3.9181,  0.0499, -0.3695,  3.1757, -2.0906, -3.9877,\n",
            "          0.5039,  0.6224,  0.4748],\n",
            "        [ 0.5945, -4.7486, -0.1198, -1.5919,  0.4396,  0.2504,  0.3428,  0.2691,\n",
            "          0.4802, -0.2848,  3.8706,  0.5934, -0.7870,  3.5834, -1.4259, -3.2826,\n",
            "          0.4412,  0.5374,  0.6305],\n",
            "        [ 0.7773, -4.7641, -0.1883, -2.0197,  0.4085,  0.7267,  0.3818,  0.3380,\n",
            "          0.9636, -0.2522,  3.8972,  0.2704, -0.4723,  2.5938, -1.7709, -3.7849,\n",
            "          0.5305,  0.6307,  0.4709],\n",
            "        [ 0.6507, -4.7047, -0.1784, -1.4662,  0.5956,  0.6614,  0.4499,  0.3548,\n",
            "          0.1697, -0.1230,  4.0969,  0.4065,  0.4212,  2.4069, -1.4210, -3.6186,\n",
            "          0.4747,  0.5177,  0.4279],\n",
            "        [ 0.6669, -5.2462, -0.2411, -1.6990,  0.3104,  0.4763,  0.4436,  0.3766,\n",
            "          0.7713, -0.2922,  3.1210,  0.4952, -0.0391,  2.9490, -1.3769, -3.3586,\n",
            "          0.4747,  0.5440,  0.4094],\n",
            "        [ 0.6665, -5.0320, -0.1859, -2.4083,  0.0882,  0.9813,  0.3011,  0.2552,\n",
            "          0.9675,  0.0506,  4.3211,  0.8600,  0.4198,  2.6068, -1.5738, -2.8351,\n",
            "          0.4948,  0.5691,  0.4855],\n",
            "        [ 0.7093, -5.0295, -0.2022, -2.3510,  0.5250,  0.5837,  0.4161,  0.2398,\n",
            "         -0.4474, -0.1841,  4.3236,  0.0562,  0.5467,  2.2592, -0.7915, -3.9547,\n",
            "          0.4739,  0.5809,  0.4742],\n",
            "        [ 0.6962, -4.8295, -0.2204, -1.4325,  0.1706,  0.4850,  0.2928,  0.2483,\n",
            "         -0.0200, -0.5984,  3.5550,  0.0790,  0.3740,  2.5632, -0.9039, -3.9523,\n",
            "          0.4063,  0.6070,  0.5915],\n",
            "        [ 0.6816, -4.9085, -0.1893, -1.8604,  0.5590,  0.4470,  0.3793,  0.2477,\n",
            "          0.6533, -0.1570,  3.9526,  0.4932,  0.3457,  2.8341, -1.2381, -3.8453,\n",
            "          0.4985,  0.5918,  0.4925],\n",
            "        [ 0.6638, -5.0264, -0.2307, -2.2468,  0.4199, -0.0765,  0.3430,  0.1131,\n",
            "          0.2886, -0.0366,  3.4584,  0.0824,  0.8930,  2.5374, -1.6622, -3.5449,\n",
            "          0.5249,  0.5931,  0.5236],\n",
            "        [ 0.7295, -4.7178, -0.2564, -2.8563,  0.4731,  1.0850,  0.4309,  0.2050,\n",
            "          0.1945, -0.3908,  3.7896, -0.1251,  0.2179,  2.8316, -1.2850, -4.2905,\n",
            "          0.5379,  0.5649,  0.6834],\n",
            "        [ 0.6578, -4.6244, -0.2645, -1.6368,  0.3826,  0.8657,  0.5770,  0.1542,\n",
            "         -0.7129, -0.1213,  3.2157,  0.8047,  0.1369,  2.8840, -1.5168, -3.4212,\n",
            "          0.4603,  0.5056,  0.5385],\n",
            "        [ 0.6701, -4.6035, -0.2978, -1.8806,  0.2454,  0.2278,  0.3683,  0.2800,\n",
            "          0.5382, -0.0704,  3.5924,  0.2310,  0.6298,  2.9085, -1.8971, -3.8189,\n",
            "          0.4775,  0.5346,  0.5229],\n",
            "        [ 0.7268, -4.8534, -0.2392, -1.3029,  0.2855, -0.1399,  0.3459,  0.1928,\n",
            "          0.2908, -0.7528,  3.9211,  0.9695, -0.2006,  2.2042, -1.6621, -3.4165,\n",
            "          0.5559,  0.4702,  0.6633],\n",
            "        [ 0.6510, -4.7534, -0.3121, -1.2325,  0.5397,  0.0079,  0.4277,  0.1692,\n",
            "         -0.1658, -0.3470,  4.1158,  0.3789,  0.4624,  2.5844, -1.5575, -4.0825,\n",
            "          0.4145,  0.4915,  0.4759],\n",
            "        [ 0.7091, -4.8478, -0.2326, -2.3746,  0.2396,  1.0024,  0.3340,  0.2484,\n",
            "          1.0045, -0.8282,  3.4064,  0.5779,  0.2282,  2.0781, -1.8719, -3.3698,\n",
            "          0.5945,  0.4481,  0.6094]], dtype=torch.float64, requires_grad=True)\n",
            "tensor([[ 6.5013e-01, -4.5684e+00, -1.9043e-01, -1.4800e+00,  3.0686e-01,\n",
            "         -5.6500e-01,  5.6706e-01,  3.1574e-01, -7.7499e-01, -4.3373e-01,\n",
            "          4.5920e+00,  5.1979e-01, -5.2123e-01,  3.9991e+00, -2.1194e+00,\n",
            "         -4.1860e+00,  5.2605e-01,  5.6907e-01,  1.0955e-01],\n",
            "        [ 6.7711e-01, -4.8516e+00, -2.1080e-01, -2.4338e+00,  1.4501e-01,\n",
            "         -2.5005e-01,  3.9461e-01,  3.8481e-01,  1.7354e-01, -6.6436e-01,\n",
            "          4.2842e+00, -7.5253e-02,  5.9069e-02,  3.4095e+00, -2.3046e+00,\n",
            "         -3.7615e+00,  6.2724e-01,  3.5151e-01,  3.0196e-01],\n",
            "        [ 4.0255e-01, -4.9528e+00, -1.9290e-01, -1.5841e+00,  3.1596e-01,\n",
            "         -4.6937e-01,  4.2186e-01,  3.5718e-01,  1.4683e-01, -1.8011e-01,\n",
            "          4.5987e+00, -1.9823e-02,  1.5431e-01,  3.7836e+00, -1.9425e+00,\n",
            "         -3.7421e+00,  6.0574e-01,  4.7413e-01,  3.6159e-01],\n",
            "        [ 5.0157e-01, -4.7697e+00, -1.7643e-01, -1.9819e+00,  1.7476e-01,\n",
            "         -4.6387e-01,  3.7342e-01,  3.4607e-01,  4.3945e-01,  6.5489e-03,\n",
            "          4.1351e+00,  5.6699e-01,  1.3237e-01,  3.3931e+00, -1.3317e+00,\n",
            "         -3.9592e+00,  5.9221e-01,  4.8941e-01,  3.9455e-01],\n",
            "        [ 6.0675e-01, -4.5840e+00, -2.0233e-01, -1.7389e+00,  3.1537e-01,\n",
            "          7.6489e-02,  4.0389e-01,  3.2216e-01,  2.3764e-01, -5.8667e-01,\n",
            "          4.2164e+00,  5.5172e-01, -4.3960e-01,  3.1705e+00, -2.3918e+00,\n",
            "         -2.9732e+00,  5.1018e-01,  5.3518e-01,  3.4932e-01],\n",
            "        [ 5.7462e-01, -4.6931e+00, -1.3742e-01, -1.3126e+00,  2.1857e-01,\n",
            "         -3.0621e-02,  3.8125e-01,  3.2109e-01,  2.9682e-01,  2.3938e-01,\n",
            "          4.5529e+00,  5.0626e-01,  2.6553e-01,  3.3679e+00, -2.2577e+00,\n",
            "         -4.1121e+00,  6.0253e-01,  6.0943e-01,  3.0917e-01],\n",
            "        [ 6.6935e-01, -4.7318e+00, -1.9780e-01, -1.2737e+00,  1.5229e-01,\n",
            "         -8.3536e-02,  3.1574e-01,  2.5760e-01,  8.8183e-01, -1.2893e-01,\n",
            "          4.3501e+00,  3.9849e-01,  7.1608e-02,  3.1346e+00, -1.5705e+00,\n",
            "         -3.8268e+00,  5.4955e-01,  4.6841e-01,  6.0369e-01],\n",
            "        [ 5.8539e-01, -4.8360e+00, -2.1947e-01, -2.2024e+00,  2.8294e-01,\n",
            "         -1.6997e-01,  3.1997e-01,  3.1149e-01,  2.5698e-01, -1.1780e-01,\n",
            "          4.5544e+00,  5.3423e-01,  3.9538e-01,  2.8348e+00, -2.2058e+00,\n",
            "         -4.0730e+00,  6.7916e-01,  5.9514e-01,  4.5106e-01],\n",
            "        [ 6.6188e-01, -5.0035e+00, -1.8918e-01, -1.1395e+00,  2.1348e-01,\n",
            "          2.6625e-01,  3.4732e-01,  3.9036e-01,  3.1487e-01, -4.4051e-01,\n",
            "          4.5054e+00,  3.5577e-01,  2.4422e-01,  3.3825e+00, -2.3278e+00,\n",
            "         -3.4249e+00,  6.2812e-01,  4.8739e-01,  3.3665e-01],\n",
            "        [ 5.8242e-01, -4.6026e+00, -2.1178e-01, -1.7349e+00,  1.2828e-01,\n",
            "         -1.2195e-01,  3.7785e-01,  2.9404e-01,  2.5339e-01, -2.1568e-01,\n",
            "          4.5062e+00,  6.8820e-01, -3.6864e-02,  3.3106e+00, -1.6571e+00,\n",
            "         -3.7295e+00,  4.2278e-01,  5.1551e-01,  1.7641e-01],\n",
            "        [ 5.6306e-01, -4.8213e+00, -1.9220e-01, -2.2531e+00,  1.2473e-01,\n",
            "          9.5538e-01,  3.5495e-01,  3.5040e-01,  6.3387e-01, -1.7852e-01,\n",
            "          4.8110e+00,  1.1853e+00, -4.4710e-01,  2.8528e+00, -1.6631e+00,\n",
            "         -4.0864e+00,  7.3703e-01,  5.4886e-01,  4.5832e-01],\n",
            "        [ 6.8925e-01, -4.7415e+00, -1.9851e-01, -1.7659e+00,  1.1783e-01,\n",
            "          2.5961e-01,  4.1828e-01,  2.7784e-01, -2.0823e-01, -3.0991e-01,\n",
            "          4.7317e+00,  4.1546e-01, -5.8180e-01,  2.7792e+00, -2.4768e+00,\n",
            "         -4.0186e+00,  5.9935e-01,  5.1260e-01,  3.9484e-01],\n",
            "        [ 5.8383e-01, -4.6873e+00, -1.6252e-01, -1.6804e+00,  3.3516e-01,\n",
            "         -2.1539e-01,  3.3930e-01,  2.5665e-01,  4.9703e-01,  2.6987e-02,\n",
            "          4.3867e+00,  5.6047e-01, -8.7832e-01,  3.6309e+00, -1.7972e+00,\n",
            "         -4.7237e+00,  5.9495e-01,  5.0261e-01,  4.3314e-01],\n",
            "        [ 6.5759e-01, -4.4306e+00, -1.8455e-01, -1.4234e+00,  8.2665e-02,\n",
            "         -4.4944e-01,  2.2782e-01,  3.7648e-01,  2.3804e-01,  4.3113e-03,\n",
            "          4.4260e+00,  2.0986e-01, -5.5205e-02,  3.2458e+00, -2.1463e+00,\n",
            "         -4.7200e+00,  5.4413e-01,  5.0469e-01,  3.5898e-01],\n",
            "        [ 6.0435e-01, -4.4421e+00, -1.6295e-01, -2.1111e+00,  9.7707e-02,\n",
            "         -1.1140e-02,  3.7126e-01,  2.6105e-01,  7.3667e-01, -2.1217e-01,\n",
            "          4.1117e+00,  4.6096e-01, -9.4475e-02,  2.4728e+00, -2.6993e+00,\n",
            "         -3.6862e+00,  6.0877e-01,  4.7901e-01,  3.2883e-01],\n",
            "        [ 5.4629e-01, -4.7934e+00, -1.7823e-01, -1.9260e+00,  2.7322e-01,\n",
            "          1.1821e-01,  3.8110e-01,  2.4468e-01,  1.2248e+00,  7.6112e-02,\n",
            "          4.4258e+00,  4.1220e-01,  5.2314e-01,  2.8986e+00, -2.2704e+00,\n",
            "         -3.7284e+00,  6.0204e-01,  5.3874e-01,  3.0481e-01],\n",
            "        [ 4.9767e-01, -4.6498e+00, -2.4870e-01, -1.8678e+00,  3.6078e-01,\n",
            "         -2.2328e-01,  4.6842e-01,  3.5869e-01,  1.5100e-01, -9.0140e-02,\n",
            "          4.2966e+00,  6.9632e-01,  2.7463e-01,  2.5499e+00, -2.4412e+00,\n",
            "         -4.1876e+00,  6.6514e-01,  4.7493e-01,  3.8394e-01]],\n",
            "       dtype=torch.float64, requires_grad=True)\n",
            "tensor([[ 6.4300e-01, -4.9808e+00, -3.1136e-01, -2.9135e+00,  5.6591e-01,\n",
            "          1.2507e+00,  4.4311e-01,  3.0421e-01,  1.8196e+00, -5.8697e-01,\n",
            "          4.4042e+00,  1.3743e+00, -1.0531e+00,  1.9654e+00, -7.4050e-01,\n",
            "         -3.0664e+00,  4.5880e-01,  7.6468e-01,  1.4931e-01],\n",
            "        [ 6.8620e-01, -4.9377e+00, -2.4643e-01, -1.5937e+00,  3.0068e-01,\n",
            "          4.7276e-01,  3.3029e-01,  3.1338e-01,  1.0134e+00, -9.6733e-01,\n",
            "          4.4027e+00,  8.6376e-01,  9.4421e-02,  2.8319e+00, -1.6956e+00,\n",
            "         -2.4365e+00,  5.2955e-01,  6.8636e-01,  2.7168e-01],\n",
            "        [ 6.9123e-01, -4.9587e+00, -2.5397e-01, -2.1276e+00,  5.1793e-01,\n",
            "         -3.6341e-01,  3.9279e-01,  3.3516e-01,  3.1956e-01, -8.5471e-01,\n",
            "          4.3487e+00,  1.1325e+00, -4.7806e-01,  3.3326e+00, -1.4542e+00,\n",
            "         -2.8608e+00,  5.3296e-01,  6.7326e-01,  1.2308e-02],\n",
            "        [ 6.7140e-01, -5.2931e+00, -2.4471e-01, -2.6632e+00,  3.6020e-01,\n",
            "          1.1593e-01,  4.3439e-01,  3.3171e-01,  1.7493e+00, -5.5464e-01,\n",
            "          4.5656e+00,  9.3769e-01, -7.4512e-01,  2.6978e+00, -1.4802e+00,\n",
            "         -1.8321e+00,  5.2410e-01,  6.4295e-01,  1.5709e-01],\n",
            "        [ 6.6493e-01, -4.8785e+00, -1.8551e-01, -1.6398e+00,  3.8089e-01,\n",
            "          5.4108e-01,  3.4488e-01,  2.2303e-01,  1.3369e+00, -6.6217e-01,\n",
            "          4.4078e+00,  1.1791e+00,  5.8715e-01,  2.6739e+00, -1.7190e+00,\n",
            "         -2.4868e+00,  4.8534e-01,  6.2327e-01,  1.7109e-01],\n",
            "        [ 6.9424e-01, -5.0154e+00, -1.5575e-01, -2.4200e+00,  3.0236e-01,\n",
            "         -2.4345e-01,  4.0076e-01,  2.0254e-01,  1.7255e+00, -5.4560e-01,\n",
            "          4.2422e+00,  9.1043e-01,  2.6305e-01,  2.6991e+00, -1.9491e+00,\n",
            "         -2.1467e+00,  5.6667e-01,  6.8522e-01,  2.1619e-01],\n",
            "        [ 6.9798e-01, -4.9719e+00, -2.3653e-01, -2.0977e+00,  4.2815e-01,\n",
            "         -4.7878e-01,  3.7691e-01,  3.9964e-01,  1.7038e+00, -5.6236e-01,\n",
            "          4.3538e+00,  6.4761e-01, -4.3524e-01,  2.6838e+00, -1.6320e+00,\n",
            "         -1.6880e+00,  4.8261e-01,  7.0611e-01, -6.2805e-04],\n",
            "        [ 6.7774e-01, -4.7516e+00, -1.9652e-01, -2.3610e+00,  1.9715e-01,\n",
            "         -1.8950e-02,  3.3322e-01,  3.9737e-01,  1.1732e+00, -5.5395e-01,\n",
            "          4.5328e+00,  1.0566e+00,  3.6784e-01,  3.2905e+00, -1.4401e+00,\n",
            "         -2.1418e+00,  5.4045e-01,  5.8679e-01,  3.6581e-01],\n",
            "        [ 6.5939e-01, -4.6059e+00, -2.1801e-01, -1.7414e+00,  4.2900e-01,\n",
            "          1.8714e-01,  2.9577e-01,  3.6681e-01,  1.0662e+00, -6.4402e-01,\n",
            "          4.1939e+00,  4.5413e-01,  8.2204e-01,  2.8772e+00, -1.4131e+00,\n",
            "         -2.4321e+00,  5.2529e-01,  6.7339e-01,  3.6912e-01],\n",
            "        [ 6.8109e-01, -5.1471e+00, -1.8364e-01, -2.0662e+00,  2.3893e-01,\n",
            "          2.1714e-01,  4.1662e-01,  2.7853e-01,  9.8995e-01, -3.8937e-01,\n",
            "          4.4396e+00,  6.2831e-01,  1.9109e-01,  3.1294e+00, -1.4546e+00,\n",
            "         -2.4066e+00,  5.6158e-01,  5.6491e-01,  1.6648e-01],\n",
            "        [ 6.8388e-01, -4.9816e+00, -2.1546e-01, -2.6205e+00,  3.7876e-01,\n",
            "         -5.0210e-01,  4.1009e-01,  2.8550e-01,  9.4284e-01, -5.2932e-01,\n",
            "          4.5960e+00,  1.3507e+00, -5.9679e-01,  3.2732e+00, -1.8549e+00,\n",
            "         -2.0697e+00,  6.0212e-01,  6.2517e-01,  3.0001e-01],\n",
            "        [ 6.1207e-01, -4.8060e+00, -1.9320e-01, -1.7948e+00,  4.8675e-01,\n",
            "          6.3638e-01,  2.6503e-01,  2.4864e-01,  1.4834e+00, -4.8081e-01,\n",
            "          4.1740e+00,  6.5374e-01, -1.1309e+00,  3.3205e+00, -1.6069e+00,\n",
            "         -2.9581e+00,  4.8426e-01,  7.4977e-01,  3.0854e-01],\n",
            "        [ 6.6825e-01, -4.8909e+00, -2.4364e-01, -2.9592e+00,  1.9800e-01,\n",
            "          2.7592e-01,  3.7376e-01,  3.7145e-01,  1.3779e+00, -8.5746e-01,\n",
            "          4.4067e+00,  1.3294e+00,  3.7533e-01,  2.7134e+00, -1.6266e+00,\n",
            "         -2.6193e+00,  6.1284e-01,  6.7721e-01,  2.2134e-01],\n",
            "        [ 6.7168e-01, -4.4827e+00, -2.1589e-01, -2.3344e+00,  4.7490e-01,\n",
            "         -4.3287e-01,  3.8748e-01,  3.3653e-01,  1.2293e+00, -3.4368e-02,\n",
            "          4.4139e+00,  3.0190e-01, -7.3249e-02,  3.0748e+00, -1.8889e+00,\n",
            "         -2.7152e+00,  5.0346e-01,  6.5324e-01,  2.0100e-01],\n",
            "        [ 6.8820e-01, -4.6578e+00, -2.2105e-01, -2.3708e+00,  5.0744e-01,\n",
            "         -3.9496e-01,  4.9313e-01,  2.3240e-01,  6.8148e-01, -5.0685e-01,\n",
            "          4.1045e+00,  9.7465e-01, -9.1748e-01,  2.7315e+00, -1.2903e+00,\n",
            "         -3.3873e+00,  5.5050e-01,  7.0234e-01,  3.7821e-01],\n",
            "        [ 7.1408e-01, -4.9270e+00, -2.2241e-01, -2.4359e+00,  2.7632e-01,\n",
            "          4.9212e-01,  3.8373e-01,  1.7088e-01,  1.4324e+00, -3.3585e-01,\n",
            "          4.2409e+00,  1.3435e+00,  1.4874e-02,  3.1412e+00, -1.7560e+00,\n",
            "         -3.0703e+00,  5.6528e-01,  7.1104e-01,  4.3283e-01],\n",
            "        [ 6.9319e-01, -4.8800e+00, -2.5898e-01, -2.0472e+00,  1.6198e-01,\n",
            "          2.6049e-01,  4.5162e-01,  3.2823e-01,  1.4185e+00, -5.8447e-01,\n",
            "          4.2853e+00,  1.0106e+00,  3.1072e-02,  3.1313e+00, -1.1904e+00,\n",
            "         -2.1151e+00,  5.7064e-01,  7.6240e-01,  4.7574e-01]],\n",
            "       dtype=torch.float64, requires_grad=True)\n",
            "tensor([[ 0.6738, -4.6324, -0.2763, -2.5996,  0.1916, -0.1951,  0.7255,  0.3706,\n",
            "         -0.8194, -0.5302,  3.1392,  0.6457,  0.2538,  2.2524, -1.5897, -3.2573,\n",
            "          0.5378,  0.5744,  0.2255],\n",
            "        [ 0.7053, -4.6993, -0.1571, -2.8264,  0.3485, -0.5369,  0.7401,  0.3300,\n",
            "         -0.2814, -0.5955,  3.4220,  0.6202, -0.2074,  3.1868, -1.8133, -3.4756,\n",
            "          0.4869,  0.5694,  0.1711],\n",
            "        [ 0.8269, -5.2311, -0.2014, -2.8760,  0.3878, -0.2613,  0.7342,  0.2514,\n",
            "          0.3930, -0.7327,  4.1934,  0.9561, -0.3152,  2.3115, -2.1048, -2.1496,\n",
            "          0.4947,  0.5447,  0.3787],\n",
            "        [ 0.6940, -4.7682, -0.2399, -2.8354,  0.1825, -0.8474,  0.6627,  0.3753,\n",
            "         -0.2532, -0.3378,  3.4893,  0.6455, -0.2302,  2.8079, -1.2646, -3.3258,\n",
            "          0.5851,  0.5657,  0.3211],\n",
            "        [ 0.7200, -4.6844, -0.2326, -2.1798,  0.2936, -0.5809,  0.6707,  0.4692,\n",
            "         -0.7790, -0.8372,  4.2679,  0.7074,  0.4570,  1.9430, -1.8366, -3.4048,\n",
            "          0.5207,  0.5036,  0.2209],\n",
            "        [ 0.7763, -5.0182, -0.1664, -3.4202,  0.1317,  0.2393,  0.6780,  0.3221,\n",
            "         -0.1666, -0.2703,  3.9246,  0.6036, -0.2973,  1.9903, -1.1984, -3.2008,\n",
            "          0.6259,  0.5625,  0.4563],\n",
            "        [ 0.6513, -4.8260, -0.2029, -2.1489,  0.3794, -0.3838,  0.5070,  0.2599,\n",
            "          0.1973, -0.4684,  3.8212,  0.4346, -0.2013,  2.4295, -1.7940, -2.9393,\n",
            "          0.5343,  0.5903,  0.3244],\n",
            "        [ 0.6986, -4.8154, -0.2230, -2.2508,  0.0794, -0.0658,  0.7109,  0.2911,\n",
            "         -0.0699, -0.5844,  4.1527,  0.5340,  0.1391,  2.0762, -2.0411, -2.4755,\n",
            "          0.6144,  0.6469,  0.5110],\n",
            "        [ 0.7357, -4.9320, -0.2083, -2.8536,  0.1512, -0.0460,  0.6511,  0.4130,\n",
            "          0.2864, -0.1438,  4.2012,  0.5019,  0.9604,  2.2540, -1.6746, -2.4876,\n",
            "          0.6509,  0.5965,  0.3995],\n",
            "        [ 0.6869, -5.0734, -0.2256, -2.4721,  0.1481, -0.7381,  0.6225,  0.3062,\n",
            "          0.3782, -0.5598,  4.1026,  0.2344, -0.3140,  2.4050, -2.1932, -2.6222,\n",
            "          0.5677,  0.5361,  0.1781],\n",
            "        [ 0.7231, -4.7523, -0.2076, -2.4857,  0.2992, -0.6045,  0.6324,  0.3524,\n",
            "          0.0068, -0.5500,  3.9201,  0.8703, -0.1593,  1.2449, -1.7295, -3.6307,\n",
            "          0.6120,  0.6972,  0.3517],\n",
            "        [ 0.6981, -4.8693, -0.1840, -2.6426,  0.1219, -0.5487,  0.7146,  0.3874,\n",
            "          0.1035, -0.4151,  3.8970,  0.9716, -0.3675,  2.0099, -1.8361, -2.6047,\n",
            "          0.5311,  0.6715,  0.4784],\n",
            "        [ 0.7056, -4.7458, -0.1749, -2.9530,  0.2088, -0.9243,  0.7034,  0.2855,\n",
            "         -0.0503,  0.0094,  3.9419,  0.1689, -0.0740,  2.0975, -1.7903, -2.8309,\n",
            "          0.5529,  0.6115,  0.3576],\n",
            "        [ 0.6610, -4.9615, -0.2638, -2.5077, -0.0698, -0.5628,  0.5999,  0.2918,\n",
            "         -1.0512, -0.4166,  4.2384,  0.1255, -0.3078,  1.6755, -2.1255, -2.6227,\n",
            "          0.5687,  0.5316,  0.3584],\n",
            "        [ 0.6650, -4.8912, -0.1682, -2.8111,  0.0148, -0.3814,  0.5483,  0.3589,\n",
            "         -0.5274, -0.5785,  4.1767,  0.4890, -0.2480,  2.2135, -2.3983, -2.5787,\n",
            "          0.5479,  0.5233,  0.3963],\n",
            "        [ 0.6916, -4.7500, -0.2439, -2.7405,  0.1978, -0.5553,  0.6573,  0.3691,\n",
            "          0.9012, -0.4109,  3.7810,  1.1142, -0.4861,  2.0689, -1.6561, -2.7181,\n",
            "          0.5339,  0.5772,  0.2931],\n",
            "        [ 0.6803, -4.8976, -0.2755, -2.7480,  0.1142, -0.5659,  0.6093,  0.3694,\n",
            "          0.5536, -0.6404,  4.2448,  0.3525, -0.1056,  1.3334, -2.0962, -3.3408,\n",
            "          0.5357,  0.5330,  0.3644]], dtype=torch.float64, requires_grad=True)\n",
            "tensor([[ 6.3286e-01, -4.9464e+00, -1.8820e-01, -2.7127e+00,  8.6005e-02,\n",
            "          4.6284e-01,  5.0120e-01,  2.7603e-01, -3.4017e-03, -8.9085e-01,\n",
            "          4.3015e+00,  9.9966e-01, -1.0805e-01,  2.7264e+00, -2.1685e+00,\n",
            "         -2.9557e+00,  4.7347e-01,  6.7978e-01,  6.3648e-01],\n",
            "        [ 5.2383e-01, -4.6910e+00, -1.4020e-01, -1.9382e+00,  4.0613e-01,\n",
            "          1.5259e-02,  3.7845e-01,  2.9750e-01,  3.8705e-01, -1.0991e+00,\n",
            "          3.7316e+00,  3.3624e-02,  3.1800e-01,  2.1408e+00, -1.7070e+00,\n",
            "         -3.1307e+00,  3.9194e-01,  7.6411e-01,  5.5932e-01],\n",
            "        [ 4.8534e-01, -4.7241e+00, -1.6657e-01, -2.5883e+00,  4.6739e-01,\n",
            "          1.9515e-01,  4.5509e-01,  2.8956e-01,  8.9927e-01, -5.8361e-01,\n",
            "          3.5199e+00,  5.1852e-01, -2.9935e-01,  2.6741e+00, -8.7615e-01,\n",
            "         -3.7359e+00,  3.8410e-01,  7.0932e-01,  5.6792e-01],\n",
            "        [ 6.1340e-01, -4.6782e+00, -1.2977e-01, -2.1888e+00,  5.4829e-01,\n",
            "         -1.1832e-01,  4.6630e-01,  2.1962e-01,  1.1217e+00, -5.4324e-01,\n",
            "          4.2546e+00,  4.1866e-01, -3.1693e-01,  2.0390e+00, -1.3976e+00,\n",
            "         -3.1657e+00,  3.8953e-01,  7.7281e-01,  3.8286e-01],\n",
            "        [ 5.3222e-01, -4.7063e+00, -1.7755e-01, -2.3454e+00,  2.6650e-02,\n",
            "         -2.9577e-01,  5.8642e-01,  2.2585e-01, -2.8808e-01, -4.6302e-01,\n",
            "          4.5009e+00,  7.5196e-01,  2.6229e-01,  2.6264e+00, -1.5742e+00,\n",
            "         -3.9385e+00,  4.9395e-01,  6.6076e-01,  5.5638e-01],\n",
            "        [ 5.1420e-01, -4.7708e+00, -1.7135e-01, -2.5793e+00,  4.1332e-01,\n",
            "          3.5109e-02,  4.0044e-01,  1.5478e-01,  7.7995e-01, -7.1105e-01,\n",
            "          4.2308e+00,  1.1112e+00,  2.5590e-01,  1.6694e+00, -2.1717e+00,\n",
            "         -4.1156e+00,  5.1221e-01,  7.0101e-01,  4.8719e-01],\n",
            "        [ 6.9011e-01, -4.7132e+00, -1.7246e-01, -2.2588e+00,  4.8390e-01,\n",
            "          1.0015e-01,  3.9394e-01,  5.5799e-02,  1.0240e+00, -2.3134e-01,\n",
            "          4.2051e+00,  6.7950e-01,  3.6808e-01,  2.0739e+00, -1.7392e+00,\n",
            "         -3.9597e+00,  3.6630e-01,  7.1966e-01,  5.6876e-01],\n",
            "        [ 5.2372e-01, -5.0732e+00, -1.9624e-01, -2.2161e+00,  4.1915e-01,\n",
            "          3.3856e-01,  5.1228e-01,  1.0425e-01, -2.1909e-02, -8.6469e-02,\n",
            "          4.1457e+00,  1.2774e+00, -3.3018e-01,  3.1573e+00, -1.8265e+00,\n",
            "         -3.9531e+00,  4.4768e-01,  6.7084e-01,  6.5023e-01],\n",
            "        [ 5.8904e-01, -4.5492e+00, -1.2523e-01, -2.3594e+00,  2.9757e-01,\n",
            "         -3.2431e-01,  5.3892e-01,  3.0117e-01,  1.2502e+00, -8.4069e-01,\n",
            "          3.9253e+00,  9.6160e-01, -4.4114e-02,  2.8581e+00, -1.4196e+00,\n",
            "         -3.9328e+00,  5.8207e-01,  7.5438e-01,  6.3018e-01],\n",
            "        [ 5.3096e-01, -4.5466e+00, -1.3064e-01, -2.6533e+00,  3.0082e-01,\n",
            "         -1.8753e-01,  4.6545e-01,  1.8101e-01,  1.0895e+00, -8.5795e-02,\n",
            "          4.2216e+00,  8.4201e-01, -1.2063e-01,  1.8158e+00, -2.1754e+00,\n",
            "         -3.7026e+00,  3.7194e-01,  6.9969e-01,  6.9754e-01],\n",
            "        [ 5.6903e-01, -4.5816e+00, -1.8309e-01, -2.5821e+00,  1.8802e-01,\n",
            "         -4.1564e-01,  5.6266e-01,  1.2041e-01,  5.8422e-01, -3.4208e-01,\n",
            "          3.9843e+00,  1.1010e+00,  2.2427e-01,  2.2361e+00, -2.1171e+00,\n",
            "         -3.4511e+00,  5.2549e-01,  8.1542e-01,  5.4668e-01],\n",
            "        [ 5.5071e-01, -4.7587e+00, -1.9749e-01, -1.8313e+00,  1.8474e-01,\n",
            "          5.4338e-01,  4.0176e-01,  1.0875e-01,  9.5752e-01, -4.0298e-01,\n",
            "          4.1433e+00,  9.9456e-01, -2.8607e-02,  1.6734e+00, -1.0981e+00,\n",
            "         -3.9110e+00,  5.1484e-01,  8.2705e-01,  6.1898e-01],\n",
            "        [ 4.7537e-01, -4.7434e+00, -2.3094e-01, -2.6207e+00,  4.7127e-01,\n",
            "         -1.2477e-01,  4.1089e-01,  2.2589e-01,  6.5832e-01, -2.7878e-01,\n",
            "          4.1585e+00,  8.5398e-01,  7.6957e-01,  2.4121e+00, -2.0300e+00,\n",
            "         -3.5058e+00,  3.7014e-01,  7.4457e-01,  6.2542e-01],\n",
            "        [ 5.9173e-01, -4.9034e+00, -2.0751e-01, -2.6452e+00,  8.7674e-02,\n",
            "          1.7309e-01,  3.7898e-01,  1.3954e-01,  2.8697e-01, -3.2270e-01,\n",
            "          4.0680e+00,  1.2303e+00, -5.1235e-01,  1.9428e+00, -1.5810e+00,\n",
            "         -4.1431e+00,  5.7256e-01,  7.2200e-01,  6.3802e-01],\n",
            "        [ 5.9342e-01, -4.7889e+00, -1.5676e-01, -2.1612e+00,  3.6364e-01,\n",
            "         -2.9353e-01,  4.8193e-01,  1.0105e-01,  6.6177e-01, -9.6805e-01,\n",
            "          3.9647e+00,  8.9236e-01,  2.9810e-01,  1.9163e+00, -1.3114e+00,\n",
            "         -3.7510e+00,  3.6752e-01,  7.1269e-01,  6.4566e-01],\n",
            "        [ 4.7000e-01, -4.4956e+00, -2.1095e-01, -2.8403e+00,  2.1523e-01,\n",
            "         -1.6798e-01,  5.0194e-01,  1.5597e-01,  1.1704e+00, -2.2456e-01,\n",
            "          4.6379e+00,  7.5478e-01,  5.2975e-01,  1.7417e+00, -1.4840e+00,\n",
            "         -4.3217e+00,  4.5891e-01,  7.2127e-01,  6.2190e-01],\n",
            "        [ 5.4496e-01, -4.3985e+00, -1.5199e-01, -2.8553e+00,  4.0988e-01,\n",
            "         -3.9862e-02,  5.1881e-01,  1.1777e-01,  9.7819e-01, -2.7855e-01,\n",
            "          4.1233e+00,  9.0668e-01,  5.7494e-01,  2.3135e+00, -2.3083e+00,\n",
            "         -3.6256e+00,  4.3273e-01,  7.1733e-01,  6.4139e-01]],\n",
            "       dtype=torch.float64, requires_grad=True)\n",
            "tensor([[ 6.0548e-01, -4.6305e+00, -2.3526e-01, -3.1018e+00,  3.3134e-01,\n",
            "          5.5956e-01,  6.0370e-01,  4.0729e-01,  5.1418e-01, -2.6894e-01,\n",
            "          3.4578e+00,  4.8309e-02, -5.8541e-01,  3.2408e+00, -5.4935e-01,\n",
            "         -3.6027e+00,  7.7645e-01,  4.5705e-01,  1.8507e-01],\n",
            "        [ 6.1581e-01, -4.7956e+00, -1.7419e-01, -3.1708e+00,  2.1976e-01,\n",
            "         -4.6738e-01,  5.9795e-01,  1.9472e-01,  4.5866e-01,  1.0719e-01,\n",
            "          4.0174e+00, -7.8721e-02, -1.1124e+00,  3.1293e+00, -9.9044e-01,\n",
            "         -3.1188e+00,  6.1262e-01,  5.8788e-01,  5.5796e-02],\n",
            "        [ 4.7071e-01, -5.0714e+00, -2.4613e-01, -2.0960e+00, -7.8204e-02,\n",
            "          1.8492e-03,  5.1341e-01,  1.5438e-01, -1.4734e-01, -3.4879e-01,\n",
            "          3.9868e+00,  2.3988e-01, -8.6407e-01,  2.5605e+00, -1.3531e+00,\n",
            "         -3.7361e+00,  5.4120e-01,  6.1124e-01,  3.3712e-01],\n",
            "        [ 5.8867e-01, -4.8329e+00, -2.4096e-01, -2.5813e+00,  2.9857e-01,\n",
            "          4.2064e-01,  4.6508e-01,  1.9881e-01,  2.2012e-01, -2.6750e-01,\n",
            "          3.5187e+00,  1.0065e-01, -3.7237e-01,  1.9983e+00, -8.5458e-01,\n",
            "         -3.9544e+00,  6.0808e-01,  5.9152e-01,  3.3567e-01],\n",
            "        [ 6.1037e-01, -5.0312e+00, -2.3943e-01, -2.5938e+00, -1.4346e-02,\n",
            "          2.7973e-01,  6.4963e-01,  2.9012e-01,  3.2859e-01, -4.9232e-01,\n",
            "          3.9823e+00, -2.5268e-01,  8.8668e-01,  2.5750e+00, -9.7999e-01,\n",
            "         -3.5347e+00,  6.6647e-01,  6.2865e-01,  4.5108e-01],\n",
            "        [ 6.6862e-01, -4.6932e+00, -2.8078e-01, -2.2300e+00, -1.0341e-01,\n",
            "          3.0558e-03,  6.7966e-01,  1.3879e-01,  1.0425e-01, -1.5046e-01,\n",
            "          3.4271e+00,  1.8286e-01, -1.7857e-01,  2.2177e+00, -6.0109e-01,\n",
            "         -3.2932e+00,  5.2725e-01,  4.5877e-01,  3.8817e-01],\n",
            "        [ 6.0781e-01, -4.8362e+00, -2.4779e-01, -2.2657e+00,  3.2590e-02,\n",
            "         -3.3865e-01,  5.6661e-01,  1.7226e-01, -1.2740e-01,  6.9950e-03,\n",
            "          3.5327e+00, -5.6376e-01, -2.4806e-02,  2.1789e+00, -1.0220e+00,\n",
            "         -3.2503e+00,  5.0998e-01,  5.7032e-01,  5.3231e-01],\n",
            "        [ 6.7847e-01, -5.2214e+00, -2.4356e-01, -1.9074e+00, -3.3045e-02,\n",
            "          7.8486e-01,  5.2886e-01,  5.8661e-02, -3.4800e-01, -6.7670e-02,\n",
            "          3.3279e+00, -1.8093e-02, -6.9238e-02,  2.3924e+00, -8.8819e-01,\n",
            "         -3.6197e+00,  5.5565e-01,  6.2880e-01,  1.8577e-01],\n",
            "        [ 6.1637e-01, -4.9185e+00, -1.9135e-01, -3.5429e+00, -5.1255e-02,\n",
            "         -9.1098e-02,  5.3752e-01,  5.9796e-02,  1.9201e-01, -2.6774e-03,\n",
            "          3.4475e+00,  3.7792e-02, -2.7515e-01,  2.8674e+00, -6.6636e-01,\n",
            "         -2.8885e+00,  5.9833e-01,  6.3464e-01,  3.4105e-01],\n",
            "        [ 6.6588e-01, -4.6747e+00, -2.2991e-01, -1.6935e+00, -6.4661e-02,\n",
            "         -4.3916e-03,  5.3539e-01,  1.3848e-01,  4.9471e-01, -3.9554e-02,\n",
            "          3.7177e+00,  5.0489e-01, -5.1347e-01,  2.7311e+00, -1.1828e+00,\n",
            "         -3.2901e+00,  5.7302e-01,  6.1960e-01,  4.3624e-01],\n",
            "        [ 7.3204e-01, -4.5051e+00, -2.0558e-01, -1.9237e+00,  1.3673e-01,\n",
            "          3.0827e-01,  4.3725e-01,  1.2905e-01,  6.7646e-01,  4.0997e-02,\n",
            "          3.1716e+00, -4.5437e-01, -6.0509e-02,  2.4983e+00, -6.8287e-01,\n",
            "         -2.9174e+00,  6.1834e-01,  6.1510e-01,  3.5018e-01],\n",
            "        [ 6.4132e-01, -5.0123e+00, -2.4749e-01, -2.9204e+00,  6.2168e-04,\n",
            "          3.1560e-01,  5.7341e-01,  1.7356e-01, -1.6502e-01, -1.4838e-02,\n",
            "          3.5483e+00,  7.0070e-01,  4.0044e-01,  2.1288e+00, -1.1977e+00,\n",
            "         -3.7746e+00,  6.8407e-01,  6.1606e-01,  5.8411e-01],\n",
            "        [ 7.2015e-01, -4.9286e+00, -2.4137e-01, -2.2697e+00,  6.7636e-02,\n",
            "          7.6489e-01,  6.2506e-01,  2.0019e-01,  2.2486e-01, -3.2099e-01,\n",
            "          3.9201e+00,  6.0575e-01, -4.8417e-01,  2.7376e+00, -1.0401e-01,\n",
            "         -4.1003e+00,  6.2941e-01,  6.2342e-01,  4.8363e-01],\n",
            "        [ 7.1223e-01, -4.7823e+00, -2.2201e-01, -2.2715e+00, -2.5248e-01,\n",
            "          5.0828e-02,  5.9395e-01,  1.3030e-01,  7.5973e-01, -7.0802e-02,\n",
            "          3.0942e+00,  3.5351e-01,  2.0776e-01,  2.6829e+00, -9.3064e-02,\n",
            "         -3.2229e+00,  6.6500e-01,  6.5074e-01,  4.7256e-01],\n",
            "        [ 6.2176e-01, -4.6736e+00, -2.9244e-01, -2.7130e+00,  1.6159e-01,\n",
            "          9.2736e-01,  5.8844e-01,  1.9716e-01, -3.2154e-01,  7.3237e-02,\n",
            "          3.1188e+00, -3.8851e-02, -5.2423e-01,  8.6399e-01, -1.5144e+00,\n",
            "         -3.5107e+00,  6.4142e-01,  5.6098e-01,  4.6699e-01],\n",
            "        [ 4.6456e-01, -4.6949e+00, -2.0374e-01, -2.2725e+00,  1.2764e-02,\n",
            "          5.3476e-01,  6.6295e-01,  9.2871e-02, -1.1592e-01, -1.2410e-01,\n",
            "          3.4220e+00,  1.4161e-01,  2.0021e-01,  2.4870e+00, -1.1047e+00,\n",
            "         -2.7510e+00,  6.4176e-01,  5.2026e-01,  5.2072e-01],\n",
            "        [ 5.5239e-01, -5.0527e+00, -2.7992e-01, -3.2033e+00, -1.4038e-01,\n",
            "          5.0091e-01,  5.5387e-01,  1.3667e-01, -7.7088e-03,  1.8743e-02,\n",
            "          3.5323e+00,  9.3210e-02, -3.0951e-01,  2.7237e+00, -9.5344e-01,\n",
            "         -3.4277e+00,  6.6744e-01,  6.2569e-01,  4.1948e-01]],\n",
            "       dtype=torch.float64, requires_grad=True)\n",
            "tensor([[ 0.6728, -4.6725, -0.2282, -3.6252,  0.3682,  0.1880,  0.3055,  0.1421,\n",
            "         -0.1854, -0.3459,  3.2603,  0.8485,  0.4923,  2.5600, -0.9743, -3.3663,\n",
            "          0.5666,  0.5155,  0.4378],\n",
            "        [ 0.5708, -4.4059, -0.2122, -2.6371,  0.2890,  0.4945,  0.4811,  0.2222,\n",
            "         -0.0253, -0.2854,  3.6425,  0.7876,  0.3665,  2.0630, -1.2924, -3.0736,\n",
            "          0.4054,  0.5977,  0.4284],\n",
            "        [ 0.6986, -4.6052, -0.2015, -2.5952,  0.4460,  0.1516,  0.3928,  0.1950,\n",
            "          0.2847, -0.4146,  3.9203,  1.0811,  0.1282,  2.6790, -0.9540, -3.5091,\n",
            "          0.4493,  0.5747,  0.5132],\n",
            "        [ 0.5818, -4.6411, -0.2354, -2.1498,  0.1108, -0.2922,  0.4749,  0.2516,\n",
            "         -1.0263, -0.1079,  4.3796,  0.8016,  0.2267,  1.5572, -0.7204, -3.1939,\n",
            "          0.4465,  0.5633,  0.1006],\n",
            "        [ 0.7829, -4.5492, -0.1698, -2.9267,  0.4363,  0.5012,  0.4721,  0.2175,\n",
            "         -0.3256, -0.2555,  4.0641,  0.8857, -0.2929,  1.8794, -1.3543, -3.6843,\n",
            "          0.6720,  0.6412,  0.4999],\n",
            "        [ 0.5751, -4.6386, -0.2404, -2.3592,  0.3466, -0.0477,  0.4493,  0.2303,\n",
            "          0.0583, -0.8378,  3.4785,  0.7170, -0.1001,  2.1954, -1.5408, -2.9906,\n",
            "          0.5557,  0.5050,  0.2228],\n",
            "        [ 0.6079, -4.5060, -0.2333, -2.8593,  0.4901,  0.2213,  0.5434,  0.0973,\n",
            "         -1.3117, -0.2967,  4.0906,  0.9246, -0.0176,  2.0046, -1.0878, -2.4163,\n",
            "          0.6682,  0.5857,  0.3413],\n",
            "        [ 0.6540, -4.4158, -0.1640, -2.2925,  0.2933,  0.2377,  0.4585,  0.2185,\n",
            "         -0.8317, -0.1861,  3.8930,  0.0857,  0.5029,  1.4670, -1.4735, -3.0881,\n",
            "          0.4628,  0.5350,  0.4183],\n",
            "        [ 0.7012, -4.4611, -0.2101, -2.8016,  0.4541,  0.7775,  0.4790,  0.2725,\n",
            "         -0.6201,  0.0172,  3.8013,  0.4338,  0.0512,  2.3603, -1.6191, -3.4228,\n",
            "          0.5128,  0.6313,  0.5501],\n",
            "        [ 0.6251, -4.5464, -0.2704, -3.1339,  0.1276,  0.3943,  0.3396,  0.1197,\n",
            "         -0.0867, -0.4169,  4.1325,  0.6754,  0.8020,  1.9157, -1.2547, -3.5039,\n",
            "          0.5707,  0.5189,  0.4675],\n",
            "        [ 0.5810, -4.6093, -0.2822, -2.5856,  0.3081,  0.4505,  0.3491,  0.1657,\n",
            "         -0.7569, -0.0824,  3.9200,  0.8823,  0.1667,  1.6348, -1.2776, -2.8379,\n",
            "          0.6033,  0.5434,  0.4053],\n",
            "        [ 0.6153, -4.5668, -0.2212, -2.3502,  0.1951,  0.6585,  0.3991,  0.2016,\n",
            "         -0.8039, -0.3572,  4.4375,  0.2625, -0.3258,  2.1436, -1.0317, -2.9881,\n",
            "          0.5209,  0.6522,  0.4775],\n",
            "        [ 0.6172, -4.4573, -0.3043, -2.2307,  0.2171,  0.0311,  0.3754,  0.1491,\n",
            "         -0.9511, -0.0666,  4.2299,  0.6873, -0.3432,  2.0059, -1.5771, -3.6127,\n",
            "          0.5439,  0.5664,  0.1481],\n",
            "        [ 0.6467, -4.2723, -0.3453, -2.5649,  0.1290,  0.0338,  0.3621,  0.1770,\n",
            "          0.4219, -0.2373,  3.7670,  0.9705, -0.0899,  1.3371, -1.8084, -3.0702,\n",
            "          0.6020,  0.6149,  0.3281],\n",
            "        [ 0.5416, -4.1678, -0.2323, -2.5689,  0.3035,  0.3285,  0.4890,  0.0937,\n",
            "         -0.9269, -0.0774,  3.0918,  0.2989,  0.3396,  2.3442, -2.0373, -3.5357,\n",
            "          0.5478,  0.4738,  0.3311],\n",
            "        [ 0.6699, -4.3292, -0.2875, -2.2037,  0.4295,  0.4810,  0.5157,  0.0814,\n",
            "         -0.6876, -0.2090,  4.2408,  0.6046,  0.4521,  1.7799, -1.3708, -3.8284,\n",
            "          0.5216,  0.6019,  0.3618],\n",
            "        [ 0.7093, -4.3839, -0.2647, -1.6188,  0.3478,  0.3077,  0.4926,  0.1212,\n",
            "         -0.5243, -0.4841,  4.2872,  0.2516, -0.4249,  2.6960, -1.3203, -3.1685,\n",
            "          0.4258,  0.6457,  0.5097]], dtype=torch.float64, requires_grad=True)\n",
            "tensor([[ 5.5954e-01, -4.8943e+00, -2.1994e-01, -2.8993e+00,  2.9246e-03,\n",
            "          2.0892e-01,  4.3431e-01,  3.8849e-01, -7.8461e-01,  2.0748e-01,\n",
            "          4.5473e+00,  5.8699e-01,  1.9072e-01,  2.5022e+00, -2.8011e+00,\n",
            "         -3.2772e+00,  6.7897e-01,  4.7595e-01,  4.0533e-01],\n",
            "        [ 5.0553e-01, -4.7334e+00, -2.4582e-01, -4.3135e+00,  2.8350e-01,\n",
            "          4.8027e-01,  3.7544e-01,  2.5586e-01,  3.8057e-01, -2.2694e-01,\n",
            "          4.7316e+00,  4.0520e-01,  3.5172e-01,  3.0338e+00, -2.1264e+00,\n",
            "         -3.6918e+00,  5.0744e-01,  4.6002e-01,  3.5372e-01],\n",
            "        [ 4.5725e-01, -4.8302e+00, -2.5188e-01, -3.5157e+00,  4.2672e-01,\n",
            "          3.3273e-01,  4.9800e-01,  3.3974e-01, -5.7374e-01, -1.9202e-01,\n",
            "          4.0740e+00,  4.0017e-01, -4.9291e-01,  2.3616e+00, -2.2326e+00,\n",
            "         -3.2941e+00,  6.3563e-01,  5.5721e-01,  2.5114e-01],\n",
            "        [ 5.7155e-01, -4.7942e+00, -2.3079e-01, -3.7707e+00,  3.2743e-01,\n",
            "         -4.4469e-01,  4.9431e-01,  3.0655e-01, -1.1823e-01, -5.8433e-01,\n",
            "          4.7155e+00, -7.5076e-01, -1.4260e-01,  2.5015e+00, -2.2531e+00,\n",
            "         -2.3186e+00,  5.6908e-01,  5.4403e-01,  5.5620e-01],\n",
            "        [ 5.9096e-01, -5.2245e+00, -2.1469e-01, -2.5209e+00,  3.1737e-01,\n",
            "          4.9142e-01,  4.2155e-01,  2.8152e-01, -4.4841e-01,  1.8190e-01,\n",
            "          4.4772e+00,  8.0957e-03,  2.9904e-01,  2.4729e+00, -1.9610e+00,\n",
            "         -3.5923e+00,  5.3257e-01,  4.9207e-01,  3.8549e-01],\n",
            "        [ 5.8593e-01, -5.0808e+00, -2.3623e-01, -2.4393e+00,  3.2546e-01,\n",
            "          3.6679e-02,  3.6449e-01,  2.2769e-01,  5.6459e-01, -3.7171e-01,\n",
            "          4.4537e+00,  5.3279e-03,  4.5328e-01,  2.8260e+00, -2.5960e+00,\n",
            "         -3.8692e+00,  6.4028e-01,  5.2604e-01,  4.4037e-01],\n",
            "        [ 5.0215e-01, -4.9796e+00, -2.7298e-01, -2.7113e+00,  5.4198e-01,\n",
            "          2.9687e-01,  3.9398e-01,  2.6499e-01,  4.9271e-01, -1.0665e-01,\n",
            "          4.4157e+00,  1.6803e-02, -1.9356e-01,  2.7775e+00, -2.3703e+00,\n",
            "         -3.6690e+00,  5.6884e-01,  4.2250e-01,  4.3202e-01],\n",
            "        [ 5.3899e-01, -4.8022e+00, -2.7637e-01, -2.5115e+00,  1.0677e-01,\n",
            "          1.6968e-01,  4.0168e-01,  2.0130e-01, -9.4305e-03, -2.6825e-01,\n",
            "          4.2757e+00,  1.1184e-01, -1.1542e-02,  2.6550e+00, -2.5495e+00,\n",
            "         -3.0367e+00,  5.3876e-01,  6.2397e-01,  3.8986e-01],\n",
            "        [ 4.7957e-01, -4.8581e+00, -2.8919e-01, -3.4813e+00,  1.4320e-01,\n",
            "          5.2326e-01,  4.7942e-01,  2.1550e-01,  1.5040e-01, -2.6449e-01,\n",
            "          4.5907e+00, -2.3323e-01,  6.5917e-01,  2.9817e+00, -2.6308e+00,\n",
            "         -3.9396e+00,  5.4328e-01,  4.5317e-01,  4.5770e-01],\n",
            "        [ 5.6721e-01, -4.7246e+00, -2.8352e-01, -2.6370e+00,  6.7657e-02,\n",
            "          3.2702e-01,  4.7595e-01,  2.7986e-01, -2.4868e-02, -4.0021e-01,\n",
            "          4.0271e+00,  1.5975e-01,  5.0515e-01,  2.7494e+00, -2.3204e+00,\n",
            "         -2.9886e+00,  5.4573e-01,  5.9081e-01,  6.4405e-01],\n",
            "        [ 5.2016e-01, -5.0763e+00, -2.8436e-01, -2.3728e+00,  2.3366e-01,\n",
            "         -2.4692e-02,  5.6365e-01,  1.4293e-01, -4.7718e-01, -1.8361e-01,\n",
            "          3.7818e+00,  3.5629e-01, -7.4231e-02,  1.6354e+00, -2.3465e+00,\n",
            "         -3.2321e+00,  6.1634e-01,  5.7247e-01,  2.4258e-01],\n",
            "        [ 3.9455e-01, -4.4899e+00, -2.0220e-01, -2.7611e+00,  8.8857e-02,\n",
            "          7.9180e-02,  3.8218e-01,  2.0033e-01, -7.2355e-02, -2.1107e-01,\n",
            "          4.4645e+00, -2.0060e-01,  4.6872e-01,  2.6981e+00, -2.1033e+00,\n",
            "         -3.4902e+00,  6.0081e-01,  5.0943e-01,  5.6514e-01],\n",
            "        [ 4.4208e-01, -5.0266e+00, -3.0380e-01, -3.2056e+00,  1.9836e-01,\n",
            "          8.5998e-04,  4.7319e-01,  2.6125e-01, -3.9873e-02, -3.0915e-01,\n",
            "          4.3818e+00,  5.3754e-01,  2.9506e-01,  2.1369e+00, -2.0056e+00,\n",
            "         -2.8705e+00,  5.7499e-01,  6.2718e-01,  5.8088e-01],\n",
            "        [ 5.4817e-01, -4.6804e+00, -2.8755e-01, -2.9150e+00,  1.9802e-01,\n",
            "         -1.5390e-01,  4.3246e-01,  1.9551e-01, -8.8237e-01, -2.3655e-01,\n",
            "          4.7792e+00,  5.2482e-01,  2.6428e-01,  2.4118e+00, -1.9471e+00,\n",
            "         -3.8277e+00,  4.6250e-01,  5.5761e-01,  5.0368e-01],\n",
            "        [ 5.7467e-01, -4.4759e+00, -2.7796e-01, -3.3596e+00,  2.7624e-01,\n",
            "         -2.3231e-01,  4.7287e-01,  2.6251e-01, -1.8819e-01, -1.6261e-01,\n",
            "          3.8946e+00,  6.2702e-02,  5.5825e-01,  2.7055e+00, -2.5638e+00,\n",
            "         -3.4915e+00,  5.5623e-01,  6.0601e-01,  6.2599e-01],\n",
            "        [ 5.7888e-01, -4.9673e+00, -2.5300e-01, -2.2842e+00,  2.4543e-01,\n",
            "          1.9528e-01,  4.9348e-01,  2.2025e-01,  1.3555e-02,  2.2995e-02,\n",
            "          4.7185e+00,  9.2169e-03,  4.4062e-02,  1.8675e+00, -2.0572e+00,\n",
            "         -4.2783e+00,  5.5507e-01,  5.3775e-01,  3.7114e-01],\n",
            "        [ 4.5381e-01, -4.8753e+00, -2.5630e-01, -3.3033e+00,  4.2843e-01,\n",
            "          3.0771e-01,  4.8008e-01,  2.8287e-01,  2.9789e-01,  1.7483e-02,\n",
            "          4.5023e+00, -1.7339e-01,  4.3562e-01,  2.6398e+00, -2.6617e+00,\n",
            "         -4.1066e+00,  5.1070e-01,  5.6319e-01,  5.2665e-01]],\n",
            "       dtype=torch.float64, requires_grad=True)\n",
            "tensor([[ 6.5677e-01, -5.1809e+00, -2.0902e-01, -3.5339e+00,  5.8185e-01,\n",
            "          1.9330e-01,  5.3990e-01,  2.3235e-01, -2.3725e-01, -2.2434e-01,\n",
            "          4.3404e+00,  2.1135e-01, -2.6627e-01,  2.4751e+00, -2.0415e+00,\n",
            "         -3.5475e+00,  6.4361e-01,  7.1913e-01,  4.0206e-02],\n",
            "        [ 6.2895e-01, -4.8754e+00, -2.1751e-01, -2.5741e+00,  4.7113e-01,\n",
            "          8.8512e-01,  5.6817e-01,  1.9098e-01,  3.4645e-01, -6.3001e-01,\n",
            "          4.0243e+00, -6.8367e-02, -6.2995e-02,  2.2098e+00, -1.3432e+00,\n",
            "         -3.3150e+00,  6.5493e-01,  6.5487e-01,  1.9898e-01],\n",
            "        [ 6.0072e-01, -5.0463e+00, -2.3603e-01, -3.2425e+00,  6.0451e-01,\n",
            "         -6.3400e-01,  6.1844e-01,  2.5720e-01, -2.6705e-01, -3.5314e-01,\n",
            "          4.1307e+00,  2.2310e-01,  1.2334e-02,  2.4238e+00, -1.1331e+00,\n",
            "         -2.6115e+00,  7.2121e-01,  6.1702e-01,  1.1188e-01],\n",
            "        [ 6.9753e-01, -5.0696e+00, -2.3630e-01, -3.1373e+00,  4.3893e-01,\n",
            "         -5.7470e-01,  6.3178e-01,  4.3526e-01, -2.7386e-01, -6.8599e-02,\n",
            "          4.0739e+00,  1.0353e-01, -5.2591e-01,  1.9768e+00, -1.3901e+00,\n",
            "         -2.3361e+00,  6.9345e-01,  6.2074e-01, -1.2109e-01],\n",
            "        [ 7.2650e-01, -4.9901e+00, -2.1465e-01, -2.8674e+00,  4.2095e-01,\n",
            "          2.5729e-01,  5.5669e-01,  1.5584e-01,  4.8712e-01, -9.9310e-02,\n",
            "          4.0992e+00,  7.5944e-02,  7.3494e-01,  1.6802e+00, -1.2252e+00,\n",
            "         -2.3517e+00,  6.5993e-01,  6.9872e-01,  1.6909e-01],\n",
            "        [ 6.0876e-01, -4.9386e+00, -2.4666e-01, -2.5828e+00,  4.2847e-01,\n",
            "         -3.3521e-01,  4.8684e-01,  2.8988e-01,  1.0679e-01, -2.4518e-01,\n",
            "          4.5402e+00,  3.4294e-01, -4.5682e-01,  2.3236e+00, -2.1042e+00,\n",
            "         -3.6405e+00,  7.6355e-01,  6.2766e-01,  3.4360e-02],\n",
            "        [ 5.9940e-01, -4.9900e+00, -2.6258e-01, -2.7518e+00,  4.4619e-01,\n",
            "          3.2934e-01,  4.2212e-01,  2.5962e-01,  3.9267e-01,  6.0403e-02,\n",
            "          3.8371e+00,  2.9313e-01,  1.4755e-02,  2.6396e+00, -1.9068e+00,\n",
            "         -1.9959e+00,  6.8587e-01,  5.8011e-01,  3.4493e-01],\n",
            "        [ 6.4308e-01, -5.1101e+00, -2.7912e-01, -2.4208e+00,  1.9285e-01,\n",
            "          3.8594e-01,  4.1591e-01,  2.4386e-01,  1.9860e-01, -6.4129e-01,\n",
            "          4.0137e+00,  6.5194e-01,  8.1352e-02,  2.3999e+00, -2.5422e+00,\n",
            "         -2.3993e+00,  7.6656e-01,  5.7944e-01,  1.9115e-02],\n",
            "        [ 5.8983e-01, -5.0283e+00, -2.2995e-01, -2.3261e+00,  3.8145e-01,\n",
            "          3.5533e-01,  4.8666e-01,  2.1280e-01,  1.0862e-01, -2.7360e-01,\n",
            "          4.1185e+00,  2.0169e-01, -1.2865e-02,  2.4350e+00, -2.4312e+00,\n",
            "         -3.1910e+00,  7.0076e-01,  7.1212e-01,  3.3236e-01],\n",
            "        [ 7.3867e-01, -5.0739e+00, -2.4631e-01, -2.9390e+00,  1.6442e-01,\n",
            "          3.9013e-01,  4.2857e-01,  3.4262e-01, -3.3514e-01, -5.6109e-01,\n",
            "          4.5186e+00,  1.5956e-01,  1.1491e+00,  2.1509e+00, -1.9190e+00,\n",
            "         -2.1832e+00,  6.8249e-01,  5.3815e-01,  2.3426e-01],\n",
            "        [ 6.5527e-01, -4.7398e+00, -2.3133e-01, -1.5405e+00,  4.0058e-01,\n",
            "          3.5898e-01,  4.5994e-01,  1.9908e-01,  1.7606e-01, -2.0765e-01,\n",
            "          4.3218e+00, -8.0170e-02,  3.7051e-01,  2.1817e+00, -9.4837e-01,\n",
            "         -3.2532e+00,  6.7766e-01,  5.7246e-01,  1.5076e-02],\n",
            "        [ 5.6455e-01, -5.1073e+00, -2.3239e-01, -2.8060e+00,  3.7182e-01,\n",
            "          9.1952e-01,  5.0955e-01,  2.0496e-01,  5.6599e-01, -7.1550e-01,\n",
            "          4.1859e+00,  1.5294e-01,  9.9871e-01,  1.8654e+00, -1.9292e+00,\n",
            "         -2.9463e+00,  7.5321e-01,  7.8022e-01,  3.6041e-01],\n",
            "        [ 6.6143e-01, -4.7956e+00, -2.5345e-01, -2.3432e+00,  3.9295e-01,\n",
            "          4.0771e-01,  5.2546e-01,  3.0794e-01,  3.7060e-01, -2.3757e-01,\n",
            "          4.1877e+00, -6.1104e-02,  5.1834e-01,  1.4039e+00, -2.1861e+00,\n",
            "         -3.2493e+00,  6.9138e-01,  6.9328e-01,  3.5000e-01],\n",
            "        [ 6.7601e-01, -4.9688e+00, -2.4406e-01, -2.5551e+00,  7.8027e-03,\n",
            "         -1.9078e-01,  4.9310e-01,  3.7777e-01, -1.5130e-01, -9.3133e-01,\n",
            "          4.4559e+00,  1.9013e-01,  4.5752e-03,  1.6318e+00, -2.2900e+00,\n",
            "         -1.8915e+00,  6.5402e-01,  7.2304e-01,  2.2337e-01],\n",
            "        [ 6.3473e-01, -4.6966e+00, -2.0258e-01, -2.2912e+00,  1.9542e-01,\n",
            "          3.0767e-01,  4.1730e-01,  3.0950e-01,  1.9137e-01,  4.1396e-02,\n",
            "          4.2963e+00,  5.4042e-01,  3.7651e-01,  1.6625e+00, -2.3224e+00,\n",
            "         -2.1346e+00,  6.4586e-01,  6.1457e-01,  4.0787e-01],\n",
            "        [ 5.7330e-01, -4.8831e+00, -1.9923e-01, -2.7563e+00,  5.2431e-01,\n",
            "          5.9895e-01,  4.2049e-01,  2.9183e-01,  1.0906e+00, -2.0782e-01,\n",
            "          3.9434e+00,  1.9844e-01, -7.9671e-01,  1.4182e+00, -2.0493e+00,\n",
            "         -2.2424e+00,  7.0742e-01,  6.2438e-01,  3.0234e-02],\n",
            "        [ 6.4821e-01, -4.8560e+00, -2.3332e-01, -3.3597e+00,  3.1048e-01,\n",
            "          6.4106e-02,  4.7852e-01,  1.8685e-01,  2.3543e-01, -6.8185e-01,\n",
            "          4.0244e+00,  3.9901e-01,  6.6187e-01,  2.2407e+00, -2.2430e+00,\n",
            "         -2.5835e+00,  6.6426e-01,  5.9266e-01,  2.6276e-01]],\n",
            "       dtype=torch.float64, requires_grad=True)\n",
            "tensor([[ 6.4809e-01, -4.9348e+00, -2.1849e-01, -2.3706e+00,  3.7043e-01,\n",
            "         -3.8348e-02,  5.9663e-01,  6.2279e-02,  2.4388e-01,  2.6382e-01,\n",
            "          4.4050e+00,  7.9758e-02,  1.2819e-01,  2.7756e+00, -9.3790e-01,\n",
            "         -3.1317e+00,  6.5411e-01,  6.2967e-01,  4.6384e-01],\n",
            "        [ 5.5089e-01, -4.8108e+00, -2.0589e-01, -1.1063e+00,  3.8925e-01,\n",
            "          5.3579e-04,  6.4224e-01,  2.2033e-01, -3.7645e-02,  2.8149e-01,\n",
            "          4.2681e+00, -1.2373e-01, -3.6265e-01,  3.1990e+00, -7.4247e-01,\n",
            "         -3.7265e+00,  4.5730e-01,  6.3777e-01,  4.9936e-01],\n",
            "        [ 4.9357e-01, -4.9608e+00, -2.0906e-01, -1.4714e+00,  3.2038e-01,\n",
            "         -5.0096e-01,  5.5483e-01,  2.2535e-01, -4.5262e-01,  6.7422e-02,\n",
            "          4.2094e+00,  5.7747e-01, -7.4141e-01,  3.3129e+00, -8.2301e-01,\n",
            "         -2.8834e+00,  5.6625e-01,  5.6924e-01,  3.2825e-01],\n",
            "        [ 5.6867e-01, -4.6023e+00, -2.0226e-01, -2.8811e+00,  2.6673e-01,\n",
            "         -3.6725e-01,  4.5494e-01,  3.0198e-01, -8.7932e-01,  1.1639e-01,\n",
            "          4.5521e+00,  6.7529e-01, -9.6358e-01,  2.6735e+00, -8.3426e-01,\n",
            "         -3.6857e+00,  4.4877e-01,  5.3724e-01,  5.7489e-01],\n",
            "        [ 6.6713e-01, -4.5579e+00, -2.2825e-01, -1.9949e+00,  4.5035e-01,\n",
            "         -1.9711e-01,  4.5164e-01,  8.5791e-02,  5.7824e-01,  9.9842e-02,\n",
            "          4.1368e+00, -3.1814e-01, -5.6121e-01,  2.7561e+00, -7.6202e-01,\n",
            "         -3.4386e+00,  5.2503e-01,  6.3086e-01,  3.6987e-01],\n",
            "        [ 5.8011e-01, -4.3386e+00, -2.2469e-01, -2.0522e+00,  2.7320e-01,\n",
            "          8.7893e-03,  3.9477e-01,  1.2270e-01,  7.0702e-01, -2.8469e-01,\n",
            "          4.1438e+00,  6.1217e-02, -7.0305e-02,  2.5202e+00, -1.2688e+00,\n",
            "         -3.3866e+00,  4.3291e-01,  6.4621e-01,  4.2869e-01],\n",
            "        [ 6.0795e-01, -4.9636e+00, -1.8557e-01, -2.4878e+00,  4.8591e-01,\n",
            "          5.2873e-01,  4.9196e-01,  1.7125e-01, -1.4428e-01, -6.4758e-02,\n",
            "          4.3956e+00,  1.5604e-01, -5.3560e-01,  2.8690e+00, -1.0483e+00,\n",
            "         -3.0662e+00,  5.1131e-01,  4.8149e-01,  5.5325e-01],\n",
            "        [ 6.4231e-01, -4.5353e+00, -2.0656e-01, -1.8843e+00,  4.3967e-01,\n",
            "         -2.8475e-01,  2.9443e-01,  1.3377e-01, -1.4715e-01,  2.5920e-01,\n",
            "          4.3479e+00,  2.0204e-01, -4.6238e-01,  2.6820e+00, -1.8525e+00,\n",
            "         -4.1402e+00,  5.5520e-01,  5.9476e-01,  6.3928e-01],\n",
            "        [ 4.6189e-01, -4.6688e+00, -2.0242e-01, -2.4408e+00,  2.6113e-01,\n",
            "         -5.4769e-01,  5.0787e-01,  1.1507e-01,  8.8193e-01, -3.5024e-01,\n",
            "          4.1047e+00,  6.2805e-01, -3.5747e-01,  2.7020e+00, -1.6359e+00,\n",
            "         -3.3501e+00,  5.5444e-01,  5.1607e-01,  5.3464e-01],\n",
            "        [ 5.5414e-01, -4.7447e+00, -1.9539e-01, -2.3136e+00,  3.0508e-01,\n",
            "         -6.5337e-02,  4.7129e-01,  1.5090e-01,  2.5863e-01,  1.9997e-02,\n",
            "          4.6390e+00,  7.0331e-01, -1.9780e-01,  2.5700e+00, -1.9083e+00,\n",
            "         -3.7681e+00,  5.3398e-01,  6.0350e-01,  4.6451e-01],\n",
            "        [ 7.1813e-01, -4.8575e+00, -2.4645e-01, -1.8375e+00,  1.7322e-01,\n",
            "         -5.8961e-02,  4.6223e-01,  1.3928e-01,  4.6230e-01, -4.9822e-01,\n",
            "          4.1003e+00,  5.2788e-01, -1.8872e-01,  2.4612e+00, -1.5269e+00,\n",
            "         -4.2507e+00,  5.7029e-01,  6.1835e-01,  6.5823e-01],\n",
            "        [ 6.4511e-01, -4.8144e+00, -1.7356e-01, -2.4451e+00,  2.8190e-01,\n",
            "          9.6254e-03,  5.0109e-01,  1.4248e-01,  3.4840e-01, -6.6790e-01,\n",
            "          4.3892e+00,  1.1876e-01, -1.6200e-01,  2.3826e+00, -1.7622e+00,\n",
            "         -3.0325e+00,  5.9402e-01,  6.5515e-01,  6.0152e-01],\n",
            "        [ 6.5616e-01, -4.6197e+00, -2.4880e-01, -2.1874e+00,  2.5845e-01,\n",
            "         -2.3542e-02,  4.4869e-01,  1.0322e-01,  3.3443e-01, -2.2213e-01,\n",
            "          4.3571e+00,  6.4204e-01,  4.0856e-02,  2.3227e+00, -1.6005e+00,\n",
            "         -4.0183e+00,  6.1274e-01,  5.6331e-01,  5.4729e-01],\n",
            "        [ 5.8824e-01, -4.8147e+00, -2.4917e-01, -2.4176e+00,  2.8467e-01,\n",
            "         -5.2568e-01,  3.8138e-01,  1.3828e-01,  8.5050e-01, -7.6253e-02,\n",
            "          4.0836e+00,  3.4261e-01, -1.3234e+00,  2.1918e+00, -1.7341e+00,\n",
            "         -3.3985e+00,  5.9286e-01,  6.8980e-01,  5.0519e-01],\n",
            "        [ 6.3042e-01, -4.7682e+00, -2.1730e-01, -1.2986e+00,  1.2192e-01,\n",
            "         -2.6014e-02,  3.6665e-01,  2.1529e-01,  1.9719e-01, -1.9401e-02,\n",
            "          4.1838e+00,  3.3316e-01,  3.8957e-01,  1.6488e+00, -1.8237e+00,\n",
            "         -3.7444e+00,  4.4098e-01,  5.5143e-01,  5.1257e-01],\n",
            "        [ 5.6322e-01, -4.8120e+00, -2.5055e-01, -1.8247e+00,  3.1328e-01,\n",
            "          9.1028e-02,  5.2233e-01,  1.7543e-01,  9.6254e-01,  6.7624e-02,\n",
            "          4.4865e+00,  3.0499e-01, -5.1729e-02,  2.3192e+00, -1.7996e+00,\n",
            "         -4.1830e+00,  4.9187e-01,  6.0602e-01,  6.1781e-01],\n",
            "        [ 5.2043e-01, -4.7705e+00, -2.6699e-01, -1.4161e+00,  2.8963e-01,\n",
            "         -2.5990e-01,  4.1171e-01,  1.4969e-01,  5.9733e-02, -2.5161e-01,\n",
            "          3.8596e+00,  2.5950e-01, -1.8151e-01,  1.5291e+00, -1.9642e+00,\n",
            "         -3.6717e+00,  6.1210e-01,  5.4477e-01,  6.1571e-01]],\n",
            "       dtype=torch.float64, requires_grad=True)\n",
            "tensor([[ 7.1125e-01, -4.4793e+00, -2.6715e-01, -2.9725e+00,  2.0500e-01,\n",
            "         -8.4292e-01,  5.5149e-01,  2.9273e-01,  1.5229e+00, -2.3055e-01,\n",
            "          3.6340e+00, -4.3333e-01,  7.5060e-02,  2.7290e+00, -9.7572e-01,\n",
            "         -4.3584e+00,  6.4071e-01,  3.8339e-01,  4.0176e-02],\n",
            "        [ 6.3394e-01, -4.9690e+00, -3.2780e-01, -2.5706e+00,  2.8989e-01,\n",
            "         -1.2217e-01,  6.4238e-01,  2.1123e-01,  7.5931e-01, -2.7455e-01,\n",
            "          3.3358e+00, -3.0089e-01, -3.3353e-03,  1.8703e+00, -1.9662e+00,\n",
            "         -4.0623e+00,  6.5428e-01,  4.9803e-01,  2.2292e-01],\n",
            "        [ 6.8890e-01, -4.7006e+00, -2.8884e-01, -2.7727e+00,  1.3383e-01,\n",
            "         -7.0305e-01,  6.0356e-01,  2.3702e-01,  4.4053e-01,  9.3276e-02,\n",
            "          3.6244e+00, -1.0956e-01, -1.3379e-02,  2.7462e+00, -1.4133e+00,\n",
            "         -4.8678e+00,  3.6196e-01,  5.8159e-01,  1.0884e-02],\n",
            "        [ 6.7932e-01, -4.9230e+00, -2.6746e-01, -3.6239e+00,  2.2540e-01,\n",
            "         -6.2759e-01,  4.4391e-01,  1.6628e-01,  1.3082e+00, -1.4787e-01,\n",
            "          3.0790e+00, -2.1133e-01, -5.9335e-01,  2.3996e+00, -1.9484e+00,\n",
            "         -4.9325e+00,  5.0650e-01,  3.1938e-01, -1.6509e-01],\n",
            "        [ 5.7021e-01, -4.8986e+00, -2.8136e-01, -2.8455e+00,  3.8496e-01,\n",
            "         -7.7613e-01,  4.5379e-01,  2.2036e-01,  1.1902e+00, -8.3904e-03,\n",
            "          3.4990e+00, -9.6721e-01, -9.0807e-01,  2.5150e+00, -1.7906e+00,\n",
            "         -4.7634e+00,  4.3586e-01,  3.9415e-01, -1.0257e-01],\n",
            "        [ 6.7604e-01, -4.9770e+00, -3.0026e-01, -2.9394e+00,  3.3521e-01,\n",
            "         -6.1627e-01,  5.9557e-01,  8.5422e-02,  9.6108e-01, -6.4200e-01,\n",
            "          3.4249e+00, -2.0837e-01, -6.5951e-01,  2.2570e+00, -2.2915e+00,\n",
            "         -4.4851e+00,  4.9300e-01,  3.7160e-01, -1.4024e-01],\n",
            "        [ 6.1061e-01, -4.7920e+00, -3.1144e-01, -3.2858e+00,  1.3720e-01,\n",
            "         -8.9096e-01,  5.3010e-01,  9.7020e-02,  1.1127e+00, -2.0303e-01,\n",
            "          2.8662e+00, -5.5881e-01, -3.3051e-01,  1.6974e+00, -1.4001e+00,\n",
            "         -4.3696e+00,  5.4895e-01,  3.6130e-01, -2.2830e-02],\n",
            "        [ 7.7934e-01, -4.8189e+00, -2.9020e-01, -3.5745e+00,  3.2730e-01,\n",
            "         -5.1513e-01,  5.1143e-01,  1.4052e-01, -2.9269e-01,  4.4463e-02,\n",
            "          3.0269e+00,  2.0415e-01,  4.5942e-01,  1.5203e+00, -2.3659e+00,\n",
            "         -4.9777e+00,  5.1039e-01,  4.2905e-01,  1.9301e-01],\n",
            "        [ 6.2272e-01, -4.8140e+00, -2.5207e-01, -2.8759e+00,  1.9631e-01,\n",
            "         -1.1478e+00,  4.6969e-01,  1.7951e-01,  1.3589e+00,  1.4085e-01,\n",
            "          3.3364e+00,  3.6149e-02, -5.2883e-01,  1.5811e+00, -1.7438e+00,\n",
            "         -4.6773e+00,  4.7712e-01,  3.9057e-01,  6.0261e-02],\n",
            "        [ 6.4440e-01, -4.9283e+00, -2.8914e-01, -3.5380e+00,  2.6500e-01,\n",
            "         -5.2645e-01,  5.3086e-01,  1.3537e-01,  1.1535e+00, -2.6182e-01,\n",
            "          4.0776e+00, -2.2275e-01,  1.2294e+00,  2.1744e+00, -1.7758e+00,\n",
            "         -4.7439e+00,  4.9450e-01,  4.5367e-01,  2.5430e-01],\n",
            "        [ 5.5097e-01, -4.7919e+00, -2.9304e-01, -3.4957e+00, -6.4182e-02,\n",
            "         -4.9160e-01,  5.2968e-01,  2.3453e-01,  1.4105e+00, -3.7922e-01,\n",
            "          3.3047e+00, -3.1103e-01,  5.1536e-01,  2.1085e+00, -2.1488e+00,\n",
            "         -4.5048e+00,  4.8653e-01,  4.2982e-01, -6.0896e-02],\n",
            "        [ 6.9598e-01, -5.0291e+00, -2.8919e-01, -2.9402e+00,  2.4025e-01,\n",
            "          2.4756e-01,  6.1388e-01,  1.1942e-01,  1.9562e-01, -3.7654e-01,\n",
            "          3.1246e+00, -1.0636e-01,  1.1265e-01,  1.4511e+00, -1.8754e+00,\n",
            "         -4.8932e+00,  5.0203e-01,  5.0637e-01,  1.4649e-01],\n",
            "        [ 6.5339e-01, -4.7306e+00, -2.5867e-01, -3.1763e+00,  2.0431e-01,\n",
            "         -4.8012e-01,  5.8779e-01,  1.2858e-01,  4.2441e-01, -2.0652e-01,\n",
            "          2.7148e+00, -2.1557e-01,  8.7255e-02,  2.0216e+00, -2.3953e+00,\n",
            "         -4.8655e+00,  4.4742e-01,  3.7960e-01,  1.2700e-01],\n",
            "        [ 8.1041e-01, -4.5354e+00, -3.2524e-01, -2.2575e+00,  3.7992e-01,\n",
            "         -3.7619e-01,  5.5635e-01,  5.2403e-02,  5.0355e-01,  9.4584e-02,\n",
            "          2.8142e+00, -5.4509e-01, -4.9670e-01,  1.5157e+00, -1.7544e+00,\n",
            "         -5.2548e+00,  5.2068e-01,  5.6466e-01,  1.5033e-01],\n",
            "        [ 6.8180e-01, -4.6204e+00, -2.3687e-01, -2.1071e+00,  2.7675e-01,\n",
            "         -3.8776e-01,  6.4247e-01,  9.0807e-02,  8.3611e-01, -1.9266e-01,\n",
            "          3.4842e+00, -4.5913e-02,  8.7371e-01,  1.9423e+00, -1.6431e+00,\n",
            "         -4.7374e+00,  4.2958e-01,  4.9892e-01,  4.3058e-01],\n",
            "        [ 6.1999e-01, -4.7035e+00, -3.4570e-01, -2.7171e+00,  1.8250e-01,\n",
            "         -3.5268e-01,  4.9299e-01,  1.5586e-01,  1.0962e+00,  2.8450e-01,\n",
            "          3.4597e+00, -4.4041e-01, -3.9129e-01,  1.5861e+00, -1.9156e+00,\n",
            "         -4.6414e+00,  5.0669e-01,  4.7925e-01,  2.9113e-01],\n",
            "        [ 6.0809e-01, -4.6662e+00, -2.5733e-01, -2.8707e+00,  3.3832e-01,\n",
            "         -2.5218e-01,  4.4568e-01,  1.0824e-01,  4.7221e-01, -2.7181e-01,\n",
            "          3.2125e+00, -4.9039e-01,  2.7531e-01,  2.4418e+00, -1.4710e+00,\n",
            "         -4.4974e+00,  4.8582e-01,  5.6383e-01,  2.3123e-02]],\n",
            "       dtype=torch.float64, requires_grad=True)\n",
            "tensor([[ 0.7213, -4.8524, -0.2227, -3.6939,  0.5723, -0.3593,  0.6649,  0.2757,\n",
            "         -0.1343,  0.1113,  3.2410,  0.3549, -1.1372,  2.7740, -1.8633, -2.8296,\n",
            "          0.5449,  0.5114,  0.0961],\n",
            "        [ 0.7356, -5.0091, -0.2703, -2.9621,  0.4337, -0.4981,  0.7148,  0.2982,\n",
            "         -0.5252, -0.2659,  3.1505,  0.5018, -1.0937,  3.5287, -1.8852, -2.8776,\n",
            "          0.3939,  0.4469, -0.1098],\n",
            "        [ 0.6537, -4.9606, -0.2041, -3.8265,  0.1623, -0.1120,  0.6259,  0.2048,\n",
            "         -0.3845,  0.2543,  3.6391,  0.2786, -0.8821,  3.4213, -1.5930, -2.8377,\n",
            "          0.5155,  0.5547, -0.0396],\n",
            "        [ 0.5500, -4.7428, -0.2401, -2.6845,  0.4352, -0.7182,  0.6364,  0.1598,\n",
            "         -0.8606, -0.1561,  3.5616,  0.5989, -0.9501,  2.6633, -0.9353, -2.9785,\n",
            "          0.3995,  0.5717, -0.0526],\n",
            "        [ 0.6131, -4.7256, -0.2063, -4.2464,  0.2049, -0.2780,  0.5516,  0.2469,\n",
            "         -0.2031, -0.4583,  3.8355, -0.1156,  0.1694,  2.4259, -1.6690, -2.6806,\n",
            "          0.4790,  0.5438,  0.2208],\n",
            "        [ 0.5296, -4.9982, -0.2324, -3.2490,  0.2570, -0.4661,  0.6376,  0.2523,\n",
            "         -0.1877, -0.4191,  3.6191,  0.0089, -0.4977,  3.2047, -1.0683, -3.2960,\n",
            "          0.5883,  0.5719,  0.1666],\n",
            "        [ 0.6220, -4.7310, -0.2597, -3.7649,  0.4053, -0.3634,  0.5408,  0.2923,\n",
            "         -0.8776, -0.0263,  3.7269,  0.2070, -1.0703,  3.3981, -2.0491, -3.2229,\n",
            "          0.4839,  0.5456, -0.0466],\n",
            "        [ 0.6091, -4.9097, -0.1922, -4.6009,  0.1451,  0.1779,  0.5367,  0.1985,\n",
            "         -0.0287, -0.2915,  3.9013,  0.2344, -0.4692,  3.3606, -2.0527, -2.8162,\n",
            "          0.6069,  0.5252,  0.2932],\n",
            "        [ 0.6688, -4.7047, -0.2423, -2.7157,  0.3545, -0.3522,  0.6479,  0.3385,\n",
            "         -0.7000,  0.1152,  3.5151,  0.5544, -0.3789,  2.8172, -1.6351, -2.8294,\n",
            "          0.5455,  0.5724,  0.3774],\n",
            "        [ 0.5186, -4.7152, -0.1938, -3.7134,  0.3068, -0.1551,  0.6668,  0.1021,\n",
            "         -0.0518, -0.1900,  4.0184,  0.2869, -0.6803,  3.2745, -1.8335, -3.3996,\n",
            "          0.5724,  0.4905,  0.3579],\n",
            "        [ 0.5648, -4.7004, -0.2612, -3.6182,  0.3048, -0.0855,  0.5203,  0.2223,\n",
            "         -0.5413,  0.0166,  3.9415,  0.0452, -1.0234,  2.9324, -2.2726, -3.6055,\n",
            "          0.4570,  0.5571,  0.3685],\n",
            "        [ 0.5711, -4.9504, -0.2179, -3.1089,  0.1628, -0.1566,  0.5318,  0.1385,\n",
            "         -0.5437, -0.2558,  3.7357, -0.1468, -0.0426,  2.8658, -1.5045, -3.8701,\n",
            "          0.5583,  0.4990,  0.2482],\n",
            "        [ 0.6122, -4.6945, -0.1629, -3.1717,  0.3490, -0.3718,  0.5776,  0.1154,\n",
            "         -0.7403,  0.1170,  3.9607,  0.9174, -0.4423,  3.5447, -1.5669, -2.7899,\n",
            "          0.4642,  0.5395,  0.4309],\n",
            "        [ 0.5310, -4.7716, -0.2487, -3.0889,  0.2951, -0.2167,  0.5858,  0.0957,\n",
            "         -0.3104, -0.2450,  3.6731,  0.1682,  0.4727,  3.0511, -0.9945, -2.9527,\n",
            "          0.4946,  0.5251,  0.2474],\n",
            "        [ 0.5610, -4.6966, -0.1773, -3.2520,  0.3033, -0.9674,  0.6902,  0.1623,\n",
            "         -0.0556, -0.5108,  4.0340,  0.4117,  0.0280,  2.3164, -2.2365, -2.9779,\n",
            "          0.5220,  0.4849,  0.1406],\n",
            "        [ 0.4890, -4.9589, -0.2189, -3.4838,  0.2846, -0.1784,  0.6648,  0.0565,\n",
            "          0.5139, -0.1221,  3.8405,  0.3630, -0.3089,  3.3135, -1.7699, -3.2962,\n",
            "          0.5567,  0.6108,  0.2521],\n",
            "        [ 0.6478, -4.5105, -0.2197, -3.4061,  0.0656, -0.1815,  0.6642,  0.2329,\n",
            "          0.0536, -0.0167,  3.9306,  0.6472, -0.2151,  3.4743, -0.8385, -2.9609,\n",
            "          0.4225,  0.5589,  0.2446]], dtype=torch.float64, requires_grad=True)\n",
            "tensor([[ 0.6558, -4.7556, -0.3156, -2.3737,  0.4613,  0.4541,  0.5045,  0.3732,\n",
            "         -0.4873, -0.4455,  3.6722,  0.8264, -0.1701,  1.9670, -1.2395, -3.9909,\n",
            "          0.4576,  0.4707,  0.6062],\n",
            "        [ 0.5198, -4.6782, -0.1903, -2.2104,  0.3444, -0.2160,  0.5731,  0.1742,\n",
            "          0.2512,  0.0199,  4.0498,  0.5267, -0.9083,  2.1965, -0.8775, -3.1422,\n",
            "          0.4933,  0.3925,  0.5144],\n",
            "        [ 0.5588, -4.5714, -0.2327, -1.8296,  0.4665, -0.2489,  0.6066,  0.1848,\n",
            "         -0.1275,  0.0858,  3.0447,  0.5024, -0.5076,  2.6377, -1.7098, -3.3060,\n",
            "          0.4508,  0.3752,  0.3128],\n",
            "        [ 0.5470, -4.8497, -0.2480, -2.0229,  0.3770, -0.5240,  0.4498,  0.2106,\n",
            "          0.5200,  0.1544,  3.7502,  0.1260, -0.6376,  3.8956, -1.3916, -2.7769,\n",
            "          0.3684,  0.3560,  0.4164],\n",
            "        [ 0.5920, -4.9758, -0.1515, -1.9589,  0.3957, -0.4799,  0.5128,  0.1951,\n",
            "          0.8636, -0.1274,  4.2635,  0.3520, -0.5396,  2.7359, -1.6294, -3.5542,\n",
            "          0.4996,  0.4637,  0.4693],\n",
            "        [ 0.6740, -4.5799, -0.2136, -2.2527,  0.1771, -0.7098,  0.5549,  0.3483,\n",
            "          0.1623, -0.0602,  3.7255,  0.6750, -0.5001,  2.8625, -1.8919, -2.8671,\n",
            "          0.4802,  0.4140,  0.5981],\n",
            "        [ 0.5311, -4.7551, -0.2582, -2.2358,  0.3067, -0.3498,  0.5370,  0.2184,\n",
            "         -0.4831,  0.0910,  3.6025,  0.3735, -0.1696,  2.9623, -1.7187, -3.7323,\n",
            "          0.5933,  0.4985,  0.5432],\n",
            "        [ 0.6896, -4.6088, -0.2267, -2.6558,  0.2108, -0.4255,  0.4433,  0.3528,\n",
            "         -0.3000, -0.1770,  3.9889,  0.7303,  0.1397,  1.9507, -2.1422, -3.1309,\n",
            "          0.5300,  0.4085,  0.6169],\n",
            "        [ 0.5204, -4.5833, -0.2555, -1.9810,  0.3144, -0.3358,  0.5042,  0.2673,\n",
            "         -0.4094, -0.3713,  3.6361,  0.3960, -0.6096,  2.6782, -1.8017, -3.2416,\n",
            "          0.4678,  0.4075,  0.6387],\n",
            "        [ 0.5473, -4.4758, -0.2459, -1.7903,  0.3443, -0.6955,  0.4670,  0.2889,\n",
            "         -0.6343, -0.4843,  3.7668, -0.0252,  0.0087,  2.8751, -2.0246, -4.2000,\n",
            "          0.6072,  0.3593,  0.6013],\n",
            "        [ 0.5420, -4.7445, -0.2147, -2.0938,  0.3902, -0.4911,  0.5680,  0.1487,\n",
            "         -0.5226,  0.1228,  3.8339,  0.2267, -0.6800,  2.1878, -1.6273, -3.6795,\n",
            "          0.5845,  0.4947,  0.6127],\n",
            "        [ 0.4869, -4.6893, -0.2644, -1.2892,  0.3500, -0.7225,  0.4934,  0.2974,\n",
            "          0.1986, -0.0094,  3.2488,  0.6905, -0.4565,  2.4347, -2.2804, -4.2861,\n",
            "          0.5696,  0.3626,  0.4873],\n",
            "        [ 0.6129, -4.5607, -0.2221, -1.7182,  0.1627, -0.2976,  0.4385,  0.1485,\n",
            "          0.4371, -0.1177,  4.0035,  0.6172, -0.4369,  3.1925, -1.7822, -3.3513,\n",
            "          0.4569,  0.4374,  0.5822],\n",
            "        [ 0.5525, -4.8265, -0.2703, -1.8291,  0.0550, -0.7373,  0.5536,  0.2056,\n",
            "          0.1318,  0.2324,  3.4612,  0.2081, -0.7239,  2.7620, -1.5136, -3.6282,\n",
            "          0.6688,  0.4548,  0.3260],\n",
            "        [ 0.5906, -5.1439, -0.3021, -2.3572,  0.1625, -0.2696,  0.4599,  0.1760,\n",
            "          0.0915, -0.4225,  4.0077,  0.7417, -0.5917,  2.8343, -0.8979, -3.1314,\n",
            "          0.5824,  0.3968,  0.4405],\n",
            "        [ 0.5689, -4.7409, -0.2627, -1.8397,  0.4253, -0.1614,  0.3342,  0.1818,\n",
            "          0.4901,  0.2242,  4.2464,  0.1094, -0.1807,  3.2245, -1.7818, -3.9503,\n",
            "          0.5165,  0.5173,  0.4783],\n",
            "        [ 0.6287, -4.8063, -0.2430, -1.8329,  0.3565, -0.4999,  0.5030,  0.2430,\n",
            "         -0.3263, -0.2108,  4.0557,  0.6128,  0.0248,  2.8670, -2.1107, -3.6598,\n",
            "          0.5579,  0.3686,  0.6187]], dtype=torch.float64, requires_grad=True)\n",
            "tensor([[ 0.6044, -4.4546, -0.2556, -2.3141,  0.2207,  0.8495,  0.4585,  0.1230,\n",
            "         -0.4795, -0.8621,  3.0096,  0.3930,  1.2125,  2.7027, -1.4879, -3.1262,\n",
            "          0.3683,  0.5806,  0.2461],\n",
            "        [ 0.7042, -4.6073, -0.2862, -1.8225, -0.0573,  1.2695,  0.5875,  0.3223,\n",
            "          0.3587, -0.3054,  3.2077,  0.1192,  1.4894,  2.6636, -0.7473, -3.4374,\n",
            "          0.4330,  0.5218,  0.4829],\n",
            "        [ 0.6701, -4.9455, -0.1949, -1.6866,  0.2809,  0.4090,  0.5527,  0.2002,\n",
            "         -0.5790, -0.6618,  3.8687, -0.2611,  1.5122,  2.8020, -1.3886, -3.7668,\n",
            "          0.3019,  0.5592,  0.1951],\n",
            "        [ 0.7101, -4.5792, -0.2778, -2.3924,  0.0652,  0.7790,  0.4146,  0.4315,\n",
            "          0.0775, -0.9023,  3.7195,  0.3746,  0.8050,  1.9223, -1.8735, -3.9578,\n",
            "          0.3503,  0.6400,  0.2374],\n",
            "        [ 0.5306, -4.7819, -0.2463, -2.3766,  0.3226, -0.6531,  0.5381,  0.2074,\n",
            "          0.9365, -0.3901,  3.2111,  0.3042,  1.3234,  1.8843, -1.8265, -3.9388,\n",
            "          0.4757,  0.5898,  0.2189],\n",
            "        [ 0.6977, -4.7111, -0.2820, -3.2276,  0.1608, -0.1086,  0.4944,  0.2389,\n",
            "          0.3748, -0.2292,  4.0171, -0.1429,  0.4150,  2.8064, -0.7919, -4.0129,\n",
            "          0.5260,  0.7234,  0.5788],\n",
            "        [ 0.5804, -4.6940, -0.2386, -1.4871,  0.3132,  0.3133,  0.5131,  0.2603,\n",
            "         -0.0981, -0.4367,  3.5419,  0.0237,  0.4088,  2.3994, -0.9103, -3.4151,\n",
            "          0.5462,  0.6010,  0.6052],\n",
            "        [ 0.5473, -4.6795, -0.2690, -2.0373,  0.4224,  0.5104,  0.4027,  0.2370,\n",
            "         -0.0861, -0.5864,  3.7350,  0.1921,  0.6182,  1.8794, -1.1556, -3.9958,\n",
            "          0.4315,  0.6312,  0.4225],\n",
            "        [ 0.6662, -4.4889, -0.2621, -2.6829,  0.3356, -0.0806,  0.5072,  0.3962,\n",
            "          0.5695, -0.9717,  3.9688, -0.1349,  1.3144,  2.8494, -1.1407, -4.2140,\n",
            "          0.4791,  0.5935,  0.6383],\n",
            "        [ 0.5613, -4.7928, -0.2382, -3.0818,  0.1198, -0.3150,  0.5130,  0.2684,\n",
            "          0.6898, -0.6787,  3.5842,  0.3380,  1.1335,  2.9341, -1.5812, -3.3852,\n",
            "          0.4691,  0.4997,  0.4726],\n",
            "        [ 0.5703, -4.4699, -0.2939, -1.9128,  0.1909,  0.1488,  0.4314,  0.3527,\n",
            "         -0.0139, -0.5913,  3.4767,  0.0210,  1.1834,  2.1776, -1.4231, -4.1625,\n",
            "          0.3810,  0.5670,  0.5964],\n",
            "        [ 0.6064, -4.4101, -0.2341, -2.0109,  0.3857,  0.1321,  0.5493,  0.3055,\n",
            "          0.6303, -0.5433,  3.9727, -0.1359,  0.9419,  2.6292, -1.8867, -3.8055,\n",
            "          0.4655,  0.6177,  0.3215],\n",
            "        [ 0.5429, -4.6512, -0.2067, -2.3700,  0.1114, -0.1825,  0.4500,  0.1597,\n",
            "          0.4773, -1.2184,  3.4824,  0.6416,  1.0628,  2.1867, -1.3977, -3.7451,\n",
            "          0.3395,  0.7042,  0.4435],\n",
            "        [ 0.6958, -4.4869, -0.2318, -2.5758,  0.1537,  0.4624,  0.4656,  0.2958,\n",
            "          0.5113, -0.8831,  3.4662, -0.3348,  1.0300,  2.7238, -0.7227, -3.3306,\n",
            "          0.2969,  0.6490,  0.4188],\n",
            "        [ 0.5978, -4.7586, -0.2287, -2.2355,  0.4534,  0.1799,  0.4693,  0.1850,\n",
            "          0.2628, -0.5504,  3.3516, -0.1537,  1.1756,  2.2984, -1.5105, -2.8894,\n",
            "          0.4293,  0.5051,  0.5267],\n",
            "        [ 0.5847, -4.5679, -0.2186, -2.2256,  0.2318, -0.0377,  0.5358,  0.1639,\n",
            "          0.8470, -0.6268,  3.6216, -0.0449,  1.3566,  1.6731, -1.4633, -3.3358,\n",
            "          0.3623,  0.6481,  0.3308],\n",
            "        [ 0.6249, -4.6261, -0.3112, -2.3775,  0.4239,  0.3444,  0.5164,  0.2404,\n",
            "          0.4740, -0.3991,  3.3380, -0.1341,  0.9174,  2.2273, -1.9949, -3.7298,\n",
            "          0.4202,  0.5697,  0.2602]], dtype=torch.float64, requires_grad=True)\n",
            "tensor([[ 6.5661e-01, -4.4712e+00, -2.9714e-01, -1.8662e+00,  2.1905e-01,\n",
            "          1.2057e-01,  5.4373e-01,  5.2178e-01, -1.2950e-01, -2.6742e-01,\n",
            "          2.9690e+00,  5.9897e-01, -7.9443e-01,  3.2155e+00, -1.2264e+00,\n",
            "         -2.0956e+00,  4.1329e-01,  6.4294e-01,  5.0543e-01],\n",
            "        [ 6.6411e-01, -4.7306e+00, -1.9532e-01, -2.2680e+00,  3.4561e-01,\n",
            "          7.9154e-01,  3.4205e-01,  2.9034e-01,  1.5362e-01,  5.4685e-02,\n",
            "          3.9577e+00,  5.8885e-01, -9.2081e-01,  2.8364e+00, -1.9208e+00,\n",
            "         -1.9312e+00,  5.7230e-01,  5.9816e-01,  4.8250e-01],\n",
            "        [ 6.7518e-01, -4.5285e+00, -2.0519e-01, -2.8095e+00,  5.0420e-01,\n",
            "         -2.3543e-01,  4.0441e-01,  3.7057e-01, -3.4832e-01,  3.1137e-01,\n",
            "          3.4202e+00,  3.2409e-01, -4.1134e-01,  3.4353e+00, -2.2825e+00,\n",
            "         -3.5947e+00,  5.5793e-01,  5.8593e-01,  3.5880e-01],\n",
            "        [ 5.3655e-01, -4.3570e+00, -2.1490e-01, -2.3115e+00,  3.4408e-01,\n",
            "          8.2010e-04,  4.4515e-01,  4.4207e-01,  2.4249e-01, -4.0854e-02,\n",
            "          4.0588e+00,  5.9275e-01, -6.5024e-01,  3.0810e+00, -2.0449e+00,\n",
            "         -2.6299e+00,  3.7244e-01,  6.3034e-01,  4.9775e-01],\n",
            "        [ 5.8903e-01, -4.3429e+00, -2.3138e-01, -2.1087e+00,  1.1705e-01,\n",
            "         -6.2932e-02,  4.4469e-01,  3.7004e-01, -3.2590e-01, -1.5402e-01,\n",
            "          4.1325e+00,  8.1612e-01, -5.1923e-02,  2.8392e+00, -2.1107e+00,\n",
            "         -2.1957e+00,  4.9908e-01,  6.7976e-01,  6.0248e-01],\n",
            "        [ 6.4135e-01, -4.4524e+00, -2.4634e-01, -1.9867e+00,  2.9775e-01,\n",
            "         -7.6336e-02,  2.9428e-01,  3.5527e-01,  4.0942e-01, -3.8053e-01,\n",
            "          3.9044e+00, -7.9487e-02,  7.7801e-01,  2.7842e+00, -2.1638e+00,\n",
            "         -2.6128e+00,  4.8420e-01,  6.4264e-01,  3.3694e-01],\n",
            "        [ 7.4605e-01, -4.3652e+00, -2.1482e-01, -1.9132e+00, -2.9239e-02,\n",
            "          8.1193e-02,  3.3933e-01,  4.3000e-01,  9.0308e-02, -5.6230e-02,\n",
            "          3.6440e+00,  7.7676e-01,  2.7701e-02,  3.3907e+00, -2.0005e+00,\n",
            "         -2.5819e+00,  4.7146e-01,  6.6388e-01,  5.7757e-01],\n",
            "        [ 6.8425e-01, -4.4017e+00, -2.3322e-01, -2.1286e+00,  1.9656e-01,\n",
            "         -7.8973e-02,  4.7515e-01,  3.4234e-01,  6.3658e-01, -2.6210e-01,\n",
            "          4.0172e+00,  7.0262e-04,  4.3911e-02,  2.4866e+00, -2.0407e+00,\n",
            "         -2.6995e+00,  5.3808e-01,  7.2914e-01,  6.8207e-01],\n",
            "        [ 6.7134e-01, -4.3646e+00, -2.4936e-01, -2.3093e+00, -1.0449e-01,\n",
            "          5.2426e-01,  4.0555e-01,  3.2442e-01,  4.7157e-01, -1.2164e-01,\n",
            "          4.0111e+00,  3.8326e-01, -2.9621e-03,  2.8410e+00, -2.0870e+00,\n",
            "         -3.0832e+00,  5.3205e-01,  6.9082e-01,  6.1198e-01],\n",
            "        [ 5.7973e-01, -4.3418e+00, -2.0688e-01, -2.5288e+00,  8.5730e-02,\n",
            "          1.4136e-02,  3.3652e-01,  3.0482e-01,  7.7943e-01, -9.0495e-02,\n",
            "          4.0285e+00,  5.2367e-01,  1.1372e-01,  3.2886e+00, -1.9590e+00,\n",
            "         -3.1898e+00,  3.9337e-01,  6.0879e-01,  6.4011e-01],\n",
            "        [ 6.7550e-01, -4.2783e+00, -2.7043e-01, -1.9218e+00, -1.8255e-01,\n",
            "         -2.1771e-02,  3.6010e-01,  3.0331e-01,  1.6948e-01, -5.1841e-01,\n",
            "          3.9278e+00,  1.2823e+00, -5.2113e-01,  2.9924e+00, -1.4776e+00,\n",
            "         -2.7337e+00,  4.7296e-01,  6.4758e-01,  4.4047e-01],\n",
            "        [ 5.6477e-01, -4.5195e+00, -2.9245e-01, -2.4869e+00, -6.1641e-02,\n",
            "          3.2386e-01,  3.5552e-01,  3.8760e-01,  7.4579e-01, -4.9531e-01,\n",
            "          3.8130e+00,  4.4637e-01, -4.9125e-03,  2.6168e+00, -2.1959e+00,\n",
            "         -2.6792e+00,  4.2059e-01,  7.0302e-01,  4.9930e-01],\n",
            "        [ 6.0796e-01, -4.3135e+00, -2.5193e-01, -1.6028e+00,  2.2734e-01,\n",
            "         -3.5116e-01,  3.8092e-01,  1.4950e-01,  1.8618e-01, -6.7475e-01,\n",
            "          4.0846e+00,  6.5740e-01, -1.4845e-01,  2.6157e+00, -1.9761e+00,\n",
            "         -2.4053e+00,  3.7566e-01,  6.6522e-01,  6.2367e-01],\n",
            "        [ 5.8423e-01, -4.4408e+00, -1.4970e-01, -2.4264e+00,  8.5268e-02,\n",
            "         -1.1391e-01,  5.0508e-01,  2.6254e-01, -2.1740e-01,  1.6381e-01,\n",
            "          3.7595e+00,  7.7530e-01, -3.7590e-01,  3.3686e+00, -2.2010e+00,\n",
            "         -3.3104e+00,  3.7974e-01,  6.9356e-01,  5.5069e-01],\n",
            "        [ 6.3941e-01, -4.1686e+00, -2.4962e-01, -2.0867e+00,  2.9985e-01,\n",
            "         -2.0000e-01,  3.9433e-01,  3.2254e-01,  3.3639e-01, -2.0120e-01,\n",
            "          3.8420e+00,  8.3837e-01, -3.1415e-01,  3.5166e+00, -2.4561e+00,\n",
            "         -3.0389e+00,  4.7451e-01,  7.3970e-01,  5.7101e-01],\n",
            "        [ 5.1927e-01, -4.5185e+00, -2.8535e-01, -2.4404e+00,  8.5659e-02,\n",
            "          1.4605e-01,  5.1688e-01,  1.5993e-01,  7.7219e-01,  2.4465e-02,\n",
            "          4.0490e+00,  6.9555e-01,  3.4892e-01,  2.5101e+00, -1.4364e+00,\n",
            "         -3.0198e+00,  4.3939e-01,  6.9838e-01,  4.5895e-01],\n",
            "        [ 5.0885e-01, -4.5602e+00, -2.6869e-01, -2.2218e+00,  1.9476e-01,\n",
            "          8.4596e-02,  4.7511e-01,  3.9313e-01, -3.3216e-02, -2.1845e-01,\n",
            "          4.0757e+00,  1.1038e+00, -8.4432e-01,  3.0115e+00, -2.4961e+00,\n",
            "         -2.7319e+00,  4.7973e-01,  5.9805e-01,  6.1225e-01]],\n",
            "       dtype=torch.float64, requires_grad=True)\n",
            "tensor([[ 0.5788, -4.5917, -0.2011, -3.7201,  0.1796,  1.0825,  0.5670,  0.2092,\n",
            "         -0.1947, -0.1277,  3.8939,  0.2856, -0.6882,  3.2226, -0.8772, -4.2878,\n",
            "          0.5214,  0.5603,  0.2752],\n",
            "        [ 0.4722, -4.9912, -0.2031, -3.3748,  0.2029,  0.2769,  0.5371,  0.1652,\n",
            "         -0.5847, -0.1073,  3.9805, -0.2806, -0.4243,  3.1174, -0.8897, -4.0653,\n",
            "          0.4350,  0.6270, -0.0501],\n",
            "        [ 0.5956, -4.7015, -0.2428, -2.9941,  0.4947,  0.1964,  0.6278,  0.0503,\n",
            "          0.2928, -0.1512,  3.9515, -0.1355, -0.1140,  2.6364, -1.2171, -4.1388,\n",
            "          0.3515,  0.5120,  0.1369],\n",
            "        [ 0.5339, -4.5922, -0.2682, -2.0588,  0.4005,  0.1825,  0.6265,  0.1096,\n",
            "         -0.0384,  0.3719,  3.9537,  0.1046, -1.2747,  2.7947, -1.7023, -3.5940,\n",
            "          0.3858,  0.5284,  0.3312],\n",
            "        [ 0.5351, -4.7952, -0.2611, -2.6453,  0.3221,  0.7860,  0.5986,  0.1549,\n",
            "         -0.0110, -0.1530,  3.9653,  0.7819, -0.5444,  3.0641, -0.1597, -3.2362,\n",
            "          0.4329,  0.6228,  0.2441],\n",
            "        [ 0.5974, -5.0277, -0.2363, -2.5512,  0.5112,  0.8442,  0.6303,  0.1153,\n",
            "         -0.5892, -0.0240,  4.1041,  0.2818, -0.1979,  3.0422, -1.1984, -3.4984,\n",
            "          0.4000,  0.6641, -0.0105],\n",
            "        [ 0.5057, -4.8562, -0.2716, -2.2293,  0.3529,  0.3420,  0.5289,  0.0969,\n",
            "         -0.1267,  0.1226,  3.7524,  0.4770, -0.2037,  2.7091, -0.8008, -3.4835,\n",
            "          0.3270,  0.5779,  0.2638],\n",
            "        [ 0.5088, -4.9028, -0.1325, -2.1044,  0.4188,  0.1260,  0.5518,  0.1274,\n",
            "         -0.4010, -0.0490,  3.7145,  0.7407,  0.6350,  3.5942, -1.0985, -3.4776,\n",
            "          0.3331,  0.6150,  0.2363],\n",
            "        [ 0.5255, -5.0249, -0.2320, -1.8098,  0.4694, -0.1841,  0.4593,  0.1904,\n",
            "          0.1705,  0.2241,  3.7812,  0.6229, -0.6047,  2.9410, -1.0620, -3.5694,\n",
            "          0.3565,  0.5081,  0.2306],\n",
            "        [ 0.5465, -4.5748, -0.2940, -3.0722,  0.2931,  0.3151,  0.4955,  0.1951,\n",
            "         -0.2743,  0.2547,  4.3284,  0.5763,  0.0505,  2.6357, -1.4606, -3.9118,\n",
            "          0.3878,  0.5049,  0.3713],\n",
            "        [ 0.4843, -4.5860, -0.1882, -2.6894,  0.4682,  0.7154,  0.7011,  0.0653,\n",
            "          0.4170,  0.0261,  4.0693,  0.8938, -0.0880,  3.0123, -1.1864, -4.0391,\n",
            "          0.4580,  0.5775,  0.1799],\n",
            "        [ 0.5129, -4.9480, -0.2303, -3.1883,  0.3269,  0.6483,  0.5187,  0.1986,\n",
            "         -0.4704,  0.0437,  4.2958,  0.6375, -0.3119,  2.5434, -1.4148, -3.3856,\n",
            "          0.3410,  0.5000,  0.3992],\n",
            "        [ 0.5462, -4.6184, -0.2358, -3.7811,  0.3533,  0.1228,  0.6475,  0.1448,\n",
            "         -0.0080, -0.1252,  3.5473,  0.1505,  0.3519,  2.8664, -1.3221, -3.2217,\n",
            "          0.3441,  0.4495,  0.2977],\n",
            "        [ 0.5355, -4.5999, -0.2285, -2.0986,  0.3707, -0.0721,  0.6170,  0.0820,\n",
            "          0.2120, -0.0883,  3.3763,  0.6911, -1.0441,  3.4249, -0.8796, -3.9192,\n",
            "          0.4360,  0.5281,  0.4584],\n",
            "        [ 0.4494, -4.6493, -0.2440, -2.2854,  0.3376,  0.2614,  0.5697,  0.0358,\n",
            "          0.2335,  0.1607,  3.8450,  0.0837, -0.1350,  2.9513, -1.5663, -3.8008,\n",
            "          0.4018,  0.5227,  0.3590],\n",
            "        [ 0.5007, -4.6428, -0.2263, -2.5142,  0.1691, -0.0114,  0.5457,  0.1848,\n",
            "          0.0748, -0.1709,  3.8312,  0.4798, -0.4480,  2.8378, -1.0758, -3.3713,\n",
            "          0.3095,  0.5796,  0.3653],\n",
            "        [ 0.4623, -4.8404, -0.2129, -2.7921,  0.3277, -0.3814,  0.5097,  0.1479,\n",
            "          0.8879,  0.0785,  4.0737,  1.0722, -0.9893,  3.7528, -2.0731, -4.1221,\n",
            "          0.4755,  0.5087,  0.3873]], dtype=torch.float64, requires_grad=True)\n",
            "tensor([[ 0.7049, -5.2757, -0.2527, -2.9065,  0.2104,  0.1658,  0.6447,  0.3739,\n",
            "          0.7422,  0.1724,  3.3108,  0.5751,  0.4329,  1.9795, -1.7114, -3.2405,\n",
            "          0.5183,  0.6453,  0.3300],\n",
            "        [ 0.6573, -4.9021, -0.2313, -3.4820,  0.1146,  0.6827,  0.6172,  0.2300,\n",
            "          0.0924, -0.1946,  3.2135,  0.5600,  0.3067,  1.8116, -2.1392, -3.3093,\n",
            "          0.3773,  0.6230,  0.4535],\n",
            "        [ 0.6591, -5.2297, -0.2586, -2.7197,  0.5317, -0.8269,  0.6251,  0.3150,\n",
            "          0.3365, -0.3928,  3.4661,  0.2826, -0.6123,  0.7627, -2.0567, -3.0749,\n",
            "          0.6246,  0.7510,  0.3124],\n",
            "        [ 0.6592, -5.2433, -0.2324, -3.1339,  0.4643, -0.2385,  0.5799,  0.4343,\n",
            "          0.5804, -0.5362,  3.9208,  0.9951, -0.3022,  1.6649, -1.2744, -3.6137,\n",
            "          0.4322,  0.7351,  0.2624],\n",
            "        [ 0.7502, -5.2275, -0.2197, -2.6856,  0.3554, -0.9544,  0.4996,  0.4047,\n",
            "          0.5309, -0.4707,  3.3356,  0.8368,  0.1808,  1.2078, -2.0546, -4.1172,\n",
            "          0.5455,  0.6036,  0.2532],\n",
            "        [ 0.6334, -5.1029, -0.2066, -3.5438,  0.2168, -0.5081,  0.5505,  0.3771,\n",
            "          0.9838, -0.7433,  3.7679,  0.4915,  0.9123,  0.8012, -2.4757, -3.2715,\n",
            "          0.5603,  0.7477,  0.2251],\n",
            "        [ 0.6833, -5.1201, -0.2465, -2.5626,  0.2064, -0.4547,  0.5802,  0.3703,\n",
            "         -0.2803, -0.1205,  3.3417,  0.4644,  0.7799,  0.4707, -2.0202, -3.0353,\n",
            "          0.4187,  0.5452,  0.2739],\n",
            "        [ 0.6704, -5.2746, -0.1994, -2.8323,  0.3544,  0.4930,  0.4976,  0.3444,\n",
            "          1.2701, -0.8465,  3.3140,  0.6199,  0.1901,  1.4049, -1.5477, -3.3165,\n",
            "          0.4634,  0.6953,  0.3027],\n",
            "        [ 0.6181, -5.2723, -0.2428, -3.3644,  0.3844,  0.0565,  0.5604,  0.3389,\n",
            "          0.7343, -0.5863,  3.5725,  0.7885, -0.1648,  1.3902, -2.0269, -3.6858,\n",
            "          0.6048,  0.5381,  0.1465],\n",
            "        [ 0.6314, -5.0787, -0.2452, -2.4329,  0.1907, -0.0363,  0.4195,  0.3083,\n",
            "          0.9895, -0.6232,  3.1650,  0.4673,  0.3697,  1.6161, -2.0772, -3.0938,\n",
            "          0.5200,  0.6864,  0.3164],\n",
            "        [ 0.7398, -4.9628, -0.1683, -2.9845,  0.2575, -0.3812,  0.5514,  0.3645,\n",
            "          0.9279, -0.2106,  3.6899,  0.8453,  0.0705,  1.1671, -2.1303, -3.7294,\n",
            "          0.5793,  0.6317,  0.2556],\n",
            "        [ 0.6142, -5.4088, -0.2864, -3.2863,  0.5485, -0.0903,  0.5500,  0.2843,\n",
            "          0.7905, -0.5638,  3.4910,  0.0298, -0.2875,  1.2516, -2.2905, -4.0451,\n",
            "          0.6447,  0.6409,  0.2888],\n",
            "        [ 0.7371, -5.3095, -0.2423, -2.3801,  0.3127, -0.3355,  0.5444,  0.1828,\n",
            "          0.6648,  0.0729,  3.2804,  0.6004,  0.7926,  1.5155, -2.0625, -3.3904,\n",
            "          0.4664,  0.7295,  0.3653],\n",
            "        [ 0.6676, -5.0016, -0.2753, -2.6468,  0.2598, -0.9109,  0.5513,  0.3283,\n",
            "          0.9510, -0.9274,  3.9640,  0.8045,  0.4303,  1.6264, -2.0150, -3.5867,\n",
            "          0.5508,  0.6289,  0.3694],\n",
            "        [ 0.4820, -5.1364, -0.2761, -2.7834,  0.2264, -0.4518,  0.4965,  0.2381,\n",
            "          0.8069, -0.3916,  3.7541,  0.8335, -0.2071,  1.8147, -1.6677, -3.6239,\n",
            "          0.5310,  0.5852,  0.3336],\n",
            "        [ 0.5992, -4.9612, -0.1972, -3.0104,  0.3224, -0.5661,  0.5479,  0.2024,\n",
            "          0.9583,  0.0974,  3.0310,  0.6376,  0.3711,  1.2319, -1.5332, -3.4615,\n",
            "          0.5251,  0.6454,  0.2810],\n",
            "        [ 0.5217, -5.0862, -0.3006, -3.2535,  0.2824, -0.6341,  0.4951,  0.2345,\n",
            "          1.2448, -0.1177,  3.7038, -0.2147, -0.3091,  1.1999, -2.1618, -3.1718,\n",
            "          0.5504,  0.5823,  0.4823]], dtype=torch.float64, requires_grad=True)\n",
            "tensor([[ 0.6955, -4.4125, -0.2049, -3.4895,  0.1622,  0.3442,  0.4876,  0.3772,\n",
            "          0.9521,  0.1619,  3.5714,  0.5692,  0.3345,  2.7775, -1.3517, -3.4489,\n",
            "          0.5861,  0.5456,  0.2828],\n",
            "        [ 0.6676, -4.8147, -0.2413, -2.8113,  0.2928,  0.0782,  0.6093,  0.3994,\n",
            "         -0.4408, -0.2038,  3.6812,  0.4886,  0.1986,  2.4632, -1.4117, -3.6049,\n",
            "          0.5775,  0.6527,  0.2255],\n",
            "        [ 0.5690, -4.6652, -0.2647, -2.9103,  0.2676, -0.0308,  0.5745,  0.1854,\n",
            "         -0.7442,  0.0318,  3.2941,  0.4869,  0.0451,  2.8428, -1.5227, -4.1467,\n",
            "          0.4536,  0.6677,  0.1583],\n",
            "        [ 0.6628, -4.4891, -0.2810, -2.7159,  0.5004,  0.0521,  0.5327,  0.1413,\n",
            "         -0.1239,  0.1133,  2.9793,  0.3681,  0.0691,  2.8033, -0.8229, -4.6233,\n",
            "          0.7184,  0.6627,  0.3594],\n",
            "        [ 0.5424, -4.2992, -0.2442, -2.4966,  0.2979,  0.2145,  0.4642,  0.3151,\n",
            "         -0.4594,  0.0538,  3.6381, -0.1603, -0.4005,  2.7607, -1.4315, -3.9789,\n",
            "          0.6357,  0.7377,  0.3470],\n",
            "        [ 0.5228, -4.5070, -0.2415, -2.6948,  0.2816,  0.0282,  0.4295,  0.2350,\n",
            "         -0.7078,  0.2074,  3.2300,  0.0578,  0.6394,  2.3685, -2.0198, -4.0310,\n",
            "          0.5798,  0.6712,  0.4124],\n",
            "        [ 0.5454, -4.4529, -0.2380, -2.3534,  0.2924,  0.4972,  0.6063,  0.3309,\n",
            "         -0.4644, -0.4203,  2.9666,  0.3244,  0.0339,  2.4618, -1.5978, -3.9444,\n",
            "          0.5815,  0.6718,  0.1099],\n",
            "        [ 0.5820, -4.7041, -0.3083, -2.8824,  0.2654,  0.5646,  0.5801,  0.2995,\n",
            "         -1.2880, -0.3539,  3.4792,  0.5235,  0.4917,  2.5590, -1.8024, -3.7315,\n",
            "          0.6124,  0.7421,  0.2953],\n",
            "        [ 0.5796, -4.5608, -0.2180, -2.3310,  0.3563,  0.8011,  0.5864,  0.2832,\n",
            "          0.5640, -0.5324,  3.7218, -0.0902, -0.8122,  2.3354, -2.1834, -3.5204,\n",
            "          0.6198,  0.6660,  0.5371],\n",
            "        [ 0.5953, -4.4638, -0.2041, -3.6038,  0.2928,  0.5705,  0.4391,  0.2710,\n",
            "          0.0121,  0.0439,  3.4301,  0.0489,  0.7035,  2.3429, -1.5414, -4.7119,\n",
            "          0.5495,  0.7857,  0.5174],\n",
            "        [ 0.5725, -4.5562, -0.2007, -3.2116,  0.3248, -0.4030,  0.4165,  0.3076,\n",
            "         -0.0514,  0.1197,  3.3580, -0.0593,  0.2801,  3.0842, -1.8952, -4.1000,\n",
            "          0.5725,  0.7093,  0.3449],\n",
            "        [ 0.5668, -4.5347, -0.2638, -3.0275,  0.4139, -0.0816,  0.5457,  0.2603,\n",
            "          0.4008, -0.4128,  3.7202, -0.2778,  0.7873,  2.2793, -2.2203, -3.5582,\n",
            "          0.4979,  0.6947,  0.4364],\n",
            "        [ 0.7580, -4.2992, -0.2043, -3.7712,  0.3827,  0.4517,  0.4466,  0.2266,\n",
            "         -0.6621, -0.6621,  3.5872,  0.1866,  0.5398,  0.8426, -1.7902, -4.0803,\n",
            "          0.5455,  0.7234,  0.5918],\n",
            "        [ 0.6790, -4.4005, -0.2604, -3.1016,  0.1318,  0.9568,  0.4353,  0.2530,\n",
            "          0.4231, -0.0168,  2.5682, -0.5779,  0.6771,  1.1442, -1.8117, -3.8084,\n",
            "          0.6998,  0.6758,  0.4399],\n",
            "        [ 0.5423, -4.3418, -0.2760, -2.9036,  0.5377,  0.2788,  0.4991,  0.2017,\n",
            "          0.5402, -0.0809,  2.8714, -0.2951,  0.6132,  2.1421, -1.9501, -4.2574,\n",
            "          0.6164,  0.6550,  0.2862],\n",
            "        [ 0.6332, -4.5432, -0.2526, -3.3807,  0.3837,  0.3816,  0.4968,  0.1844,\n",
            "         -0.0175,  0.0471,  3.4422,  0.4970,  0.6092,  2.3170, -2.4967, -3.7447,\n",
            "          0.6739,  0.6199,  0.5436],\n",
            "        [ 0.6275, -4.6370, -0.2718, -3.1504,  0.4317,  0.5968,  0.5129,  0.2210,\n",
            "         -0.7002, -0.1859,  3.2938,  0.5642,  0.1982,  2.7300, -1.9172, -4.5751,\n",
            "          0.6331,  0.6803,  0.4305]], dtype=torch.float64, requires_grad=True)\n",
            "tensor([[ 0.6774, -4.5494, -0.1533, -2.8088,  0.3159, -0.5216,  0.4682,  0.3542,\n",
            "          0.7515,  0.3325,  4.3050, -0.1971,  0.4055,  3.2239, -2.5654, -4.0897,\n",
            "          0.5148,  0.4644,  0.2323],\n",
            "        [ 0.7021, -4.5798, -0.1879, -1.3082,  0.2411, -0.2329,  0.4404,  0.3921,\n",
            "         -0.6117, -0.1636,  3.8123, -0.1209,  0.5496,  1.5310, -2.4690, -3.7496,\n",
            "          0.5092,  0.6251,  0.2144],\n",
            "        [ 0.7655, -4.7864, -0.2129, -2.1780,  0.4087, -0.8230,  0.4156,  0.3046,\n",
            "          0.9258, -0.0083,  3.6609, -0.2088,  1.1233,  2.3383, -2.0876, -3.2386,\n",
            "          0.5516,  0.5398,  0.1049],\n",
            "        [ 0.6931, -4.6709, -0.1908, -2.3091,  0.2433, -0.4509,  0.4213,  0.2123,\n",
            "         -0.8606,  0.1427,  3.8989, -0.0116,  0.8379,  2.6516, -1.8214, -3.7259,\n",
            "          0.4685,  0.5055,  0.2584],\n",
            "        [ 0.7169, -4.7128, -0.1945, -2.4151,  0.3371, -0.8797,  0.4123,  0.2773,\n",
            "          0.4722, -0.0749,  3.5768, -0.1588,  2.0478,  1.9243, -1.7927, -3.6875,\n",
            "          0.4811,  0.5032,  0.1773],\n",
            "        [ 0.7118, -4.8734, -0.1806, -2.8025,  0.3351, -0.4955,  0.2667,  0.1585,\n",
            "          1.1520, -0.0051,  3.7644, -0.0158,  1.3572,  1.5643, -2.2049, -3.8940,\n",
            "          0.5525,  0.4887,  0.3754],\n",
            "        [ 0.7560, -4.8570, -0.2346, -2.4568,  0.4308, -0.6364,  0.3942,  0.0988,\n",
            "         -0.4821,  0.2335,  3.6426,  0.1163,  0.7985,  0.6685, -2.2532, -4.3547,\n",
            "          0.5023,  0.4722,  0.1222],\n",
            "        [ 0.7604, -4.6622, -0.2184, -2.6325,  0.3424, -0.4199,  0.3238,  0.1863,\n",
            "         -0.8451,  0.3529,  3.5768, -0.0232,  1.7266,  1.5080, -2.3072, -4.1576,\n",
            "          0.5213,  0.4932,  0.1093],\n",
            "        [ 0.6706, -4.9307, -0.2460, -1.8451,  0.2785, -0.5582,  0.3480,  0.1804,\n",
            "          0.4365,  0.1627,  4.0561, -0.2930,  1.2953,  2.6815, -2.2199, -4.1911,\n",
            "          0.4764,  0.5248,  0.1682],\n",
            "        [ 0.7532, -4.6026, -0.2759, -2.3829,  0.2405, -0.1193,  0.3209,  0.2532,\n",
            "          0.3028, -0.3223,  3.7582,  0.1469,  0.2352,  1.7327, -2.1148, -3.8898,\n",
            "          0.5168,  0.4219,  0.1224],\n",
            "        [ 0.7533, -4.7552, -0.2388, -2.0837,  0.3483, -0.2655,  0.4019,  0.1469,\n",
            "          0.6610,  0.2411,  4.1219, -0.2680,  1.5215,  2.2718, -1.9184, -4.2108,\n",
            "          0.5750,  0.4632,  0.3373],\n",
            "        [ 0.6216, -4.8179, -0.2940, -1.7980,  0.3025, -0.4314,  0.3846,  0.1991,\n",
            "          1.1219, -0.0467,  3.8586, -0.3722,  1.1314,  2.3551, -1.9591, -4.3785,\n",
            "          0.5273,  0.4970,  0.2743],\n",
            "        [ 0.5792, -4.7472, -0.1744, -2.6815,  0.1868,  0.0182,  0.3778,  0.1962,\n",
            "         -0.1547, -0.0448,  3.6927, -0.4522,  0.6566,  2.0660, -2.3343, -4.2067,\n",
            "          0.5305,  0.5132,  0.3352],\n",
            "        [ 0.7085, -4.5808, -0.2355, -2.2554,  0.4268, -0.7941,  0.2954,  0.2216,\n",
            "          0.6994,  0.0601,  3.7276, -0.2761,  0.8751,  2.2543, -1.8020, -4.4573,\n",
            "          0.5559,  0.5950,  0.4603],\n",
            "        [ 0.6519, -4.8736, -0.2234, -2.4165,  0.1999, -0.5402,  0.4073,  0.1618,\n",
            "          0.2600,  0.1739,  3.7221,  0.8058,  1.1536,  1.3577, -2.0993, -3.5143,\n",
            "          0.5251,  0.5083,  0.4049],\n",
            "        [ 0.6425, -4.9561, -0.2482, -2.6799,  0.3242, -0.7219,  0.2915,  0.1948,\n",
            "          0.1582,  0.3478,  3.4381, -0.0140,  1.3254,  2.2327, -1.8867, -3.9916,\n",
            "          0.4394,  0.4638,  0.2823],\n",
            "        [ 0.7509, -4.9079, -0.2320, -1.6645,  0.4410, -0.5392,  0.4348,  0.1557,\n",
            "          0.5447,  0.0226,  4.1560, -0.2346,  1.0508,  1.9153, -2.2372, -3.8443,\n",
            "          0.4875,  0.4702,  0.4888]], dtype=torch.float64, requires_grad=True)\n",
            "AAA\n",
            "[array([5.89652529e-28, 5.05893093e-26, 2.14988258e-24, ...,\n",
            "       0.00000000e+00, 0.00000000e+00, 0.00000000e+00])]\n"
          ]
        },
        {
          "output_type": "stream",
          "name": "stderr",
          "text": [
            "<ipython-input-55-f78cf3312d99>:22: UserWarning: Creating a tensor from a list of numpy.ndarrays is extremely slow. Please consider converting the list to a single numpy.ndarray with numpy.array() before converting to a tensor. (Triggered internally at ../torch/csrc/utils/tensor_new.cpp:230.)\n",
            "  return [torch.tensor(vtl.VocalTractLabApi.tract_sequence_to_audio(motorseq)) for motorseq in motorseq_list]\n"
          ]
        }
      ],
      "source": [
        "#Train model \n",
        "policy.train_model(actor_train_dataloader, reward_func, torch.optim.Adam(policy.parameters(), lr=0.01), torch.optim.Adam(critic.parameters()))"
      ]
    },
    {
      "cell_type": "markdown",
      "metadata": {
        "id": "ga9U5e4HQcqM"
      },
      "source": [
        "#VocalTractLab testing"
      ]
    },
    {
      "cell_type": "code",
      "execution_count": null,
      "metadata": {
        "id": "uj6nGON5S5yA"
      },
      "outputs": [],
      "source": [
        "glottis_param_info=vtl.VocalTractLabApi.get_param_info('glottis').to_numpy()\n",
        "test_data_sub=[]\n",
        "test_size=64;\n",
        "for i in range(test_size):\n",
        "  test_data_sub.append([])\n",
        "  for param in glottis_param_info:\n",
        "    test_data_sub[i].append(random.uniform(float(param[2]), float(param[3])))\n",
        "test_data_sub=np.array(test_data_sub)\n",
        "#vtl.get_param_info('glottis')"
      ]
    },
    {
      "cell_type": "code",
      "execution_count": null,
      "metadata": {
        "id": "0MOvcKQ5_Vb-"
      },
      "outputs": [],
      "source": [
        "print(test_data_sub)"
      ]
    },
    {
      "cell_type": "code",
      "execution_count": null,
      "metadata": {
        "id": "0rgouslB_YGw"
      },
      "outputs": [],
      "source": [
        "sgseq=vtl.tract_sequence.Sub_Glottal_Sequence(test_data_sub);\n",
        "#sgseq.plot()"
      ]
    },
    {
      "cell_type": "code",
      "execution_count": null,
      "metadata": {
        "id": "KSS9dxDCMHkx",
        "colab": {
          "base_uri": "https://localhost:8080/"
        },
        "outputId": "001f019f-b59a-47d7-96b3-70631cfa5817"
      },
      "outputs": [
        {
          "output_type": "stream",
          "name": "stdout",
          "text": [
            "[[ 0.38607189 -3.61550822 -0.22513896 ...  0.54334423  0.44473807\n",
            "  -0.47826341]\n",
            " [ 0.9048153  -5.79093298 -0.39523347 ...  0.04396175  0.46691622\n",
            "   0.31226026]\n",
            " [ 0.85126018 -4.81404134 -0.14626066 ...  0.70387713  0.18592637\n",
            "  -0.31968066]\n",
            " ...\n",
            " [ 0.93830934 -3.74168052 -0.10654374 ...  0.75724072  0.37852059\n",
            "  -0.64720047]\n",
            " [ 0.78787421 -5.30665038 -0.00758495 ...  0.56006543  0.3633192\n",
            "  -0.39215805]\n",
            " [ 0.40118658 -4.66830849 -0.48360262 ...  0.47684176  0.79395537\n",
            "  -0.14325836]]\n"
          ]
        }
      ],
      "source": [
        "tract_param_info=vtl.VocalTractLabApi.get_param_info('tract').to_numpy()\n",
        "test_data_supra=[]\n",
        "for i in range(test_size):\n",
        "  test_data_supra.append([])\n",
        "  for param in tract_param_info:\n",
        "    test_data_supra[i].append(random.uniform(float(param[2]), float(param[3])))\n",
        "test_data_supra=np.array(test_data_supra)\n",
        "print(test_data_supra)"
      ]
    },
    {
      "cell_type": "code",
      "execution_count": null,
      "metadata": {
        "id": "wIDKxHKoMODb"
      },
      "outputs": [],
      "source": [
        "spgseq=vtl.tract_sequence.Supra_Glottal_Sequence(test_data_supra);\n",
        "#spgseq.plot()"
      ]
    },
    {
      "cell_type": "code",
      "execution_count": null,
      "metadata": {
        "id": "dDhG5_lYMhNU"
      },
      "outputs": [],
      "source": [
        "motorseq=vtl.tract_sequence.Motor_Sequence(spgseq, sgseq)"
      ]
    },
    {
      "cell_type": "code",
      "execution_count": null,
      "metadata": {
        "id": "w4ieYxirMuFs"
      },
      "outputs": [],
      "source": [
        "audio=vtl.VocalTractLabApi.tract_sequence_to_audio(motorseq)[0]\n",
        "# plt.plot(audio)\n",
        "# plt.show()"
      ]
    },
    {
      "cell_type": "code",
      "execution_count": null,
      "metadata": {
        "colab": {
          "base_uri": "https://localhost:8080/"
        },
        "id": "D-TlPu7EvO0g",
        "outputId": "59747b7a-ddab-4e10-bfe6-8ef3bd3a7795"
      },
      "outputs": [
        {
          "name": "stdout",
          "output_type": "stream",
          "text": [
            "7040\n",
            "time: 2.2 ms (started: 2022-12-29 07:16:38 +00:00)\n"
          ]
        }
      ],
      "source": [
        "print(audio.size)"
      ]
    },
    {
      "cell_type": "code",
      "execution_count": null,
      "metadata": {
        "id": "9IOuD5uUPjfg"
      },
      "outputs": [],
      "source": [
        "\n",
        "sf.write('fun.wav', audio, 48000)"
      ]
    },
    {
      "cell_type": "code",
      "execution_count": null,
      "metadata": {
        "colab": {
          "base_uri": "https://localhost:8080/"
        },
        "id": "BfvJNssH9ZVM",
        "outputId": "3816cb92-ad16-44ad-c9c8-5cc244cec49f"
      },
      "outputs": [
        {
          "data": {
            "text/plain": [
              "array([['Hyoid position (horz.)', 'cm', '0.0', '1.0', '1.0'],\n",
              "       ['Hyoid position (vert.)', 'cm', '-6.0', '-3.5', '-4.75'],\n",
              "       ['Jaw position (horz.)', 'cm', '-0.5', '0.0', '0.0'],\n",
              "       ['Jaw angle', 'deg.', '-7.0', '0.0', '-2.0'],\n",
              "       ['Lip protrusion', 'cm', '-1.0', '1.0', '-0.07'],\n",
              "       ['Lip distance', 'cm', '-2.0', '4.0', '0.95'],\n",
              "       ['Velum shape', '', '0.0', '1.0', '0.0'],\n",
              "       ['Velum opening', 'cm^2', '-0.1', '1.0', '-0.1'],\n",
              "       ['Tongue body (horz.)', 'cm', '-3.0', '4.0', '-0.4'],\n",
              "       ['Tongue body (vert.)', 'cm', '-3.0', '1.0', '-1.46'],\n",
              "       ['Tongue tip (horz.)', 'cm', '1.5', '5.5', '3.5'],\n",
              "       ['Tongue tip (vert.)', 'cm', '-3.0', '2.5', '-1.0'],\n",
              "       ['Tongue blade (horz.)', 'cm', '-3.0', '4.0', '2.0'],\n",
              "       ['Tongue blade (vert.)', 'cm', '-3.0', '5.0', '0.5'],\n",
              "       ['Tongue root (horz.)', 'cm', '-4.0', '2.0', '0.0'],\n",
              "       ['Tongue root (vert.)', 'cm', '-6.0', '0.0', '0.0'],\n",
              "       ['Tongue side elevation 1', 'cm', '0.0', '1.0', '0.0'],\n",
              "       ['Tongue side elevation 2', 'cm', '0.0', '1.0', '0.0'],\n",
              "       ['Tongue side elevation 3', 'cm', '-1.0', '1.0', '0.0']],\n",
              "      dtype=object)"
            ]
          },
          "execution_count": 27,
          "metadata": {},
          "output_type": "execute_result"
        },
        {
          "name": "stdout",
          "output_type": "stream",
          "text": [
            "time: 6.45 ms (started: 2022-12-29 06:19:24 +00:00)\n"
          ]
        }
      ],
      "source": [
        "tract_param_info=vtl.VocalTractLabApi.get_param_info('tract').to_numpy()\n",
        "tract_param_info"
      ]
    },
    {
      "cell_type": "code",
      "execution_count": null,
      "metadata": {
        "colab": {
          "base_uri": "https://localhost:8080/"
        },
        "id": "t7p9WY-DUu9a",
        "outputId": "a1545ace-51a6-4a57-dc51-f591abd7b74d"
      },
      "outputs": [
        {
          "name": "stderr",
          "output_type": "stream",
          "text": [
            "100%|██████████| 1/1 [00:01<00:00,  1.33s/it]\n"
          ]
        },
        {
          "name": "stdout",
          "output_type": "stream",
          "text": [
            "[-3.63856509e-11  3.16141331e-11 -1.71061676e-11 ... -1.31108916e-03\n",
            " -1.43781890e-03  0.00000000e+00]\n"
          ]
        }
      ],
      "source": [
        "audio=vtl.text_to_speech('This is a test.')\n",
        "print(audio)"
      ]
    },
    {
      "cell_type": "code",
      "execution_count": null,
      "metadata": {
        "id": "MMfzY5KPqPB0"
      },
      "outputs": [],
      "source": [
        "sf.write('anton.wav', audio, 16000)"
      ]
    }
  ],
  "metadata": {
    "colab": {
      "provenance": [],
      "include_colab_link": true
    },
    "kernelspec": {
      "display_name": "Python 3",
      "name": "python3"
    },
    "language_info": {
      "name": "python"
    },
    "gpuClass": "standard",
    "accelerator": "GPU"
  },
  "nbformat": 4,
  "nbformat_minor": 0
}